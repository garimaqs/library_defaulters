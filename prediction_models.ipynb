{
 "cells": [
  {
   "cell_type": "markdown",
   "id": "functioning-columbia",
   "metadata": {},
   "source": [
    "# Prediction Models \n",
    "In this notebook, I undertake feature engineering and data preprocessing, before creating models for prediction of late returns. "
   ]
  },
  {
   "cell_type": "markdown",
   "id": "fitting-forestry",
   "metadata": {
    "toc": true
   },
   "source": [
    "<h1>Table of Contents<span class=\"tocSkip\"></span></h1>\n",
    "<div class=\"toc\"><ul class=\"toc-item\"><li><span><a href=\"#imports\" data-toc-modified-id=\"imports-1\">imports</a></span></li><li><span><a href=\"#loading-data\" data-toc-modified-id=\"loading-data-2\">loading data</a></span><ul class=\"toc-item\"><li><span><a href=\"#renaming-ID-variables,-for-easier-merging\" data-toc-modified-id=\"renaming-ID-variables,-for-easier-merging-2.1\">renaming ID variables, for easier merging</a></span></li></ul></li><li><span><a href=\"#feature-engineering\" data-toc-modified-id=\"feature-engineering-3\">feature engineering</a></span><ul class=\"toc-item\"><li><span><a href=\"#dropping-variables-irrelevant-to-the-problem\" data-toc-modified-id=\"dropping-variables-irrelevant-to-the-problem-3.1\">dropping variables irrelevant to the problem</a></span></li><li><span><a href=\"#merging-into-single-dataframe\" data-toc-modified-id=\"merging-into-single-dataframe-3.2\">merging into single dataframe</a></span></li><li><span><a href=\"#dropping-missing-value\" data-toc-modified-id=\"dropping-missing-value-3.3\">dropping missing value</a></span></li><li><span><a href=\"#additional-feature:--distance-between-library-and-patron-addresses\" data-toc-modified-id=\"additional-feature:--distance-between-library-and-patron-addresses-3.4\">additional feature:  distance between library and patron addresses</a></span></li><li><span><a href=\"#additional-feature:-patron-age\" data-toc-modified-id=\"additional-feature:-patron-age-3.5\">additional feature: patron age</a></span></li><li><span><a href=\"#comparing-mean-values-across-late-and-timely-returns\" data-toc-modified-id=\"comparing-mean-values-across-late-and-timely-returns-3.6\">comparing mean values across late and timely returns</a></span></li><li><span><a href=\"#examining-categorical-variables\" data-toc-modified-id=\"examining-categorical-variables-3.7\">examining categorical variables</a></span><ul class=\"toc-item\"><li><span><a href=\"#gender\" data-toc-modified-id=\"gender-3.7.1\">gender</a></span></li><li><span><a href=\"#education\" data-toc-modified-id=\"education-3.7.2\">education</a></span></li><li><span><a href=\"#occupation\" data-toc-modified-id=\"occupation-3.7.3\">occupation</a></span></li><li><span><a href=\"#categories\" data-toc-modified-id=\"categories-3.7.4\">categories</a></span></li></ul></li></ul></li><li><span><a href=\"#data-preparation-for-ML-models\" data-toc-modified-id=\"data-preparation-for-ML-models-4\">data preparation for ML models</a></span><ul class=\"toc-item\"><li><span><a href=\"#one-hot-encoding-categorical-variables\" data-toc-modified-id=\"one-hot-encoding-categorical-variables-4.1\">one-hot encoding categorical variables</a></span></li><li><span><a href=\"#separating-features-and-target\" data-toc-modified-id=\"separating-features-and-target-4.2\">separating features and target</a></span></li><li><span><a href=\"#generating-train-test-split\" data-toc-modified-id=\"generating-train-test-split-4.3\">generating train-test split</a></span></li></ul></li><li><span><a href=\"#MODEL-0:-Majority-Class-Predictor\" data-toc-modified-id=\"MODEL-0:-Majority-Class-Predictor-5\">MODEL 0: Majority Class Predictor</a></span></li><li><span><a href=\"#MODEL-1:-Logistic-Regression-Model\" data-toc-modified-id=\"MODEL-1:-Logistic-Regression-Model-6\">MODEL 1: Logistic Regression Model</a></span><ul class=\"toc-item\"><li><span><a href=\"#training\" data-toc-modified-id=\"training-6.1\">training</a></span></li><li><span><a href=\"#evaluation\" data-toc-modified-id=\"evaluation-6.2\">evaluation</a></span><ul class=\"toc-item\"><li><span><a href=\"#accuracy\" data-toc-modified-id=\"accuracy-6.2.1\">accuracy</a></span></li><li><span><a href=\"#classification-report\" data-toc-modified-id=\"classification-report-6.2.2\">classification report</a></span></li><li><span><a href=\"#confusion-matrix\" data-toc-modified-id=\"confusion-matrix-6.2.3\">confusion matrix</a></span></li></ul></li></ul></li><li><span><a href=\"#MODEL-2:-Random-Forest\" data-toc-modified-id=\"MODEL-2:-Random-Forest-7\">MODEL 2: Random Forest</a></span><ul class=\"toc-item\"><li><span><a href=\"#training\" data-toc-modified-id=\"training-7.1\">training</a></span></li><li><span><a href=\"#evaluation\" data-toc-modified-id=\"evaluation-7.2\">evaluation</a></span><ul class=\"toc-item\"><li><span><a href=\"#accuracy\" data-toc-modified-id=\"accuracy-7.2.1\">accuracy</a></span></li><li><span><a href=\"#classification-report\" data-toc-modified-id=\"classification-report-7.2.2\">classification report</a></span></li><li><span><a href=\"#confusion-matrix\" data-toc-modified-id=\"confusion-matrix-7.2.3\">confusion matrix</a></span></li></ul></li></ul></li><li><span><a href=\"#MODEL-3:-Naive-Bayes-Classifier\" data-toc-modified-id=\"MODEL-3:-Naive-Bayes-Classifier-8\">MODEL 3: Naive Bayes Classifier</a></span><ul class=\"toc-item\"><li><span><a href=\"#training\" data-toc-modified-id=\"training-8.1\">training</a></span></li><li><span><a href=\"#evaluation\" data-toc-modified-id=\"evaluation-8.2\">evaluation</a></span></li></ul></li><li><span><a href=\"#MODEL-4:-Gradient-Boosted-Decision-Tree\" data-toc-modified-id=\"MODEL-4:-Gradient-Boosted-Decision-Tree-9\">MODEL 4: Gradient-Boosted Decision Tree</a></span><ul class=\"toc-item\"><li><span><a href=\"#training\" data-toc-modified-id=\"training-9.1\">training</a></span></li></ul></li><li><span><a href=\"#evaluation\" data-toc-modified-id=\"evaluation-10\">evaluation</a></span><ul class=\"toc-item\"><li><ul class=\"toc-item\"><li><span><a href=\"#accuracy\" data-toc-modified-id=\"accuracy-10.0.1\">accuracy</a></span></li><li><span><a href=\"#classification-report\" data-toc-modified-id=\"classification-report-10.0.2\">classification report</a></span></li><li><span><a href=\"#confusion-matrix\" data-toc-modified-id=\"confusion-matrix-10.0.3\">confusion matrix</a></span></li></ul></li></ul></li><li><span><a href=\"#MODEL-5:-RANDOM-FOREST-w/-OPTUNA-HYPERPARAMETER-OPTIMIZATION\" data-toc-modified-id=\"MODEL-5:-RANDOM-FOREST-w/-OPTUNA-HYPERPARAMETER-OPTIMIZATION-11\">MODEL 5: RANDOM FOREST w/ OPTUNA HYPERPARAMETER OPTIMIZATION</a></span><ul class=\"toc-item\"><li><span><a href=\"#training\" data-toc-modified-id=\"training-11.1\">training</a></span></li><li><span><a href=\"#evaluation\" data-toc-modified-id=\"evaluation-11.2\">evaluation</a></span><ul class=\"toc-item\"><li><span><a href=\"#accuracy\" data-toc-modified-id=\"accuracy-11.2.1\">accuracy</a></span></li><li><span><a href=\"#classification-report\" data-toc-modified-id=\"classification-report-11.2.2\">classification report</a></span></li><li><span><a href=\"#confusion-matrix\" data-toc-modified-id=\"confusion-matrix-11.2.3\">confusion matrix</a></span></li></ul></li></ul></li><li><span><a href=\"#MODEL-COMPARISON\" data-toc-modified-id=\"MODEL-COMPARISON-12\">MODEL COMPARISON</a></span></li></ul></div>"
   ]
  },
  {
   "cell_type": "markdown",
   "id": "allied-corpus",
   "metadata": {},
   "source": [
    "## imports "
   ]
  },
  {
   "cell_type": "code",
   "execution_count": 1,
   "id": "grand-young",
   "metadata": {},
   "outputs": [
    {
     "data": {
      "text/html": [
       "<style>.container { width:100% !important; }</style>"
      ],
      "text/plain": [
       "<IPython.core.display.HTML object>"
      ]
     },
     "metadata": {},
     "output_type": "display_data"
    }
   ],
   "source": [
    "import os, sys, glob # for loading, saving and manipulating files on disk\n",
    "from pathlib import Path # Path allows us to list directory paths in a manner that's not affected by the OS the notebook is being run on \n",
    "\n",
    "import pandas as pd # to work with csv files as dataframes \n",
    "import numpy as np # for mathematical and scientific computations \n",
    "\n",
    "import matplotlib.pyplot as plt # for plots \n",
    "import seaborn as sns # also for plotting, it's a wrapper for several matplotlib functions, making them more accessible \n",
    "\n",
    "from haversine import haversine, Unit # for computing distances between geocodes\n",
    "\n",
    "from IPython.core.display import display, HTML # to change width of notebooks\n",
    "display(HTML(\"<style>.container { width:100% !important; }</style>\"))"
   ]
  },
  {
   "cell_type": "markdown",
   "id": "incredible-allowance",
   "metadata": {},
   "source": [
    "## loading data"
   ]
  },
  {
   "cell_type": "code",
   "execution_count": 2,
   "id": "better-calibration",
   "metadata": {},
   "outputs": [],
   "source": [
    "raw_data_dir = Path.home()/'projects'/'billups_data_challenge'/'Data Challenge' # specifies the directory with data files\n",
    "cleaned_data_dir = raw_data_dir.parent/'cleaned_data' # directory for storing intermediate outputs such as cleaned data"
   ]
  },
  {
   "cell_type": "code",
   "execution_count": 3,
   "id": "unauthorized-concern",
   "metadata": {},
   "outputs": [],
   "source": [
    "lib_df = pd.read_csv(cleaned_data_dir/'libraries_cleaned_geocoded.csv')\n",
    "books_checkouts_df = pd.read_csv(cleaned_data_dir/'books_checkouts_merged.csv')\n",
    "customers_df = pd.read_csv(cleaned_data_dir/'customers_cleaned_geocoded.csv')"
   ]
  },
  {
   "cell_type": "markdown",
   "id": "steady-discretion",
   "metadata": {},
   "source": [
    "### renaming ID variables, for easier merging"
   ]
  },
  {
   "cell_type": "code",
   "execution_count": 4,
   "id": "split-westminster",
   "metadata": {},
   "outputs": [],
   "source": [
    "lib_df.rename(columns={'id':'library_id', 'lat':'library_lat', 'long':'library_long', 'name':'library_name'}, inplace=True)\n",
    "books_checkouts_df.rename(columns={'id':'book_id'}, inplace=True)\n",
    "customers_df.rename(columns={'id':'patron_id', 'name':'patron_name', 'lat':'patron_lat', 'long':'patron_long'}, inplace=True)"
   ]
  },
  {
   "cell_type": "markdown",
   "id": "determined-gregory",
   "metadata": {
    "heading_collapsed": true
   },
   "source": [
    "## feature engineering"
   ]
  },
  {
   "cell_type": "markdown",
   "id": "dangerous-ethernet",
   "metadata": {
    "hidden": true
   },
   "source": [
    "### dropping variables irrelevant to the problem"
   ]
  },
  {
   "cell_type": "markdown",
   "id": "stock-vietnam",
   "metadata": {
    "hidden": true
   },
   "source": [
    "Certain variables do not contain information that would be useful for predicting late returns, or that information is already contained in other variables. Here I provide a brief description of such variables: \n",
    "- **library name**: the name of the library doesn't matter, it's already identified by the library ID. And it's location is geocoded \n",
    "- **customer name**: this variable has high cardinality, and I expect there to be no relation between names and later returns \n",
    "- **library address** & **customer address**: both of these are geocoded, so we can work with lat-long directly and don't need full addresses \n",
    "- **publisher**&**published date**: my prior is that publisher name doesn't affect late returns except through pages, prices, and categories, both of which are present as independent variables\n",
    "- **author names** & **title**: again, my prior is that the variables through which authors may affect the late return, already exist in the data \n",
    "- **duration_borrowed_days**, **date_returned**, **return_year**: these are not irrelevant variables. They were generated using \"date_returned\" and therefore contain information that won't be available to the library when a book is being checked out, so using these would result in _data leakage_ in our model. \n",
    "- **date_due**: characteristics of this variable have already been extracted in the form of weekday, month, day-of-the-month, so it provides no extra information"
   ]
  },
  {
   "cell_type": "code",
   "execution_count": 5,
   "id": "appropriate-kitchen",
   "metadata": {
    "hidden": true
   },
   "outputs": [],
   "source": [
    "lib_df = lib_df[['library_id', 'library_lat', 'library_long']]\n",
    "books_checkouts_df.drop(columns=['publisher', 'authors', 'title', 'publishedDate', 'date_returned', 'return_year', 'duration_borrowed_days', 'date_due'], inplace=True)\n",
    "customers_df = customers_df[['patron_id', 'patron_lat', 'patron_long', 'birth_year', 'gender', 'education', 'occupation']]"
   ]
  },
  {
   "cell_type": "markdown",
   "id": "diagnostic-wireless",
   "metadata": {
    "hidden": true
   },
   "source": [
    "### merging into single dataframe"
   ]
  },
  {
   "cell_type": "code",
   "execution_count": 6,
   "id": "appropriate-tulsa",
   "metadata": {
    "hidden": true
   },
   "outputs": [],
   "source": [
    "df = books_checkouts_df.merge(lib_df, on='library_id', how='outer')\n",
    "df = df.merge(customers_df, on='patron_id', how='outer')"
   ]
  },
  {
   "cell_type": "markdown",
   "id": "quiet-cannon",
   "metadata": {
    "hidden": true
   },
   "source": [
    "### dropping missing value\n",
    "- during cleaning and EDA, I had imputed missing values wherever I could without influencing the target variable \n",
    "- I drop the remaining missing values"
   ]
  },
  {
   "cell_type": "code",
   "execution_count": 7,
   "id": "surrounded-bargain",
   "metadata": {
    "hidden": true
   },
   "outputs": [],
   "source": [
    "df = df.dropna(axis=0, how='any')"
   ]
  },
  {
   "cell_type": "markdown",
   "id": "distant-reasoning",
   "metadata": {
    "hidden": true
   },
   "source": [
    "### additional feature:  distance between library and patron addresses \n",
    " I want to create this feature, as I believe that the further the library is from patron homes, the more likely they might be to return late. "
   ]
  },
  {
   "cell_type": "code",
   "execution_count": 8,
   "id": "authorized-vintage",
   "metadata": {
    "hidden": true
   },
   "outputs": [],
   "source": [
    "df['library_loc'] = list(zip(df['library_lat'], df['library_long']))\n",
    "df['patron_loc'] = list(zip(df['patron_lat'], df['patron_long']))"
   ]
  },
  {
   "cell_type": "code",
   "execution_count": 9,
   "id": "together-tobacco",
   "metadata": {
    "hidden": true
   },
   "outputs": [],
   "source": [
    "df['distance_lib_patron_km'] = df.apply(lambda x: haversine(x['library_loc'], x['patron_loc'], unit=Unit.METERS), axis=1)/1000"
   ]
  },
  {
   "cell_type": "markdown",
   "id": "jewish-adapter",
   "metadata": {
    "hidden": true
   },
   "source": [
    "### additional feature: patron age"
   ]
  },
  {
   "cell_type": "code",
   "execution_count": 10,
   "id": "attempted-insertion",
   "metadata": {
    "hidden": true
   },
   "outputs": [],
   "source": [
    "df['patron_age'] = 2022 - df['birth_year']\n",
    "df = df[df['patron_age']<=120]"
   ]
  },
  {
   "cell_type": "markdown",
   "id": "ready-stroke",
   "metadata": {
    "hidden": true
   },
   "source": [
    "### comparing mean values across late and timely returns"
   ]
  },
  {
   "cell_type": "code",
   "execution_count": 11,
   "id": "light-incident",
   "metadata": {
    "hidden": true
   },
   "outputs": [
    {
     "data": {
      "text/html": [
       "<div>\n",
       "<style scoped>\n",
       "    .dataframe tbody tr th:only-of-type {\n",
       "        vertical-align: middle;\n",
       "    }\n",
       "\n",
       "    .dataframe tbody tr th {\n",
       "        vertical-align: top;\n",
       "    }\n",
       "\n",
       "    .dataframe thead th {\n",
       "        text-align: right;\n",
       "    }\n",
       "</style>\n",
       "<table border=\"1\" class=\"dataframe\">\n",
       "  <thead>\n",
       "    <tr style=\"text-align: right;\">\n",
       "      <th></th>\n",
       "      <th>price</th>\n",
       "      <th>pages</th>\n",
       "      <th>checkout_year</th>\n",
       "      <th>due_date_is_holiday</th>\n",
       "      <th>closest_holiday_distance</th>\n",
       "      <th>library_lat</th>\n",
       "      <th>library_long</th>\n",
       "      <th>patron_lat</th>\n",
       "      <th>patron_long</th>\n",
       "      <th>birth_year</th>\n",
       "      <th>distance_lib_patron_km</th>\n",
       "      <th>patron_age</th>\n",
       "    </tr>\n",
       "    <tr>\n",
       "      <th>late_return_indicator</th>\n",
       "      <th></th>\n",
       "      <th></th>\n",
       "      <th></th>\n",
       "      <th></th>\n",
       "      <th></th>\n",
       "      <th></th>\n",
       "      <th></th>\n",
       "      <th></th>\n",
       "      <th></th>\n",
       "      <th></th>\n",
       "      <th></th>\n",
       "      <th></th>\n",
       "    </tr>\n",
       "  </thead>\n",
       "  <tbody>\n",
       "    <tr>\n",
       "      <th>0.0</th>\n",
       "      <td>293.308421</td>\n",
       "      <td>570.647954</td>\n",
       "      <td>2018.00000</td>\n",
       "      <td>0.022835</td>\n",
       "      <td>13.185538</td>\n",
       "      <td>45.529006</td>\n",
       "      <td>-122.657432</td>\n",
       "      <td>45.537268</td>\n",
       "      <td>-122.655193</td>\n",
       "      <td>1980.424358</td>\n",
       "      <td>4.571822</td>\n",
       "      <td>41.575642</td>\n",
       "    </tr>\n",
       "    <tr>\n",
       "      <th>1.0</th>\n",
       "      <td>338.899506</td>\n",
       "      <td>648.092593</td>\n",
       "      <td>1951.04321</td>\n",
       "      <td>0.043210</td>\n",
       "      <td>24389.765432</td>\n",
       "      <td>45.530503</td>\n",
       "      <td>-122.660162</td>\n",
       "      <td>45.528872</td>\n",
       "      <td>-122.653868</td>\n",
       "      <td>1979.271605</td>\n",
       "      <td>7.378124</td>\n",
       "      <td>42.728395</td>\n",
       "    </tr>\n",
       "  </tbody>\n",
       "</table>\n",
       "</div>"
      ],
      "text/plain": [
       "                            price       pages  checkout_year  \\\n",
       "late_return_indicator                                          \n",
       "0.0                    293.308421  570.647954     2018.00000   \n",
       "1.0                    338.899506  648.092593     1951.04321   \n",
       "\n",
       "                       due_date_is_holiday  closest_holiday_distance  \\\n",
       "late_return_indicator                                                  \n",
       "0.0                               0.022835                 13.185538   \n",
       "1.0                               0.043210              24389.765432   \n",
       "\n",
       "                       library_lat  library_long  patron_lat  patron_long  \\\n",
       "late_return_indicator                                                       \n",
       "0.0                      45.529006   -122.657432   45.537268  -122.655193   \n",
       "1.0                      45.530503   -122.660162   45.528872  -122.653868   \n",
       "\n",
       "                        birth_year  distance_lib_patron_km  patron_age  \n",
       "late_return_indicator                                                   \n",
       "0.0                    1980.424358                4.571822   41.575642  \n",
       "1.0                    1979.271605                7.378124   42.728395  "
      ]
     },
     "execution_count": 11,
     "metadata": {},
     "output_type": "execute_result"
    }
   ],
   "source": [
    "df.groupby('late_return_indicator').mean()"
   ]
  },
  {
   "cell_type": "markdown",
   "id": "large-stationery",
   "metadata": {
    "hidden": true
   },
   "source": [
    "- books with late returns are longer and costlier\n",
    "- patrons associated with late returns on average live 3km further from the library \n",
    "- this table indicates that price, pages and distance are important features for predicting late returns"
   ]
  },
  {
   "cell_type": "markdown",
   "id": "global-chicago",
   "metadata": {
    "hidden": true
   },
   "source": [
    "### examining categorical variables"
   ]
  },
  {
   "cell_type": "code",
   "execution_count": 12,
   "id": "gothic-antibody",
   "metadata": {
    "hidden": true
   },
   "outputs": [
    {
     "data": {
      "text/plain": [
       "book_id          197\n",
       "categories        86\n",
       "patron_id        949\n",
       "library_id        18\n",
       "date_checkout    387\n",
       "gender             8\n",
       "education         30\n",
       "occupation        51\n",
       "library_loc       18\n",
       "patron_loc       904\n",
       "dtype: int64"
      ]
     },
     "execution_count": 12,
     "metadata": {},
     "output_type": "execute_result"
    }
   ],
   "source": [
    "df.select_dtypes(include='object').nunique()"
   ]
  },
  {
   "cell_type": "markdown",
   "id": "coordinated-buying",
   "metadata": {
    "hidden": true
   },
   "source": [
    "- there are 7 categorical variables \n",
    "- of these 7 variable, 3 are IDs, leaving us with 4 categorical variables: gender, education, occupation, categories\n",
    "-  the cardinality of each of the 4 categorical columns seems high, so we reduce that "
   ]
  },
  {
   "cell_type": "markdown",
   "id": "ordered-season",
   "metadata": {
    "hidden": true
   },
   "source": [
    "#### gender"
   ]
  },
  {
   "cell_type": "code",
   "execution_count": 13,
   "id": "approved-offset",
   "metadata": {
    "hidden": true
   },
   "outputs": [
    {
     "data": {
      "text/plain": [
       "array(['male', 'female', ' male', ' female', 'MALE', 'FEMALE', 'male ',\n",
       "       'female '], dtype=object)"
      ]
     },
     "execution_count": 13,
     "metadata": {},
     "output_type": "execute_result"
    }
   ],
   "source": [
    "df['gender'].unique()"
   ]
  },
  {
   "cell_type": "code",
   "execution_count": 14,
   "id": "protected-content",
   "metadata": {
    "hidden": true
   },
   "outputs": [],
   "source": [
    "df['gender'] = df['gender'].str.strip().str.upper()"
   ]
  },
  {
   "cell_type": "code",
   "execution_count": 15,
   "id": "figured-cemetery",
   "metadata": {
    "hidden": true
   },
   "outputs": [
    {
     "data": {
      "text/html": [
       "<div>\n",
       "<style scoped>\n",
       "    .dataframe tbody tr th:only-of-type {\n",
       "        vertical-align: middle;\n",
       "    }\n",
       "\n",
       "    .dataframe tbody tr th {\n",
       "        vertical-align: top;\n",
       "    }\n",
       "\n",
       "    .dataframe thead th {\n",
       "        text-align: right;\n",
       "    }\n",
       "</style>\n",
       "<table border=\"1\" class=\"dataframe\">\n",
       "  <thead>\n",
       "    <tr style=\"text-align: right;\">\n",
       "      <th></th>\n",
       "      <th>price</th>\n",
       "      <th>pages</th>\n",
       "      <th>checkout_year</th>\n",
       "      <th>late_return_indicator</th>\n",
       "      <th>due_date_is_holiday</th>\n",
       "      <th>closest_holiday_distance</th>\n",
       "      <th>library_lat</th>\n",
       "      <th>library_long</th>\n",
       "      <th>patron_lat</th>\n",
       "      <th>patron_long</th>\n",
       "      <th>birth_year</th>\n",
       "      <th>distance_lib_patron_km</th>\n",
       "      <th>patron_age</th>\n",
       "    </tr>\n",
       "    <tr>\n",
       "      <th>gender</th>\n",
       "      <th></th>\n",
       "      <th></th>\n",
       "      <th></th>\n",
       "      <th></th>\n",
       "      <th></th>\n",
       "      <th></th>\n",
       "      <th></th>\n",
       "      <th></th>\n",
       "      <th></th>\n",
       "      <th></th>\n",
       "      <th></th>\n",
       "      <th></th>\n",
       "      <th></th>\n",
       "    </tr>\n",
       "  </thead>\n",
       "  <tbody>\n",
       "    <tr>\n",
       "      <th>FEMALE</th>\n",
       "      <td>298.507092</td>\n",
       "      <td>571.346812</td>\n",
       "      <td>2011.136858</td>\n",
       "      <td>0.094868</td>\n",
       "      <td>0.024883</td>\n",
       "      <td>2511.295490</td>\n",
       "      <td>45.531093</td>\n",
       "      <td>-122.658125</td>\n",
       "      <td>45.539314</td>\n",
       "      <td>-122.652988</td>\n",
       "      <td>1980.183515</td>\n",
       "      <td>4.908075</td>\n",
       "      <td>41.816485</td>\n",
       "    </tr>\n",
       "    <tr>\n",
       "      <th>MALE</th>\n",
       "      <td>300.401421</td>\n",
       "      <td>591.870175</td>\n",
       "      <td>2006.712281</td>\n",
       "      <td>0.177193</td>\n",
       "      <td>0.026316</td>\n",
       "      <td>4123.222807</td>\n",
       "      <td>45.527077</td>\n",
       "      <td>-122.657426</td>\n",
       "      <td>45.532574</td>\n",
       "      <td>-122.657305</td>\n",
       "      <td>1980.368421</td>\n",
       "      <td>4.990085</td>\n",
       "      <td>41.631579</td>\n",
       "    </tr>\n",
       "  </tbody>\n",
       "</table>\n",
       "</div>"
      ],
      "text/plain": [
       "             price       pages  checkout_year  late_return_indicator  \\\n",
       "gender                                                                 \n",
       "FEMALE  298.507092  571.346812    2011.136858               0.094868   \n",
       "MALE    300.401421  591.870175    2006.712281               0.177193   \n",
       "\n",
       "        due_date_is_holiday  closest_holiday_distance  library_lat  \\\n",
       "gender                                                               \n",
       "FEMALE             0.024883               2511.295490    45.531093   \n",
       "MALE               0.026316               4123.222807    45.527077   \n",
       "\n",
       "        library_long  patron_lat  patron_long   birth_year  \\\n",
       "gender                                                       \n",
       "FEMALE   -122.658125   45.539314  -122.652988  1980.183515   \n",
       "MALE     -122.657426   45.532574  -122.657305  1980.368421   \n",
       "\n",
       "        distance_lib_patron_km  patron_age  \n",
       "gender                                      \n",
       "FEMALE                4.908075   41.816485  \n",
       "MALE                  4.990085   41.631579  "
      ]
     },
     "execution_count": 15,
     "metadata": {},
     "output_type": "execute_result"
    }
   ],
   "source": [
    "df.groupby('gender').mean()"
   ]
  },
  {
   "cell_type": "markdown",
   "id": "married-pizza",
   "metadata": {
    "hidden": true
   },
   "source": [
    "- Males are 8pp more likely to return books late"
   ]
  },
  {
   "cell_type": "markdown",
   "id": "herbal-tennessee",
   "metadata": {
    "hidden": true
   },
   "source": [
    "#### education"
   ]
  },
  {
   "cell_type": "code",
   "execution_count": 16,
   "id": "opposite-completion",
   "metadata": {
    "hidden": true
   },
   "outputs": [],
   "source": [
    "df['education'].fillna('n/a', inplace=True)"
   ]
  },
  {
   "cell_type": "code",
   "execution_count": 17,
   "id": "romance-clothing",
   "metadata": {
    "hidden": true
   },
   "outputs": [],
   "source": [
    "df['education']= df['education'].str.strip().str.lower().apply(lambda x: ' '.join(x.split()))"
   ]
  },
  {
   "cell_type": "code",
   "execution_count": 18,
   "id": "european-victorian",
   "metadata": {
    "hidden": true
   },
   "outputs": [
    {
     "data": {
      "text/plain": [
       "array(['college', 'graduate degree', 'high school', 'others'],\n",
       "      dtype=object)"
      ]
     },
     "execution_count": 18,
     "metadata": {},
     "output_type": "execute_result"
    }
   ],
   "source": [
    "df['education'].unique()"
   ]
  },
  {
   "cell_type": "code",
   "execution_count": 19,
   "id": "honey-dylan",
   "metadata": {
    "hidden": true
   },
   "outputs": [
    {
     "data": {
      "text/html": [
       "<div>\n",
       "<style scoped>\n",
       "    .dataframe tbody tr th:only-of-type {\n",
       "        vertical-align: middle;\n",
       "    }\n",
       "\n",
       "    .dataframe tbody tr th {\n",
       "        vertical-align: top;\n",
       "    }\n",
       "\n",
       "    .dataframe thead th {\n",
       "        text-align: right;\n",
       "    }\n",
       "</style>\n",
       "<table border=\"1\" class=\"dataframe\">\n",
       "  <thead>\n",
       "    <tr style=\"text-align: right;\">\n",
       "      <th></th>\n",
       "      <th>price</th>\n",
       "      <th>pages</th>\n",
       "      <th>checkout_year</th>\n",
       "      <th>late_return_indicator</th>\n",
       "      <th>due_date_is_holiday</th>\n",
       "      <th>closest_holiday_distance</th>\n",
       "      <th>library_lat</th>\n",
       "      <th>library_long</th>\n",
       "      <th>patron_lat</th>\n",
       "      <th>patron_long</th>\n",
       "      <th>birth_year</th>\n",
       "      <th>distance_lib_patron_km</th>\n",
       "      <th>patron_age</th>\n",
       "    </tr>\n",
       "    <tr>\n",
       "      <th>education</th>\n",
       "      <th></th>\n",
       "      <th></th>\n",
       "      <th></th>\n",
       "      <th></th>\n",
       "      <th></th>\n",
       "      <th></th>\n",
       "      <th></th>\n",
       "      <th></th>\n",
       "      <th></th>\n",
       "      <th></th>\n",
       "      <th></th>\n",
       "      <th></th>\n",
       "      <th></th>\n",
       "    </tr>\n",
       "  </thead>\n",
       "  <tbody>\n",
       "    <tr>\n",
       "      <th>college</th>\n",
       "      <td>323.564548</td>\n",
       "      <td>598.645161</td>\n",
       "      <td>2008.538710</td>\n",
       "      <td>0.119355</td>\n",
       "      <td>0.048387</td>\n",
       "      <td>3456.600000</td>\n",
       "      <td>45.535709</td>\n",
       "      <td>-122.668483</td>\n",
       "      <td>45.544499</td>\n",
       "      <td>-122.663432</td>\n",
       "      <td>1980.193548</td>\n",
       "      <td>4.766534</td>\n",
       "      <td>41.806452</td>\n",
       "    </tr>\n",
       "    <tr>\n",
       "      <th>graduate degree</th>\n",
       "      <td>287.656203</td>\n",
       "      <td>559.808271</td>\n",
       "      <td>2009.338346</td>\n",
       "      <td>0.112782</td>\n",
       "      <td>0.011278</td>\n",
       "      <td>3168.244361</td>\n",
       "      <td>45.527819</td>\n",
       "      <td>-122.657753</td>\n",
       "      <td>45.531083</td>\n",
       "      <td>-122.657906</td>\n",
       "      <td>1982.466165</td>\n",
       "      <td>4.782645</td>\n",
       "      <td>39.533835</td>\n",
       "    </tr>\n",
       "    <tr>\n",
       "      <th>high school</th>\n",
       "      <td>282.820298</td>\n",
       "      <td>583.357143</td>\n",
       "      <td>2011.273810</td>\n",
       "      <td>0.172619</td>\n",
       "      <td>0.017857</td>\n",
       "      <td>2462.479167</td>\n",
       "      <td>45.531208</td>\n",
       "      <td>-122.658197</td>\n",
       "      <td>45.537139</td>\n",
       "      <td>-122.651529</td>\n",
       "      <td>1980.547619</td>\n",
       "      <td>5.079715</td>\n",
       "      <td>41.452381</td>\n",
       "    </tr>\n",
       "    <tr>\n",
       "      <th>others</th>\n",
       "      <td>303.387674</td>\n",
       "      <td>578.887043</td>\n",
       "      <td>2006.870432</td>\n",
       "      <td>0.122924</td>\n",
       "      <td>0.023256</td>\n",
       "      <td>4064.146179</td>\n",
       "      <td>45.521500</td>\n",
       "      <td>-122.646381</td>\n",
       "      <td>45.530914</td>\n",
       "      <td>-122.647690</td>\n",
       "      <td>1978.099668</td>\n",
       "      <td>5.128397</td>\n",
       "      <td>43.900332</td>\n",
       "    </tr>\n",
       "  </tbody>\n",
       "</table>\n",
       "</div>"
      ],
      "text/plain": [
       "                      price       pages  checkout_year  late_return_indicator  \\\n",
       "education                                                                       \n",
       "college          323.564548  598.645161    2008.538710               0.119355   \n",
       "graduate degree  287.656203  559.808271    2009.338346               0.112782   \n",
       "high school      282.820298  583.357143    2011.273810               0.172619   \n",
       "others           303.387674  578.887043    2006.870432               0.122924   \n",
       "\n",
       "                 due_date_is_holiday  closest_holiday_distance  library_lat  \\\n",
       "education                                                                     \n",
       "college                     0.048387               3456.600000    45.535709   \n",
       "graduate degree             0.011278               3168.244361    45.527819   \n",
       "high school                 0.017857               2462.479167    45.531208   \n",
       "others                      0.023256               4064.146179    45.521500   \n",
       "\n",
       "                 library_long  patron_lat  patron_long   birth_year  \\\n",
       "education                                                             \n",
       "college           -122.668483   45.544499  -122.663432  1980.193548   \n",
       "graduate degree   -122.657753   45.531083  -122.657906  1982.466165   \n",
       "high school       -122.658197   45.537139  -122.651529  1980.547619   \n",
       "others            -122.646381   45.530914  -122.647690  1978.099668   \n",
       "\n",
       "                 distance_lib_patron_km  patron_age  \n",
       "education                                            \n",
       "college                        4.766534   41.806452  \n",
       "graduate degree                4.782645   39.533835  \n",
       "high school                    5.079715   41.452381  \n",
       "others                         5.128397   43.900332  "
      ]
     },
     "execution_count": 19,
     "metadata": {},
     "output_type": "execute_result"
    }
   ],
   "source": [
    "df.groupby('education').mean()"
   ]
  },
  {
   "cell_type": "markdown",
   "id": "shaped-cookbook",
   "metadata": {
    "hidden": true
   },
   "source": [
    "- patrons with college education most likely to return books late\n",
    "- followed by patrons with high school education level \n",
    "- and then graduate degree holders"
   ]
  },
  {
   "cell_type": "markdown",
   "id": "economic-irrigation",
   "metadata": {
    "hidden": true
   },
   "source": [
    "#### occupation"
   ]
  },
  {
   "cell_type": "code",
   "execution_count": 20,
   "id": "greenhouse-accommodation",
   "metadata": {
    "hidden": true
   },
   "outputs": [],
   "source": [
    "df['occupation'].fillna('n/a', inplace=True)"
   ]
  },
  {
   "cell_type": "code",
   "execution_count": 21,
   "id": "lonely-lawrence",
   "metadata": {
    "hidden": true
   },
   "outputs": [],
   "source": [
    "df['occupation'] = df['occupation'].str.strip().str.lower().apply(lambda x: ' '.join(x.split()))"
   ]
  },
  {
   "cell_type": "code",
   "execution_count": 22,
   "id": "exciting-diagnosis",
   "metadata": {
    "hidden": true
   },
   "outputs": [
    {
     "data": {
      "text/plain": [
       "array(['admin & support', 'sales', 'business & finance', 'blue collar',\n",
       "       'others', 'education & health', 'tech'], dtype=object)"
      ]
     },
     "execution_count": 22,
     "metadata": {},
     "output_type": "execute_result"
    }
   ],
   "source": [
    "df['occupation'].unique()"
   ]
  },
  {
   "cell_type": "code",
   "execution_count": 23,
   "id": "conventional-furniture",
   "metadata": {
    "hidden": true
   },
   "outputs": [
    {
     "data": {
      "text/html": [
       "<div>\n",
       "<style scoped>\n",
       "    .dataframe tbody tr th:only-of-type {\n",
       "        vertical-align: middle;\n",
       "    }\n",
       "\n",
       "    .dataframe tbody tr th {\n",
       "        vertical-align: top;\n",
       "    }\n",
       "\n",
       "    .dataframe thead th {\n",
       "        text-align: right;\n",
       "    }\n",
       "</style>\n",
       "<table border=\"1\" class=\"dataframe\">\n",
       "  <thead>\n",
       "    <tr style=\"text-align: right;\">\n",
       "      <th></th>\n",
       "      <th>price</th>\n",
       "      <th>pages</th>\n",
       "      <th>checkout_year</th>\n",
       "      <th>late_return_indicator</th>\n",
       "      <th>due_date_is_holiday</th>\n",
       "      <th>closest_holiday_distance</th>\n",
       "      <th>library_lat</th>\n",
       "      <th>library_long</th>\n",
       "      <th>patron_lat</th>\n",
       "      <th>patron_long</th>\n",
       "      <th>birth_year</th>\n",
       "      <th>distance_lib_patron_km</th>\n",
       "      <th>patron_age</th>\n",
       "    </tr>\n",
       "    <tr>\n",
       "      <th>occupation</th>\n",
       "      <th></th>\n",
       "      <th></th>\n",
       "      <th></th>\n",
       "      <th></th>\n",
       "      <th></th>\n",
       "      <th></th>\n",
       "      <th></th>\n",
       "      <th></th>\n",
       "      <th></th>\n",
       "      <th></th>\n",
       "      <th></th>\n",
       "      <th></th>\n",
       "      <th></th>\n",
       "    </tr>\n",
       "  </thead>\n",
       "  <tbody>\n",
       "    <tr>\n",
       "      <th>admin &amp; support</th>\n",
       "      <td>314.108962</td>\n",
       "      <td>600.295082</td>\n",
       "      <td>2006.743169</td>\n",
       "      <td>0.131148</td>\n",
       "      <td>0.021858</td>\n",
       "      <td>4109.896175</td>\n",
       "      <td>45.529458</td>\n",
       "      <td>-122.664162</td>\n",
       "      <td>45.532500</td>\n",
       "      <td>-122.659875</td>\n",
       "      <td>1978.573770</td>\n",
       "      <td>4.716067</td>\n",
       "      <td>43.426230</td>\n",
       "    </tr>\n",
       "    <tr>\n",
       "      <th>blue collar</th>\n",
       "      <td>292.877862</td>\n",
       "      <td>594.558621</td>\n",
       "      <td>2008.000000</td>\n",
       "      <td>0.110345</td>\n",
       "      <td>0.027586</td>\n",
       "      <td>3652.103448</td>\n",
       "      <td>45.527748</td>\n",
       "      <td>-122.659299</td>\n",
       "      <td>45.542666</td>\n",
       "      <td>-122.657759</td>\n",
       "      <td>1982.193103</td>\n",
       "      <td>4.809364</td>\n",
       "      <td>39.806897</td>\n",
       "    </tr>\n",
       "    <tr>\n",
       "      <th>business &amp; finance</th>\n",
       "      <td>279.141688</td>\n",
       "      <td>546.767932</td>\n",
       "      <td>2012.603376</td>\n",
       "      <td>0.130802</td>\n",
       "      <td>0.012658</td>\n",
       "      <td>1978.898734</td>\n",
       "      <td>45.529003</td>\n",
       "      <td>-122.648458</td>\n",
       "      <td>45.551270</td>\n",
       "      <td>-122.649650</td>\n",
       "      <td>1977.088608</td>\n",
       "      <td>5.656734</td>\n",
       "      <td>44.911392</td>\n",
       "    </tr>\n",
       "    <tr>\n",
       "      <th>education &amp; health</th>\n",
       "      <td>309.983312</td>\n",
       "      <td>583.375000</td>\n",
       "      <td>2009.000000</td>\n",
       "      <td>0.125000</td>\n",
       "      <td>0.025000</td>\n",
       "      <td>3290.425000</td>\n",
       "      <td>45.530006</td>\n",
       "      <td>-122.648187</td>\n",
       "      <td>45.532281</td>\n",
       "      <td>-122.647344</td>\n",
       "      <td>1980.837500</td>\n",
       "      <td>4.387772</td>\n",
       "      <td>41.162500</td>\n",
       "    </tr>\n",
       "    <tr>\n",
       "      <th>others</th>\n",
       "      <td>306.806647</td>\n",
       "      <td>592.676301</td>\n",
       "      <td>2009.601156</td>\n",
       "      <td>0.109827</td>\n",
       "      <td>0.017341</td>\n",
       "      <td>3069.427746</td>\n",
       "      <td>45.529713</td>\n",
       "      <td>-122.658396</td>\n",
       "      <td>45.534302</td>\n",
       "      <td>-122.651692</td>\n",
       "      <td>1979.554913</td>\n",
       "      <td>5.171812</td>\n",
       "      <td>42.445087</td>\n",
       "    </tr>\n",
       "    <tr>\n",
       "      <th>sales</th>\n",
       "      <td>298.357170</td>\n",
       "      <td>580.069182</td>\n",
       "      <td>2002.081761</td>\n",
       "      <td>0.138365</td>\n",
       "      <td>0.050314</td>\n",
       "      <td>5809.106918</td>\n",
       "      <td>45.526715</td>\n",
       "      <td>-122.666479</td>\n",
       "      <td>45.520556</td>\n",
       "      <td>-122.658836</td>\n",
       "      <td>1982.880503</td>\n",
       "      <td>4.710491</td>\n",
       "      <td>39.119497</td>\n",
       "    </tr>\n",
       "    <tr>\n",
       "      <th>tech</th>\n",
       "      <td>300.957628</td>\n",
       "      <td>583.262821</td>\n",
       "      <td>2013.935897</td>\n",
       "      <td>0.192308</td>\n",
       "      <td>0.032051</td>\n",
       "      <td>1494.923077</td>\n",
       "      <td>45.531732</td>\n",
       "      <td>-122.663460</td>\n",
       "      <td>45.533293</td>\n",
       "      <td>-122.662584</td>\n",
       "      <td>1982.858974</td>\n",
       "      <td>4.829884</td>\n",
       "      <td>39.141026</td>\n",
       "    </tr>\n",
       "  </tbody>\n",
       "</table>\n",
       "</div>"
      ],
      "text/plain": [
       "                         price       pages  checkout_year  \\\n",
       "occupation                                                  \n",
       "admin & support     314.108962  600.295082    2006.743169   \n",
       "blue collar         292.877862  594.558621    2008.000000   \n",
       "business & finance  279.141688  546.767932    2012.603376   \n",
       "education & health  309.983312  583.375000    2009.000000   \n",
       "others              306.806647  592.676301    2009.601156   \n",
       "sales               298.357170  580.069182    2002.081761   \n",
       "tech                300.957628  583.262821    2013.935897   \n",
       "\n",
       "                    late_return_indicator  due_date_is_holiday  \\\n",
       "occupation                                                       \n",
       "admin & support                  0.131148             0.021858   \n",
       "blue collar                      0.110345             0.027586   \n",
       "business & finance               0.130802             0.012658   \n",
       "education & health               0.125000             0.025000   \n",
       "others                           0.109827             0.017341   \n",
       "sales                            0.138365             0.050314   \n",
       "tech                             0.192308             0.032051   \n",
       "\n",
       "                    closest_holiday_distance  library_lat  library_long  \\\n",
       "occupation                                                                \n",
       "admin & support                  4109.896175    45.529458   -122.664162   \n",
       "blue collar                      3652.103448    45.527748   -122.659299   \n",
       "business & finance               1978.898734    45.529003   -122.648458   \n",
       "education & health               3290.425000    45.530006   -122.648187   \n",
       "others                           3069.427746    45.529713   -122.658396   \n",
       "sales                            5809.106918    45.526715   -122.666479   \n",
       "tech                             1494.923077    45.531732   -122.663460   \n",
       "\n",
       "                    patron_lat  patron_long   birth_year  \\\n",
       "occupation                                                 \n",
       "admin & support      45.532500  -122.659875  1978.573770   \n",
       "blue collar          45.542666  -122.657759  1982.193103   \n",
       "business & finance   45.551270  -122.649650  1977.088608   \n",
       "education & health   45.532281  -122.647344  1980.837500   \n",
       "others               45.534302  -122.651692  1979.554913   \n",
       "sales                45.520556  -122.658836  1982.880503   \n",
       "tech                 45.533293  -122.662584  1982.858974   \n",
       "\n",
       "                    distance_lib_patron_km  patron_age  \n",
       "occupation                                              \n",
       "admin & support                   4.716067   43.426230  \n",
       "blue collar                       4.809364   39.806897  \n",
       "business & finance                5.656734   44.911392  \n",
       "education & health                4.387772   41.162500  \n",
       "others                            5.171812   42.445087  \n",
       "sales                             4.710491   39.119497  \n",
       "tech                              4.829884   39.141026  "
      ]
     },
     "execution_count": 23,
     "metadata": {},
     "output_type": "execute_result"
    }
   ],
   "source": [
    "df.groupby('occupation').mean()"
   ]
  },
  {
   "cell_type": "markdown",
   "id": "instrumental-broadcasting",
   "metadata": {
    "hidden": true
   },
   "source": [
    "- patrons working in sales most likely to return books late "
   ]
  },
  {
   "cell_type": "markdown",
   "id": "colored-storm",
   "metadata": {
    "hidden": true
   },
   "source": [
    "#### categories"
   ]
  },
  {
   "cell_type": "code",
   "execution_count": 24,
   "id": "recognized-individual",
   "metadata": {
    "hidden": true
   },
   "outputs": [
    {
     "data": {
      "text/plain": [
       "array([\"['Social Science']\", \"['Advertising']\",\n",
       "       \"['Business & Economics']\", \"['Technology & Engineering']\",\n",
       "       \"['Mechanics, Applied']\", \"['Technology']\", \"['Medical']\",\n",
       "       \"['Bacteriology']\", \"['Medicine']\",\n",
       "       \"['Financial services industry']\", \"['Banks and banking']\",\n",
       "       \"['Political Science']\", \"['Desarrollo economico']\",\n",
       "       \"['Internal combustion engines']\", \"['Science']\", \"['Philosophy']\",\n",
       "       \"['Computers']\", \"['Water resources development']\",\n",
       "       \"['United States']\", \"['Water-supply']\", \"['Natural resources']\",\n",
       "       \"['Environmental law']\", \"['Psychology']\", \"['Mechanics']\",\n",
       "       \"['Mechanical engineering']\", \"['Mechanics, Analytic']\",\n",
       "       \"['Electronic books']\", \"['Government publications']\",\n",
       "       \"['Banking law']\", \"['Financial institutions']\", \"['Finance']\",\n",
       "       \"['Corporations']\", \"['Diesel engines']\", \"['Transportation']\",\n",
       "       \"['Juvenile Fiction']\", \"['Conservation of natural resources']\",\n",
       "       \"['Agricultural education']\", \"['Montana']\", \"['Industries']\",\n",
       "       \"['Nature']\", \"['Mines and mineral resources']\",\n",
       "       \"['Marine resources']\", \"['Medicine, Naval']\",\n",
       "       \"['Historical Card']\", \"['Biology']\", \"['Capital market']\",\n",
       "       \"['Fiction']\", \"['Natsworthy, Tom (Fictitious character)']\",\n",
       "       \"['Marine diesel motors']\", \"['Medicine, Preventive']\",\n",
       "       \"['Physicians']\", \"['Business enterprises']\", \"['Fire engines']\",\n",
       "       \"['Corliss steam-engine']\", \"['Sports & Recreation']\", \"['Sand']\",\n",
       "       \"['Astronautics in earth sciences']\", \"['Libraries']\",\n",
       "       \"['Juvenile Nonfiction']\", \"['Classification']\",\n",
       "       \"['Electric railroads']\", \"['History']\", \"['Aircraft industry']\",\n",
       "       \"['Steam-engines']\", \"['Hydrology']\", \"['Agriculture']\",\n",
       "       \"['Kentucky']\", \"['Information storage and retrieval systems']\",\n",
       "       \"['Language Arts & Disciplines']\", '[\"Mechanics\\' institutes\"]',\n",
       "       \"['Administrative agencies']\", \"['Central Provinces (India)']\",\n",
       "       \"['Gases']\", \"['Industrial arts']\", \"['Internal medicine']\",\n",
       "       \"['Finance, Public']\", \"['Utah']\", \"['Art']\",\n",
       "       \"['Emigration and immigration']\", \"['Stream measurements']\",\n",
       "       \"['Airplanes']\", \"['Engineering']\", \"['Accounting']\",\n",
       "       \"['Aircraft engine industry']\", \"['Geology']\",\n",
       "       \"['Barrier islands']\"], dtype=object)"
      ]
     },
     "execution_count": 24,
     "metadata": {},
     "output_type": "execute_result"
    }
   ],
   "source": [
    "df['categories'].unique()"
   ]
  },
  {
   "cell_type": "markdown",
   "id": "cheap-depth",
   "metadata": {
    "hidden": true
   },
   "source": [
    "- the cardinality of the categories variable is really high, so I try to create other categories using this. Primarily, fiction and non-fiction"
   ]
  },
  {
   "cell_type": "code",
   "execution_count": 25,
   "id": "indoor-bernard",
   "metadata": {
    "hidden": true
   },
   "outputs": [],
   "source": [
    "df['categories'].fillna('n/a', inplace=True)"
   ]
  },
  {
   "cell_type": "code",
   "execution_count": 26,
   "id": "physical-sierra",
   "metadata": {
    "hidden": true
   },
   "outputs": [],
   "source": [
    "df['new_category'] = np.where(df['categories'].str.contains('Ficti'), 'Fiction', 'Non-Fiction')"
   ]
  },
  {
   "cell_type": "code",
   "execution_count": 27,
   "id": "historical-cisco",
   "metadata": {
    "hidden": true
   },
   "outputs": [],
   "source": [
    "df.drop(columns=['categories'], inplace=True)"
   ]
  },
  {
   "cell_type": "code",
   "execution_count": 28,
   "id": "pursuant-nerve",
   "metadata": {
    "hidden": true
   },
   "outputs": [
    {
     "data": {
      "text/html": [
       "<div>\n",
       "<style scoped>\n",
       "    .dataframe tbody tr th:only-of-type {\n",
       "        vertical-align: middle;\n",
       "    }\n",
       "\n",
       "    .dataframe tbody tr th {\n",
       "        vertical-align: top;\n",
       "    }\n",
       "\n",
       "    .dataframe thead th {\n",
       "        text-align: right;\n",
       "    }\n",
       "</style>\n",
       "<table border=\"1\" class=\"dataframe\">\n",
       "  <thead>\n",
       "    <tr style=\"text-align: right;\">\n",
       "      <th></th>\n",
       "      <th>price</th>\n",
       "      <th>pages</th>\n",
       "      <th>checkout_year</th>\n",
       "      <th>late_return_indicator</th>\n",
       "      <th>due_date_is_holiday</th>\n",
       "      <th>closest_holiday_distance</th>\n",
       "      <th>library_lat</th>\n",
       "      <th>library_long</th>\n",
       "      <th>patron_lat</th>\n",
       "      <th>patron_long</th>\n",
       "      <th>birth_year</th>\n",
       "      <th>distance_lib_patron_km</th>\n",
       "      <th>patron_age</th>\n",
       "    </tr>\n",
       "    <tr>\n",
       "      <th>new_category</th>\n",
       "      <th></th>\n",
       "      <th></th>\n",
       "      <th></th>\n",
       "      <th></th>\n",
       "      <th></th>\n",
       "      <th></th>\n",
       "      <th></th>\n",
       "      <th></th>\n",
       "      <th></th>\n",
       "      <th></th>\n",
       "      <th></th>\n",
       "      <th></th>\n",
       "      <th></th>\n",
       "    </tr>\n",
       "  </thead>\n",
       "  <tbody>\n",
       "    <tr>\n",
       "      <th>Fiction</th>\n",
       "      <td>283.974583</td>\n",
       "      <td>628.291667</td>\n",
       "      <td>2018.000000</td>\n",
       "      <td>0.041667</td>\n",
       "      <td>0.000000</td>\n",
       "      <td>18.791667</td>\n",
       "      <td>45.530019</td>\n",
       "      <td>-122.654665</td>\n",
       "      <td>45.537878</td>\n",
       "      <td>-122.645333</td>\n",
       "      <td>1982.458333</td>\n",
       "      <td>4.034159</td>\n",
       "      <td>39.541667</td>\n",
       "    </tr>\n",
       "    <tr>\n",
       "      <th>Non-Fiction</th>\n",
       "      <td>299.708562</td>\n",
       "      <td>580.036165</td>\n",
       "      <td>2008.877208</td>\n",
       "      <td>0.135408</td>\n",
       "      <td>0.026072</td>\n",
       "      <td>3334.355761</td>\n",
       "      <td>45.529190</td>\n",
       "      <td>-122.657860</td>\n",
       "      <td>45.536112</td>\n",
       "      <td>-122.655212</td>\n",
       "      <td>1980.226241</td>\n",
       "      <td>4.965031</td>\n",
       "      <td>41.773759</td>\n",
       "    </tr>\n",
       "  </tbody>\n",
       "</table>\n",
       "</div>"
      ],
      "text/plain": [
       "                   price       pages  checkout_year  late_return_indicator  \\\n",
       "new_category                                                                 \n",
       "Fiction       283.974583  628.291667    2018.000000               0.041667   \n",
       "Non-Fiction   299.708562  580.036165    2008.877208               0.135408   \n",
       "\n",
       "              due_date_is_holiday  closest_holiday_distance  library_lat  \\\n",
       "new_category                                                               \n",
       "Fiction                  0.000000                 18.791667    45.530019   \n",
       "Non-Fiction              0.026072               3334.355761    45.529190   \n",
       "\n",
       "              library_long  patron_lat  patron_long   birth_year  \\\n",
       "new_category                                                       \n",
       "Fiction        -122.654665   45.537878  -122.645333  1982.458333   \n",
       "Non-Fiction    -122.657860   45.536112  -122.655212  1980.226241   \n",
       "\n",
       "              distance_lib_patron_km  patron_age  \n",
       "new_category                                      \n",
       "Fiction                     4.034159   39.541667  \n",
       "Non-Fiction                 4.965031   41.773759  "
      ]
     },
     "execution_count": 28,
     "metadata": {},
     "output_type": "execute_result"
    }
   ],
   "source": [
    "df.groupby('new_category').mean()"
   ]
  },
  {
   "cell_type": "markdown",
   "id": "finite-cincinnati",
   "metadata": {
    "hidden": true
   },
   "source": [
    "- non-fiction books considerably more likely to be returned late than fiction books "
   ]
  },
  {
   "cell_type": "markdown",
   "id": "simplified-terrorism",
   "metadata": {},
   "source": [
    "## data preparation for ML models "
   ]
  },
  {
   "cell_type": "markdown",
   "id": "abandoned-single",
   "metadata": {},
   "source": [
    "### one-hot encoding categorical variables "
   ]
  },
  {
   "cell_type": "code",
   "execution_count": 29,
   "id": "parental-terry",
   "metadata": {},
   "outputs": [],
   "source": [
    "ohe_gender = pd.get_dummies(df['gender'])\n",
    "ohe_education = pd.get_dummies(df['education'], prefix='edu')\n",
    "ohe_occupation = pd.get_dummies(df['occupation'], prefix='job')\n",
    "ohe_book_category = pd.get_dummies(df['new_category'])"
   ]
  },
  {
   "cell_type": "code",
   "execution_count": 30,
   "id": "christian-sociology",
   "metadata": {},
   "outputs": [],
   "source": [
    "df = df.join([ohe_gender, ohe_education, ohe_occupation, ohe_book_category])"
   ]
  },
  {
   "cell_type": "markdown",
   "id": "brilliant-madison",
   "metadata": {},
   "source": [
    "### separating features and target"
   ]
  },
  {
   "cell_type": "code",
   "execution_count": 31,
   "id": "protected-cambodia",
   "metadata": {},
   "outputs": [],
   "source": [
    "y = df['late_return_indicator']\n",
    "X = df.drop(columns=['book_id', 'patron_id', 'library_id', 'library_loc', 'patron_loc', \n",
    "             'gender', 'occupation', 'education', 'new_category', 'late_return_indicator', 'date_checkout', 'birth_year'])"
   ]
  },
  {
   "cell_type": "markdown",
   "id": "accompanied-semester",
   "metadata": {},
   "source": [
    "### generating train-test split "
   ]
  },
  {
   "cell_type": "markdown",
   "id": "naval-traveler",
   "metadata": {},
   "source": [
    "I want to split my test into three sets: \n",
    "- **Train** : these observations will be used to train the model to learn\n",
    "- **Validation**: this subset serves the purpose of model selection. So, I want to be able to try different hyperparameters, and knowing which hyperparameters are better suited for my model would require me to \"test\" it on a dataset that is not seen. \n",
    "- **Test**: this is a hold-out set, used to indicate the final performance of the \"best model\" selected using the validation set performance"
   ]
  },
  {
   "cell_type": "code",
   "execution_count": 32,
   "id": "engaging-egyptian",
   "metadata": {},
   "outputs": [],
   "source": [
    "from sklearn.model_selection import train_test_split\n",
    "X_train, X_test, y_train, y_test = train_test_split(X,y, test_size=0.1, random_state=7) #10% of the data is held out \n",
    "X_train, X_val, y_train, y_val = train_test_split(X_train, y_train, test_size=0.25, random_state=7) # 1/4th of the training data is used for validation"
   ]
  },
  {
   "cell_type": "markdown",
   "id": "celtic-planet",
   "metadata": {},
   "source": [
    "# Models:"
   ]
  },
  {
   "cell_type": "code",
   "execution_count": 33,
   "id": "formed-hello",
   "metadata": {},
   "outputs": [],
   "source": [
    "from sklearn import metrics\n",
    "from sklearn.metrics import confusion_matrix, classification_report, recall_score, roc_auc_score, accuracy_score\n",
    "from sklearn.feature_selection import RFE "
   ]
  },
  {
   "cell_type": "code",
   "execution_count": 34,
   "id": "inner-entertainment",
   "metadata": {},
   "outputs": [],
   "source": [
    "# variables to store model performances, for easier comparison \n",
    "models = {}\n",
    "overall_accuracy = []\n",
    "late_return_accuracy = []\n",
    "auc_score = []"
   ]
  },
  {
   "cell_type": "markdown",
   "id": "cooperative-invite",
   "metadata": {},
   "source": [
    "## MODEL 0: Majority Class Predictor\n",
    "This is our benchmark model. This model simply predicts the majority class in the training sample. It's a very very naive model, but serves as a good baseline for evaluating the performance of our ML models, especially in cases when there is a class imbalance in the training data, which is the case with our data. "
   ]
  },
  {
   "cell_type": "code",
   "execution_count": 35,
   "id": "finite-multimedia",
   "metadata": {},
   "outputs": [],
   "source": [
    "models.update({'m0':'majority_class_predictor'})"
   ]
  },
  {
   "cell_type": "code",
   "execution_count": 36,
   "id": "standard-webmaster",
   "metadata": {},
   "outputs": [],
   "source": [
    "y_pred_m0 = [y_train.mode()]*len(y_val) # simply predicts the majority-class in the training sample"
   ]
  },
  {
   "cell_type": "code",
   "execution_count": 37,
   "id": "corresponding-yeast",
   "metadata": {},
   "outputs": [
    {
     "name": "stdout",
     "output_type": "stream",
     "text": [
      "              precision    recall  f1-score   support\n",
      "\n",
      "         0.0       0.86      1.00      0.93       236\n",
      "         1.0       0.00      0.00      0.00        37\n",
      "\n",
      "    accuracy                           0.86       273\n",
      "   macro avg       0.43      0.50      0.46       273\n",
      "weighted avg       0.75      0.86      0.80       273\n",
      "\n"
     ]
    },
    {
     "name": "stderr",
     "output_type": "stream",
     "text": [
      "/Users/garima/miniconda3/envs/reloc/lib/python3.7/site-packages/sklearn/metrics/_classification.py:1318: UndefinedMetricWarning: Precision and F-score are ill-defined and being set to 0.0 in labels with no predicted samples. Use `zero_division` parameter to control this behavior.\n",
      "  _warn_prf(average, modifier, msg_start, len(result))\n",
      "/Users/garima/miniconda3/envs/reloc/lib/python3.7/site-packages/sklearn/metrics/_classification.py:1318: UndefinedMetricWarning: Precision and F-score are ill-defined and being set to 0.0 in labels with no predicted samples. Use `zero_division` parameter to control this behavior.\n",
      "  _warn_prf(average, modifier, msg_start, len(result))\n",
      "/Users/garima/miniconda3/envs/reloc/lib/python3.7/site-packages/sklearn/metrics/_classification.py:1318: UndefinedMetricWarning: Precision and F-score are ill-defined and being set to 0.0 in labels with no predicted samples. Use `zero_division` parameter to control this behavior.\n",
      "  _warn_prf(average, modifier, msg_start, len(result))\n"
     ]
    }
   ],
   "source": [
    "print(classification_report(y_val, y_pred_m0))"
   ]
  },
  {
   "cell_type": "markdown",
   "id": "dressed-waterproof",
   "metadata": {},
   "source": [
    "- this model is able achieve an overall accuracy of 86% even with a constant prediction. This is because the majority class in our training data is also the predominant majority class in the validation set. \n",
    "- the absolute minimum accuracy we should be able to achieve with more complex models is 86%\n",
    "- however, the library doesn't necessarily care about \"overall accuracy\" but ability to predict defaults, i.e the recall value for the \"1\" class, which in this case is zero."
   ]
  },
  {
   "cell_type": "code",
   "execution_count": 38,
   "id": "federal-elizabeth",
   "metadata": {},
   "outputs": [
    {
     "data": {
      "text/plain": [
       "<AxesSubplot:>"
      ]
     },
     "execution_count": 38,
     "metadata": {},
     "output_type": "execute_result"
    },
    {
     "data": {
      "image/png": "[encoded data removed]",
      "text/plain": [
       "<Figure size 432x288 with 2 Axes>"
      ]
     },
     "metadata": {
      "needs_background": "light"
     },
     "output_type": "display_data"
    }
   ],
   "source": [
    "cm_m0= confusion_matrix(y_val, y_pred_m0, normalize='true')\n",
    "sns.heatmap(cm_m0, annot=True, fmt='.0%', cmap='Reds')"
   ]
  },
  {
   "cell_type": "code",
   "execution_count": 39,
   "id": "thirty-granny",
   "metadata": {},
   "outputs": [],
   "source": [
    "overall_accuracy.append(accuracy_score(y_val, y_pred_m0))\n",
    "late_return_accuracy.append(recall_score(y_val, y_pred_m0))\n",
    "auc_score.append(roc_auc_score(y_val, y_pred_m0))"
   ]
  },
  {
   "cell_type": "markdown",
   "id": "focused-frontier",
   "metadata": {},
   "source": [
    "## MODEL 1: Logistic Regression Model "
   ]
  },
  {
   "cell_type": "code",
   "execution_count": 40,
   "id": "legal-interstate",
   "metadata": {},
   "outputs": [],
   "source": [
    "from sklearn.linear_model import LogisticRegression\n",
    "models.update({'m1':'logit_reg'})"
   ]
  },
  {
   "cell_type": "markdown",
   "id": "young-mailing",
   "metadata": {},
   "source": [
    "### training "
   ]
  },
  {
   "cell_type": "code",
   "execution_count": 41,
   "id": "sitting-brother",
   "metadata": {},
   "outputs": [
    {
     "name": "stderr",
     "output_type": "stream",
     "text": [
      "/Users/garima/miniconda3/envs/reloc/lib/python3.7/site-packages/sklearn/linear_model/_logistic.py:818: ConvergenceWarning: lbfgs failed to converge (status=1):\n",
      "STOP: TOTAL NO. of ITERATIONS REACHED LIMIT.\n",
      "\n",
      "Increase the number of iterations (max_iter) or scale the data as shown in:\n",
      "    https://scikit-learn.org/stable/modules/preprocessing.html\n",
      "Please also refer to the documentation for alternative solver options:\n",
      "    https://scikit-learn.org/stable/modules/linear_model.html#logistic-regression\n",
      "  extra_warning_msg=_LOGISTIC_SOLVER_CONVERGENCE_MSG,\n"
     ]
    }
   ],
   "source": [
    "m1_lr = LogisticRegression()\n",
    "m1_lr.fit(X_train, y_train);"
   ]
  },
  {
   "cell_type": "markdown",
   "id": "formal-oxford",
   "metadata": {},
   "source": [
    "### evaluation"
   ]
  },
  {
   "cell_type": "code",
   "execution_count": 42,
   "id": "restricted-amount",
   "metadata": {},
   "outputs": [],
   "source": [
    "y_pred_m1 = m1_lr.predict(X_val) #using X_test and not X_val here because not tuning hyperparameters for logistic regression"
   ]
  },
  {
   "cell_type": "markdown",
   "id": "actual-roads",
   "metadata": {},
   "source": [
    "#### accuracy"
   ]
  },
  {
   "cell_type": "code",
   "execution_count": 43,
   "id": "level-peripheral",
   "metadata": {},
   "outputs": [
    {
     "name": "stdout",
     "output_type": "stream",
     "text": [
      "Accuracy of the LogisticRegression model is 89.7%\n"
     ]
    }
   ],
   "source": [
    "print(f\"Accuracy of the LogisticRegression model is {round(m1_lr.score(X_val, y_val), 3)*100}%\")"
   ]
  },
  {
   "cell_type": "markdown",
   "id": "pressed-weekly",
   "metadata": {},
   "source": [
    "#### classification report"
   ]
  },
  {
   "cell_type": "code",
   "execution_count": 44,
   "id": "toxic-johnson",
   "metadata": {},
   "outputs": [
    {
     "name": "stdout",
     "output_type": "stream",
     "text": [
      "              precision    recall  f1-score   support\n",
      "\n",
      "         0.0       0.91      0.98      0.94       236\n",
      "         1.0       0.76      0.35      0.48        37\n",
      "\n",
      "    accuracy                           0.90       273\n",
      "   macro avg       0.84      0.67      0.71       273\n",
      "weighted avg       0.89      0.90      0.88       273\n",
      "\n"
     ]
    }
   ],
   "source": [
    "print(classification_report(y_val, y_pred_m1))"
   ]
  },
  {
   "cell_type": "markdown",
   "id": "tired-tourism",
   "metadata": {},
   "source": [
    "#### confusion matrix "
   ]
  },
  {
   "cell_type": "code",
   "execution_count": 45,
   "id": "crude-plate",
   "metadata": {},
   "outputs": [
    {
     "data": {
      "text/plain": [
       "<AxesSubplot:>"
      ]
     },
     "execution_count": 45,
     "metadata": {},
     "output_type": "execute_result"
    },
    {
     "data": {
      "image/png": "[encoded data removed]",
      "text/plain": [
       "<Figure size 432x288 with 2 Axes>"
      ]
     },
     "metadata": {
      "needs_background": "light"
     },
     "output_type": "display_data"
    }
   ],
   "source": [
    "cm= confusion_matrix(y_val, y_pred_m1, normalize='true')\n",
    "sns.heatmap(cm, annot=True, fmt='.0%', cmap='Purples')"
   ]
  },
  {
   "cell_type": "markdown",
   "id": "common-thailand",
   "metadata": {},
   "source": [
    "The Logistic Regression model classifies timely returns as timely 99% of the time, and the late returns as late 73% of the time. Given that the library is interested in monitoring and predicting late returns, the metric we care most about is the recall value for late-returns. "
   ]
  },
  {
   "cell_type": "code",
   "execution_count": 46,
   "id": "disciplinary-crack",
   "metadata": {},
   "outputs": [],
   "source": [
    "overall_accuracy.append(accuracy_score(y_val, y_pred_m1))\n",
    "late_return_accuracy.append(recall_score(y_val, y_pred_m1))\n",
    "auc_score.append(roc_auc_score(y_val, y_pred_m1))"
   ]
  },
  {
   "cell_type": "markdown",
   "id": "acquired-brighton",
   "metadata": {},
   "source": [
    "## MODEL 2: Random Forest"
   ]
  },
  {
   "cell_type": "code",
   "execution_count": 47,
   "id": "dutch-yacht",
   "metadata": {},
   "outputs": [],
   "source": [
    "from sklearn.ensemble import RandomForestClassifier\n",
    "models.update({'m2':'random_forest'})"
   ]
  },
  {
   "cell_type": "markdown",
   "id": "green-courage",
   "metadata": {},
   "source": [
    "### training"
   ]
  },
  {
   "cell_type": "code",
   "execution_count": 48,
   "id": "fifteen-sample",
   "metadata": {},
   "outputs": [],
   "source": [
    "def get_best_max_depth(): \n",
    "    max_depth_accuracy = []\n",
    "    for i in range(1,25): \n",
    "        model = RandomForestClassifier(max_depth=i, random_state=7)\n",
    "        model.fit(X_train, y_train)\n",
    "        max_depth_accuracy.append(model.score(X_val, y_val))\n",
    "    max_accuracy = max(max_depth_accuracy)\n",
    "    best_max_depth = max_depth_accuracy.index(max_accuracy)\n",
    "    return best_max_depth"
   ]
  },
  {
   "cell_type": "code",
   "execution_count": 49,
   "id": "hindu-eligibility",
   "metadata": {},
   "outputs": [
    {
     "data": {
      "text/plain": [
       "RandomForestClassifier(max_depth=13, random_state=7)"
      ]
     },
     "execution_count": 49,
     "metadata": {},
     "output_type": "execute_result"
    }
   ],
   "source": [
    "m2_rf= RandomForestClassifier(max_depth=get_best_max_depth(), random_state=7)\n",
    "m2_rf.fit(X_train, y_train)"
   ]
  },
  {
   "cell_type": "markdown",
   "id": "qualified-hostel",
   "metadata": {},
   "source": [
    "\n",
    "### evaluation"
   ]
  },
  {
   "cell_type": "code",
   "execution_count": 50,
   "id": "surface-constitution",
   "metadata": {},
   "outputs": [],
   "source": [
    "y_pred_m2 = m2_rf.predict(X_val)"
   ]
  },
  {
   "cell_type": "markdown",
   "id": "boolean-alexandria",
   "metadata": {},
   "source": [
    "#### accuracy"
   ]
  },
  {
   "cell_type": "code",
   "execution_count": 51,
   "id": "vital-lucas",
   "metadata": {},
   "outputs": [
    {
     "name": "stdout",
     "output_type": "stream",
     "text": [
      "Accuracy of the Random Forest model is 95.6%\n"
     ]
    }
   ],
   "source": [
    "print(f\"Accuracy of the Random Forest model is {round(m2_rf.score(X_val, y_val), 4)*100}%\")"
   ]
  },
  {
   "cell_type": "markdown",
   "id": "numerous-dancing",
   "metadata": {},
   "source": [
    "#### classification report"
   ]
  },
  {
   "cell_type": "code",
   "execution_count": 52,
   "id": "detailed-walnut",
   "metadata": {},
   "outputs": [
    {
     "name": "stdout",
     "output_type": "stream",
     "text": [
      "              precision    recall  f1-score   support\n",
      "\n",
      "         0.0       0.96      1.00      0.98       236\n",
      "         1.0       0.96      0.70      0.81        37\n",
      "\n",
      "    accuracy                           0.96       273\n",
      "   macro avg       0.96      0.85      0.89       273\n",
      "weighted avg       0.96      0.96      0.95       273\n",
      "\n"
     ]
    }
   ],
   "source": [
    "print(classification_report(y_val, y_pred_m2))"
   ]
  },
  {
   "cell_type": "markdown",
   "id": "returning-custom",
   "metadata": {},
   "source": [
    "#### confusion matrix "
   ]
  },
  {
   "cell_type": "code",
   "execution_count": 53,
   "id": "eligible-module",
   "metadata": {},
   "outputs": [
    {
     "data": {
      "text/plain": [
       "<AxesSubplot:>"
      ]
     },
     "execution_count": 53,
     "metadata": {},
     "output_type": "execute_result"
    },
    {
     "data": {
      "image/png": "[encoded data removed]",
      "text/plain": [
       "<Figure size 432x288 with 2 Axes>"
      ]
     },
     "metadata": {
      "needs_background": "light"
     },
     "output_type": "display_data"
    }
   ],
   "source": [
    "cm_m2 = confusion_matrix(y_val, y_pred_m2, normalize='true')\n",
    "sns.heatmap(cm_m2, annot=True, fmt='.0%', cmap='Greens')"
   ]
  },
  {
   "cell_type": "code",
   "execution_count": 54,
   "id": "abstract-inventory",
   "metadata": {},
   "outputs": [
    {
     "data": {
      "text/plain": [
       "<AxesSubplot:title={'center':'Top 10 Features'}>"
      ]
     },
     "execution_count": 54,
     "metadata": {},
     "output_type": "execute_result"
    },
    {
     "data": {
      "image/png": "[encoded data removed]",
      "text/plain": [
       "<Figure size 432x288 with 1 Axes>"
      ]
     },
     "metadata": {
      "needs_background": "light"
     },
     "output_type": "display_data"
    }
   ],
   "source": [
    "fi_df= pd.Series(m2_rf.feature_importances_, index=X.columns)\n",
    "fi_df.sort_values(ascending=False, inplace=True)\n",
    "fi_df.head(10).plot(kind='barh', title='Top 10 Features')"
   ]
  },
  {
   "cell_type": "code",
   "execution_count": 55,
   "id": "available-methodology",
   "metadata": {},
   "outputs": [],
   "source": [
    "overall_accuracy.append(accuracy_score(y_val, y_pred_m2))\n",
    "late_return_accuracy.append(recall_score(y_val, y_pred_m2))\n",
    "auc_score.append(roc_auc_score(y_val, y_pred_m2))"
   ]
  },
  {
   "cell_type": "markdown",
   "id": "chubby-conviction",
   "metadata": {},
   "source": [
    "## MODEL 3: Naive Bayes Classifier"
   ]
  },
  {
   "cell_type": "code",
   "execution_count": 56,
   "id": "judicial-parliament",
   "metadata": {},
   "outputs": [],
   "source": [
    "from sklearn.naive_bayes import GaussianNB\n",
    "models.update({'m3':'naive_bayes'})"
   ]
  },
  {
   "cell_type": "markdown",
   "id": "buried-radical",
   "metadata": {},
   "source": [
    "### training "
   ]
  },
  {
   "cell_type": "code",
   "execution_count": 57,
   "id": "elegant-maple",
   "metadata": {},
   "outputs": [
    {
     "data": {
      "text/plain": [
       "GaussianNB()"
      ]
     },
     "execution_count": 57,
     "metadata": {},
     "output_type": "execute_result"
    }
   ],
   "source": [
    "m3_nb = GaussianNB()\n",
    "m3_nb.fit(X_train, y_train)"
   ]
  },
  {
   "cell_type": "markdown",
   "id": "designed-sheet",
   "metadata": {},
   "source": [
    "### evaluation"
   ]
  },
  {
   "cell_type": "code",
   "execution_count": 58,
   "id": "renewable-ideal",
   "metadata": {},
   "outputs": [],
   "source": [
    "y_pred_m3 = m3_nb.predict(X_val)"
   ]
  },
  {
   "cell_type": "code",
   "execution_count": 59,
   "id": "governmental-glucose",
   "metadata": {},
   "outputs": [
    {
     "name": "stdout",
     "output_type": "stream",
     "text": [
      "              precision    recall  f1-score   support\n",
      "\n",
      "         0.0       0.88      1.00      0.94       236\n",
      "         1.0       1.00      0.16      0.28        37\n",
      "\n",
      "    accuracy                           0.89       273\n",
      "   macro avg       0.94      0.58      0.61       273\n",
      "weighted avg       0.90      0.89      0.85       273\n",
      "\n"
     ]
    }
   ],
   "source": [
    "print(classification_report(y_val, y_pred_m3))"
   ]
  },
  {
   "cell_type": "code",
   "execution_count": 60,
   "id": "authorized-mississippi",
   "metadata": {},
   "outputs": [
    {
     "data": {
      "image/png": "[encoded data removed]",
      "text/plain": [
       "<Figure size 432x288 with 2 Axes>"
      ]
     },
     "metadata": {
      "needs_background": "light"
     },
     "output_type": "display_data"
    }
   ],
   "source": [
    "cm_m3 = confusion_matrix(y_val, y_pred_m3, normalize='true')\n",
    "sns.heatmap(cm_m3, annot=True, cmap='Blues',fmt='.0%');"
   ]
  },
  {
   "cell_type": "code",
   "execution_count": 61,
   "id": "amended-mother",
   "metadata": {},
   "outputs": [],
   "source": [
    "overall_accuracy.append(accuracy_score(y_val, y_pred_m3))\n",
    "late_return_accuracy.append(recall_score(y_val, y_pred_m3))\n",
    "auc_score.append(roc_auc_score(y_val, y_pred_m3))"
   ]
  },
  {
   "cell_type": "markdown",
   "id": "transsexual-heater",
   "metadata": {},
   "source": [
    "## MODEL 4: Gradient-Boosted Decision Tree"
   ]
  },
  {
   "cell_type": "code",
   "execution_count": 62,
   "id": "massive-kennedy",
   "metadata": {},
   "outputs": [],
   "source": [
    "import lightgbm as lgb\n",
    "models.update({'m4':'lgb_gbdt'})"
   ]
  },
  {
   "cell_type": "markdown",
   "id": "correct-strand",
   "metadata": {},
   "source": [
    "### training"
   ]
  },
  {
   "cell_type": "code",
   "execution_count": 63,
   "id": "processed-enough",
   "metadata": {},
   "outputs": [
    {
     "data": {
      "text/plain": [
       "LGBMClassifier()"
      ]
     },
     "execution_count": 63,
     "metadata": {},
     "output_type": "execute_result"
    }
   ],
   "source": [
    "m4_lgb = lgb.LGBMClassifier()\n",
    "m4_lgb.fit(X_train, y_train)"
   ]
  },
  {
   "cell_type": "markdown",
   "id": "fatal-birthday",
   "metadata": {},
   "source": [
    "## evaluation"
   ]
  },
  {
   "cell_type": "code",
   "execution_count": 64,
   "id": "genetic-facing",
   "metadata": {},
   "outputs": [],
   "source": [
    "y_pred_m4 = m4_lgb.predict(X_val)"
   ]
  },
  {
   "cell_type": "markdown",
   "id": "binding-immune",
   "metadata": {},
   "source": [
    "#### accuracy"
   ]
  },
  {
   "cell_type": "code",
   "execution_count": 65,
   "id": "entire-penalty",
   "metadata": {},
   "outputs": [
    {
     "name": "stdout",
     "output_type": "stream",
     "text": [
      "Accuracy of the Random Forest model is 95.6%\n"
     ]
    }
   ],
   "source": [
    "print(f\"Accuracy of the Random Forest model is {round(m2_rf.score(X_val, y_val), 4)*100}%\")"
   ]
  },
  {
   "cell_type": "markdown",
   "id": "comic-citizenship",
   "metadata": {},
   "source": [
    "#### classification report"
   ]
  },
  {
   "cell_type": "code",
   "execution_count": 66,
   "id": "exotic-outreach",
   "metadata": {},
   "outputs": [
    {
     "name": "stdout",
     "output_type": "stream",
     "text": [
      "              precision    recall  f1-score   support\n",
      "\n",
      "         0.0       0.96      0.98      0.97       236\n",
      "         1.0       0.88      0.76      0.81        37\n",
      "\n",
      "    accuracy                           0.95       273\n",
      "   macro avg       0.92      0.87      0.89       273\n",
      "weighted avg       0.95      0.95      0.95       273\n",
      "\n"
     ]
    }
   ],
   "source": [
    "print(classification_report(y_val, y_pred_m4))"
   ]
  },
  {
   "cell_type": "markdown",
   "id": "pending-probe",
   "metadata": {},
   "source": [
    "#### confusion matrix"
   ]
  },
  {
   "cell_type": "code",
   "execution_count": 67,
   "id": "ideal-blogger",
   "metadata": {},
   "outputs": [
    {
     "data": {
      "image/png": "[encoded data removed]",
      "text/plain": [
       "<Figure size 432x288 with 2 Axes>"
      ]
     },
     "metadata": {
      "needs_background": "light"
     },
     "output_type": "display_data"
    }
   ],
   "source": [
    "cm_m4 = confusion_matrix(y_val, y_pred_m4, normalize='true')\n",
    "sns.heatmap(cm_m4, annot=True, cmap='Oranges',fmt='.0%');"
   ]
  },
  {
   "cell_type": "code",
   "execution_count": 68,
   "id": "existing-thanksgiving",
   "metadata": {},
   "outputs": [
    {
     "data": {
      "text/plain": [
       "<AxesSubplot:title={'center':'Feature importance'}, xlabel='Feature importance', ylabel='Features'>"
      ]
     },
     "execution_count": 68,
     "metadata": {},
     "output_type": "execute_result"
    },
    {
     "data": {
      "image/png": "[encoded data removed]",
      "text/plain": [
       "<Figure size 432x288 with 1 Axes>"
      ]
     },
     "metadata": {
      "needs_background": "light"
     },
     "output_type": "display_data"
    }
   ],
   "source": [
    "lgb.plot_importance(m4_lgb, max_num_features=10)"
   ]
  },
  {
   "cell_type": "code",
   "execution_count": 69,
   "id": "cheap-strip",
   "metadata": {},
   "outputs": [],
   "source": [
    "overall_accuracy.append(accuracy_score(y_val, y_pred_m4))\n",
    "late_return_accuracy.append(recall_score(y_val, y_pred_m4))\n",
    "auc_score.append(roc_auc_score(y_val, y_pred_m4))"
   ]
  },
  {
   "cell_type": "markdown",
   "id": "vertical-melissa",
   "metadata": {},
   "source": [
    "## MODEL 5: RANDOM FOREST w/ OPTUNA HYPERPARAMETER OPTIMIZATION"
   ]
  },
  {
   "cell_type": "code",
   "execution_count": 70,
   "id": "injured-plastic",
   "metadata": {},
   "outputs": [],
   "source": [
    "import optuna\n",
    "models.update({'m5':'rf_w_optuna'})"
   ]
  },
  {
   "cell_type": "code",
   "execution_count": 71,
   "id": "smoking-assist",
   "metadata": {},
   "outputs": [
    {
     "name": "stderr",
     "output_type": "stream",
     "text": [
      "\u001b[32m[I 2022-08-08 18:52:39,440]\u001b[0m A new study created in memory with name: no-name-718224a5-029d-4fb5-92c8-32fa0bcaf78c\u001b[0m\n",
      "\u001b[32m[I 2022-08-08 18:52:39,854]\u001b[0m Trial 0 finished with value: 0.2702702702702703 and parameters: {'rf_n_estimators': 163, 'rf_max_depth': 4}. Best is trial 0 with value: 0.2702702702702703.\u001b[0m\n",
      "\u001b[32m[I 2022-08-08 18:52:40,467]\u001b[0m Trial 1 finished with value: 0.5135135135135135 and parameters: {'rf_n_estimators': 430, 'rf_max_depth': 6}. Best is trial 1 with value: 0.5135135135135135.\u001b[0m\n",
      "\u001b[32m[I 2022-08-08 18:52:40,600]\u001b[0m Trial 2 finished with value: 0.6756756756756757 and parameters: {'rf_n_estimators': 87, 'rf_max_depth': 14}. Best is trial 2 with value: 0.6756756756756757.\u001b[0m\n",
      "\u001b[32m[I 2022-08-08 18:52:40,738]\u001b[0m Trial 3 finished with value: 0.2702702702702703 and parameters: {'rf_n_estimators': 98, 'rf_max_depth': 4}. Best is trial 2 with value: 0.6756756756756757.\u001b[0m\n",
      "\u001b[32m[I 2022-08-08 18:52:40,832]\u001b[0m Trial 4 finished with value: 0.7027027027027027 and parameters: {'rf_n_estimators': 48, 'rf_max_depth': 21}. Best is trial 4 with value: 0.7027027027027027.\u001b[0m\n",
      "\u001b[32m[I 2022-08-08 18:52:41,054]\u001b[0m Trial 5 finished with value: 0.6486486486486487 and parameters: {'rf_n_estimators': 138, 'rf_max_depth': 22}. Best is trial 4 with value: 0.7027027027027027.\u001b[0m\n",
      "\u001b[32m[I 2022-08-08 18:52:41,564]\u001b[0m Trial 6 finished with value: 0.16216216216216217 and parameters: {'rf_n_estimators': 389, 'rf_max_depth': 3}. Best is trial 4 with value: 0.7027027027027027.\u001b[0m\n",
      "\u001b[32m[I 2022-08-08 18:52:41,866]\u001b[0m Trial 7 finished with value: 0.5405405405405406 and parameters: {'rf_n_estimators': 211, 'rf_max_depth': 7}. Best is trial 4 with value: 0.7027027027027027.\u001b[0m\n",
      "\u001b[32m[I 2022-08-08 18:52:41,961]\u001b[0m Trial 8 finished with value: 0.6756756756756757 and parameters: {'rf_n_estimators': 58, 'rf_max_depth': 17}. Best is trial 4 with value: 0.7027027027027027.\u001b[0m\n",
      "\u001b[32m[I 2022-08-08 18:52:42,017]\u001b[0m Trial 9 finished with value: 0.4594594594594595 and parameters: {'rf_n_estimators': 33, 'rf_max_depth': 6}. Best is trial 4 with value: 0.7027027027027027.\u001b[0m\n",
      "\u001b[32m[I 2022-08-08 18:52:42,462]\u001b[0m Trial 10 finished with value: 0.6486486486486487 and parameters: {'rf_n_estimators': 303, 'rf_max_depth': 25}. Best is trial 4 with value: 0.7027027027027027.\u001b[0m\n",
      "\u001b[32m[I 2022-08-08 18:52:42,881]\u001b[0m Trial 11 finished with value: 0.6216216216216216 and parameters: {'rf_n_estimators': 284, 'rf_max_depth': 14}. Best is trial 4 with value: 0.7027027027027027.\u001b[0m\n",
      "\u001b[32m[I 2022-08-08 18:52:42,919]\u001b[0m Trial 12 finished with value: 0.6486486486486487 and parameters: {'rf_n_estimators': 13, 'rf_max_depth': 19}. Best is trial 4 with value: 0.7027027027027027.\u001b[0m\n",
      "\u001b[32m[I 2022-08-08 18:52:43,228]\u001b[0m Trial 13 finished with value: 0.6756756756756757 and parameters: {'rf_n_estimators': 200, 'rf_max_depth': 11}. Best is trial 4 with value: 0.7027027027027027.\u001b[0m\n",
      "\u001b[32m[I 2022-08-08 18:52:43,378]\u001b[0m Trial 14 finished with value: 0.5945945945945946 and parameters: {'rf_n_estimators': 96, 'rf_max_depth': 12}. Best is trial 4 with value: 0.7027027027027027.\u001b[0m\n",
      "\u001b[32m[I 2022-08-08 18:52:43,531]\u001b[0m Trial 15 finished with value: 0.6216216216216216 and parameters: {'rf_n_estimators': 94, 'rf_max_depth': 17}. Best is trial 4 with value: 0.7027027027027027.\u001b[0m\n",
      "\u001b[32m[I 2022-08-08 18:52:44,107]\u001b[0m Trial 16 finished with value: 0.6216216216216216 and parameters: {'rf_n_estimators': 339, 'rf_max_depth': 21}. Best is trial 4 with value: 0.7027027027027027.\u001b[0m\n",
      "\u001b[32m[I 2022-08-08 18:52:44,189]\u001b[0m Trial 17 finished with value: 0.6486486486486487 and parameters: {'rf_n_estimators': 45, 'rf_max_depth': 17}. Best is trial 4 with value: 0.7027027027027027.\u001b[0m\n",
      "\u001b[32m[I 2022-08-08 18:52:44,503]\u001b[0m Trial 18 finished with value: 0.6756756756756757 and parameters: {'rf_n_estimators': 202, 'rf_max_depth': 25}. Best is trial 4 with value: 0.7027027027027027.\u001b[0m\n",
      "\u001b[32m[I 2022-08-08 18:52:44,797]\u001b[0m Trial 19 finished with value: 0.5945945945945946 and parameters: {'rf_n_estimators': 199, 'rf_max_depth': 23}. Best is trial 4 with value: 0.7027027027027027.\u001b[0m\n",
      "\u001b[32m[I 2022-08-08 18:52:45,485]\u001b[0m Trial 20 finished with value: 0.5945945945945946 and parameters: {'rf_n_estimators': 483, 'rf_max_depth': 10}. Best is trial 4 with value: 0.7027027027027027.\u001b[0m\n",
      "\u001b[32m[I 2022-08-08 18:52:45,687]\u001b[0m Trial 21 finished with value: 0.6756756756756757 and parameters: {'rf_n_estimators': 133, 'rf_max_depth': 25}. Best is trial 4 with value: 0.7027027027027027.\u001b[0m\n",
      "\u001b[32m[I 2022-08-08 18:52:46,063]\u001b[0m Trial 22 finished with value: 0.5945945945945946 and parameters: {'rf_n_estimators': 248, 'rf_max_depth': 25}. Best is trial 4 with value: 0.7027027027027027.\u001b[0m\n",
      "\u001b[32m[I 2022-08-08 18:52:46,180]\u001b[0m Trial 23 finished with value: 0.6216216216216216 and parameters: {'rf_n_estimators': 71, 'rf_max_depth': 20}. Best is trial 4 with value: 0.7027027027027027.\u001b[0m\n",
      "\u001b[32m[I 2022-08-08 18:52:46,388]\u001b[0m Trial 24 finished with value: 0.6486486486486487 and parameters: {'rf_n_estimators': 138, 'rf_max_depth': 14}. Best is trial 4 with value: 0.7027027027027027.\u001b[0m\n",
      "\u001b[32m[I 2022-08-08 18:52:46,592]\u001b[0m Trial 25 finished with value: 0.6216216216216216 and parameters: {'rf_n_estimators': 134, 'rf_max_depth': 23}. Best is trial 4 with value: 0.7027027027027027.\u001b[0m\n",
      "\u001b[32m[I 2022-08-08 18:52:46,643]\u001b[0m Trial 26 finished with value: 0.6216216216216216 and parameters: {'rf_n_estimators': 19, 'rf_max_depth': 19}. Best is trial 4 with value: 0.7027027027027027.\u001b[0m\n",
      "\u001b[32m[I 2022-08-08 18:52:47,017]\u001b[0m Trial 27 finished with value: 0.6216216216216216 and parameters: {'rf_n_estimators': 244, 'rf_max_depth': 10}. Best is trial 4 with value: 0.7027027027027027.\u001b[0m\n",
      "\u001b[32m[I 2022-08-08 18:52:47,286]\u001b[0m Trial 28 finished with value: 0.5945945945945946 and parameters: {'rf_n_estimators': 179, 'rf_max_depth': 12}. Best is trial 4 with value: 0.7027027027027027.\u001b[0m\n",
      "\u001b[32m[I 2022-08-08 18:52:47,469]\u001b[0m Trial 29 finished with value: 0.05405405405405406 and parameters: {'rf_n_estimators': 160, 'rf_max_depth': 1}. Best is trial 4 with value: 0.7027027027027027.\u001b[0m\n",
      "\u001b[32m[I 2022-08-08 18:52:47,638]\u001b[0m Trial 30 finished with value: 0.6216216216216216 and parameters: {'rf_n_estimators': 110, 'rf_max_depth': 15}. Best is trial 4 with value: 0.7027027027027027.\u001b[0m\n",
      "\u001b[32m[I 2022-08-08 18:52:47,739]\u001b[0m Trial 31 finished with value: 0.6486486486486487 and parameters: {'rf_n_estimators': 62, 'rf_max_depth': 17}. Best is trial 4 with value: 0.7027027027027027.\u001b[0m\n",
      "\u001b[32m[I 2022-08-08 18:52:47,850]\u001b[0m Trial 32 finished with value: 0.6756756756756757 and parameters: {'rf_n_estimators': 64, 'rf_max_depth': 16}. Best is trial 4 with value: 0.7027027027027027.\u001b[0m\n",
      "\u001b[32m[I 2022-08-08 18:52:48,054]\u001b[0m Trial 33 finished with value: 0.6756756756756757 and parameters: {'rf_n_estimators': 123, 'rf_max_depth': 24}. Best is trial 4 with value: 0.7027027027027027.\u001b[0m\n",
      "\u001b[32m[I 2022-08-08 18:52:48,246]\u001b[0m Trial 34 finished with value: 0.6486486486486487 and parameters: {'rf_n_estimators': 123, 'rf_max_depth': 23}. Best is trial 4 with value: 0.7027027027027027.\u001b[0m\n",
      "\u001b[32m[I 2022-08-08 18:52:48,370]\u001b[0m Trial 35 finished with value: 0.6216216216216216 and parameters: {'rf_n_estimators': 78, 'rf_max_depth': 21}. Best is trial 4 with value: 0.7027027027027027.\u001b[0m\n",
      "\u001b[32m[I 2022-08-08 18:52:48,613]\u001b[0m Trial 36 finished with value: 0.6216216216216216 and parameters: {'rf_n_estimators': 163, 'rf_max_depth': 22}. Best is trial 4 with value: 0.7027027027027027.\u001b[0m\n",
      "\u001b[32m[I 2022-08-08 18:52:48,948]\u001b[0m Trial 37 finished with value: 0.6216216216216216 and parameters: {'rf_n_estimators': 229, 'rf_max_depth': 19}. Best is trial 4 with value: 0.7027027027027027.\u001b[0m\n",
      "\u001b[32m[I 2022-08-08 18:52:49,355]\u001b[0m Trial 38 finished with value: 0.6216216216216216 and parameters: {'rf_n_estimators': 281, 'rf_max_depth': 10}. Best is trial 4 with value: 0.7027027027027027.\u001b[0m\n",
      "\u001b[32m[I 2022-08-08 18:52:49,444]\u001b[0m Trial 39 finished with value: 0.5675675675675675 and parameters: {'rf_n_estimators': 53, 'rf_max_depth': 8}. Best is trial 4 with value: 0.7027027027027027.\u001b[0m\n",
      "\u001b[32m[I 2022-08-08 18:52:49,693]\u001b[0m Trial 40 finished with value: 0.6486486486486487 and parameters: {'rf_n_estimators': 167, 'rf_max_depth': 24}. Best is trial 4 with value: 0.7027027027027027.\u001b[0m\n"
     ]
    },
    {
     "name": "stderr",
     "output_type": "stream",
     "text": [
      "\u001b[32m[I 2022-08-08 18:52:49,833]\u001b[0m Trial 41 finished with value: 0.6486486486486487 and parameters: {'rf_n_estimators': 88, 'rf_max_depth': 15}. Best is trial 4 with value: 0.7027027027027027.\u001b[0m\n",
      "\u001b[32m[I 2022-08-08 18:52:49,901]\u001b[0m Trial 42 finished with value: 0.5945945945945946 and parameters: {'rf_n_estimators': 35, 'rf_max_depth': 21}. Best is trial 4 with value: 0.7027027027027027.\u001b[0m\n",
      "\u001b[32m[I 2022-08-08 18:52:50,080]\u001b[0m Trial 43 finished with value: 0.6756756756756757 and parameters: {'rf_n_estimators': 116, 'rf_max_depth': 24}. Best is trial 4 with value: 0.7027027027027027.\u001b[0m\n",
      "\u001b[32m[I 2022-08-08 18:52:50,279]\u001b[0m Trial 44 finished with value: 0.6216216216216216 and parameters: {'rf_n_estimators': 133, 'rf_max_depth': 25}. Best is trial 4 with value: 0.7027027027027027.\u001b[0m\n",
      "\u001b[32m[I 2022-08-08 18:52:50,312]\u001b[0m Trial 45 finished with value: 0.6756756756756757 and parameters: {'rf_n_estimators': 12, 'rf_max_depth': 18}. Best is trial 4 with value: 0.7027027027027027.\u001b[0m\n",
      "\u001b[32m[I 2022-08-08 18:52:50,346]\u001b[0m Trial 46 finished with value: 0.7027027027027027 and parameters: {'rf_n_estimators': 13, 'rf_max_depth': 24}. Best is trial 4 with value: 0.7027027027027027.\u001b[0m\n",
      "\u001b[32m[I 2022-08-08 18:52:50,379]\u001b[0m Trial 47 finished with value: 0.5945945945945946 and parameters: {'rf_n_estimators': 12, 'rf_max_depth': 18}. Best is trial 4 with value: 0.7027027027027027.\u001b[0m\n",
      "\u001b[32m[I 2022-08-08 18:52:50,444]\u001b[0m Trial 48 finished with value: 0.5945945945945946 and parameters: {'rf_n_estimators': 35, 'rf_max_depth': 22}. Best is trial 4 with value: 0.7027027027027027.\u001b[0m\n",
      "\u001b[32m[I 2022-08-08 18:52:50,499]\u001b[0m Trial 49 finished with value: 0.5675675675675675 and parameters: {'rf_n_estimators': 28, 'rf_max_depth': 20}. Best is trial 4 with value: 0.7027027027027027.\u001b[0m\n",
      "\u001b[32m[I 2022-08-08 18:52:51,051]\u001b[0m Trial 50 finished with value: 0.6216216216216216 and parameters: {'rf_n_estimators': 356, 'rf_max_depth': 22}. Best is trial 4 with value: 0.7027027027027027.\u001b[0m\n",
      "\u001b[32m[I 2022-08-08 18:52:51,196]\u001b[0m Trial 51 finished with value: 0.6756756756756757 and parameters: {'rf_n_estimators': 90, 'rf_max_depth': 13}. Best is trial 4 with value: 0.7027027027027027.\u001b[0m\n",
      "\u001b[32m[I 2022-08-08 18:52:51,319]\u001b[0m Trial 52 finished with value: 0.5945945945945946 and parameters: {'rf_n_estimators': 66, 'rf_max_depth': 24}. Best is trial 4 with value: 0.7027027027027027.\u001b[0m\n",
      "\u001b[32m[I 2022-08-08 18:52:51,501]\u001b[0m Trial 53 finished with value: 0.5945945945945946 and parameters: {'rf_n_estimators': 106, 'rf_max_depth': 25}. Best is trial 4 with value: 0.7027027027027027.\u001b[0m\n",
      "\u001b[32m[I 2022-08-08 18:52:51,786]\u001b[0m Trial 54 finished with value: 0.5945945945945946 and parameters: {'rf_n_estimators': 184, 'rf_max_depth': 8}. Best is trial 4 with value: 0.7027027027027027.\u001b[0m\n",
      "\u001b[32m[I 2022-08-08 18:52:51,871]\u001b[0m Trial 55 finished with value: 0.6486486486486487 and parameters: {'rf_n_estimators': 48, 'rf_max_depth': 12}. Best is trial 4 with value: 0.7027027027027027.\u001b[0m\n",
      "\u001b[32m[I 2022-08-08 18:52:52,016]\u001b[0m Trial 56 finished with value: 0.6216216216216216 and parameters: {'rf_n_estimators': 93, 'rf_max_depth': 15}. Best is trial 4 with value: 0.7027027027027027.\u001b[0m\n",
      "\u001b[32m[I 2022-08-08 18:52:52,048]\u001b[0m Trial 57 finished with value: 0.6486486486486487 and parameters: {'rf_n_estimators': 12, 'rf_max_depth': 11}. Best is trial 4 with value: 0.7027027027027027.\u001b[0m\n",
      "\u001b[32m[I 2022-08-08 18:52:52,132]\u001b[0m Trial 58 finished with value: 0.5945945945945946 and parameters: {'rf_n_estimators': 50, 'rf_max_depth': 16}. Best is trial 4 with value: 0.7027027027027027.\u001b[0m\n",
      "\u001b[32m[I 2022-08-08 18:52:52,317]\u001b[0m Trial 59 finished with value: 0.6756756756756757 and parameters: {'rf_n_estimators': 110, 'rf_max_depth': 23}. Best is trial 4 with value: 0.7027027027027027.\u001b[0m\n",
      "\u001b[32m[I 2022-08-08 18:52:52,553]\u001b[0m Trial 60 finished with value: 0.5945945945945946 and parameters: {'rf_n_estimators': 154, 'rf_max_depth': 20}. Best is trial 4 with value: 0.7027027027027027.\u001b[0m\n",
      "\u001b[32m[I 2022-08-08 18:52:52,684]\u001b[0m Trial 61 finished with value: 0.5945945945945946 and parameters: {'rf_n_estimators': 84, 'rf_max_depth': 24}. Best is trial 4 with value: 0.7027027027027027.\u001b[0m\n",
      "\u001b[32m[I 2022-08-08 18:52:53,039]\u001b[0m Trial 62 finished with value: 0.6756756756756757 and parameters: {'rf_n_estimators': 221, 'rf_max_depth': 24}. Best is trial 4 with value: 0.7027027027027027.\u001b[0m\n",
      "\u001b[32m[I 2022-08-08 18:52:53,388]\u001b[0m Trial 63 finished with value: 0.6486486486486487 and parameters: {'rf_n_estimators': 226, 'rf_max_depth': 24}. Best is trial 4 with value: 0.7027027027027027.\u001b[0m\n",
      "\u001b[32m[I 2022-08-08 18:52:53,801]\u001b[0m Trial 64 finished with value: 0.6486486486486487 and parameters: {'rf_n_estimators': 268, 'rf_max_depth': 23}. Best is trial 4 with value: 0.7027027027027027.\u001b[0m\n",
      "\u001b[32m[I 2022-08-08 18:52:54,052]\u001b[0m Trial 65 finished with value: 0.6486486486486487 and parameters: {'rf_n_estimators': 149, 'rf_max_depth': 21}. Best is trial 4 with value: 0.7027027027027027.\u001b[0m\n",
      "\u001b[32m[I 2022-08-08 18:52:54,372]\u001b[0m Trial 66 finished with value: 0.6486486486486487 and parameters: {'rf_n_estimators': 196, 'rf_max_depth': 25}. Best is trial 4 with value: 0.7027027027027027.\u001b[0m\n",
      "\u001b[32m[I 2022-08-08 18:52:54,655]\u001b[0m Trial 67 finished with value: 0.6486486486486487 and parameters: {'rf_n_estimators': 191, 'rf_max_depth': 25}. Best is trial 4 with value: 0.7027027027027027.\u001b[0m\n",
      "\u001b[32m[I 2022-08-08 18:52:54,717]\u001b[0m Trial 68 finished with value: 0.6486486486486487 and parameters: {'rf_n_estimators': 29, 'rf_max_depth': 22}. Best is trial 4 with value: 0.7027027027027027.\u001b[0m\n",
      "\u001b[32m[I 2022-08-08 18:52:55,205]\u001b[0m Trial 69 finished with value: 0.6756756756756757 and parameters: {'rf_n_estimators': 315, 'rf_max_depth': 13}. Best is trial 4 with value: 0.7027027027027027.\u001b[0m\n",
      "\u001b[32m[I 2022-08-08 18:52:55,697]\u001b[0m Trial 70 finished with value: 0.6216216216216216 and parameters: {'rf_n_estimators': 319, 'rf_max_depth': 13}. Best is trial 4 with value: 0.7027027027027027.\u001b[0m\n",
      "\u001b[32m[I 2022-08-08 18:52:55,829]\u001b[0m Trial 71 finished with value: 0.6486486486486487 and parameters: {'rf_n_estimators': 69, 'rf_max_depth': 16}. Best is trial 4 with value: 0.7027027027027027.\u001b[0m\n",
      "\u001b[32m[I 2022-08-08 18:52:56,175]\u001b[0m Trial 72 finished with value: 0.6756756756756757 and parameters: {'rf_n_estimators': 223, 'rf_max_depth': 23}. Best is trial 4 with value: 0.7027027027027027.\u001b[0m\n",
      "\u001b[32m[I 2022-08-08 18:52:56,386]\u001b[0m Trial 73 finished with value: 0.5945945945945946 and parameters: {'rf_n_estimators': 119, 'rf_max_depth': 18}. Best is trial 4 with value: 0.7027027027027027.\u001b[0m\n",
      "\u001b[32m[I 2022-08-08 18:52:56,704]\u001b[0m Trial 74 finished with value: 0.7027027027027027 and parameters: {'rf_n_estimators': 219, 'rf_max_depth': 23}. Best is trial 4 with value: 0.7027027027027027.\u001b[0m\n",
      "\u001b[32m[I 2022-08-08 18:52:57,010]\u001b[0m Trial 75 finished with value: 0.6486486486486487 and parameters: {'rf_n_estimators': 205, 'rf_max_depth': 11}. Best is trial 4 with value: 0.7027027027027027.\u001b[0m\n",
      "\u001b[32m[I 2022-08-08 18:52:57,180]\u001b[0m Trial 76 finished with value: 0.5945945945945946 and parameters: {'rf_n_estimators': 100, 'rf_max_depth': 23}. Best is trial 4 with value: 0.7027027027027027.\u001b[0m\n",
      "\u001b[32m[I 2022-08-08 18:52:57,534]\u001b[0m Trial 77 finished with value: 0.6486486486486487 and parameters: {'rf_n_estimators': 244, 'rf_max_depth': 24}. Best is trial 4 with value: 0.7027027027027027.\u001b[0m\n",
      "\u001b[32m[I 2022-08-08 18:52:58,120]\u001b[0m Trial 78 finished with value: 0.6486486486486487 and parameters: {'rf_n_estimators': 410, 'rf_max_depth': 13}. Best is trial 4 with value: 0.7027027027027027.\u001b[0m\n",
      "\u001b[32m[I 2022-08-08 18:52:58,608]\u001b[0m Trial 79 finished with value: 0.6216216216216216 and parameters: {'rf_n_estimators': 341, 'rf_max_depth': 14}. Best is trial 4 with value: 0.7027027027027027.\u001b[0m\n",
      "\u001b[32m[I 2022-08-08 18:52:58,930]\u001b[0m Trial 80 finished with value: 0.6216216216216216 and parameters: {'rf_n_estimators': 221, 'rf_max_depth': 23}. Best is trial 4 with value: 0.7027027027027027.\u001b[0m\n",
      "\u001b[32m[I 2022-08-08 18:52:59,312]\u001b[0m Trial 81 finished with value: 0.6486486486486487 and parameters: {'rf_n_estimators': 256, 'rf_max_depth': 24}. Best is trial 4 with value: 0.7027027027027027.\u001b[0m\n",
      "\u001b[32m[I 2022-08-08 18:52:59,585]\u001b[0m Trial 82 finished with value: 0.5945945945945946 and parameters: {'rf_n_estimators': 178, 'rf_max_depth': 9}. Best is trial 4 with value: 0.7027027027027027.\u001b[0m\n"
     ]
    },
    {
     "name": "stderr",
     "output_type": "stream",
     "text": [
      "\u001b[32m[I 2022-08-08 18:53:00,038]\u001b[0m Trial 83 finished with value: 0.6486486486486487 and parameters: {'rf_n_estimators': 301, 'rf_max_depth': 22}. Best is trial 4 with value: 0.7027027027027027.\u001b[0m\n",
      "\u001b[32m[I 2022-08-08 18:53:00,601]\u001b[0m Trial 84 finished with value: 0.6216216216216216 and parameters: {'rf_n_estimators': 366, 'rf_max_depth': 11}. Best is trial 4 with value: 0.7027027027027027.\u001b[0m\n",
      "\u001b[32m[I 2022-08-08 18:53:01,332]\u001b[0m Trial 85 finished with value: 0.6216216216216216 and parameters: {'rf_n_estimators': 499, 'rf_max_depth': 18}. Best is trial 4 with value: 0.7027027027027027.\u001b[0m\n",
      "\u001b[32m[I 2022-08-08 18:53:01,522]\u001b[0m Trial 86 finished with value: 0.6216216216216216 and parameters: {'rf_n_estimators': 125, 'rf_max_depth': 25}. Best is trial 4 with value: 0.7027027027027027.\u001b[0m\n",
      "\u001b[32m[I 2022-08-08 18:53:01,654]\u001b[0m Trial 87 finished with value: 0.6216216216216216 and parameters: {'rf_n_estimators': 74, 'rf_max_depth': 22}. Best is trial 4 with value: 0.7027027027027027.\u001b[0m\n",
      "\u001b[32m[I 2022-08-08 18:53:01,771]\u001b[0m Trial 88 finished with value: 0.5405405405405406 and parameters: {'rf_n_estimators': 58, 'rf_max_depth': 13}. Best is trial 4 with value: 0.7027027027027027.\u001b[0m\n",
      "\u001b[32m[I 2022-08-08 18:53:01,842]\u001b[0m Trial 89 finished with value: 0.7027027027027027 and parameters: {'rf_n_estimators': 37, 'rf_max_depth': 20}. Best is trial 4 with value: 0.7027027027027027.\u001b[0m\n",
      "\u001b[32m[I 2022-08-08 18:53:01,922]\u001b[0m Trial 90 finished with value: 0.7297297297297297 and parameters: {'rf_n_estimators': 41, 'rf_max_depth': 21}. Best is trial 90 with value: 0.7297297297297297.\u001b[0m\n",
      "\u001b[32m[I 2022-08-08 18:53:01,982]\u001b[0m Trial 91 finished with value: 0.6486486486486487 and parameters: {'rf_n_estimators': 30, 'rf_max_depth': 21}. Best is trial 90 with value: 0.7297297297297297.\u001b[0m\n",
      "\u001b[32m[I 2022-08-08 18:53:02,290]\u001b[0m Trial 92 finished with value: 0.5945945945945946 and parameters: {'rf_n_estimators': 211, 'rf_max_depth': 21}. Best is trial 90 with value: 0.7297297297297297.\u001b[0m\n",
      "\u001b[32m[I 2022-08-08 18:53:02,363]\u001b[0m Trial 93 finished with value: 0.6486486486486487 and parameters: {'rf_n_estimators': 41, 'rf_max_depth': 20}. Best is trial 90 with value: 0.7297297297297297.\u001b[0m\n",
      "\u001b[32m[I 2022-08-08 18:53:02,410]\u001b[0m Trial 94 finished with value: 0.5945945945945946 and parameters: {'rf_n_estimators': 23, 'rf_max_depth': 23}. Best is trial 90 with value: 0.7297297297297297.\u001b[0m\n",
      "\u001b[32m[I 2022-08-08 18:53:02,536]\u001b[0m Trial 95 finished with value: 0.6486486486486487 and parameters: {'rf_n_estimators': 80, 'rf_max_depth': 19}. Best is trial 90 with value: 0.7297297297297297.\u001b[0m\n",
      "\u001b[32m[I 2022-08-08 18:53:02,634]\u001b[0m Trial 96 finished with value: 0.6486486486486487 and parameters: {'rf_n_estimators': 59, 'rf_max_depth': 20}. Best is trial 90 with value: 0.7297297297297297.\u001b[0m\n",
      "\u001b[32m[I 2022-08-08 18:53:02,909]\u001b[0m Trial 97 finished with value: 0.6486486486486487 and parameters: {'rf_n_estimators': 167, 'rf_max_depth': 23}. Best is trial 90 with value: 0.7297297297297297.\u001b[0m\n",
      "\u001b[32m[I 2022-08-08 18:53:03,279]\u001b[0m Trial 98 finished with value: 0.6216216216216216 and parameters: {'rf_n_estimators': 239, 'rf_max_depth': 25}. Best is trial 90 with value: 0.7297297297297297.\u001b[0m\n",
      "\u001b[32m[I 2022-08-08 18:53:03,325]\u001b[0m Trial 99 finished with value: 0.5945945945945946 and parameters: {'rf_n_estimators': 19, 'rf_max_depth': 19}. Best is trial 90 with value: 0.7297297297297297.\u001b[0m\n"
     ]
    }
   ],
   "source": [
    "def objective(trial): \n",
    "    classifier_name = 'RandomForest'\n",
    "    rf_n_estimators = trial.suggest_int('rf_n_estimators', 10, 500)\n",
    "    rf_max_depth = trial.suggest_int('rf_max_depth', 1, 25)\n",
    "    model = RandomForestClassifier(max_depth=rf_max_depth, n_estimators= rf_n_estimators)\n",
    "    model.fit(X_train, y_train)\n",
    "    score = recall_score(y_val, model.predict(X_val))\n",
    "    return score\n",
    "\n",
    "study = optuna.create_study(direction='maximize')\n",
    "study.optimize(objective, n_trials=100);"
   ]
  },
  {
   "cell_type": "code",
   "execution_count": 72,
   "id": "color-bhutan",
   "metadata": {},
   "outputs": [
    {
     "data": {
      "text/plain": [
       "FrozenTrial(number=90, values=[0.7297297297297297], datetime_start=datetime.datetime(2022, 8, 8, 18, 53, 1, 843364), datetime_complete=datetime.datetime(2022, 8, 8, 18, 53, 1, 922281), params={'rf_n_estimators': 41, 'rf_max_depth': 21}, distributions={'rf_n_estimators': IntUniformDistribution(high=500, low=10, step=1), 'rf_max_depth': IntUniformDistribution(high=25, low=1, step=1)}, user_attrs={}, system_attrs={}, intermediate_values={}, trial_id=90, state=TrialState.COMPLETE, value=None)"
      ]
     },
     "execution_count": 72,
     "metadata": {},
     "output_type": "execute_result"
    }
   ],
   "source": [
    "study.best_trial"
   ]
  },
  {
   "cell_type": "code",
   "execution_count": 73,
   "id": "progressive-verification",
   "metadata": {},
   "outputs": [
    {
     "name": "stdout",
     "output_type": "stream",
     "text": [
      "{'rf_n_estimators': 41, 'rf_max_depth': 21}\n"
     ]
    }
   ],
   "source": [
    "print(study.best_params)"
   ]
  },
  {
   "cell_type": "markdown",
   "id": "united-internet",
   "metadata": {},
   "source": [
    "### training"
   ]
  },
  {
   "cell_type": "code",
   "execution_count": 74,
   "id": "social-petersburg",
   "metadata": {},
   "outputs": [
    {
     "data": {
      "text/plain": [
       "RandomForestClassifier(max_depth=21, n_estimators=41, random_state=7)"
      ]
     },
     "execution_count": 74,
     "metadata": {},
     "output_type": "execute_result"
    }
   ],
   "source": [
    "m5_rf= RandomForestClassifier(max_depth=study.best_params['rf_max_depth'], n_estimators=study.best_params['rf_n_estimators'], random_state=7)\n",
    "m5_rf.fit(X_train, y_train)"
   ]
  },
  {
   "cell_type": "markdown",
   "id": "inside-newsletter",
   "metadata": {},
   "source": [
    "\n",
    "### evaluation"
   ]
  },
  {
   "cell_type": "code",
   "execution_count": 75,
   "id": "least-reality",
   "metadata": {},
   "outputs": [],
   "source": [
    "y_pred_m5 = m5_rf.predict(X_val)"
   ]
  },
  {
   "cell_type": "markdown",
   "id": "boolean-alexandria",
   "metadata": {},
   "source": [
    "#### accuracy"
   ]
  },
  {
   "cell_type": "code",
   "execution_count": 76,
   "id": "vital-lucas",
   "metadata": {},
   "outputs": [
    {
     "name": "stdout",
     "output_type": "stream",
     "text": [
      "Accuracy of the Random Forest model is 95.6%\n"
     ]
    }
   ],
   "source": [
    "print(f\"Accuracy of the Random Forest model is {round(m5_rf.score(X_val, y_val), 4)*100}%\")"
   ]
  },
  {
   "cell_type": "markdown",
   "id": "numerous-dancing",
   "metadata": {},
   "source": [
    "#### classification report"
   ]
  },
  {
   "cell_type": "code",
   "execution_count": 77,
   "id": "detailed-walnut",
   "metadata": {},
   "outputs": [
    {
     "name": "stdout",
     "output_type": "stream",
     "text": [
      "              precision    recall  f1-score   support\n",
      "\n",
      "         0.0       0.95      1.00      0.98       236\n",
      "         1.0       1.00      0.68      0.81        37\n",
      "\n",
      "    accuracy                           0.96       273\n",
      "   macro avg       0.98      0.84      0.89       273\n",
      "weighted avg       0.96      0.96      0.95       273\n",
      "\n"
     ]
    }
   ],
   "source": [
    "print(classification_report(y_val, y_pred_m5))"
   ]
  },
  {
   "cell_type": "markdown",
   "id": "returning-custom",
   "metadata": {},
   "source": [
    "#### confusion matrix "
   ]
  },
  {
   "cell_type": "code",
   "execution_count": 78,
   "id": "eligible-module",
   "metadata": {},
   "outputs": [
    {
     "data": {
      "text/plain": [
       "<AxesSubplot:>"
      ]
     },
     "execution_count": 78,
     "metadata": {},
     "output_type": "execute_result"
    },
    {
     "data": {
      "image/png": "[encoded data removed]",
      "text/plain": [
       "<Figure size 432x288 with 2 Axes>"
      ]
     },
     "metadata": {
      "needs_background": "light"
     },
     "output_type": "display_data"
    }
   ],
   "source": [
    "cm_m5 = confusion_matrix(y_val, y_pred_m5, normalize='true')\n",
    "sns.heatmap(cm_m5, annot=True, fmt='.0%', cmap='Greens')"
   ]
  },
  {
   "cell_type": "code",
   "execution_count": 79,
   "id": "abstract-inventory",
   "metadata": {},
   "outputs": [
    {
     "data": {
      "text/plain": [
       "<AxesSubplot:title={'center':'Top 10 Features'}>"
      ]
     },
     "execution_count": 79,
     "metadata": {},
     "output_type": "execute_result"
    },
    {
     "data": {
      "image/png": "[encoded data removed]",
      "text/plain": [
       "<Figure size 432x288 with 1 Axes>"
      ]
     },
     "metadata": {
      "needs_background": "light"
     },
     "output_type": "display_data"
    }
   ],
   "source": [
    "fi_df= pd.Series(m5_rf.feature_importances_, index=X.columns)\n",
    "fi_df.sort_values(ascending=False, inplace=True)\n",
    "fi_df.head(10).plot(kind='barh', title='Top 10 Features')"
   ]
  },
  {
   "cell_type": "code",
   "execution_count": 80,
   "id": "deadly-messenger",
   "metadata": {},
   "outputs": [],
   "source": [
    "overall_accuracy.append(accuracy_score(y_val, y_pred_m5))\n",
    "late_return_accuracy.append(recall_score(y_val, y_pred_m5))\n",
    "auc_score.append(roc_auc_score(y_val, y_pred_m5))"
   ]
  },
  {
   "cell_type": "code",
   "execution_count": null,
   "id": "technological-yield",
   "metadata": {},
   "outputs": [],
   "source": []
  },
  {
   "cell_type": "markdown",
   "id": "dominant-saudi",
   "metadata": {},
   "source": [
    "## MODEL COMPARISON"
   ]
  },
  {
   "cell_type": "code",
   "execution_count": 81,
   "id": "enclosed-interval",
   "metadata": {},
   "outputs": [],
   "source": [
    "model_eval_df = pd.DataFrame.from_dict(data=models,orient='index', columns=['model_name']).reset_index().rename(columns={'index':'model_id'})\n",
    "model_eval_df['overall_accuracy'] = overall_accuracy\n",
    "model_eval_df['late_return_accuracy'] = late_return_accuracy\n",
    "model_eval_df['auc_score'] = auc_score"
   ]
  },
  {
   "cell_type": "code",
   "execution_count": 82,
   "id": "downtown-persian",
   "metadata": {},
   "outputs": [
    {
     "data": {
      "text/html": [
       "<div>\n",
       "<style scoped>\n",
       "    .dataframe tbody tr th:only-of-type {\n",
       "        vertical-align: middle;\n",
       "    }\n",
       "\n",
       "    .dataframe tbody tr th {\n",
       "        vertical-align: top;\n",
       "    }\n",
       "\n",
       "    .dataframe thead th {\n",
       "        text-align: right;\n",
       "    }\n",
       "</style>\n",
       "<table border=\"1\" class=\"dataframe\">\n",
       "  <thead>\n",
       "    <tr style=\"text-align: right;\">\n",
       "      <th></th>\n",
       "      <th>model_id</th>\n",
       "      <th>model_name</th>\n",
       "      <th>overall_accuracy</th>\n",
       "      <th>late_return_accuracy</th>\n",
       "      <th>auc_score</th>\n",
       "    </tr>\n",
       "  </thead>\n",
       "  <tbody>\n",
       "    <tr>\n",
       "      <th>0</th>\n",
       "      <td>m0</td>\n",
       "      <td>majority_class_predictor</td>\n",
       "      <td>0.864469</td>\n",
       "      <td>0.000000</td>\n",
       "      <td>0.500000</td>\n",
       "    </tr>\n",
       "    <tr>\n",
       "      <th>1</th>\n",
       "      <td>m1</td>\n",
       "      <td>logit_reg</td>\n",
       "      <td>0.897436</td>\n",
       "      <td>0.351351</td>\n",
       "      <td>0.667201</td>\n",
       "    </tr>\n",
       "    <tr>\n",
       "      <th>2</th>\n",
       "      <td>m2</td>\n",
       "      <td>random_forest</td>\n",
       "      <td>0.956044</td>\n",
       "      <td>0.702703</td>\n",
       "      <td>0.849233</td>\n",
       "    </tr>\n",
       "    <tr>\n",
       "      <th>3</th>\n",
       "      <td>m3</td>\n",
       "      <td>naive_bayes</td>\n",
       "      <td>0.886447</td>\n",
       "      <td>0.162162</td>\n",
       "      <td>0.581081</td>\n",
       "    </tr>\n",
       "    <tr>\n",
       "      <th>4</th>\n",
       "      <td>m4</td>\n",
       "      <td>lgb_gbdt</td>\n",
       "      <td>0.952381</td>\n",
       "      <td>0.756757</td>\n",
       "      <td>0.869904</td>\n",
       "    </tr>\n",
       "    <tr>\n",
       "      <th>5</th>\n",
       "      <td>m5</td>\n",
       "      <td>rf_w_optuna</td>\n",
       "      <td>0.956044</td>\n",
       "      <td>0.675676</td>\n",
       "      <td>0.837838</td>\n",
       "    </tr>\n",
       "  </tbody>\n",
       "</table>\n",
       "</div>"
      ],
      "text/plain": [
       "  model_id                model_name  overall_accuracy  late_return_accuracy  \\\n",
       "0       m0  majority_class_predictor          0.864469              0.000000   \n",
       "1       m1                 logit_reg          0.897436              0.351351   \n",
       "2       m2             random_forest          0.956044              0.702703   \n",
       "3       m3               naive_bayes          0.886447              0.162162   \n",
       "4       m4                  lgb_gbdt          0.952381              0.756757   \n",
       "5       m5               rf_w_optuna          0.956044              0.675676   \n",
       "\n",
       "   auc_score  \n",
       "0   0.500000  \n",
       "1   0.667201  \n",
       "2   0.849233  \n",
       "3   0.581081  \n",
       "4   0.869904  \n",
       "5   0.837838  "
      ]
     },
     "execution_count": 82,
     "metadata": {},
     "output_type": "execute_result"
    }
   ],
   "source": [
    "model_eval_df"
   ]
  },
  {
   "cell_type": "code",
   "execution_count": null,
   "id": "derived-cardiff",
   "metadata": {},
   "outputs": [],
   "source": []
  }
 ],
 "metadata": {
  "kernelspec": {
   "display_name": "Python 3",
   "language": "python",
   "name": "python3"
  },
  "language_info": {
   "codemirror_mode": {
    "name": "ipython",
    "version": 3
   },
   "file_extension": ".py",
   "mimetype": "text/x-python",
   "name": "python",
   "nbconvert_exporter": "python",
   "pygments_lexer": "ipython3",
   "version": "3.7.9"
  },
  "toc": {
   "base_numbering": 1,
   "nav_menu": {
    "height": "34px",
    "width": "160px"
   },
   "number_sections": false,
   "sideBar": true,
   "skip_h1_title": true,
   "title_cell": "Table of Contents",
   "title_sidebar": "Contents",
   "toc_cell": true,
   "toc_position": {},
   "toc_section_display": true,
   "toc_window_display": false
  },
  "varInspector": {
   "cols": {
    "lenName": 16,
    "lenType": 16,
    "lenVar": 40
   },
   "kernels_config": {
    "python": {
     "delete_cmd_postfix": "",
     "delete_cmd_prefix": "del ",
     "library": "var_list.py",
     "varRefreshCmd": "print(var_dic_list())"
    },
    "r": {
     "delete_cmd_postfix": ") ",
     "delete_cmd_prefix": "rm(",
     "library": "var_list.r",
     "varRefreshCmd": "cat(var_dic_list()) "
    }
   },
   "types_to_exclude": [
    "module",
    "function",
    "builtin_function_or_method",
    "instance",
    "_Feature"
   ],
   "window_display": false
  }
 },
 "nbformat": 4,
 "nbformat_minor": 5
}
