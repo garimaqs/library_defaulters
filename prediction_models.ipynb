{
 "cells": [
  {
   "cell_type": "markdown",
   "id": "functioning-columbia",
   "metadata": {},
   "source": [
    "# Prediction Models \n",
    "In this notebook, I undertake feature engineering and data preprocessing, before creating models for prediction of late returns. "
   ]
  },
  {
   "cell_type": "markdown",
   "id": "fitting-forestry",
   "metadata": {
    "toc": true
   },
   "source": [
    "<h1>Table of Contents<span class=\"tocSkip\"></span></h1>\n",
    "<div class=\"toc\"><ul class=\"toc-item\"><li><span><a href=\"#imports\" data-toc-modified-id=\"imports-1\">imports</a></span></li><li><span><a href=\"#loading-data\" data-toc-modified-id=\"loading-data-2\">loading data</a></span><ul class=\"toc-item\"><li><span><a href=\"#renaming-ID-variables,-for-easier-merging\" data-toc-modified-id=\"renaming-ID-variables,-for-easier-merging-2.1\">renaming ID variables, for easier merging</a></span></li></ul></li><li><span><a href=\"#feature-engineering\" data-toc-modified-id=\"feature-engineering-3\">feature engineering</a></span><ul class=\"toc-item\"><li><span><a href=\"#dropping-variables-irrelevant-to-the-problem\" data-toc-modified-id=\"dropping-variables-irrelevant-to-the-problem-3.1\">dropping variables irrelevant to the problem</a></span></li><li><span><a href=\"#merging-into-single-dataframe\" data-toc-modified-id=\"merging-into-single-dataframe-3.2\">merging into single dataframe</a></span></li><li><span><a href=\"#dropping-missing-value\" data-toc-modified-id=\"dropping-missing-value-3.3\">dropping missing value</a></span></li><li><span><a href=\"#additional-feature:--distance-between-library-and-patron-addresses\" data-toc-modified-id=\"additional-feature:--distance-between-library-and-patron-addresses-3.4\">additional feature:  distance between library and patron addresses</a></span></li><li><span><a href=\"#converting-date-columns-to-datetime\" data-toc-modified-id=\"converting-date-columns-to-datetime-3.5\">converting date columns to datetime</a></span></li><li><span><a href=\"#comparing-mean-values-across-late-and-timely-returns\" data-toc-modified-id=\"comparing-mean-values-across-late-and-timely-returns-3.6\">comparing mean values across late and timely returns</a></span></li><li><span><a href=\"#examining-categorical-variables\" data-toc-modified-id=\"examining-categorical-variables-3.7\">examining categorical variables</a></span><ul class=\"toc-item\"><li><span><a href=\"#gender\" data-toc-modified-id=\"gender-3.7.1\">gender</a></span></li><li><span><a href=\"#education\" data-toc-modified-id=\"education-3.7.2\">education</a></span></li><li><span><a href=\"#occupation\" data-toc-modified-id=\"occupation-3.7.3\">occupation</a></span></li><li><span><a href=\"#categories\" data-toc-modified-id=\"categories-3.7.4\">categories</a></span></li></ul></li></ul></li><li><span><a href=\"#data-preparation-for-ML-models\" data-toc-modified-id=\"data-preparation-for-ML-models-4\">data preparation for ML models</a></span><ul class=\"toc-item\"><li><span><a href=\"#one-hot-encoding-categorical-variables\" data-toc-modified-id=\"one-hot-encoding-categorical-variables-4.1\">one-hot encoding categorical variables</a></span></li><li><span><a href=\"#separating-features-and-target\" data-toc-modified-id=\"separating-features-and-target-4.2\">separating features and target</a></span></li><li><span><a href=\"#generating-train-test-split\" data-toc-modified-id=\"generating-train-test-split-4.3\">generating train-test split</a></span></li></ul></li><li><span><a href=\"#MODEL-1:-Logistic-Regression-Model\" data-toc-modified-id=\"MODEL-1:-Logistic-Regression-Model-5\">MODEL 1: Logistic Regression Model</a></span><ul class=\"toc-item\"><li><span><a href=\"#training\" data-toc-modified-id=\"training-5.1\">training</a></span></li><li><span><a href=\"#evaluation\" data-toc-modified-id=\"evaluation-5.2\">evaluation</a></span><ul class=\"toc-item\"><li><span><a href=\"#accuracy\" data-toc-modified-id=\"accuracy-5.2.1\">accuracy</a></span></li><li><span><a href=\"#classification-report\" data-toc-modified-id=\"classification-report-5.2.2\">classification report</a></span></li><li><span><a href=\"#confusion-matrix\" data-toc-modified-id=\"confusion-matrix-5.2.3\">confusion matrix</a></span></li></ul></li></ul></li><li><span><a href=\"#MODEL-2:-Random-Forest\" data-toc-modified-id=\"MODEL-2:-Random-Forest-6\">MODEL 2: Random Forest</a></span><ul class=\"toc-item\"><li><span><a href=\"#training\" data-toc-modified-id=\"training-6.1\">training</a></span></li><li><span><a href=\"#evaluation\" data-toc-modified-id=\"evaluation-6.2\">evaluation</a></span><ul class=\"toc-item\"><li><span><a href=\"#accuracy\" data-toc-modified-id=\"accuracy-6.2.1\">accuracy</a></span></li><li><span><a href=\"#classification-report\" data-toc-modified-id=\"classification-report-6.2.2\">classification report</a></span></li><li><span><a href=\"#confusion-matrix\" data-toc-modified-id=\"confusion-matrix-6.2.3\">confusion matrix</a></span></li></ul></li></ul></li></ul></div>"
   ]
  },
  {
   "cell_type": "markdown",
   "id": "allied-corpus",
   "metadata": {},
   "source": [
    "## imports "
   ]
  },
  {
   "cell_type": "code",
   "execution_count": 1,
   "id": "grand-young",
   "metadata": {},
   "outputs": [
    {
     "data": {
      "text/html": [
       "<style>.container { width:100% !important; }</style>"
      ],
      "text/plain": [
       "<IPython.core.display.HTML object>"
      ]
     },
     "metadata": {},
     "output_type": "display_data"
    }
   ],
   "source": [
    "import os, sys, glob # for loading, saving and manipulating files on disk\n",
    "from pathlib import Path # Path allows us to list directory paths in a manner that's not affected by the OS the notebook is being run on \n",
    "\n",
    "import pandas as pd # to work with csv files as dataframes \n",
    "import numpy as np # for mathematical and scientific computations \n",
    "\n",
    "import matplotlib.pyplot as plt # for plots \n",
    "import seaborn as sns # also for plotting, it's a wrapper for several matplotlib functions, making them more accessible \n",
    "\n",
    "from haversine import haversine, Unit # for computing distances between geocodes\n",
    "\n",
    "from IPython.core.display import display, HTML # to change width of notebooks\n",
    "display(HTML(\"<style>.container { width:100% !important; }</style>\"))"
   ]
  },
  {
   "cell_type": "markdown",
   "id": "incredible-allowance",
   "metadata": {},
   "source": [
    "## loading data"
   ]
  },
  {
   "cell_type": "code",
   "execution_count": 2,
   "id": "better-calibration",
   "metadata": {},
   "outputs": [],
   "source": [
    "raw_data_dir = Path.home()/'projects'/'billups_data_challenge'/'Data Challenge' # specifies the directory with data files\n",
    "cleaned_data_dir = raw_data_dir.parent/'cleaned_data' # directory for storing intermediate outputs such as cleaned data"
   ]
  },
  {
   "cell_type": "code",
   "execution_count": 3,
   "id": "unauthorized-concern",
   "metadata": {},
   "outputs": [],
   "source": [
    "lib_df = pd.read_csv(cleaned_data_dir/'libraries_cleaned_geocoded.csv')\n",
    "books_checkouts_df = pd.read_csv(cleaned_data_dir/'books_checkouts_merged.csv')\n",
    "customers_df = pd.read_csv(cleaned_data_dir/'customers_cleaned_geocoded.csv')"
   ]
  },
  {
   "cell_type": "markdown",
   "id": "steady-discretion",
   "metadata": {},
   "source": [
    "### renaming ID variables, for easier merging"
   ]
  },
  {
   "cell_type": "code",
   "execution_count": 4,
   "id": "split-westminster",
   "metadata": {},
   "outputs": [],
   "source": [
    "lib_df.rename(columns={'id':'library_id', 'lat':'library_lat', 'long':'library_long', 'name':'library_name'}, inplace=True)\n",
    "books_checkouts_df.rename(columns={'id':'book_id'}, inplace=True)\n",
    "customers_df.rename(columns={'id':'patron_id', 'name':'patron_name', 'lat':'patron_lat', 'long':'patron_long'}, inplace=True)"
   ]
  },
  {
   "cell_type": "markdown",
   "id": "determined-gregory",
   "metadata": {},
   "source": [
    "## feature engineering"
   ]
  },
  {
   "cell_type": "markdown",
   "id": "dangerous-ethernet",
   "metadata": {},
   "source": [
    "### dropping variables irrelevant to the problem"
   ]
  },
  {
   "cell_type": "markdown",
   "id": "stock-vietnam",
   "metadata": {},
   "source": [
    "Certain variables do not contain information that would be useful for predicting late returns, or that information is already contained in other variables. Here I provide a brief description of such variables: \n",
    "- **library name**: the name of the library doesn't matter, it's already identified by the library ID. And it's location is geocoded \n",
    "- **customer name**: this variable has high cardinality, and I expect there to be no relation between names and later returns \n",
    "- **library address** & **customer address**: both of these are geocoded, so we can work with lat-long directly and don't need full addresses \n",
    "- **publisher**&**published date**: my prior is that publisher name doesn't affect late returns except through pages, prices, and categories, both of which are present as independent variables\n",
    "- **author names** & **title**: again, my prior is that the variables through which authors may affect the late return, already exist in the data \n",
    "- **duration_borrowed_days**: this is not an irrelevant variable. This variable was generated using \"date_returned\" and therefore contains information that won't be available to the library when a book is being checked out, so using this variable would result in _data leakage_ in our model. "
   ]
  },
  {
   "cell_type": "code",
   "execution_count": 5,
   "id": "appropriate-kitchen",
   "metadata": {},
   "outputs": [],
   "source": [
    "lib_df = lib_df[['library_id', 'library_lat', 'library_long']]\n",
    "books_checkouts_df.drop(columns=['publisher', 'authors', 'title', 'publishedDate', 'date_returned', 'return_year'], inplace=True)\n",
    "customers_df = customers_df[['patron_id', 'patron_lat', 'patron_long', 'birth_date', 'gender', 'education', 'occupation']]"
   ]
  },
  {
   "cell_type": "markdown",
   "id": "diagnostic-wireless",
   "metadata": {},
   "source": [
    "### merging into single dataframe"
   ]
  },
  {
   "cell_type": "code",
   "execution_count": 6,
   "id": "appropriate-tulsa",
   "metadata": {},
   "outputs": [],
   "source": [
    "df = books_checkouts_df.merge(lib_df, on='library_id', how='outer')\n",
    "df = df.merge(customers_df, on='patron_id', how='outer')"
   ]
  },
  {
   "cell_type": "markdown",
   "id": "quiet-cannon",
   "metadata": {},
   "source": [
    "### dropping missing value\n",
    "- during cleaning and EDA, I had imputed missing values wherever I could without influencing the target variable \n",
    "- I drop the remaining missing values"
   ]
  },
  {
   "cell_type": "code",
   "execution_count": 7,
   "id": "surrounded-bargain",
   "metadata": {},
   "outputs": [],
   "source": [
    "df = df.dropna(axis=0, how='any')"
   ]
  },
  {
   "cell_type": "markdown",
   "id": "distant-reasoning",
   "metadata": {},
   "source": [
    "### additional feature:  distance between library and patron addresses \n",
    " I want to create this feature, as I believe that the further the library is from patron homes, the more likely they might be to return late. "
   ]
  },
  {
   "cell_type": "code",
   "execution_count": 8,
   "id": "authorized-vintage",
   "metadata": {},
   "outputs": [],
   "source": [
    "df['library_loc'] = list(zip(df['library_lat'], df['library_long']))\n",
    "df['patron_loc'] = list(zip(df['patron_lat'], df['patron_long']))"
   ]
  },
  {
   "cell_type": "code",
   "execution_count": 9,
   "id": "together-tobacco",
   "metadata": {},
   "outputs": [],
   "source": [
    "df['distance_lib_patron_km'] = df.apply(lambda x: haversine(x['library_loc'], x['patron_loc'], unit=Unit.METERS), axis=1)/1000"
   ]
  },
  {
   "cell_type": "markdown",
   "id": "editorial-cookbook",
   "metadata": {},
   "source": [
    "### converting date columns to datetime "
   ]
  },
  {
   "cell_type": "code",
   "execution_count": 10,
   "id": "public-application",
   "metadata": {},
   "outputs": [],
   "source": [
    "df[['date_checkout','date_due', 'birth_date']] = df[['date_checkout', 'date_due', 'birth_date']].apply(\n",
    "lambda x: pd.to_datetime(x))"
   ]
  },
  {
   "cell_type": "markdown",
   "id": "ready-stroke",
   "metadata": {},
   "source": [
    "### comparing mean values across late and timely returns"
   ]
  },
  {
   "cell_type": "code",
   "execution_count": 11,
   "id": "light-incident",
   "metadata": {},
   "outputs": [
    {
     "data": {
      "text/html": [
       "<div>\n",
       "<style scoped>\n",
       "    .dataframe tbody tr th:only-of-type {\n",
       "        vertical-align: middle;\n",
       "    }\n",
       "\n",
       "    .dataframe tbody tr th {\n",
       "        vertical-align: top;\n",
       "    }\n",
       "\n",
       "    .dataframe thead th {\n",
       "        text-align: right;\n",
       "    }\n",
       "</style>\n",
       "<table border=\"1\" class=\"dataframe\">\n",
       "  <thead>\n",
       "    <tr style=\"text-align: right;\">\n",
       "      <th></th>\n",
       "      <th>price</th>\n",
       "      <th>pages</th>\n",
       "      <th>checkout_year</th>\n",
       "      <th>duration_borrowed_days</th>\n",
       "      <th>due_date_is_holiday</th>\n",
       "      <th>closest_holiday_distance</th>\n",
       "      <th>library_lat</th>\n",
       "      <th>library_long</th>\n",
       "      <th>patron_lat</th>\n",
       "      <th>patron_long</th>\n",
       "      <th>distance_lib_patron_km</th>\n",
       "    </tr>\n",
       "    <tr>\n",
       "      <th>late_return_indicator</th>\n",
       "      <th></th>\n",
       "      <th></th>\n",
       "      <th></th>\n",
       "      <th></th>\n",
       "      <th></th>\n",
       "      <th></th>\n",
       "      <th></th>\n",
       "      <th></th>\n",
       "      <th></th>\n",
       "      <th></th>\n",
       "      <th></th>\n",
       "    </tr>\n",
       "  </thead>\n",
       "  <tbody>\n",
       "    <tr>\n",
       "      <th>0.0</th>\n",
       "      <td>293.267596</td>\n",
       "      <td>570.069056</td>\n",
       "      <td>2018.000000</td>\n",
       "      <td>16.068182</td>\n",
       "      <td>0.023601</td>\n",
       "      <td>13.308566</td>\n",
       "      <td>45.528661</td>\n",
       "      <td>-122.657048</td>\n",
       "      <td>45.536463</td>\n",
       "      <td>-122.654640</td>\n",
       "      <td>4.577098</td>\n",
       "    </tr>\n",
       "    <tr>\n",
       "      <th>1.0</th>\n",
       "      <td>338.028827</td>\n",
       "      <td>644.245810</td>\n",
       "      <td>1945.547486</td>\n",
       "      <td>26537.899441</td>\n",
       "      <td>0.044693</td>\n",
       "      <td>26391.726257</td>\n",
       "      <td>45.532124</td>\n",
       "      <td>-122.661357</td>\n",
       "      <td>45.528654</td>\n",
       "      <td>-122.654428</td>\n",
       "      <td>7.178853</td>\n",
       "    </tr>\n",
       "  </tbody>\n",
       "</table>\n",
       "</div>"
      ],
      "text/plain": [
       "                            price       pages  checkout_year  \\\n",
       "late_return_indicator                                          \n",
       "0.0                    293.267596  570.069056    2018.000000   \n",
       "1.0                    338.028827  644.245810    1945.547486   \n",
       "\n",
       "                       duration_borrowed_days  due_date_is_holiday  \\\n",
       "late_return_indicator                                                \n",
       "0.0                                 16.068182             0.023601   \n",
       "1.0                              26537.899441             0.044693   \n",
       "\n",
       "                       closest_holiday_distance  library_lat  library_long  \\\n",
       "late_return_indicator                                                        \n",
       "0.0                                   13.308566    45.528661   -122.657048   \n",
       "1.0                                26391.726257    45.532124   -122.661357   \n",
       "\n",
       "                       patron_lat  patron_long  distance_lib_patron_km  \n",
       "late_return_indicator                                                   \n",
       "0.0                     45.536463  -122.654640                4.577098  \n",
       "1.0                     45.528654  -122.654428                7.178853  "
      ]
     },
     "execution_count": 11,
     "metadata": {},
     "output_type": "execute_result"
    }
   ],
   "source": [
    "df.groupby('late_return_indicator').mean()"
   ]
  },
  {
   "cell_type": "markdown",
   "id": "large-stationery",
   "metadata": {},
   "source": [
    "- books with late returns are longer and costlier\n",
    "- patrons associated with late returns on average live 3km further from the library \n",
    "- this table indicates that price, pages and distance are important features for predicting late returns"
   ]
  },
  {
   "cell_type": "markdown",
   "id": "global-chicago",
   "metadata": {},
   "source": [
    "### examining categorical variables"
   ]
  },
  {
   "cell_type": "code",
   "execution_count": 12,
   "id": "gothic-antibody",
   "metadata": {},
   "outputs": [
    {
     "data": {
      "text/plain": [
       "book_id         199\n",
       "categories       86\n",
       "patron_id      1054\n",
       "library_id       18\n",
       "gender            8\n",
       "education        31\n",
       "occupation       56\n",
       "library_loc      18\n",
       "patron_loc     1005\n",
       "dtype: int64"
      ]
     },
     "execution_count": 12,
     "metadata": {},
     "output_type": "execute_result"
    }
   ],
   "source": [
    "df.select_dtypes(include='object').nunique()"
   ]
  },
  {
   "cell_type": "markdown",
   "id": "coordinated-buying",
   "metadata": {},
   "source": [
    "- there are 7 categorical variables \n",
    "- of these 7 variable, 3 are IDs, leaving us with 4 categorical variables: gender, education, occupation, categories\n",
    "-  the cardinality of each of the 4 categorical columns seems high, so we reduce that "
   ]
  },
  {
   "cell_type": "markdown",
   "id": "ordered-season",
   "metadata": {},
   "source": [
    "#### gender"
   ]
  },
  {
   "cell_type": "code",
   "execution_count": 13,
   "id": "approved-offset",
   "metadata": {},
   "outputs": [
    {
     "data": {
      "text/plain": [
       "array(['male', 'female', ' male', ' female', 'MALE', 'FEMALE', 'male ',\n",
       "       'female '], dtype=object)"
      ]
     },
     "execution_count": 13,
     "metadata": {},
     "output_type": "execute_result"
    }
   ],
   "source": [
    "df['gender'].unique()"
   ]
  },
  {
   "cell_type": "code",
   "execution_count": 14,
   "id": "protected-content",
   "metadata": {},
   "outputs": [],
   "source": [
    "df['gender'] = df['gender'].str.strip().str.upper()"
   ]
  },
  {
   "cell_type": "code",
   "execution_count": 15,
   "id": "figured-cemetery",
   "metadata": {},
   "outputs": [
    {
     "data": {
      "text/html": [
       "<div>\n",
       "<style scoped>\n",
       "    .dataframe tbody tr th:only-of-type {\n",
       "        vertical-align: middle;\n",
       "    }\n",
       "\n",
       "    .dataframe tbody tr th {\n",
       "        vertical-align: top;\n",
       "    }\n",
       "\n",
       "    .dataframe thead th {\n",
       "        text-align: right;\n",
       "    }\n",
       "</style>\n",
       "<table border=\"1\" class=\"dataframe\">\n",
       "  <thead>\n",
       "    <tr style=\"text-align: right;\">\n",
       "      <th></th>\n",
       "      <th>price</th>\n",
       "      <th>pages</th>\n",
       "      <th>checkout_year</th>\n",
       "      <th>duration_borrowed_days</th>\n",
       "      <th>late_return_indicator</th>\n",
       "      <th>due_date_is_holiday</th>\n",
       "      <th>closest_holiday_distance</th>\n",
       "      <th>library_lat</th>\n",
       "      <th>library_long</th>\n",
       "      <th>patron_lat</th>\n",
       "      <th>patron_long</th>\n",
       "      <th>distance_lib_patron_km</th>\n",
       "    </tr>\n",
       "    <tr>\n",
       "      <th>gender</th>\n",
       "      <th></th>\n",
       "      <th></th>\n",
       "      <th></th>\n",
       "      <th></th>\n",
       "      <th></th>\n",
       "      <th></th>\n",
       "      <th></th>\n",
       "      <th></th>\n",
       "      <th></th>\n",
       "      <th></th>\n",
       "      <th></th>\n",
       "      <th></th>\n",
       "    </tr>\n",
       "  </thead>\n",
       "  <tbody>\n",
       "    <tr>\n",
       "      <th>FEMALE</th>\n",
       "      <td>301.077023</td>\n",
       "      <td>573.468208</td>\n",
       "      <td>2010.690751</td>\n",
       "      <td>2692.099711</td>\n",
       "      <td>0.098266</td>\n",
       "      <td>0.023121</td>\n",
       "      <td>2673.776012</td>\n",
       "      <td>45.531178</td>\n",
       "      <td>-122.658292</td>\n",
       "      <td>45.539109</td>\n",
       "      <td>-122.654325</td>\n",
       "      <td>4.887249</td>\n",
       "    </tr>\n",
       "    <tr>\n",
       "      <th>MALE</th>\n",
       "      <td>297.400935</td>\n",
       "      <td>587.383518</td>\n",
       "      <td>2005.462758</td>\n",
       "      <td>4604.965135</td>\n",
       "      <td>0.175911</td>\n",
       "      <td>0.030111</td>\n",
       "      <td>4578.591125</td>\n",
       "      <td>45.526883</td>\n",
       "      <td>-122.656906</td>\n",
       "      <td>45.531346</td>\n",
       "      <td>-122.654925</td>\n",
       "      <td>4.975021</td>\n",
       "    </tr>\n",
       "  </tbody>\n",
       "</table>\n",
       "</div>"
      ],
      "text/plain": [
       "             price       pages  checkout_year  duration_borrowed_days  \\\n",
       "gender                                                                  \n",
       "FEMALE  301.077023  573.468208    2010.690751             2692.099711   \n",
       "MALE    297.400935  587.383518    2005.462758             4604.965135   \n",
       "\n",
       "        late_return_indicator  due_date_is_holiday  closest_holiday_distance  \\\n",
       "gender                                                                         \n",
       "FEMALE               0.098266             0.023121               2673.776012   \n",
       "MALE                 0.175911             0.030111               4578.591125   \n",
       "\n",
       "        library_lat  library_long  patron_lat  patron_long  \\\n",
       "gender                                                       \n",
       "FEMALE    45.531178   -122.658292   45.539109  -122.654325   \n",
       "MALE      45.526883   -122.656906   45.531346  -122.654925   \n",
       "\n",
       "        distance_lib_patron_km  \n",
       "gender                          \n",
       "FEMALE                4.887249  \n",
       "MALE                  4.975021  "
      ]
     },
     "execution_count": 15,
     "metadata": {},
     "output_type": "execute_result"
    }
   ],
   "source": [
    "df.groupby('gender').mean()"
   ]
  },
  {
   "cell_type": "markdown",
   "id": "married-pizza",
   "metadata": {},
   "source": [
    "- Males are 8pp more likely to return books late"
   ]
  },
  {
   "cell_type": "markdown",
   "id": "herbal-tennessee",
   "metadata": {},
   "source": [
    "#### education"
   ]
  },
  {
   "cell_type": "code",
   "execution_count": 16,
   "id": "opposite-completion",
   "metadata": {},
   "outputs": [],
   "source": [
    "df['education'].fillna('edu_na', inplace=True)"
   ]
  },
  {
   "cell_type": "code",
   "execution_count": 17,
   "id": "romance-clothing",
   "metadata": {},
   "outputs": [],
   "source": [
    "df['education']= df['education'].str.strip().str.lower().apply(lambda x: ' '.join(x.split()))\n",
    "df['education'] = df['education'].str.replace('other', 'edu_others')"
   ]
  },
  {
   "cell_type": "code",
   "execution_count": 18,
   "id": "european-victorian",
   "metadata": {},
   "outputs": [
    {
     "data": {
      "text/plain": [
       "array(['college', 'graduate degree', 'high school', 'edu_otherss'],\n",
       "      dtype=object)"
      ]
     },
     "execution_count": 18,
     "metadata": {},
     "output_type": "execute_result"
    }
   ],
   "source": [
    "df['education'].unique()"
   ]
  },
  {
   "cell_type": "code",
   "execution_count": 19,
   "id": "honey-dylan",
   "metadata": {},
   "outputs": [
    {
     "data": {
      "text/html": [
       "<div>\n",
       "<style scoped>\n",
       "    .dataframe tbody tr th:only-of-type {\n",
       "        vertical-align: middle;\n",
       "    }\n",
       "\n",
       "    .dataframe tbody tr th {\n",
       "        vertical-align: top;\n",
       "    }\n",
       "\n",
       "    .dataframe thead th {\n",
       "        text-align: right;\n",
       "    }\n",
       "</style>\n",
       "<table border=\"1\" class=\"dataframe\">\n",
       "  <thead>\n",
       "    <tr style=\"text-align: right;\">\n",
       "      <th></th>\n",
       "      <th>price</th>\n",
       "      <th>pages</th>\n",
       "      <th>checkout_year</th>\n",
       "      <th>duration_borrowed_days</th>\n",
       "      <th>late_return_indicator</th>\n",
       "      <th>due_date_is_holiday</th>\n",
       "      <th>closest_holiday_distance</th>\n",
       "      <th>library_lat</th>\n",
       "      <th>library_long</th>\n",
       "      <th>patron_lat</th>\n",
       "      <th>patron_long</th>\n",
       "      <th>distance_lib_patron_km</th>\n",
       "    </tr>\n",
       "    <tr>\n",
       "      <th>education</th>\n",
       "      <th></th>\n",
       "      <th></th>\n",
       "      <th></th>\n",
       "      <th></th>\n",
       "      <th></th>\n",
       "      <th></th>\n",
       "      <th></th>\n",
       "      <th></th>\n",
       "      <th></th>\n",
       "      <th></th>\n",
       "      <th></th>\n",
       "      <th></th>\n",
       "    </tr>\n",
       "  </thead>\n",
       "  <tbody>\n",
       "    <tr>\n",
       "      <th>college</th>\n",
       "      <td>321.335367</td>\n",
       "      <td>598.463343</td>\n",
       "      <td>2008.803519</td>\n",
       "      <td>3379.445748</td>\n",
       "      <td>0.120235</td>\n",
       "      <td>0.046921</td>\n",
       "      <td>3360.307918</td>\n",
       "      <td>45.534497</td>\n",
       "      <td>-122.666923</td>\n",
       "      <td>45.541762</td>\n",
       "      <td>-122.661152</td>\n",
       "      <td>4.735814</td>\n",
       "    </tr>\n",
       "    <tr>\n",
       "      <th>edu_otherss</th>\n",
       "      <td>305.159151</td>\n",
       "      <td>579.572327</td>\n",
       "      <td>2006.106918</td>\n",
       "      <td>4366.069182</td>\n",
       "      <td>0.122642</td>\n",
       "      <td>0.028302</td>\n",
       "      <td>4342.342767</td>\n",
       "      <td>45.522567</td>\n",
       "      <td>-122.646747</td>\n",
       "      <td>45.531522</td>\n",
       "      <td>-122.648255</td>\n",
       "      <td>5.027692</td>\n",
       "    </tr>\n",
       "    <tr>\n",
       "      <th>graduate degree</th>\n",
       "      <td>286.089122</td>\n",
       "      <td>555.898649</td>\n",
       "      <td>2007.378378</td>\n",
       "      <td>3903.814189</td>\n",
       "      <td>0.121622</td>\n",
       "      <td>0.010135</td>\n",
       "      <td>3882.486486</td>\n",
       "      <td>45.527446</td>\n",
       "      <td>-122.657903</td>\n",
       "      <td>45.530473</td>\n",
       "      <td>-122.657937</td>\n",
       "      <td>4.839780</td>\n",
       "    </tr>\n",
       "    <tr>\n",
       "      <th>high school</th>\n",
       "      <td>284.529728</td>\n",
       "      <td>583.024457</td>\n",
       "      <td>2010.100543</td>\n",
       "      <td>2913.956522</td>\n",
       "      <td>0.171196</td>\n",
       "      <td>0.019022</td>\n",
       "      <td>2889.668478</td>\n",
       "      <td>45.531182</td>\n",
       "      <td>-122.658209</td>\n",
       "      <td>45.536841</td>\n",
       "      <td>-122.651367</td>\n",
       "      <td>5.094895</td>\n",
       "    </tr>\n",
       "  </tbody>\n",
       "</table>\n",
       "</div>"
      ],
      "text/plain": [
       "                      price       pages  checkout_year  \\\n",
       "education                                                \n",
       "college          321.335367  598.463343    2008.803519   \n",
       "edu_otherss      305.159151  579.572327    2006.106918   \n",
       "graduate degree  286.089122  555.898649    2007.378378   \n",
       "high school      284.529728  583.024457    2010.100543   \n",
       "\n",
       "                 duration_borrowed_days  late_return_indicator  \\\n",
       "education                                                        \n",
       "college                     3379.445748               0.120235   \n",
       "edu_otherss                 4366.069182               0.122642   \n",
       "graduate degree             3903.814189               0.121622   \n",
       "high school                 2913.956522               0.171196   \n",
       "\n",
       "                 due_date_is_holiday  closest_holiday_distance  library_lat  \\\n",
       "education                                                                     \n",
       "college                     0.046921               3360.307918    45.534497   \n",
       "edu_otherss                 0.028302               4342.342767    45.522567   \n",
       "graduate degree             0.010135               3882.486486    45.527446   \n",
       "high school                 0.019022               2889.668478    45.531182   \n",
       "\n",
       "                 library_long  patron_lat  patron_long  distance_lib_patron_km  \n",
       "education                                                                       \n",
       "college           -122.666923   45.541762  -122.661152                4.735814  \n",
       "edu_otherss       -122.646747   45.531522  -122.648255                5.027692  \n",
       "graduate degree   -122.657903   45.530473  -122.657937                4.839780  \n",
       "high school       -122.658209   45.536841  -122.651367                5.094895  "
      ]
     },
     "execution_count": 19,
     "metadata": {},
     "output_type": "execute_result"
    }
   ],
   "source": [
    "df.groupby('education').mean()"
   ]
  },
  {
   "cell_type": "markdown",
   "id": "shaped-cookbook",
   "metadata": {},
   "source": [
    "- patrons with college education most likely to return books late\n",
    "- followed by patrons with high school education level \n",
    "- and then graduate degree holders"
   ]
  },
  {
   "cell_type": "markdown",
   "id": "economic-irrigation",
   "metadata": {},
   "source": [
    "#### occupation"
   ]
  },
  {
   "cell_type": "code",
   "execution_count": 20,
   "id": "greenhouse-accommodation",
   "metadata": {},
   "outputs": [],
   "source": [
    "df['occupation'].fillna('job_na', inplace=True)"
   ]
  },
  {
   "cell_type": "code",
   "execution_count": 21,
   "id": "lonely-lawrence",
   "metadata": {},
   "outputs": [],
   "source": [
    "df['occupation'] = df['occupation'].str.strip().str.lower().apply(lambda x: ' '.join(x.split()))\n",
    "df['occupation'] = df['occupation'].str.replace('other', 'job_others')"
   ]
  },
  {
   "cell_type": "code",
   "execution_count": 22,
   "id": "exciting-diagnosis",
   "metadata": {},
   "outputs": [
    {
     "data": {
      "text/plain": [
       "array(['admin & support', 'sales', 'business & finance', 'tech',\n",
       "       'blue collar', 'job_otherss', 'education & health'], dtype=object)"
      ]
     },
     "execution_count": 22,
     "metadata": {},
     "output_type": "execute_result"
    }
   ],
   "source": [
    "df['occupation'].unique()"
   ]
  },
  {
   "cell_type": "code",
   "execution_count": 23,
   "id": "conventional-furniture",
   "metadata": {},
   "outputs": [
    {
     "data": {
      "text/html": [
       "<div>\n",
       "<style scoped>\n",
       "    .dataframe tbody tr th:only-of-type {\n",
       "        vertical-align: middle;\n",
       "    }\n",
       "\n",
       "    .dataframe tbody tr th {\n",
       "        vertical-align: top;\n",
       "    }\n",
       "\n",
       "    .dataframe thead th {\n",
       "        text-align: right;\n",
       "    }\n",
       "</style>\n",
       "<table border=\"1\" class=\"dataframe\">\n",
       "  <thead>\n",
       "    <tr style=\"text-align: right;\">\n",
       "      <th></th>\n",
       "      <th>price</th>\n",
       "      <th>pages</th>\n",
       "      <th>checkout_year</th>\n",
       "      <th>duration_borrowed_days</th>\n",
       "      <th>late_return_indicator</th>\n",
       "      <th>due_date_is_holiday</th>\n",
       "      <th>closest_holiday_distance</th>\n",
       "      <th>library_lat</th>\n",
       "      <th>library_long</th>\n",
       "      <th>patron_lat</th>\n",
       "      <th>patron_long</th>\n",
       "      <th>distance_lib_patron_km</th>\n",
       "    </tr>\n",
       "    <tr>\n",
       "      <th>occupation</th>\n",
       "      <th></th>\n",
       "      <th></th>\n",
       "      <th></th>\n",
       "      <th></th>\n",
       "      <th></th>\n",
       "      <th></th>\n",
       "      <th></th>\n",
       "      <th></th>\n",
       "      <th></th>\n",
       "      <th></th>\n",
       "      <th></th>\n",
       "      <th></th>\n",
       "    </tr>\n",
       "  </thead>\n",
       "  <tbody>\n",
       "    <tr>\n",
       "      <th>admin &amp; support</th>\n",
       "      <td>313.547273</td>\n",
       "      <td>596.868687</td>\n",
       "      <td>2005.525253</td>\n",
       "      <td>4580.303030</td>\n",
       "      <td>0.136364</td>\n",
       "      <td>0.020202</td>\n",
       "      <td>4553.560606</td>\n",
       "      <td>45.528892</td>\n",
       "      <td>-122.663095</td>\n",
       "      <td>45.530236</td>\n",
       "      <td>-122.661098</td>\n",
       "      <td>4.753122</td>\n",
       "    </tr>\n",
       "    <tr>\n",
       "      <th>blue collar</th>\n",
       "      <td>291.880988</td>\n",
       "      <td>590.679012</td>\n",
       "      <td>2007.709877</td>\n",
       "      <td>3774.672840</td>\n",
       "      <td>0.104938</td>\n",
       "      <td>0.024691</td>\n",
       "      <td>3759.827160</td>\n",
       "      <td>45.528321</td>\n",
       "      <td>-122.659564</td>\n",
       "      <td>45.541698</td>\n",
       "      <td>-122.656478</td>\n",
       "      <td>4.814882</td>\n",
       "    </tr>\n",
       "    <tr>\n",
       "      <th>business &amp; finance</th>\n",
       "      <td>282.526120</td>\n",
       "      <td>549.588000</td>\n",
       "      <td>2011.204000</td>\n",
       "      <td>2508.756000</td>\n",
       "      <td>0.140000</td>\n",
       "      <td>0.012000</td>\n",
       "      <td>2488.772000</td>\n",
       "      <td>45.529024</td>\n",
       "      <td>-122.649086</td>\n",
       "      <td>45.549890</td>\n",
       "      <td>-122.649574</td>\n",
       "      <td>5.569794</td>\n",
       "    </tr>\n",
       "    <tr>\n",
       "      <th>education &amp; health</th>\n",
       "      <td>312.732961</td>\n",
       "      <td>587.955307</td>\n",
       "      <td>2009.955307</td>\n",
       "      <td>2958.871508</td>\n",
       "      <td>0.111732</td>\n",
       "      <td>0.027933</td>\n",
       "      <td>2942.631285</td>\n",
       "      <td>45.528728</td>\n",
       "      <td>-122.648187</td>\n",
       "      <td>45.530458</td>\n",
       "      <td>-122.645725</td>\n",
       "      <td>4.370870</td>\n",
       "    </tr>\n",
       "    <tr>\n",
       "      <th>job_otherss</th>\n",
       "      <td>305.675372</td>\n",
       "      <td>591.260638</td>\n",
       "      <td>2010.271277</td>\n",
       "      <td>2844.446809</td>\n",
       "      <td>0.101064</td>\n",
       "      <td>0.026596</td>\n",
       "      <td>2825.563830</td>\n",
       "      <td>45.529602</td>\n",
       "      <td>-122.656191</td>\n",
       "      <td>45.533900</td>\n",
       "      <td>-122.649041</td>\n",
       "      <td>5.083202</td>\n",
       "    </tr>\n",
       "    <tr>\n",
       "      <th>sales</th>\n",
       "      <td>295.844675</td>\n",
       "      <td>578.112426</td>\n",
       "      <td>2000.497041</td>\n",
       "      <td>6417.994083</td>\n",
       "      <td>0.159763</td>\n",
       "      <td>0.053254</td>\n",
       "      <td>6386.195266</td>\n",
       "      <td>45.526795</td>\n",
       "      <td>-122.665924</td>\n",
       "      <td>45.521823</td>\n",
       "      <td>-122.657054</td>\n",
       "      <td>4.688871</td>\n",
       "    </tr>\n",
       "    <tr>\n",
       "      <th>tech</th>\n",
       "      <td>296.964746</td>\n",
       "      <td>576.892655</td>\n",
       "      <td>2010.757062</td>\n",
       "      <td>2678.220339</td>\n",
       "      <td>0.192090</td>\n",
       "      <td>0.028249</td>\n",
       "      <td>2651.129944</td>\n",
       "      <td>45.532418</td>\n",
       "      <td>-122.664983</td>\n",
       "      <td>45.534547</td>\n",
       "      <td>-122.665331</td>\n",
       "      <td>4.955877</td>\n",
       "    </tr>\n",
       "  </tbody>\n",
       "</table>\n",
       "</div>"
      ],
      "text/plain": [
       "                         price       pages  checkout_year  \\\n",
       "occupation                                                  \n",
       "admin & support     313.547273  596.868687    2005.525253   \n",
       "blue collar         291.880988  590.679012    2007.709877   \n",
       "business & finance  282.526120  549.588000    2011.204000   \n",
       "education & health  312.732961  587.955307    2009.955307   \n",
       "job_otherss         305.675372  591.260638    2010.271277   \n",
       "sales               295.844675  578.112426    2000.497041   \n",
       "tech                296.964746  576.892655    2010.757062   \n",
       "\n",
       "                    duration_borrowed_days  late_return_indicator  \\\n",
       "occupation                                                          \n",
       "admin & support                4580.303030               0.136364   \n",
       "blue collar                    3774.672840               0.104938   \n",
       "business & finance             2508.756000               0.140000   \n",
       "education & health             2958.871508               0.111732   \n",
       "job_otherss                    2844.446809               0.101064   \n",
       "sales                          6417.994083               0.159763   \n",
       "tech                           2678.220339               0.192090   \n",
       "\n",
       "                    due_date_is_holiday  closest_holiday_distance  \\\n",
       "occupation                                                          \n",
       "admin & support                0.020202               4553.560606   \n",
       "blue collar                    0.024691               3759.827160   \n",
       "business & finance             0.012000               2488.772000   \n",
       "education & health             0.027933               2942.631285   \n",
       "job_otherss                    0.026596               2825.563830   \n",
       "sales                          0.053254               6386.195266   \n",
       "tech                           0.028249               2651.129944   \n",
       "\n",
       "                    library_lat  library_long  patron_lat  patron_long  \\\n",
       "occupation                                                               \n",
       "admin & support       45.528892   -122.663095   45.530236  -122.661098   \n",
       "blue collar           45.528321   -122.659564   45.541698  -122.656478   \n",
       "business & finance    45.529024   -122.649086   45.549890  -122.649574   \n",
       "education & health    45.528728   -122.648187   45.530458  -122.645725   \n",
       "job_otherss           45.529602   -122.656191   45.533900  -122.649041   \n",
       "sales                 45.526795   -122.665924   45.521823  -122.657054   \n",
       "tech                  45.532418   -122.664983   45.534547  -122.665331   \n",
       "\n",
       "                    distance_lib_patron_km  \n",
       "occupation                                  \n",
       "admin & support                   4.753122  \n",
       "blue collar                       4.814882  \n",
       "business & finance                5.569794  \n",
       "education & health                4.370870  \n",
       "job_otherss                       5.083202  \n",
       "sales                             4.688871  \n",
       "tech                              4.955877  "
      ]
     },
     "execution_count": 23,
     "metadata": {},
     "output_type": "execute_result"
    }
   ],
   "source": [
    "df.groupby('occupation').mean()"
   ]
  },
  {
   "cell_type": "markdown",
   "id": "instrumental-broadcasting",
   "metadata": {},
   "source": [
    "- patrons working in sales most likely to return books late "
   ]
  },
  {
   "cell_type": "markdown",
   "id": "colored-storm",
   "metadata": {},
   "source": [
    "#### categories"
   ]
  },
  {
   "cell_type": "code",
   "execution_count": 24,
   "id": "recognized-individual",
   "metadata": {},
   "outputs": [
    {
     "data": {
      "text/plain": [
       "array([\"['Social Science']\", \"['Advertising']\",\n",
       "       \"['Business & Economics']\", \"['Psychology']\",\n",
       "       \"['Technology & Engineering']\", \"['Mechanics, Applied']\",\n",
       "       \"['Technology']\", \"['Mechanical engineering']\", \"['Mechanics']\",\n",
       "       \"['Medical']\", \"['Bacteriology']\", \"['Medicine']\",\n",
       "       \"['Financial services industry']\", \"['Industries']\",\n",
       "       \"['Banks and banking']\", \"['Political Science']\",\n",
       "       \"['Desarrollo economico']\", \"['Fiction']\",\n",
       "       \"['Internal combustion engines']\", \"['Science']\", \"['Philosophy']\",\n",
       "       \"['Computers']\", \"['Water resources development']\",\n",
       "       \"['United States']\", \"['Water-supply']\", \"['Natural resources']\",\n",
       "       \"['Environmental law']\", \"['Mechanics, Analytic']\",\n",
       "       \"['Electronic books']\", \"['Government publications']\",\n",
       "       \"['Banking law']\", \"['Financial institutions']\", \"['Finance']\",\n",
       "       \"['Corporations']\", \"['Diesel engines']\", \"['Transportation']\",\n",
       "       \"['Juvenile Fiction']\", \"['Conservation of natural resources']\",\n",
       "       \"['Agricultural education']\", \"['Montana']\", \"['Nature']\",\n",
       "       \"['Mines and mineral resources']\", \"['Barrier islands']\",\n",
       "       \"['Marine resources']\", \"['Medicine, Naval']\",\n",
       "       \"['Historical Card']\", \"['Biology']\", \"['Capital market']\",\n",
       "       \"['Natsworthy, Tom (Fictitious character)']\",\n",
       "       \"['Marine diesel motors']\", \"['Utah']\", \"['Medicine, Preventive']\",\n",
       "       \"['Physicians']\", \"['Business enterprises']\", \"['Fire engines']\",\n",
       "       \"['Corliss steam-engine']\", \"['Sports & Recreation']\",\n",
       "       \"['Steam-engines']\", \"['Sand']\",\n",
       "       \"['Astronautics in earth sciences']\", \"['Libraries']\",\n",
       "       \"['Juvenile Nonfiction']\", \"['Classification']\",\n",
       "       \"['Administrative agencies']\", \"['Electric railroads']\",\n",
       "       \"['History']\", \"['Aircraft industry']\", \"['Hydrology']\",\n",
       "       \"['Agriculture']\", \"['Kentucky']\",\n",
       "       \"['Information storage and retrieval systems']\",\n",
       "       \"['Language Arts & Disciplines']\", '[\"Mechanics\\' institutes\"]',\n",
       "       \"['Central Provinces (India)']\", \"['Gases']\",\n",
       "       \"['Industrial arts']\", \"['Internal medicine']\",\n",
       "       \"['Finance, Public']\", \"['Aircraft engine industry']\", \"['Art']\",\n",
       "       \"['Geology']\", \"['Emigration and immigration']\",\n",
       "       \"['Stream measurements']\", \"['Airplanes']\", \"['Engineering']\",\n",
       "       \"['Accounting']\"], dtype=object)"
      ]
     },
     "execution_count": 24,
     "metadata": {},
     "output_type": "execute_result"
    }
   ],
   "source": [
    "df['categories'].unique()"
   ]
  },
  {
   "cell_type": "markdown",
   "id": "cheap-depth",
   "metadata": {},
   "source": [
    "- the cardinality of the categories variable is really high, so I try to create other categories using this. Primarily, fiction and non-fiction"
   ]
  },
  {
   "cell_type": "code",
   "execution_count": 25,
   "id": "indoor-bernard",
   "metadata": {},
   "outputs": [],
   "source": [
    "df['categories'].fillna('n/a', inplace=True)"
   ]
  },
  {
   "cell_type": "code",
   "execution_count": 26,
   "id": "physical-sierra",
   "metadata": {},
   "outputs": [],
   "source": [
    "df['new_category'] = np.where(df['categories'].str.contains('Ficti'), 'Fiction', 'Non-Fiction')"
   ]
  },
  {
   "cell_type": "code",
   "execution_count": 27,
   "id": "historical-cisco",
   "metadata": {},
   "outputs": [],
   "source": [
    "df.drop(columns=['categories'], inplace=True)"
   ]
  },
  {
   "cell_type": "code",
   "execution_count": 28,
   "id": "pursuant-nerve",
   "metadata": {},
   "outputs": [
    {
     "data": {
      "text/html": [
       "<div>\n",
       "<style scoped>\n",
       "    .dataframe tbody tr th:only-of-type {\n",
       "        vertical-align: middle;\n",
       "    }\n",
       "\n",
       "    .dataframe tbody tr th {\n",
       "        vertical-align: top;\n",
       "    }\n",
       "\n",
       "    .dataframe thead th {\n",
       "        text-align: right;\n",
       "    }\n",
       "</style>\n",
       "<table border=\"1\" class=\"dataframe\">\n",
       "  <thead>\n",
       "    <tr style=\"text-align: right;\">\n",
       "      <th></th>\n",
       "      <th>price</th>\n",
       "      <th>pages</th>\n",
       "      <th>checkout_year</th>\n",
       "      <th>duration_borrowed_days</th>\n",
       "      <th>late_return_indicator</th>\n",
       "      <th>due_date_is_holiday</th>\n",
       "      <th>closest_holiday_distance</th>\n",
       "      <th>library_lat</th>\n",
       "      <th>library_long</th>\n",
       "      <th>patron_lat</th>\n",
       "      <th>patron_long</th>\n",
       "      <th>distance_lib_patron_km</th>\n",
       "    </tr>\n",
       "    <tr>\n",
       "      <th>new_category</th>\n",
       "      <th></th>\n",
       "      <th></th>\n",
       "      <th></th>\n",
       "      <th></th>\n",
       "      <th></th>\n",
       "      <th></th>\n",
       "      <th></th>\n",
       "      <th></th>\n",
       "      <th></th>\n",
       "      <th></th>\n",
       "      <th></th>\n",
       "      <th></th>\n",
       "    </tr>\n",
       "  </thead>\n",
       "  <tbody>\n",
       "    <tr>\n",
       "      <th>Fiction</th>\n",
       "      <td>276.424286</td>\n",
       "      <td>621.714286</td>\n",
       "      <td>2018.000000</td>\n",
       "      <td>19.142857</td>\n",
       "      <td>0.035714</td>\n",
       "      <td>0.000000</td>\n",
       "      <td>18.285714</td>\n",
       "      <td>45.526949</td>\n",
       "      <td>-122.65445</td>\n",
       "      <td>45.536594</td>\n",
       "      <td>-122.642726</td>\n",
       "      <td>4.170110</td>\n",
       "    </tr>\n",
       "    <tr>\n",
       "      <th>Non-Fiction</th>\n",
       "      <td>299.818849</td>\n",
       "      <td>579.205405</td>\n",
       "      <td>2007.985328</td>\n",
       "      <td>3681.953668</td>\n",
       "      <td>0.137452</td>\n",
       "      <td>0.027027</td>\n",
       "      <td>3659.329730</td>\n",
       "      <td>45.529177</td>\n",
       "      <td>-122.65770</td>\n",
       "      <td>45.535381</td>\n",
       "      <td>-122.654868</td>\n",
       "      <td>4.945522</td>\n",
       "    </tr>\n",
       "  </tbody>\n",
       "</table>\n",
       "</div>"
      ],
      "text/plain": [
       "                   price       pages  checkout_year  duration_borrowed_days  \\\n",
       "new_category                                                                  \n",
       "Fiction       276.424286  621.714286    2018.000000               19.142857   \n",
       "Non-Fiction   299.818849  579.205405    2007.985328             3681.953668   \n",
       "\n",
       "              late_return_indicator  due_date_is_holiday  \\\n",
       "new_category                                               \n",
       "Fiction                    0.035714             0.000000   \n",
       "Non-Fiction                0.137452             0.027027   \n",
       "\n",
       "              closest_holiday_distance  library_lat  library_long  patron_lat  \\\n",
       "new_category                                                                    \n",
       "Fiction                      18.285714    45.526949    -122.65445   45.536594   \n",
       "Non-Fiction                3659.329730    45.529177    -122.65770   45.535381   \n",
       "\n",
       "              patron_long  distance_lib_patron_km  \n",
       "new_category                                       \n",
       "Fiction       -122.642726                4.170110  \n",
       "Non-Fiction   -122.654868                4.945522  "
      ]
     },
     "execution_count": 28,
     "metadata": {},
     "output_type": "execute_result"
    }
   ],
   "source": [
    "df.groupby('new_category').mean()"
   ]
  },
  {
   "cell_type": "markdown",
   "id": "finite-cincinnati",
   "metadata": {},
   "source": [
    "- non-fiction books considerably more likely to be returned late than fiction books "
   ]
  },
  {
   "cell_type": "markdown",
   "id": "simplified-terrorism",
   "metadata": {},
   "source": [
    "## data preparation for ML models "
   ]
  },
  {
   "cell_type": "markdown",
   "id": "abandoned-single",
   "metadata": {},
   "source": [
    "### one-hot encoding categorical variables "
   ]
  },
  {
   "cell_type": "code",
   "execution_count": 29,
   "id": "parental-terry",
   "metadata": {},
   "outputs": [],
   "source": [
    "ohe_gender = pd.get_dummies(df['gender'])\n",
    "ohe_education = pd.get_dummies(df['education'])\n",
    "ohe_occupation = pd.get_dummies(df['occupation'])\n",
    "ohe_book_category = pd.get_dummies(df['new_category'])"
   ]
  },
  {
   "cell_type": "code",
   "execution_count": 30,
   "id": "christian-sociology",
   "metadata": {},
   "outputs": [],
   "source": [
    "df = df.join([ohe_gender, ohe_education, ohe_occupation, ohe_book_category])"
   ]
  },
  {
   "cell_type": "markdown",
   "id": "brilliant-madison",
   "metadata": {},
   "source": [
    "### separating features and target"
   ]
  },
  {
   "cell_type": "code",
   "execution_count": 32,
   "id": "protected-cambodia",
   "metadata": {},
   "outputs": [],
   "source": [
    "y = df['late_return_indicator']\n",
    "X = df.drop(columns=['book_id', 'patron_id', 'library_id', 'birth_date', 'library_loc', 'patron_loc', \n",
    "             'gender', 'occupation', 'education', 'new_category', 'late_return_indicator',  'date_checkout', 'date_due', 'duration_borrowed_days'])"
   ]
  },
  {
   "cell_type": "markdown",
   "id": "accompanied-semester",
   "metadata": {},
   "source": [
    "### generating train-test split "
   ]
  },
  {
   "cell_type": "markdown",
   "id": "naval-traveler",
   "metadata": {},
   "source": [
    "I want to split my test into three sets: \n",
    "- **Train** : these observations will be used to train the model to learn\n",
    "- **Validation**: this subset serves the purpose of model selection. So, I want to be able to try different hyperparameters, and knowing which hyperparameters are better suited for my model would require me to \"test\" it on a dataset that is not seen. \n",
    "- **Test**: this is a hold-out set, used to indicate the final performance of the \"best model\" selected using the validation set performance"
   ]
  },
  {
   "cell_type": "code",
   "execution_count": 50,
   "id": "engaging-egyptian",
   "metadata": {},
   "outputs": [],
   "source": [
    "from sklearn.model_selection import train_test_split\n",
    "X_train, X_test, y_train, y_test = train_test_split(X,y, test_size=0.1, random_state=7) #10% of the data is held out \n",
    "X_train, X_val, y_train, y_val = train_test_split(X_train, y_train, test_size=0.25, random_state=7) # 1/4th of the training data is used for validation"
   ]
  },
  {
   "cell_type": "markdown",
   "id": "focused-frontier",
   "metadata": {},
   "source": [
    "## MODEL 1: Logistic Regression Model "
   ]
  },
  {
   "cell_type": "code",
   "execution_count": 35,
   "id": "legal-interstate",
   "metadata": {},
   "outputs": [],
   "source": [
    "from sklearn.linear_model import LogisticRegression\n",
    "from sklearn import metrics\n",
    "from sklearn.metrics import confusion_matrix, classification_report"
   ]
  },
  {
   "cell_type": "markdown",
   "id": "young-mailing",
   "metadata": {},
   "source": [
    "### training "
   ]
  },
  {
   "cell_type": "code",
   "execution_count": 36,
   "id": "sitting-brother",
   "metadata": {},
   "outputs": [
    {
     "name": "stderr",
     "output_type": "stream",
     "text": [
      "/Users/garima/miniconda3/envs/reloc/lib/python3.7/site-packages/sklearn/linear_model/_logistic.py:818: ConvergenceWarning: lbfgs failed to converge (status=1):\n",
      "STOP: TOTAL NO. of ITERATIONS REACHED LIMIT.\n",
      "\n",
      "Increase the number of iterations (max_iter) or scale the data as shown in:\n",
      "    https://scikit-learn.org/stable/modules/preprocessing.html\n",
      "Please also refer to the documentation for alternative solver options:\n",
      "    https://scikit-learn.org/stable/modules/linear_model.html#logistic-regression\n",
      "  extra_warning_msg=_LOGISTIC_SOLVER_CONVERGENCE_MSG,\n"
     ]
    }
   ],
   "source": [
    "m1_lr = LogisticRegression()\n",
    "m1_lr.fit(X_train, y_train);"
   ]
  },
  {
   "cell_type": "markdown",
   "id": "formal-oxford",
   "metadata": {},
   "source": [
    "### evaluation"
   ]
  },
  {
   "cell_type": "code",
   "execution_count": 51,
   "id": "restricted-amount",
   "metadata": {},
   "outputs": [
    {
     "ename": "NameError",
     "evalue": "name 'm1_lr' is not defined",
     "output_type": "error",
     "traceback": [
      "\u001b[0;31m---------------------------------------------------------------------------\u001b[0m",
      "\u001b[0;31mNameError\u001b[0m                                 Traceback (most recent call last)",
      "\u001b[0;32m<ipython-input-51-30fb97712459>\u001b[0m in \u001b[0;36m<module>\u001b[0;34m()\u001b[0m\n\u001b[0;32m----> 1\u001b[0;31m \u001b[0my_pred_m1\u001b[0m \u001b[0;34m=\u001b[0m \u001b[0mm1_lr\u001b[0m\u001b[0;34m.\u001b[0m\u001b[0mpredict\u001b[0m\u001b[0;34m(\u001b[0m\u001b[0mX_test\u001b[0m\u001b[0;34m)\u001b[0m \u001b[0;31m#using X_test and not X_val here because not tuning hyperparameters for logistic regression\u001b[0m\u001b[0;34m\u001b[0m\u001b[0;34m\u001b[0m\u001b[0m\n\u001b[0m",
      "\u001b[0;31mNameError\u001b[0m: name 'm1_lr' is not defined"
     ]
    }
   ],
   "source": [
    "y_pred_m1 = m1_lr.predict(X_test) #using X_test and not X_val here because not tuning hyperparameters for logistic regression"
   ]
  },
  {
   "cell_type": "markdown",
   "id": "actual-roads",
   "metadata": {},
   "source": [
    "#### accuracy"
   ]
  },
  {
   "cell_type": "code",
   "execution_count": 39,
   "id": "level-peripheral",
   "metadata": {},
   "outputs": [
    {
     "name": "stdout",
     "output_type": "stream",
     "text": [
      "Accuracy of the LogisticRegression model is 93.05%\n",
      "Accuracy of the LogisticRegression excluding 19th century checkouts is 92.09%\n"
     ]
    }
   ],
   "source": [
    "print(f\"Accuracy of the LogisticRegression model is {round(m1_lr.score(X_test, y_test), 4)*100}%\")"
   ]
  },
  {
   "cell_type": "markdown",
   "id": "pressed-weekly",
   "metadata": {},
   "source": [
    "#### classification report"
   ]
  },
  {
   "cell_type": "code",
   "execution_count": 40,
   "id": "toxic-johnson",
   "metadata": {},
   "outputs": [
    {
     "name": "stdout",
     "output_type": "stream",
     "text": [
      "              precision    recall  f1-score   support\n",
      "\n",
      "         0.0       0.93      0.99      0.96       283\n",
      "         1.0       0.90      0.58      0.71        48\n",
      "\n",
      "    accuracy                           0.93       331\n",
      "   macro avg       0.92      0.79      0.83       331\n",
      "weighted avg       0.93      0.93      0.92       331\n",
      "\n"
     ]
    }
   ],
   "source": [
    "print(classification_report(y_test, y_pred_m1))"
   ]
  },
  {
   "cell_type": "markdown",
   "id": "tired-tourism",
   "metadata": {},
   "source": [
    "#### confusion matrix "
   ]
  },
  {
   "cell_type": "code",
   "execution_count": 41,
   "id": "crude-plate",
   "metadata": {},
   "outputs": [
    {
     "data": {
      "text/plain": [
       "<AxesSubplot:>"
      ]
     },
     "execution_count": 41,
     "metadata": {},
     "output_type": "execute_result"
    },
    {
     "data": {
      "text/plain": [
       "<AxesSubplot:>"
      ]
     },
     "execution_count": 41,
     "metadata": {},
     "output_type": "execute_result"
    },
    {
     "data": {
      "image/png": "[encoded data removed]",
      "text/plain": [
       "<Figure size 1440x720 with 4 Axes>"
      ]
     },
     "metadata": {
      "needs_background": "light"
     },
     "output_type": "display_data"
    }
   ],
   "source": [
    "cm= confusion_matrix(y_test, y_pred_m1, normalize='true')\n",
    "sns.heatmap(cm_a, annot=True, fmt='.0%', cmap='Greens')"
   ]
  },
  {
   "cell_type": "markdown",
   "id": "common-thailand",
   "metadata": {},
   "source": [
    "The Logistic Regression model classifies timely returns as timely 99% of the time, and the late returns as late 62% of the time. Given that the library is interested in monitoring and predicting late returns, the metric we care most about is the recall value for late-returns. "
   ]
  },
  {
   "cell_type": "markdown",
   "id": "acquired-brighton",
   "metadata": {},
   "source": [
    "## MODEL 2: Random Forest"
   ]
  },
  {
   "cell_type": "code",
   "execution_count": 42,
   "id": "dutch-yacht",
   "metadata": {},
   "outputs": [],
   "source": [
    "from sklearn.ensemble import RandomForestClassifier"
   ]
  },
  {
   "cell_type": "markdown",
   "id": "green-courage",
   "metadata": {},
   "source": [
    "### training"
   ]
  },
  {
   "cell_type": "code",
   "execution_count": 58,
   "id": "fifteen-sample",
   "metadata": {},
   "outputs": [],
   "source": [
    "def get_best_max_depth(): \n",
    "    max_depth_accuracy = []\n",
    "    for i in range(1,15): \n",
    "        model = RandomForestClassifier(max_depth=i, random_state=7)\n",
    "        model.fit(X_train, y_train)\n",
    "        max_depth_accuracy.append(model.score(X_val, y_val))\n",
    "    max_accuracy = max(max_depth_accuracy)\n",
    "    best_max_depth = max_depth_accuracy.index(max_accuracy)\n",
    "    return best_max_depth"
   ]
  },
  {
   "cell_type": "code",
   "execution_count": 59,
   "id": "significant-express",
   "metadata": {},
   "outputs": [
    {
     "data": {
      "text/plain": [
       "8"
      ]
     },
     "execution_count": 59,
     "metadata": {},
     "output_type": "execute_result"
    }
   ],
   "source": [
    "get_best_max_depth()"
   ]
  },
  {
   "cell_type": "code",
   "execution_count": 44,
   "id": "hindu-eligibility",
   "metadata": {},
   "outputs": [
    {
     "data": {
      "text/plain": [
       "RandomForestClassifier(max_depth=9, random_state=7)"
      ]
     },
     "execution_count": 44,
     "metadata": {},
     "output_type": "execute_result"
    }
   ],
   "source": [
    "m2_rf= RandomForestClassifier(max_depth=get_best_max_depth(), random_state=7)\n",
    "m2_rf.fit(X_train, y_train)"
   ]
  },
  {
   "cell_type": "markdown",
   "id": "qualified-hostel",
   "metadata": {},
   "source": [
    "### evaluation"
   ]
  },
  {
   "cell_type": "code",
   "execution_count": 45,
   "id": "surface-constitution",
   "metadata": {},
   "outputs": [],
   "source": [
    "y_pred_m2 = m2_rf.predict(X_test)"
   ]
  },
  {
   "cell_type": "markdown",
   "id": "boolean-alexandria",
   "metadata": {},
   "source": [
    "#### accuracy"
   ]
  },
  {
   "cell_type": "code",
   "execution_count": 46,
   "id": "vital-lucas",
   "metadata": {},
   "outputs": [
    {
     "name": "stdout",
     "output_type": "stream",
     "text": [
      "Accuracy of the Random Forest model is 97.28%\n"
     ]
    }
   ],
   "source": [
    "print(f\"Accuracy of the Random Forest model is {round(m2_rf.score(X_test, y_test), 4)*100}%\")"
   ]
  },
  {
   "cell_type": "markdown",
   "id": "numerous-dancing",
   "metadata": {},
   "source": [
    "#### classification report"
   ]
  },
  {
   "cell_type": "code",
   "execution_count": 47,
   "id": "detailed-walnut",
   "metadata": {},
   "outputs": [
    {
     "name": "stdout",
     "output_type": "stream",
     "text": [
      "              precision    recall  f1-score   support\n",
      "\n",
      "         0.0       0.97      1.00      0.98       283\n",
      "         1.0       1.00      0.81      0.90        48\n",
      "\n",
      "    accuracy                           0.97       331\n",
      "   macro avg       0.98      0.91      0.94       331\n",
      "weighted avg       0.97      0.97      0.97       331\n",
      "\n"
     ]
    }
   ],
   "source": [
    "print(classification_report(y_test, y_pred_m2))"
   ]
  },
  {
   "cell_type": "markdown",
   "id": "returning-custom",
   "metadata": {},
   "source": [
    "#### confusion matrix "
   ]
  },
  {
   "cell_type": "code",
   "execution_count": 48,
   "id": "eligible-module",
   "metadata": {},
   "outputs": [
    {
     "data": {
      "text/plain": [
       "<AxesSubplot:>"
      ]
     },
     "execution_count": 48,
     "metadata": {},
     "output_type": "execute_result"
    },
    {
     "data": {
      "image/png": "[encoded data removed]",
      "text/plain": [
       "<Figure size 432x288 with 2 Axes>"
      ]
     },
     "metadata": {
      "needs_background": "light"
     },
     "output_type": "display_data"
    }
   ],
   "source": [
    "cm = confusion_matrix(y_test, y_pred_m2, normalize='true')\n",
    "sns.heatmap(cm, annot=True, fmt='.0%', cmap='Greens')"
   ]
  },
  {
   "cell_type": "code",
   "execution_count": 49,
   "id": "abstract-inventory",
   "metadata": {},
   "outputs": [
    {
     "data": {
      "text/plain": [
       "<AxesSubplot:>"
      ]
     },
     "execution_count": 49,
     "metadata": {},
     "output_type": "execute_result"
    },
    {
     "data": {
      "image/png": "[encoded data removed]",
      "text/plain": [
       "<Figure size 432x288 with 1 Axes>"
      ]
     },
     "metadata": {
      "needs_background": "light"
     },
     "output_type": "display_data"
    }
   ],
   "source": [
    "xx = pd.Series(m2_rf.feature_importances_, index=X.columns)\n",
    "xx.sort_values(ascending=False, inplace=True)\n",
    "xx.nlargest(10).plot(kind='barh')"
   ]
  }
 ],
 "metadata": {
  "kernelspec": {
   "display_name": "Python 3",
   "language": "python",
   "name": "python3"
  },
  "language_info": {
   "codemirror_mode": {
    "name": "ipython",
    "version": 3
   },
   "file_extension": ".py",
   "mimetype": "text/x-python",
   "name": "python",
   "nbconvert_exporter": "python",
   "pygments_lexer": "ipython3",
   "version": "3.7.9"
  },
  "toc": {
   "base_numbering": 1,
   "nav_menu": {
    "height": "34px",
    "width": "160px"
   },
   "number_sections": false,
   "sideBar": true,
   "skip_h1_title": true,
   "title_cell": "Table of Contents",
   "title_sidebar": "Contents",
   "toc_cell": true,
   "toc_position": {},
   "toc_section_display": true,
   "toc_window_display": false
  },
  "varInspector": {
   "cols": {
    "lenName": 16,
    "lenType": 16,
    "lenVar": 40
   },
   "kernels_config": {
    "python": {
     "delete_cmd_postfix": "",
     "delete_cmd_prefix": "del ",
     "library": "var_list.py",
     "varRefreshCmd": "print(var_dic_list())"
    },
    "r": {
     "delete_cmd_postfix": ") ",
     "delete_cmd_prefix": "rm(",
     "library": "var_list.r",
     "varRefreshCmd": "cat(var_dic_list()) "
    }
   },
   "types_to_exclude": [
    "module",
    "function",
    "builtin_function_or_method",
    "instance",
    "_Feature"
   ],
   "window_display": false
  }
 },
 "nbformat": 4,
 "nbformat_minor": 5
}
