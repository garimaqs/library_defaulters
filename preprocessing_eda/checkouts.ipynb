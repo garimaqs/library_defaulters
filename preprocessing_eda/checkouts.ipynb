{
 "cells": [
  {
   "cell_type": "markdown",
   "id": "polyphonic-judges",
   "metadata": {
    "toc": true
   },
   "source": [
    "<h1>Table of Contents<span class=\"tocSkip\"></span></h1>\n",
    "<div class=\"toc\"><ul class=\"toc-item\"><li><span><a href=\"#imports\" data-toc-modified-id=\"imports-1\">imports</a></span></li><li><span><a href=\"#loading-data\" data-toc-modified-id=\"loading-data-2\">loading data</a></span></li><li><span><a href=\"#investigating-the-data\" data-toc-modified-id=\"investigating-the-data-3\">investigating the data</a></span><ul class=\"toc-item\"><li><span><a href=\"#visual-inspection\" data-toc-modified-id=\"visual-inspection-3.1\">visual inspection</a></span></li></ul></li><li><span><a href=\"#exploring-the-dates-column\" data-toc-modified-id=\"exploring-the-dates-column-4\">exploring the dates column</a></span><ul class=\"toc-item\"><li><span><a href=\"#examining-the-dtypes\" data-toc-modified-id=\"examining-the-dtypes-4.1\">examining the dtypes</a></span></li><li><span><a href=\"#cleaning-the-date-columns\" data-toc-modified-id=\"cleaning-the-date-columns-4.2\">cleaning the date columns</a></span></li><li><span><a href=\"#missing-values\" data-toc-modified-id=\"missing-values-4.3\">missing values</a></span></li><li><span><a href=\"#looking-for-&quot;future&quot;-checkouts-and-returns\" data-toc-modified-id=\"looking-for-&quot;future&quot;-checkouts-and-returns-4.4\">looking for \"future\" checkouts and returns</a></span></li><li><span><a href=\"#looking-for-books-that-were-returned-earlier-than-they-were-checked-out\" data-toc-modified-id=\"looking-for-books-that-were-returned-earlier-than-they-were-checked-out-4.5\">looking for books that were returned earlier than they were checked out</a></span><ul class=\"toc-item\"><li><span><a href=\"#creating-a-duration_borrowed-variable\" data-toc-modified-id=\"creating-a-duration_borrowed-variable-4.5.1\">creating a duration_borrowed variable</a></span></li><li><span><a href=\"#indicator-variable-for-late-returns\" data-toc-modified-id=\"indicator-variable-for-late-returns-4.5.2\">indicator variable for late returns</a></span></li><li><span><a href=\"#inspecting-observations-where-a-book-was-borrowed-for-over-a-year\" data-toc-modified-id=\"inspecting-observations-where-a-book-was-borrowed-for-over-a-year-4.5.3\">inspecting observations where a book was borrowed for over a year</a></span></li><li><span><a href=\"#inspecting-observations-where-a-book-was-borrowed-for-less-than-a-year\" data-toc-modified-id=\"inspecting-observations-where-a-book-was-borrowed-for-less-than-a-year-4.5.4\">inspecting observations where a book was borrowed for less than a year</a></span></li></ul></li></ul></li><li><span><a href=\"#additional-feature:-due-date-is-holiday\" data-toc-modified-id=\"additional-feature:-due-date-is-holiday-5\">additional feature: due date is holiday</a></span><ul class=\"toc-item\"><li><span><a href=\"#exploring-distance-between-date_due-and-closest_holiday-in-late-returns-vs-timely-returns\" data-toc-modified-id=\"exploring-distance-between-date_due-and-closest_holiday-in-late-returns-vs-timely-returns-5.1\">exploring distance between date_due and closest_holiday in late returns vs timely returns</a></span></li></ul></li><li><span><a href=\"#additional-feature:-day-of-the-week,-month,-day-of-the-month\" data-toc-modified-id=\"additional-feature:-day-of-the-week,-month,-day-of-the-month-6\">additional feature: day of the week, month, day of the month</a></span></li><li><span><a href=\"#saving-cleaned-dataset-to-disk\" data-toc-modified-id=\"saving-cleaned-dataset-to-disk-7\">saving cleaned dataset to disk</a></span></li></ul></div>"
   ]
  },
  {
   "cell_type": "markdown",
   "id": "harmful-fireplace",
   "metadata": {},
   "source": [
    "# Cleaning & Exploratory Data Analysis of the checkouts data\n",
    "This notebook is for initial exploration of the datasets associated with this challenge. "
   ]
  },
  {
   "cell_type": "markdown",
   "id": "allied-corpus",
   "metadata": {},
   "source": [
    "## imports "
   ]
  },
  {
   "cell_type": "code",
   "execution_count": 1,
   "id": "grand-young",
   "metadata": {},
   "outputs": [],
   "source": [
    "import os, sys, glob # for loading, saving and manipulating files on disk\n",
    "from pathlib import Path # Path allows us to list directory paths in a manner that's not affected by the OS the notebook is being run on \n",
    "\n",
    "import pandas as pd # to work with csv files as dataframes \n",
    "import numpy as np # for mathematical and scientific computations \n",
    "\n",
    "import matplotlib.pyplot as plt # for plots \n",
    "import seaborn as sns # also for plotting, it's a wrapper for several matplotlib functions, making them more accessible "
   ]
  },
  {
   "cell_type": "markdown",
   "id": "incredible-allowance",
   "metadata": {},
   "source": [
    "## loading data"
   ]
  },
  {
   "cell_type": "code",
   "execution_count": 2,
   "id": "better-calibration",
   "metadata": {},
   "outputs": [],
   "source": [
    "data_dir = Path.home()/'projects'/'billups_data_challenge'/'Data Challenge' # specifies the directory with data files\n",
    "out_dir = data_dir.parent/'cleaned_data' # directory for storing intermediate outputs such as cleaned data\n",
    "out_dir.mkdir(exist_ok=True) #creating the output directory, while making sure it's not overwritten if it already exists"
   ]
  },
  {
   "cell_type": "code",
   "execution_count": 3,
   "id": "unauthorized-concern",
   "metadata": {},
   "outputs": [],
   "source": [
    "checkouts_df = pd.read_csv(data_dir/'checkouts.csv')"
   ]
  },
  {
   "cell_type": "markdown",
   "id": "prerequisite-mediterranean",
   "metadata": {},
   "source": [
    "## investigating the data"
   ]
  },
  {
   "cell_type": "markdown",
   "id": "directed-emission",
   "metadata": {},
   "source": [
    "### visual inspection"
   ]
  },
  {
   "cell_type": "code",
   "execution_count": 4,
   "id": "optional-detector",
   "metadata": {},
   "outputs": [
    {
     "data": {
      "text/plain": [
       "(2000, 5)"
      ]
     },
     "execution_count": 4,
     "metadata": {},
     "output_type": "execute_result"
    }
   ],
   "source": [
    "checkouts_df.shape # checking the size of the data"
   ]
  },
  {
   "cell_type": "code",
   "execution_count": 5,
   "id": "indoor-small",
   "metadata": {},
   "outputs": [
    {
     "data": {
      "text/html": [
       "<div>\n",
       "<style scoped>\n",
       "    .dataframe tbody tr th:only-of-type {\n",
       "        vertical-align: middle;\n",
       "    }\n",
       "\n",
       "    .dataframe tbody tr th {\n",
       "        vertical-align: top;\n",
       "    }\n",
       "\n",
       "    .dataframe thead th {\n",
       "        text-align: right;\n",
       "    }\n",
       "</style>\n",
       "<table border=\"1\" class=\"dataframe\">\n",
       "  <thead>\n",
       "    <tr style=\"text-align: right;\">\n",
       "      <th></th>\n",
       "      <th>id</th>\n",
       "      <th>patron_id</th>\n",
       "      <th>library_id</th>\n",
       "      <th>date_checkout</th>\n",
       "      <th>date_returned</th>\n",
       "    </tr>\n",
       "  </thead>\n",
       "  <tbody>\n",
       "    <tr>\n",
       "      <th>597</th>\n",
       "      <td>mammQZOMCzcC</td>\n",
       "      <td>50c5618b3003ceb3b8a38ee6c5b91864</td>\n",
       "      <td>23v-222@5xc-jv7-v4v</td>\n",
       "      <td>2018-11-30</td>\n",
       "      <td>2018-12-26</td>\n",
       "    </tr>\n",
       "    <tr>\n",
       "      <th>1766</th>\n",
       "      <td>vYOofF63aBoC</td>\n",
       "      <td>16e18bc0e3d881671c1312ba8c690934</td>\n",
       "      <td>zzw-223@5xc-jv7-ct9</td>\n",
       "      <td>2018-01-09</td>\n",
       "      <td>NaN</td>\n",
       "    </tr>\n",
       "    <tr>\n",
       "      <th>1179</th>\n",
       "      <td>ggIKAAAAIAAJ</td>\n",
       "      <td>01294b8bf6391019301ca403d901ef73</td>\n",
       "      <td>228-222@5xc-jtz-hwk</td>\n",
       "      <td>2018-05-11</td>\n",
       "      <td>2018-06-01</td>\n",
       "    </tr>\n",
       "    <tr>\n",
       "      <th>159</th>\n",
       "      <td>BHBVUs2fZC0C</td>\n",
       "      <td>f28757973ccf8bfaf45d226a738e6b41</td>\n",
       "      <td>22c-222@5xc-jwj-pvz</td>\n",
       "      <td>2018-01-30</td>\n",
       "      <td>2018-02-18</td>\n",
       "    </tr>\n",
       "    <tr>\n",
       "      <th>1881</th>\n",
       "      <td>g9rXVe6jmiQC</td>\n",
       "      <td>2bcc7386ff3bfb77fe30f427b0988f79</td>\n",
       "      <td>224-222@5xc-jw2-t9z</td>\n",
       "      <td>2018-11-20</td>\n",
       "      <td>2018-12-16</td>\n",
       "    </tr>\n",
       "    <tr>\n",
       "      <th>400</th>\n",
       "      <td>Bjk9AQAAIAAJ</td>\n",
       "      <td>c315913584b00888097ac423e97ea34b</td>\n",
       "      <td>22d-222@5xc-kcy-8sq</td>\n",
       "      <td>1801-07-04</td>\n",
       "      <td>2018-06-20</td>\n",
       "    </tr>\n",
       "    <tr>\n",
       "      <th>905</th>\n",
       "      <td>YkxMPOkSQ_0C</td>\n",
       "      <td>d83da7ab2b6c6bea42da0748534282e8</td>\n",
       "      <td>226-222@5xc-kc4-fpv</td>\n",
       "      <td>2018-11-09</td>\n",
       "      <td>2018-12-01</td>\n",
       "    </tr>\n",
       "    <tr>\n",
       "      <th>1871</th>\n",
       "      <td>rZcXAQAAMAAJ</td>\n",
       "      <td>efd57acc5046733ad1f8289e390f599b</td>\n",
       "      <td>222-222@5xc-jxp-rp9</td>\n",
       "      <td>2018-03-29</td>\n",
       "      <td>2018-04-11</td>\n",
       "    </tr>\n",
       "    <tr>\n",
       "      <th>1647</th>\n",
       "      <td>hicJUlOuqGUC</td>\n",
       "      <td>53fc0caae33f2589a8631148611112f8</td>\n",
       "      <td>222-222@5xc-kkw-bzf</td>\n",
       "      <td>2018-06-05</td>\n",
       "      <td>NaN</td>\n",
       "    </tr>\n",
       "    <tr>\n",
       "      <th>16</th>\n",
       "      <td>9q1LAQAAIAAJ</td>\n",
       "      <td>f8a72c6a5966f96150da7214377691d1</td>\n",
       "      <td>226-222@5xc-kc4-fpv</td>\n",
       "      <td>2018-02-19</td>\n",
       "      <td>2018-02-27</td>\n",
       "    </tr>\n",
       "  </tbody>\n",
       "</table>\n",
       "</div>"
      ],
      "text/plain": [
       "                id                         patron_id           library_id  \\\n",
       "597   mammQZOMCzcC  50c5618b3003ceb3b8a38ee6c5b91864  23v-222@5xc-jv7-v4v   \n",
       "1766  vYOofF63aBoC  16e18bc0e3d881671c1312ba8c690934  zzw-223@5xc-jv7-ct9   \n",
       "1179  ggIKAAAAIAAJ  01294b8bf6391019301ca403d901ef73  228-222@5xc-jtz-hwk   \n",
       "159   BHBVUs2fZC0C  f28757973ccf8bfaf45d226a738e6b41  22c-222@5xc-jwj-pvz   \n",
       "1881  g9rXVe6jmiQC  2bcc7386ff3bfb77fe30f427b0988f79  224-222@5xc-jw2-t9z   \n",
       "400   Bjk9AQAAIAAJ  c315913584b00888097ac423e97ea34b  22d-222@5xc-kcy-8sq   \n",
       "905   YkxMPOkSQ_0C  d83da7ab2b6c6bea42da0748534282e8  226-222@5xc-kc4-fpv   \n",
       "1871  rZcXAQAAMAAJ  efd57acc5046733ad1f8289e390f599b  222-222@5xc-jxp-rp9   \n",
       "1647  hicJUlOuqGUC  53fc0caae33f2589a8631148611112f8  222-222@5xc-kkw-bzf   \n",
       "16    9q1LAQAAIAAJ  f8a72c6a5966f96150da7214377691d1  226-222@5xc-kc4-fpv   \n",
       "\n",
       "     date_checkout date_returned  \n",
       "597     2018-11-30    2018-12-26  \n",
       "1766    2018-01-09           NaN  \n",
       "1179    2018-05-11    2018-06-01  \n",
       "159     2018-01-30    2018-02-18  \n",
       "1881    2018-11-20    2018-12-16  \n",
       "400     1801-07-04    2018-06-20  \n",
       "905     2018-11-09    2018-12-01  \n",
       "1871    2018-03-29    2018-04-11  \n",
       "1647    2018-06-05           NaN  \n",
       "16      2018-02-19    2018-02-27  "
      ]
     },
     "execution_count": 5,
     "metadata": {},
     "output_type": "execute_result"
    }
   ],
   "source": [
    "checkouts_df.sample(10)"
   ]
  },
  {
   "cell_type": "markdown",
   "id": "apart-prototype",
   "metadata": {},
   "source": [
    "Here are some characteristics that look concerning: \n",
    "- the date columns need to be formatted, as they have inappropriate characters such as '%'\n",
    "- dates go as far back as 1800s in this sample itself, unsure if that's a recording error or if the libraries databases do have checkouts going that far back -- I did a quick check to see when the first library in Oregon came to be, and the 1800s are consistent with that. \n",
    "- the sample also has a date with year \"2107\" which definitely indicates a measurement/recording error. \n",
    "\n",
    "These require further exploration of the dates columns."
   ]
  },
  {
   "cell_type": "markdown",
   "id": "statutory-access",
   "metadata": {},
   "source": [
    "## exploring the dates column\n",
    "\n",
    "Some key things I'd like to examine is: \n",
    "- check the data-type of the dates column, if not already convert them to datetime objects \n",
    "- flag observations where either the checkout or the return date is in the future, i.e after 2022/08/06\n",
    "- flag observations where the date_returned is earlier than date_checkout (it should be impossible to return a book before checking it out) \n",
    "- compute number of days between date_checkout and date_returned, and use that to create a \"late return\" indicator variable\n",
    "- check if due dates for timely return tend to fall on holidays for late returns"
   ]
  },
  {
   "cell_type": "markdown",
   "id": "pleasant-belfast",
   "metadata": {},
   "source": [
    "### examining the dtypes"
   ]
  },
  {
   "cell_type": "code",
   "execution_count": 6,
   "id": "fifty-borough",
   "metadata": {},
   "outputs": [
    {
     "name": "stdout",
     "output_type": "stream",
     "text": [
      "<class 'pandas.core.frame.DataFrame'>\n",
      "RangeIndex: 2000 entries, 0 to 1999\n",
      "Data columns (total 5 columns):\n",
      " #   Column         Non-Null Count  Dtype \n",
      "---  ------         --------------  ----- \n",
      " 0   id             2000 non-null   object\n",
      " 1   patron_id      2000 non-null   object\n",
      " 2   library_id     2000 non-null   object\n",
      " 3   date_checkout  1935 non-null   object\n",
      " 4   date_returned  1942 non-null   object\n",
      "dtypes: object(5)\n",
      "memory usage: 78.2+ KB\n"
     ]
    }
   ],
   "source": [
    "checkouts_df.info()"
   ]
  },
  {
   "cell_type": "markdown",
   "id": "wired-sauce",
   "metadata": {},
   "source": [
    "both the date columns are strings, so I'd like to clean them and convert them to the datetime data-type"
   ]
  },
  {
   "cell_type": "markdown",
   "id": "applied-hands",
   "metadata": {},
   "source": [
    "### cleaning the date columns"
   ]
  },
  {
   "cell_type": "markdown",
   "id": "peaceful-morocco",
   "metadata": {},
   "source": [
    "To clean date columns, I would: \n",
    "- remove all non-numeric characters (this would also remove the separators, but that's okay)\n",
    "- convert the integer date into a datetime dtype"
   ]
  },
  {
   "cell_type": "code",
   "execution_count": 7,
   "id": "ultimate-revolution",
   "metadata": {},
   "outputs": [
    {
     "name": "stderr",
     "output_type": "stream",
     "text": [
      "/Users/garima/miniconda3/envs/reloc/lib/python3.7/site-packages/ipykernel_launcher.py:2: FutureWarning: The default value of regex will change from True to False in a future version.\n",
      "  \n"
     ]
    }
   ],
   "source": [
    "checkouts_df[['date_checkout', 'date_returned']] = checkouts_df[['date_checkout', 'date_returned']].apply(\n",
    "    lambda x: pd.to_datetime(x.str.replace(r'\\D+', ''), format='%Y%m%d'))"
   ]
  },
  {
   "cell_type": "code",
   "execution_count": 8,
   "id": "regular-india",
   "metadata": {},
   "outputs": [
    {
     "data": {
      "text/html": [
       "<div>\n",
       "<style scoped>\n",
       "    .dataframe tbody tr th:only-of-type {\n",
       "        vertical-align: middle;\n",
       "    }\n",
       "\n",
       "    .dataframe tbody tr th {\n",
       "        vertical-align: top;\n",
       "    }\n",
       "\n",
       "    .dataframe thead th {\n",
       "        text-align: right;\n",
       "    }\n",
       "</style>\n",
       "<table border=\"1\" class=\"dataframe\">\n",
       "  <thead>\n",
       "    <tr style=\"text-align: right;\">\n",
       "      <th></th>\n",
       "      <th>id</th>\n",
       "      <th>patron_id</th>\n",
       "      <th>library_id</th>\n",
       "      <th>date_checkout</th>\n",
       "      <th>date_returned</th>\n",
       "    </tr>\n",
       "  </thead>\n",
       "  <tbody>\n",
       "    <tr>\n",
       "      <th>0</th>\n",
       "      <td>-xFj0vTLbRIC</td>\n",
       "      <td>b071c9c68228a2b1d00e6f53677e16da</td>\n",
       "      <td>225-222@5xc-jtz-hkf</td>\n",
       "      <td>2019-01-28</td>\n",
       "      <td>2018-11-13</td>\n",
       "    </tr>\n",
       "    <tr>\n",
       "      <th>1</th>\n",
       "      <td>HUX-y4oXl04C</td>\n",
       "      <td>8d3f63e1deed89d7ba1bf6a4eb101373</td>\n",
       "      <td>223-222@5xc-jxr-tgk</td>\n",
       "      <td>2018-05-29</td>\n",
       "      <td>2018-06-12</td>\n",
       "    </tr>\n",
       "    <tr>\n",
       "      <th>2</th>\n",
       "      <td>TQpFnkku2poC</td>\n",
       "      <td>4ae202f8de762591734705e0079d76df</td>\n",
       "      <td>228-222@5xc-jtz-hwk</td>\n",
       "      <td>2018-11-23</td>\n",
       "      <td>2019-01-24</td>\n",
       "    </tr>\n",
       "    <tr>\n",
       "      <th>3</th>\n",
       "      <td>OQ6sDwAAQBAJ</td>\n",
       "      <td>f9372de3c8ea501601aa3fb59ec0f524</td>\n",
       "      <td>23v-222@5xc-jv7-v4v</td>\n",
       "      <td>2018-01-15</td>\n",
       "      <td>2018-04-25</td>\n",
       "    </tr>\n",
       "    <tr>\n",
       "      <th>4</th>\n",
       "      <td>7T9-BAAAQBAJ</td>\n",
       "      <td>2cf3cc3b9e9f6c608767da8d350f77c9</td>\n",
       "      <td>225-222@5xc-jtz-hkf</td>\n",
       "      <td>2018-12-31</td>\n",
       "      <td>1804-01-23</td>\n",
       "    </tr>\n",
       "  </tbody>\n",
       "</table>\n",
       "</div>"
      ],
      "text/plain": [
       "             id                         patron_id           library_id  \\\n",
       "0  -xFj0vTLbRIC  b071c9c68228a2b1d00e6f53677e16da  225-222@5xc-jtz-hkf   \n",
       "1  HUX-y4oXl04C  8d3f63e1deed89d7ba1bf6a4eb101373  223-222@5xc-jxr-tgk   \n",
       "2  TQpFnkku2poC  4ae202f8de762591734705e0079d76df  228-222@5xc-jtz-hwk   \n",
       "3  OQ6sDwAAQBAJ  f9372de3c8ea501601aa3fb59ec0f524  23v-222@5xc-jv7-v4v   \n",
       "4  7T9-BAAAQBAJ  2cf3cc3b9e9f6c608767da8d350f77c9  225-222@5xc-jtz-hkf   \n",
       "\n",
       "  date_checkout date_returned  \n",
       "0    2019-01-28    2018-11-13  \n",
       "1    2018-05-29    2018-06-12  \n",
       "2    2018-11-23    2019-01-24  \n",
       "3    2018-01-15    2018-04-25  \n",
       "4    2018-12-31    1804-01-23  "
      ]
     },
     "execution_count": 8,
     "metadata": {},
     "output_type": "execute_result"
    }
   ],
   "source": [
    "checkouts_df.head()"
   ]
  },
  {
   "cell_type": "markdown",
   "id": "wired-delivery",
   "metadata": {},
   "source": [
    "### missing values"
   ]
  },
  {
   "cell_type": "code",
   "execution_count": 9,
   "id": "architectural-wheat",
   "metadata": {},
   "outputs": [
    {
     "data": {
      "text/plain": [
       "id                0\n",
       "patron_id         0\n",
       "library_id        0\n",
       "date_checkout    65\n",
       "date_returned    58\n",
       "dtype: int64"
      ]
     },
     "execution_count": 9,
     "metadata": {},
     "output_type": "execute_result"
    }
   ],
   "source": [
    "checkouts_df.isna().sum()"
   ]
  },
  {
   "cell_type": "markdown",
   "id": "necessary-philip",
   "metadata": {},
   "source": [
    "- There are 65 checkout dates and 58 return dates missing\n",
    "- Imputing these missing dates would be altering the underlying distribution of late-returns\n",
    "- So, I deal with these missing values by dropping them "
   ]
  },
  {
   "cell_type": "code",
   "execution_count": 10,
   "id": "eligible-language",
   "metadata": {},
   "outputs": [],
   "source": [
    "checkouts_df.dropna(subset=['date_checkout', 'date_returned'], inplace=True)"
   ]
  },
  {
   "cell_type": "markdown",
   "id": "focused-raleigh",
   "metadata": {},
   "source": [
    "### looking for \"future\" checkouts and returns "
   ]
  },
  {
   "cell_type": "code",
   "execution_count": 11,
   "id": "auburn-trauma",
   "metadata": {},
   "outputs": [
    {
     "name": "stdout",
     "output_type": "stream",
     "text": [
      "Earliest checkout year is 1800 \n",
      " Earliest year a book was returned is 1800\n",
      "Latest checkout year is 2120 \n",
      " Latest year a book was returned is 2120\n"
     ]
    }
   ],
   "source": [
    "print(f\"Earliest checkout year is {checkouts_df['date_checkout'].min().year} \\n Earliest year a book was returned is {checkouts_df['date_returned'].min().year}\")\n",
    "print(f\"Latest checkout year is {checkouts_df['date_checkout'].max().year} \\n Latest year a book was returned is {checkouts_df['date_returned'].max().year}\")"
   ]
  },
  {
   "cell_type": "markdown",
   "id": "british-genius",
   "metadata": {},
   "source": [
    "There are definitely years after the current date, that must be errors in recording. Examining observations with either checkout or return year higher than 2021. "
   ]
  },
  {
   "cell_type": "code",
   "execution_count": 12,
   "id": "explicit-disposition",
   "metadata": {},
   "outputs": [],
   "source": [
    "checkouts_df['checkout_year'] = checkouts_df['date_checkout'].apply(lambda x: int(x.year))\n",
    "checkouts_df['return_year'] = checkouts_df['date_returned'].apply(lambda x: int(x.year))"
   ]
  },
  {
   "cell_type": "code",
   "execution_count": 13,
   "id": "political-limit",
   "metadata": {},
   "outputs": [
    {
     "name": "stdout",
     "output_type": "stream",
     "text": [
      "Number of checkouts in the future is 84\n",
      "Number of returns in the future is 95\n",
      "Number of books that were both checked out and returned in the future is 0\n"
     ]
    }
   ],
   "source": [
    "print(f\"Number of checkouts in the future is {checkouts_df[checkouts_df['checkout_year']>2021].shape[0]}\")\n",
    "print(f\"Number of returns in the future is {checkouts_df[checkouts_df['return_year']>2021].shape[0]}\")\n",
    "print(f\"Number of books that were both checked out and returned in the future is {checkouts_df[(checkouts_df['checkout_year']>2021)&(checkouts_df['return_year']>2021)].shape[0]}\")"
   ]
  },
  {
   "cell_type": "markdown",
   "id": "ongoing-limitation",
   "metadata": {},
   "source": [
    "I drop these \"future\" values as they're erroneous and can't be replaced without affecting the distribution of late returns"
   ]
  },
  {
   "cell_type": "code",
   "execution_count": 14,
   "id": "contemporary-machinery",
   "metadata": {},
   "outputs": [],
   "source": [
    "checkouts_df = checkouts_df[(checkouts_df['checkout_year']<2023)&(checkouts_df['return_year']<2023)]"
   ]
  },
  {
   "cell_type": "markdown",
   "id": "standing-calcium",
   "metadata": {},
   "source": [
    "### looking for books that were returned earlier than they were checked out"
   ]
  },
  {
   "cell_type": "code",
   "execution_count": 15,
   "id": "constant-charger",
   "metadata": {},
   "outputs": [
    {
     "data": {
      "image/png": "[encoded data removed]",
      "text/plain": [
       "<Figure size 432x288 with 1 Axes>"
      ]
     },
     "metadata": {
      "needs_background": "light"
     },
     "output_type": "display_data"
    }
   ],
   "source": [
    "sns.scatterplot(x='checkout_year', y='return_year', data=checkouts_df);\n",
    "plt.plot(np.linspace(1800, 2130, 10), np.linspace(1800, 2130, 10), color='r');\n",
    "plt.title('Year a book was checked out vs. year of its return');"
   ]
  },
  {
   "cell_type": "markdown",
   "id": "conscious-sympathy",
   "metadata": {},
   "source": [
    "In the plot above, values below the red line (45 degree line) indicate errors as these are books that were returned in an earlier year than the one in which they were borrowed. "
   ]
  },
  {
   "cell_type": "markdown",
   "id": "proud-appearance",
   "metadata": {},
   "source": [
    "#### creating a duration_borrowed variable \n",
    "which records how many days a book was borrowed for. This variable can also be used to examine erroneous records as it will be negative when date_returned is earlier than date_borrowed. "
   ]
  },
  {
   "cell_type": "code",
   "execution_count": 16,
   "id": "color-mount",
   "metadata": {},
   "outputs": [],
   "source": [
    "checkouts_df['duration_borrowed_days'] = (checkouts_df['date_returned'] - checkouts_df['date_checkout']).dt.days"
   ]
  },
  {
   "cell_type": "markdown",
   "id": "selective-theater",
   "metadata": {},
   "source": [
    "dropping observations where \"duration_borrowed\" is negative"
   ]
  },
  {
   "cell_type": "code",
   "execution_count": 17,
   "id": "trying-metallic",
   "metadata": {},
   "outputs": [],
   "source": [
    "checkouts_df = checkouts_df[checkouts_df['duration_borrowed_days']>=0]"
   ]
  },
  {
   "cell_type": "markdown",
   "id": "disturbed-messaging",
   "metadata": {},
   "source": [
    "#### indicator variable for late returns "
   ]
  },
  {
   "cell_type": "code",
   "execution_count": 18,
   "id": "another-allergy",
   "metadata": {},
   "outputs": [],
   "source": [
    "checkouts_df['late_return_indicator'] = np.where(checkouts_df['duration_borrowed_days']>28, 1, 0) "
   ]
  },
  {
   "cell_type": "markdown",
   "id": "cutting-craps",
   "metadata": {},
   "source": [
    "#### inspecting observations where a book was borrowed for over a year"
   ]
  },
  {
   "cell_type": "code",
   "execution_count": 19,
   "id": "available-lancaster",
   "metadata": {},
   "outputs": [
    {
     "data": {
      "text/html": [
       "<div>\n",
       "<style scoped>\n",
       "    .dataframe tbody tr th:only-of-type {\n",
       "        vertical-align: middle;\n",
       "    }\n",
       "\n",
       "    .dataframe tbody tr th {\n",
       "        vertical-align: top;\n",
       "    }\n",
       "\n",
       "    .dataframe thead th {\n",
       "        text-align: right;\n",
       "    }\n",
       "</style>\n",
       "<table border=\"1\" class=\"dataframe\">\n",
       "  <thead>\n",
       "    <tr style=\"text-align: right;\">\n",
       "      <th></th>\n",
       "      <th>checkout_year</th>\n",
       "      <th>return_year</th>\n",
       "      <th>duration_borrowed_days</th>\n",
       "      <th>late_return_indicator</th>\n",
       "    </tr>\n",
       "  </thead>\n",
       "  <tbody>\n",
       "    <tr>\n",
       "      <th>count</th>\n",
       "      <td>90.000000</td>\n",
       "      <td>90.000000</td>\n",
       "      <td>90.000000</td>\n",
       "      <td>90.0</td>\n",
       "    </tr>\n",
       "    <tr>\n",
       "      <th>mean</th>\n",
       "      <td>1809.533333</td>\n",
       "      <td>2018.055556</td>\n",
       "      <td>76151.255556</td>\n",
       "      <td>1.0</td>\n",
       "    </tr>\n",
       "    <tr>\n",
       "      <th>std</th>\n",
       "      <td>6.193872</td>\n",
       "      <td>0.230345</td>\n",
       "      <td>2250.020587</td>\n",
       "      <td>0.0</td>\n",
       "    </tr>\n",
       "    <tr>\n",
       "      <th>min</th>\n",
       "      <td>1800.000000</td>\n",
       "      <td>2018.000000</td>\n",
       "      <td>72188.000000</td>\n",
       "      <td>1.0</td>\n",
       "    </tr>\n",
       "    <tr>\n",
       "      <th>25%</th>\n",
       "      <td>1804.000000</td>\n",
       "      <td>2018.000000</td>\n",
       "      <td>74158.500000</td>\n",
       "      <td>1.0</td>\n",
       "    </tr>\n",
       "    <tr>\n",
       "      <th>50%</th>\n",
       "      <td>1809.000000</td>\n",
       "      <td>2018.000000</td>\n",
       "      <td>76317.500000</td>\n",
       "      <td>1.0</td>\n",
       "    </tr>\n",
       "    <tr>\n",
       "      <th>75%</th>\n",
       "      <td>1815.000000</td>\n",
       "      <td>2018.000000</td>\n",
       "      <td>78095.750000</td>\n",
       "      <td>1.0</td>\n",
       "    </tr>\n",
       "    <tr>\n",
       "      <th>max</th>\n",
       "      <td>1820.000000</td>\n",
       "      <td>2019.000000</td>\n",
       "      <td>79621.000000</td>\n",
       "      <td>1.0</td>\n",
       "    </tr>\n",
       "  </tbody>\n",
       "</table>\n",
       "</div>"
      ],
      "text/plain": [
       "       checkout_year  return_year  duration_borrowed_days  \\\n",
       "count      90.000000    90.000000               90.000000   \n",
       "mean     1809.533333  2018.055556            76151.255556   \n",
       "std         6.193872     0.230345             2250.020587   \n",
       "min      1800.000000  2018.000000            72188.000000   \n",
       "25%      1804.000000  2018.000000            74158.500000   \n",
       "50%      1809.000000  2018.000000            76317.500000   \n",
       "75%      1815.000000  2018.000000            78095.750000   \n",
       "max      1820.000000  2019.000000            79621.000000   \n",
       "\n",
       "       late_return_indicator  \n",
       "count                   90.0  \n",
       "mean                     1.0  \n",
       "std                      0.0  \n",
       "min                      1.0  \n",
       "25%                      1.0  \n",
       "50%                      1.0  \n",
       "75%                      1.0  \n",
       "max                      1.0  "
      ]
     },
     "execution_count": 19,
     "metadata": {},
     "output_type": "execute_result"
    }
   ],
   "source": [
    "long_borrowed_df = checkouts_df[checkouts_df['duration_borrowed_days']>=365]\n",
    "long_borrowed_df.describe()"
   ]
  },
  {
   "cell_type": "markdown",
   "id": "standing-marketplace",
   "metadata": {},
   "source": [
    "- There are 90 books that were borrowed for over a year\n",
    "- All 90 of these books were borrowed for over 150 years\n",
    "- All 90 of these books were borrowed in early 1800s and returned in 2018 and 2019 "
   ]
  },
  {
   "cell_type": "code",
   "execution_count": 20,
   "id": "inside-navigation",
   "metadata": {},
   "outputs": [
    {
     "data": {
      "text/plain": [
       "18"
      ]
     },
     "execution_count": 20,
     "metadata": {},
     "output_type": "execute_result"
    }
   ],
   "source": [
    "# checking if all of these 90 books were returned to the same library \n",
    "# maybe a particular branch undertook retrieval of old books \n",
    "long_borrowed_df.library_id.nunique()"
   ]
  },
  {
   "cell_type": "code",
   "execution_count": 21,
   "id": "billion-skill",
   "metadata": {},
   "outputs": [
    {
     "data": {
      "text/plain": [
       "228-222@5xc-jtz-hwk    8\n",
       "zzw-222@5xc-jv4-789    8\n",
       "22c-222@5xc-jwj-pvz    8\n",
       "222-222@5xc-jvf-skf    7\n",
       "zzw-223@5xc-jv7-ct9    7\n",
       "222-222@5xc-jv5-nt9    6\n",
       "23v-222@5xc-jv7-v4v    5\n",
       "zzw-222@5xc-knn-c5z    5\n",
       "zzw-224@5xc-jwv-2rk    5\n",
       "22d-222@5xc-kcy-8sq    5\n",
       "223-222@5xc-jxr-tgk    4\n",
       "227-222@5xc-jww-btv    4\n",
       "226-222@5xc-kc4-fpv    4\n",
       "224-222@5xc-jw2-t9z    4\n",
       "222-222@5xc-jxp-rp9    4\n",
       "222-222@5xc-kkw-bzf    3\n",
       "226-222@5xc-jxj-7yv    2\n",
       "225-222@5xc-jtz-hkf    1\n",
       "Name: library_id, dtype: int64"
      ]
     },
     "execution_count": 21,
     "metadata": {},
     "output_type": "execute_result"
    }
   ],
   "source": [
    "long_borrowed_df.library_id.value_counts()"
   ]
  },
  {
   "cell_type": "markdown",
   "id": "grateful-table",
   "metadata": {},
   "source": [
    "- The 90 books were returned across different library branches"
   ]
  },
  {
   "cell_type": "code",
   "execution_count": 22,
   "id": "egyptian-failing",
   "metadata": {},
   "outputs": [
    {
     "data": {
      "text/plain": [
       "90"
      ]
     },
     "execution_count": 22,
     "metadata": {},
     "output_type": "execute_result"
    }
   ],
   "source": [
    "# checking if all of these books were borrowed by the same patron \n",
    "# hypothesis being maybe a grandchild of the patron inherited the loaned books and returned them\n",
    "long_borrowed_df.patron_id.nunique()"
   ]
  },
  {
   "cell_type": "markdown",
   "id": "cross-gateway",
   "metadata": {},
   "source": [
    "- Each of the 90 books were checked out by different patrons"
   ]
  },
  {
   "cell_type": "code",
   "execution_count": 23,
   "id": "duplicate-course",
   "metadata": {},
   "outputs": [
    {
     "data": {
      "text/plain": [
       "73"
      ]
     },
     "execution_count": 23,
     "metadata": {},
     "output_type": "execute_result"
    }
   ],
   "source": [
    "long_borrowed_df.id.nunique()"
   ]
  },
  {
   "cell_type": "markdown",
   "id": "billion-gross",
   "metadata": {},
   "source": [
    "#### inspecting observations where a book was borrowed for less than a year "
   ]
  },
  {
   "cell_type": "code",
   "execution_count": 24,
   "id": "christian-skirt",
   "metadata": {},
   "outputs": [
    {
     "data": {
      "text/html": [
       "<div>\n",
       "<style scoped>\n",
       "    .dataframe tbody tr th:only-of-type {\n",
       "        vertical-align: middle;\n",
       "    }\n",
       "\n",
       "    .dataframe tbody tr th {\n",
       "        vertical-align: top;\n",
       "    }\n",
       "\n",
       "    .dataframe thead th {\n",
       "        text-align: right;\n",
       "    }\n",
       "</style>\n",
       "<table border=\"1\" class=\"dataframe\">\n",
       "  <thead>\n",
       "    <tr style=\"text-align: right;\">\n",
       "      <th></th>\n",
       "      <th>checkout_year</th>\n",
       "      <th>return_year</th>\n",
       "      <th>duration_borrowed_days</th>\n",
       "      <th>late_return_indicator</th>\n",
       "    </tr>\n",
       "  </thead>\n",
       "  <tbody>\n",
       "    <tr>\n",
       "      <th>count</th>\n",
       "      <td>1451.0</td>\n",
       "      <td>1451.000000</td>\n",
       "      <td>1451.000000</td>\n",
       "      <td>1451.000000</td>\n",
       "    </tr>\n",
       "    <tr>\n",
       "      <th>mean</th>\n",
       "      <td>2018.0</td>\n",
       "      <td>2018.064094</td>\n",
       "      <td>24.117161</td>\n",
       "      <td>0.090972</td>\n",
       "    </tr>\n",
       "    <tr>\n",
       "      <th>std</th>\n",
       "      <td>0.0</td>\n",
       "      <td>0.245004</td>\n",
       "      <td>29.847683</td>\n",
       "      <td>0.287668</td>\n",
       "    </tr>\n",
       "    <tr>\n",
       "      <th>min</th>\n",
       "      <td>2018.0</td>\n",
       "      <td>2018.000000</td>\n",
       "      <td>5.000000</td>\n",
       "      <td>0.000000</td>\n",
       "    </tr>\n",
       "    <tr>\n",
       "      <th>25%</th>\n",
       "      <td>2018.0</td>\n",
       "      <td>2018.000000</td>\n",
       "      <td>11.000000</td>\n",
       "      <td>0.000000</td>\n",
       "    </tr>\n",
       "    <tr>\n",
       "      <th>50%</th>\n",
       "      <td>2018.0</td>\n",
       "      <td>2018.000000</td>\n",
       "      <td>17.000000</td>\n",
       "      <td>0.000000</td>\n",
       "    </tr>\n",
       "    <tr>\n",
       "      <th>75%</th>\n",
       "      <td>2018.0</td>\n",
       "      <td>2018.000000</td>\n",
       "      <td>23.000000</td>\n",
       "      <td>0.000000</td>\n",
       "    </tr>\n",
       "    <tr>\n",
       "      <th>max</th>\n",
       "      <td>2018.0</td>\n",
       "      <td>2019.000000</td>\n",
       "      <td>179.000000</td>\n",
       "      <td>1.000000</td>\n",
       "    </tr>\n",
       "  </tbody>\n",
       "</table>\n",
       "</div>"
      ],
      "text/plain": [
       "       checkout_year  return_year  duration_borrowed_days  \\\n",
       "count         1451.0  1451.000000             1451.000000   \n",
       "mean          2018.0  2018.064094               24.117161   \n",
       "std              0.0     0.245004               29.847683   \n",
       "min           2018.0  2018.000000                5.000000   \n",
       "25%           2018.0  2018.000000               11.000000   \n",
       "50%           2018.0  2018.000000               17.000000   \n",
       "75%           2018.0  2018.000000               23.000000   \n",
       "max           2018.0  2019.000000              179.000000   \n",
       "\n",
       "       late_return_indicator  \n",
       "count            1451.000000  \n",
       "mean                0.090972  \n",
       "std                 0.287668  \n",
       "min                 0.000000  \n",
       "25%                 0.000000  \n",
       "50%                 0.000000  \n",
       "75%                 0.000000  \n",
       "max                 1.000000  "
      ]
     },
     "execution_count": 24,
     "metadata": {},
     "output_type": "execute_result"
    }
   ],
   "source": [
    "checkouts_df[checkouts_df['duration_borrowed_days']<=365].describe()"
   ]
  },
  {
   "cell_type": "markdown",
   "id": "endangered-hands",
   "metadata": {},
   "source": [
    "- books not borrowed in the 1800s are typically returned within 24 days"
   ]
  },
  {
   "cell_type": "code",
   "execution_count": 25,
   "id": "white-installation",
   "metadata": {},
   "outputs": [],
   "source": [
    "late_returns = checkouts_df[(checkouts_df['duration_borrowed_days']>28) & (checkouts_df['duration_borrowed_days']<=365)]"
   ]
  },
  {
   "cell_type": "code",
   "execution_count": 26,
   "id": "blessed-therapy",
   "metadata": {},
   "outputs": [
    {
     "data": {
      "text/html": [
       "<div>\n",
       "<style scoped>\n",
       "    .dataframe tbody tr th:only-of-type {\n",
       "        vertical-align: middle;\n",
       "    }\n",
       "\n",
       "    .dataframe tbody tr th {\n",
       "        vertical-align: top;\n",
       "    }\n",
       "\n",
       "    .dataframe thead th {\n",
       "        text-align: right;\n",
       "    }\n",
       "</style>\n",
       "<table border=\"1\" class=\"dataframe\">\n",
       "  <thead>\n",
       "    <tr style=\"text-align: right;\">\n",
       "      <th></th>\n",
       "      <th>checkout_year</th>\n",
       "      <th>return_year</th>\n",
       "      <th>duration_borrowed_days</th>\n",
       "      <th>late_return_indicator</th>\n",
       "    </tr>\n",
       "  </thead>\n",
       "  <tbody>\n",
       "    <tr>\n",
       "      <th>count</th>\n",
       "      <td>132.0</td>\n",
       "      <td>132.000000</td>\n",
       "      <td>132.000000</td>\n",
       "      <td>132.0</td>\n",
       "    </tr>\n",
       "    <tr>\n",
       "      <th>mean</th>\n",
       "      <td>2018.0</td>\n",
       "      <td>2018.310606</td>\n",
       "      <td>105.666667</td>\n",
       "      <td>1.0</td>\n",
       "    </tr>\n",
       "    <tr>\n",
       "      <th>std</th>\n",
       "      <td>0.0</td>\n",
       "      <td>0.464505</td>\n",
       "      <td>45.256127</td>\n",
       "      <td>0.0</td>\n",
       "    </tr>\n",
       "    <tr>\n",
       "      <th>min</th>\n",
       "      <td>2018.0</td>\n",
       "      <td>2018.000000</td>\n",
       "      <td>29.000000</td>\n",
       "      <td>1.0</td>\n",
       "    </tr>\n",
       "    <tr>\n",
       "      <th>25%</th>\n",
       "      <td>2018.0</td>\n",
       "      <td>2018.000000</td>\n",
       "      <td>63.000000</td>\n",
       "      <td>1.0</td>\n",
       "    </tr>\n",
       "    <tr>\n",
       "      <th>50%</th>\n",
       "      <td>2018.0</td>\n",
       "      <td>2018.000000</td>\n",
       "      <td>102.000000</td>\n",
       "      <td>1.0</td>\n",
       "    </tr>\n",
       "    <tr>\n",
       "      <th>75%</th>\n",
       "      <td>2018.0</td>\n",
       "      <td>2019.000000</td>\n",
       "      <td>146.250000</td>\n",
       "      <td>1.0</td>\n",
       "    </tr>\n",
       "    <tr>\n",
       "      <th>max</th>\n",
       "      <td>2018.0</td>\n",
       "      <td>2019.000000</td>\n",
       "      <td>179.000000</td>\n",
       "      <td>1.0</td>\n",
       "    </tr>\n",
       "  </tbody>\n",
       "</table>\n",
       "</div>"
      ],
      "text/plain": [
       "       checkout_year  return_year  duration_borrowed_days  \\\n",
       "count          132.0   132.000000              132.000000   \n",
       "mean          2018.0  2018.310606              105.666667   \n",
       "std              0.0     0.464505               45.256127   \n",
       "min           2018.0  2018.000000               29.000000   \n",
       "25%           2018.0  2018.000000               63.000000   \n",
       "50%           2018.0  2018.000000              102.000000   \n",
       "75%           2018.0  2019.000000              146.250000   \n",
       "max           2018.0  2019.000000              179.000000   \n",
       "\n",
       "       late_return_indicator  \n",
       "count                  132.0  \n",
       "mean                     1.0  \n",
       "std                      0.0  \n",
       "min                      1.0  \n",
       "25%                      1.0  \n",
       "50%                      1.0  \n",
       "75%                      1.0  \n",
       "max                      1.0  "
      ]
     },
     "execution_count": 26,
     "metadata": {},
     "output_type": "execute_result"
    }
   ],
   "source": [
    "late_returns.describe()"
   ]
  },
  {
   "cell_type": "markdown",
   "id": "starting-knight",
   "metadata": {},
   "source": [
    "## additional feature: due date is holiday\n",
    "a hypothesis for late returns is that the due date falls on or near a holiday, when patrons might be out of town or more likely to be otherwise occupied"
   ]
  },
  {
   "cell_type": "code",
   "execution_count": 27,
   "id": "amber-employee",
   "metadata": {},
   "outputs": [],
   "source": [
    "checkouts_df['date_due'] = checkouts_df['date_checkout'] + pd.Timedelta(28, unit='d')"
   ]
  },
  {
   "cell_type": "code",
   "execution_count": 28,
   "id": "structured-visibility",
   "metadata": {},
   "outputs": [],
   "source": [
    "import holidays\n",
    "us_holidays = []\n",
    "for date in holidays.US(years=checkouts_df['date_due'].apply(lambda x: int(x.year)).unique()).items(): \n",
    "    us_holidays.append(date[0])\n",
    "us_holidays = [pd.to_datetime(x) for x in us_holidays]"
   ]
  },
  {
   "cell_type": "markdown",
   "id": "otherwise-seattle",
   "metadata": {},
   "source": [
    "- we don't have data on holidays in the 1800s, which might be less relevant anyway "
   ]
  },
  {
   "cell_type": "code",
   "execution_count": 29,
   "id": "square-order",
   "metadata": {},
   "outputs": [],
   "source": [
    "checkouts_df['due_date_is_holiday'] = np.where(checkouts_df['date_due'].isin(us_holidays), 1, 0)"
   ]
  },
  {
   "cell_type": "code",
   "execution_count": 30,
   "id": "muslim-mixture",
   "metadata": {},
   "outputs": [
    {
     "data": {
      "text/plain": [
       "0    122\n",
       "1     10\n",
       "Name: due_date_is_holiday, dtype: int64"
      ]
     },
     "execution_count": 30,
     "metadata": {},
     "output_type": "execute_result"
    }
   ],
   "source": [
    "#proportion of late returns whose due date falls on a holiday \n",
    "checkouts_df[(checkouts_df['duration_borrowed_days']>28)&(checkouts_df['checkout_year']>2017)].due_date_is_holiday.value_counts()"
   ]
  },
  {
   "cell_type": "code",
   "execution_count": 31,
   "id": "applied-saver",
   "metadata": {},
   "outputs": [],
   "source": [
    "def days_from_closest_holiday(date, holiday_list): \n",
    "    \"This function returns the number of days between a given date and a given list of holidays\"\n",
    "    holiday_distance_list = [abs(date-x) for x in holiday_list]\n",
    "    smallest_distance = min(holiday_distance_list)\n",
    "    return smallest_distance"
   ]
  },
  {
   "cell_type": "code",
   "execution_count": 32,
   "id": "collected-browser",
   "metadata": {},
   "outputs": [],
   "source": [
    "checkouts_df['closest_holiday_distance'] = checkouts_df['date_due'].apply(lambda x: days_from_closest_holiday(x, us_holidays))\n",
    "checkouts_df['closest_holiday_distance'] = checkouts_df['closest_holiday_distance'].dt.days"
   ]
  },
  {
   "cell_type": "markdown",
   "id": "copyrighted-evidence",
   "metadata": {},
   "source": [
    "### exploring distance between date_due and closest_holiday in late returns vs timely returns"
   ]
  },
  {
   "cell_type": "markdown",
   "id": "significant-garlic",
   "metadata": {},
   "source": [
    "Below, I plot graphs to see distribution of distance between holiday and due_date between late returns and timely returns "
   ]
  },
  {
   "cell_type": "code",
   "execution_count": 33,
   "id": "minimal-measure",
   "metadata": {
    "scrolled": true
   },
   "outputs": [
    {
     "name": "stderr",
     "output_type": "stream",
     "text": [
      "/Users/garima/miniconda3/envs/reloc/lib/python3.7/site-packages/seaborn/distributions.py:2557: FutureWarning: `distplot` is a deprecated function and will be removed in a future version. Please adapt your code to use either `displot` (a figure-level function with similar flexibility) or `kdeplot` (an axes-level function for kernel density plots).\n",
      "  warnings.warn(msg, FutureWarning)\n",
      "/Users/garima/miniconda3/envs/reloc/lib/python3.7/site-packages/seaborn/distributions.py:2557: FutureWarning: `distplot` is a deprecated function and will be removed in a future version. Please adapt your code to use either `displot` (a figure-level function with similar flexibility) or `kdeplot` (an axes-level function for kernel density plots).\n",
      "  warnings.warn(msg, FutureWarning)\n"
     ]
    },
    {
     "data": {
      "image/png": "[encoded data removed]",
      "text/plain": [
       "<Figure size 432x288 with 1 Axes>"
      ]
     },
     "metadata": {
      "needs_background": "light"
     },
     "output_type": "display_data"
    }
   ],
   "source": [
    "ax = sns.distplot(checkouts_df[(checkouts_df['checkout_year']>2017)&(checkouts_df['late_return_indicator']==1)]['closest_holiday_distance'], hist=False, color='red')\n",
    "ax = sns.distplot(checkouts_df[(checkouts_df['checkout_year']>2017)&(checkouts_df['late_return_indicator']==0)]['closest_holiday_distance'], hist=False, color='green')"
   ]
  },
  {
   "cell_type": "markdown",
   "id": "suburban-boston",
   "metadata": {},
   "source": [
    "The above graph plots the distribution (probability density function) of the distance between due_date and the nearest holiday, the graph in red pertains to the late returns whereas the one in green pertains to timely returns. From this graph, the two groups seem largely similar, with due dates corresponding to late returns being marginally closer to a holiday than the due dates corresponding to timely returns. "
   ]
  },
  {
   "cell_type": "markdown",
   "id": "august-hearing",
   "metadata": {},
   "source": [
    "## additional feature: day of the week, month, day of the month\n",
    "same rationale as the holidays, maybe certain days of the week are less suitable for returning books"
   ]
  },
  {
   "cell_type": "code",
   "execution_count": 34,
   "id": "popular-chain",
   "metadata": {},
   "outputs": [],
   "source": [
    "checkouts_df['due_date_weekday'] = checkouts_df['date_due'].dt.weekday\n",
    "checkouts_df['due_date_month'] = checkouts_df['date_due'].dt.month\n",
    "checkouts_df['due_date_day'] = checkouts_df['date_due'].dt.day"
   ]
  },
  {
   "cell_type": "code",
   "execution_count": 35,
   "id": "novel-magic",
   "metadata": {},
   "outputs": [
    {
     "data": {
      "text/html": [
       "<div>\n",
       "<style scoped>\n",
       "    .dataframe tbody tr th:only-of-type {\n",
       "        vertical-align: middle;\n",
       "    }\n",
       "\n",
       "    .dataframe tbody tr th {\n",
       "        vertical-align: top;\n",
       "    }\n",
       "\n",
       "    .dataframe thead th {\n",
       "        text-align: right;\n",
       "    }\n",
       "</style>\n",
       "<table border=\"1\" class=\"dataframe\">\n",
       "  <thead>\n",
       "    <tr style=\"text-align: right;\">\n",
       "      <th></th>\n",
       "      <th>checkout_year</th>\n",
       "      <th>return_year</th>\n",
       "      <th>duration_borrowed_days</th>\n",
       "      <th>late_return_indicator</th>\n",
       "      <th>due_date_is_holiday</th>\n",
       "      <th>closest_holiday_distance</th>\n",
       "      <th>due_date_month</th>\n",
       "      <th>due_date_day</th>\n",
       "    </tr>\n",
       "    <tr>\n",
       "      <th>due_date_weekday</th>\n",
       "      <th></th>\n",
       "      <th></th>\n",
       "      <th></th>\n",
       "      <th></th>\n",
       "      <th></th>\n",
       "      <th></th>\n",
       "      <th></th>\n",
       "      <th></th>\n",
       "    </tr>\n",
       "  </thead>\n",
       "  <tbody>\n",
       "    <tr>\n",
       "      <th>0</th>\n",
       "      <td>2003.688034</td>\n",
       "      <td>2018.064103</td>\n",
       "      <td>5249.811966</td>\n",
       "      <td>0.149573</td>\n",
       "      <td>0.111111</td>\n",
       "      <td>5226.200855</td>\n",
       "      <td>6.004274</td>\n",
       "      <td>16.307692</td>\n",
       "    </tr>\n",
       "    <tr>\n",
       "      <th>1</th>\n",
       "      <td>2004.995495</td>\n",
       "      <td>2018.058559</td>\n",
       "      <td>4777.734234</td>\n",
       "      <td>0.184685</td>\n",
       "      <td>0.072072</td>\n",
       "      <td>4747.617117</td>\n",
       "      <td>6.355856</td>\n",
       "      <td>15.450450</td>\n",
       "    </tr>\n",
       "    <tr>\n",
       "      <th>2</th>\n",
       "      <td>2004.928230</td>\n",
       "      <td>2018.052632</td>\n",
       "      <td>4795.531100</td>\n",
       "      <td>0.172249</td>\n",
       "      <td>0.009569</td>\n",
       "      <td>4773.617225</td>\n",
       "      <td>6.311005</td>\n",
       "      <td>16.526316</td>\n",
       "    </tr>\n",
       "    <tr>\n",
       "      <th>3</th>\n",
       "      <td>2012.504348</td>\n",
       "      <td>2018.043478</td>\n",
       "      <td>2028.943478</td>\n",
       "      <td>0.104348</td>\n",
       "      <td>0.013043</td>\n",
       "      <td>2016.339130</td>\n",
       "      <td>6.317391</td>\n",
       "      <td>15.317391</td>\n",
       "    </tr>\n",
       "    <tr>\n",
       "      <th>4</th>\n",
       "      <td>2002.264706</td>\n",
       "      <td>2018.088235</td>\n",
       "      <td>5769.831933</td>\n",
       "      <td>0.159664</td>\n",
       "      <td>0.000000</td>\n",
       "      <td>5738.218487</td>\n",
       "      <td>6.504202</td>\n",
       "      <td>15.802521</td>\n",
       "    </tr>\n",
       "    <tr>\n",
       "      <th>5</th>\n",
       "      <td>2005.990476</td>\n",
       "      <td>2018.071429</td>\n",
       "      <td>4411.885714</td>\n",
       "      <td>0.147619</td>\n",
       "      <td>0.000000</td>\n",
       "      <td>4389.319048</td>\n",
       "      <td>6.642857</td>\n",
       "      <td>15.071429</td>\n",
       "    </tr>\n",
       "    <tr>\n",
       "      <th>6</th>\n",
       "      <td>2006.570707</td>\n",
       "      <td>2018.065657</td>\n",
       "      <td>4196.237374</td>\n",
       "      <td>0.085859</td>\n",
       "      <td>0.015152</td>\n",
       "      <td>4176.661616</td>\n",
       "      <td>6.469697</td>\n",
       "      <td>15.141414</td>\n",
       "    </tr>\n",
       "  </tbody>\n",
       "</table>\n",
       "</div>"
      ],
      "text/plain": [
       "                  checkout_year  return_year  duration_borrowed_days  \\\n",
       "due_date_weekday                                                       \n",
       "0                   2003.688034  2018.064103             5249.811966   \n",
       "1                   2004.995495  2018.058559             4777.734234   \n",
       "2                   2004.928230  2018.052632             4795.531100   \n",
       "3                   2012.504348  2018.043478             2028.943478   \n",
       "4                   2002.264706  2018.088235             5769.831933   \n",
       "5                   2005.990476  2018.071429             4411.885714   \n",
       "6                   2006.570707  2018.065657             4196.237374   \n",
       "\n",
       "                  late_return_indicator  due_date_is_holiday  \\\n",
       "due_date_weekday                                               \n",
       "0                              0.149573             0.111111   \n",
       "1                              0.184685             0.072072   \n",
       "2                              0.172249             0.009569   \n",
       "3                              0.104348             0.013043   \n",
       "4                              0.159664             0.000000   \n",
       "5                              0.147619             0.000000   \n",
       "6                              0.085859             0.015152   \n",
       "\n",
       "                  closest_holiday_distance  due_date_month  due_date_day  \n",
       "due_date_weekday                                                          \n",
       "0                              5226.200855        6.004274     16.307692  \n",
       "1                              4747.617117        6.355856     15.450450  \n",
       "2                              4773.617225        6.311005     16.526316  \n",
       "3                              2016.339130        6.317391     15.317391  \n",
       "4                              5738.218487        6.504202     15.802521  \n",
       "5                              4389.319048        6.642857     15.071429  \n",
       "6                              4176.661616        6.469697     15.141414  "
      ]
     },
     "execution_count": 35,
     "metadata": {},
     "output_type": "execute_result"
    }
   ],
   "source": [
    "checkouts_df.groupby('due_date_weekday').mean()"
   ]
  },
  {
   "cell_type": "markdown",
   "id": "wrapped-thickness",
   "metadata": {},
   "source": [
    "- 0: Monday, and 6: Sunday\n",
    "- Patrons most likely to return late when book is due on a Tuesday, followed by Friday"
   ]
  },
  {
   "cell_type": "code",
   "execution_count": 36,
   "id": "resident-former",
   "metadata": {},
   "outputs": [
    {
     "data": {
      "text/html": [
       "<div>\n",
       "<style scoped>\n",
       "    .dataframe tbody tr th:only-of-type {\n",
       "        vertical-align: middle;\n",
       "    }\n",
       "\n",
       "    .dataframe tbody tr th {\n",
       "        vertical-align: top;\n",
       "    }\n",
       "\n",
       "    .dataframe thead th {\n",
       "        text-align: right;\n",
       "    }\n",
       "</style>\n",
       "<table border=\"1\" class=\"dataframe\">\n",
       "  <thead>\n",
       "    <tr style=\"text-align: right;\">\n",
       "      <th></th>\n",
       "      <th>checkout_year</th>\n",
       "      <th>return_year</th>\n",
       "      <th>duration_borrowed_days</th>\n",
       "      <th>late_return_indicator</th>\n",
       "      <th>due_date_is_holiday</th>\n",
       "      <th>closest_holiday_distance</th>\n",
       "      <th>due_date_weekday</th>\n",
       "      <th>due_date_day</th>\n",
       "    </tr>\n",
       "    <tr>\n",
       "      <th>due_date_month</th>\n",
       "      <th></th>\n",
       "      <th></th>\n",
       "      <th></th>\n",
       "      <th></th>\n",
       "      <th></th>\n",
       "      <th></th>\n",
       "      <th></th>\n",
       "      <th></th>\n",
       "    </tr>\n",
       "  </thead>\n",
       "  <tbody>\n",
       "    <tr>\n",
       "      <th>1</th>\n",
       "      <td>2004.260870</td>\n",
       "      <td>2018.492754</td>\n",
       "      <td>5037.144928</td>\n",
       "      <td>0.181159</td>\n",
       "      <td>0.101449</td>\n",
       "      <td>4998.695652</td>\n",
       "      <td>2.818841</td>\n",
       "      <td>15.333333</td>\n",
       "    </tr>\n",
       "    <tr>\n",
       "      <th>2</th>\n",
       "      <td>2009.859375</td>\n",
       "      <td>2018.000000</td>\n",
       "      <td>3002.828125</td>\n",
       "      <td>0.132812</td>\n",
       "      <td>0.054688</td>\n",
       "      <td>2978.757812</td>\n",
       "      <td>2.984375</td>\n",
       "      <td>14.953125</td>\n",
       "    </tr>\n",
       "    <tr>\n",
       "      <th>3</th>\n",
       "      <td>2006.893939</td>\n",
       "      <td>2018.000000</td>\n",
       "      <td>4085.378788</td>\n",
       "      <td>0.121212</td>\n",
       "      <td>0.000000</td>\n",
       "      <td>4076.189394</td>\n",
       "      <td>2.825758</td>\n",
       "      <td>15.977273</td>\n",
       "    </tr>\n",
       "    <tr>\n",
       "      <th>4</th>\n",
       "      <td>2010.463768</td>\n",
       "      <td>2018.007246</td>\n",
       "      <td>2779.434783</td>\n",
       "      <td>0.115942</td>\n",
       "      <td>0.000000</td>\n",
       "      <td>2786.673913</td>\n",
       "      <td>2.876812</td>\n",
       "      <td>16.239130</td>\n",
       "    </tr>\n",
       "    <tr>\n",
       "      <th>5</th>\n",
       "      <td>2003.285714</td>\n",
       "      <td>2018.000000</td>\n",
       "      <td>5405.587302</td>\n",
       "      <td>0.182540</td>\n",
       "      <td>0.023810</td>\n",
       "      <td>5376.388889</td>\n",
       "      <td>2.674603</td>\n",
       "      <td>15.928571</td>\n",
       "    </tr>\n",
       "    <tr>\n",
       "      <th>6</th>\n",
       "      <td>2006.243902</td>\n",
       "      <td>2018.000000</td>\n",
       "      <td>4317.682927</td>\n",
       "      <td>0.097561</td>\n",
       "      <td>0.000000</td>\n",
       "      <td>4294.634146</td>\n",
       "      <td>2.715447</td>\n",
       "      <td>15.707317</td>\n",
       "    </tr>\n",
       "    <tr>\n",
       "      <th>7</th>\n",
       "      <td>2006.391608</td>\n",
       "      <td>2018.000000</td>\n",
       "      <td>4263.132867</td>\n",
       "      <td>0.132867</td>\n",
       "      <td>0.013986</td>\n",
       "      <td>4241.286713</td>\n",
       "      <td>2.804196</td>\n",
       "      <td>16.552448</td>\n",
       "    </tr>\n",
       "    <tr>\n",
       "      <th>8</th>\n",
       "      <td>2007.186567</td>\n",
       "      <td>2018.007463</td>\n",
       "      <td>3973.925373</td>\n",
       "      <td>0.149254</td>\n",
       "      <td>0.000000</td>\n",
       "      <td>3955.679104</td>\n",
       "      <td>3.171642</td>\n",
       "      <td>14.791045</td>\n",
       "    </tr>\n",
       "    <tr>\n",
       "      <th>9</th>\n",
       "      <td>1999.336000</td>\n",
       "      <td>2018.016000</td>\n",
       "      <td>6835.808000</td>\n",
       "      <td>0.176000</td>\n",
       "      <td>0.048000</td>\n",
       "      <td>6802.040000</td>\n",
       "      <td>3.216000</td>\n",
       "      <td>15.056000</td>\n",
       "    </tr>\n",
       "    <tr>\n",
       "      <th>10</th>\n",
       "      <td>2005.644068</td>\n",
       "      <td>2018.067797</td>\n",
       "      <td>4532.881356</td>\n",
       "      <td>0.144068</td>\n",
       "      <td>0.016949</td>\n",
       "      <td>4503.771186</td>\n",
       "      <td>3.245763</td>\n",
       "      <td>15.466102</td>\n",
       "    </tr>\n",
       "    <tr>\n",
       "      <th>11</th>\n",
       "      <td>2004.398148</td>\n",
       "      <td>2018.064815</td>\n",
       "      <td>4985.768519</td>\n",
       "      <td>0.148148</td>\n",
       "      <td>0.083333</td>\n",
       "      <td>4951.055556</td>\n",
       "      <td>2.842593</td>\n",
       "      <td>15.435185</td>\n",
       "    </tr>\n",
       "    <tr>\n",
       "      <th>12</th>\n",
       "      <td>2005.117188</td>\n",
       "      <td>2018.085938</td>\n",
       "      <td>4719.960938</td>\n",
       "      <td>0.148438</td>\n",
       "      <td>0.054688</td>\n",
       "      <td>4690.742188</td>\n",
       "      <td>3.046875</td>\n",
       "      <td>16.445312</td>\n",
       "    </tr>\n",
       "  </tbody>\n",
       "</table>\n",
       "</div>"
      ],
      "text/plain": [
       "                checkout_year  return_year  duration_borrowed_days  \\\n",
       "due_date_month                                                       \n",
       "1                 2004.260870  2018.492754             5037.144928   \n",
       "2                 2009.859375  2018.000000             3002.828125   \n",
       "3                 2006.893939  2018.000000             4085.378788   \n",
       "4                 2010.463768  2018.007246             2779.434783   \n",
       "5                 2003.285714  2018.000000             5405.587302   \n",
       "6                 2006.243902  2018.000000             4317.682927   \n",
       "7                 2006.391608  2018.000000             4263.132867   \n",
       "8                 2007.186567  2018.007463             3973.925373   \n",
       "9                 1999.336000  2018.016000             6835.808000   \n",
       "10                2005.644068  2018.067797             4532.881356   \n",
       "11                2004.398148  2018.064815             4985.768519   \n",
       "12                2005.117188  2018.085938             4719.960938   \n",
       "\n",
       "                late_return_indicator  due_date_is_holiday  \\\n",
       "due_date_month                                               \n",
       "1                            0.181159             0.101449   \n",
       "2                            0.132812             0.054688   \n",
       "3                            0.121212             0.000000   \n",
       "4                            0.115942             0.000000   \n",
       "5                            0.182540             0.023810   \n",
       "6                            0.097561             0.000000   \n",
       "7                            0.132867             0.013986   \n",
       "8                            0.149254             0.000000   \n",
       "9                            0.176000             0.048000   \n",
       "10                           0.144068             0.016949   \n",
       "11                           0.148148             0.083333   \n",
       "12                           0.148438             0.054688   \n",
       "\n",
       "                closest_holiday_distance  due_date_weekday  due_date_day  \n",
       "due_date_month                                                            \n",
       "1                            4998.695652          2.818841     15.333333  \n",
       "2                            2978.757812          2.984375     14.953125  \n",
       "3                            4076.189394          2.825758     15.977273  \n",
       "4                            2786.673913          2.876812     16.239130  \n",
       "5                            5376.388889          2.674603     15.928571  \n",
       "6                            4294.634146          2.715447     15.707317  \n",
       "7                            4241.286713          2.804196     16.552448  \n",
       "8                            3955.679104          3.171642     14.791045  \n",
       "9                            6802.040000          3.216000     15.056000  \n",
       "10                           4503.771186          3.245763     15.466102  \n",
       "11                           4951.055556          2.842593     15.435185  \n",
       "12                           4690.742188          3.046875     16.445312  "
      ]
     },
     "execution_count": 36,
     "metadata": {},
     "output_type": "execute_result"
    }
   ],
   "source": [
    "checkouts_df.groupby('due_date_month').mean()"
   ]
  },
  {
   "cell_type": "code",
   "execution_count": 37,
   "id": "standard-brown",
   "metadata": {},
   "outputs": [
    {
     "data": {
      "text/plain": [
       "<AxesSubplot:xlabel='due_date_month'>"
      ]
     },
     "execution_count": 37,
     "metadata": {},
     "output_type": "execute_result"
    },
    {
     "data": {
      "image/png": "[encoded data removed]",
      "text/plain": [
       "<Figure size 432x288 with 1 Axes>"
      ]
     },
     "metadata": {
      "needs_background": "light"
     },
     "output_type": "display_data"
    }
   ],
   "source": [
    "checkouts_df.groupby('due_date_month').mean()[['late_return_indicator']].plot()"
   ]
  },
  {
   "cell_type": "markdown",
   "id": "conscious-colony",
   "metadata": {},
   "source": [
    "- Books due in Jan, May, and Sept are returned late more frequently than others"
   ]
  },
  {
   "cell_type": "code",
   "execution_count": 38,
   "id": "short-technology",
   "metadata": {},
   "outputs": [
    {
     "data": {
      "text/plain": [
       "<AxesSubplot:xlabel='due_date_day'>"
      ]
     },
     "execution_count": 38,
     "metadata": {},
     "output_type": "execute_result"
    },
    {
     "data": {
      "image/png": "[encoded data removed]",
      "text/plain": [
       "<Figure size 432x288 with 1 Axes>"
      ]
     },
     "metadata": {
      "needs_background": "light"
     },
     "output_type": "display_data"
    }
   ],
   "source": [
    "checkouts_df.groupby('due_date_day').mean()[['late_return_indicator']].plot()"
   ]
  },
  {
   "cell_type": "markdown",
   "id": "corporate-hurricane",
   "metadata": {},
   "source": [
    "- again, we see some separation by day-of-the-month that the book is due by, with starting and end of months seeing more lapse in timely return. "
   ]
  },
  {
   "cell_type": "code",
   "execution_count": 39,
   "id": "double-mechanism",
   "metadata": {},
   "outputs": [],
   "source": [
    "checkouts_df['due_date_year'] = checkouts_df['date_due'].dt.year"
   ]
  },
  {
   "cell_type": "code",
   "execution_count": 40,
   "id": "imported-cutting",
   "metadata": {},
   "outputs": [
    {
     "data": {
      "text/html": [
       "<div>\n",
       "<style scoped>\n",
       "    .dataframe tbody tr th:only-of-type {\n",
       "        vertical-align: middle;\n",
       "    }\n",
       "\n",
       "    .dataframe tbody tr th {\n",
       "        vertical-align: top;\n",
       "    }\n",
       "\n",
       "    .dataframe thead th {\n",
       "        text-align: right;\n",
       "    }\n",
       "</style>\n",
       "<table border=\"1\" class=\"dataframe\">\n",
       "  <thead>\n",
       "    <tr style=\"text-align: right;\">\n",
       "      <th></th>\n",
       "      <th>checkout_year</th>\n",
       "      <th>return_year</th>\n",
       "      <th>duration_borrowed_days</th>\n",
       "      <th>late_return_indicator</th>\n",
       "      <th>due_date_is_holiday</th>\n",
       "      <th>closest_holiday_distance</th>\n",
       "      <th>due_date_weekday</th>\n",
       "      <th>due_date_month</th>\n",
       "      <th>due_date_day</th>\n",
       "    </tr>\n",
       "    <tr>\n",
       "      <th>due_date_year</th>\n",
       "      <th></th>\n",
       "      <th></th>\n",
       "      <th></th>\n",
       "      <th></th>\n",
       "      <th></th>\n",
       "      <th></th>\n",
       "      <th></th>\n",
       "      <th></th>\n",
       "      <th></th>\n",
       "    </tr>\n",
       "  </thead>\n",
       "  <tbody>\n",
       "    <tr>\n",
       "      <th>1800</th>\n",
       "      <td>1800.000000</td>\n",
       "      <td>2018.000000</td>\n",
       "      <td>79520.500000</td>\n",
       "      <td>1.000000</td>\n",
       "      <td>0.000000</td>\n",
       "      <td>79340.500000</td>\n",
       "      <td>4.500000</td>\n",
       "      <td>10.000000</td>\n",
       "      <td>10.000000</td>\n",
       "    </tr>\n",
       "    <tr>\n",
       "      <th>1801</th>\n",
       "      <td>1800.714286</td>\n",
       "      <td>2018.000000</td>\n",
       "      <td>79269.285714</td>\n",
       "      <td>1.000000</td>\n",
       "      <td>0.000000</td>\n",
       "      <td>79086.000000</td>\n",
       "      <td>2.000000</td>\n",
       "      <td>6.142857</td>\n",
       "      <td>17.142857</td>\n",
       "    </tr>\n",
       "    <tr>\n",
       "      <th>1802</th>\n",
       "      <td>1802.000000</td>\n",
       "      <td>2018.000000</td>\n",
       "      <td>78861.400000</td>\n",
       "      <td>1.000000</td>\n",
       "      <td>0.000000</td>\n",
       "      <td>78710.400000</td>\n",
       "      <td>3.200000</td>\n",
       "      <td>6.400000</td>\n",
       "      <td>19.400000</td>\n",
       "    </tr>\n",
       "    <tr>\n",
       "      <th>1803</th>\n",
       "      <td>1803.000000</td>\n",
       "      <td>2018.333333</td>\n",
       "      <td>78679.666667</td>\n",
       "      <td>1.000000</td>\n",
       "      <td>0.000000</td>\n",
       "      <td>78356.333333</td>\n",
       "      <td>4.000000</td>\n",
       "      <td>6.333333</td>\n",
       "      <td>11.333333</td>\n",
       "    </tr>\n",
       "    <tr>\n",
       "      <th>1804</th>\n",
       "      <td>1803.833333</td>\n",
       "      <td>2018.000000</td>\n",
       "      <td>78227.000000</td>\n",
       "      <td>1.000000</td>\n",
       "      <td>0.000000</td>\n",
       "      <td>77998.666667</td>\n",
       "      <td>2.333333</td>\n",
       "      <td>5.833333</td>\n",
       "      <td>18.500000</td>\n",
       "    </tr>\n",
       "    <tr>\n",
       "      <th>1805</th>\n",
       "      <td>1804.857143</td>\n",
       "      <td>2018.142857</td>\n",
       "      <td>77944.000000</td>\n",
       "      <td>1.000000</td>\n",
       "      <td>0.000000</td>\n",
       "      <td>77652.285714</td>\n",
       "      <td>1.714286</td>\n",
       "      <td>5.428571</td>\n",
       "      <td>12.142857</td>\n",
       "    </tr>\n",
       "    <tr>\n",
       "      <th>1806</th>\n",
       "      <td>1806.000000</td>\n",
       "      <td>2018.000000</td>\n",
       "      <td>77386.000000</td>\n",
       "      <td>1.000000</td>\n",
       "      <td>0.000000</td>\n",
       "      <td>77125.750000</td>\n",
       "      <td>2.000000</td>\n",
       "      <td>10.250000</td>\n",
       "      <td>26.500000</td>\n",
       "    </tr>\n",
       "    <tr>\n",
       "      <th>1807</th>\n",
       "      <td>1806.333333</td>\n",
       "      <td>2018.333333</td>\n",
       "      <td>77291.666667</td>\n",
       "      <td>1.000000</td>\n",
       "      <td>0.000000</td>\n",
       "      <td>76983.000000</td>\n",
       "      <td>3.000000</td>\n",
       "      <td>3.333333</td>\n",
       "      <td>14.333333</td>\n",
       "    </tr>\n",
       "    <tr>\n",
       "      <th>1808</th>\n",
       "      <td>1808.000000</td>\n",
       "      <td>2018.000000</td>\n",
       "      <td>76657.666667</td>\n",
       "      <td>1.000000</td>\n",
       "      <td>0.000000</td>\n",
       "      <td>76454.666667</td>\n",
       "      <td>1.666667</td>\n",
       "      <td>8.666667</td>\n",
       "      <td>15.000000</td>\n",
       "    </tr>\n",
       "    <tr>\n",
       "      <th>1809</th>\n",
       "      <td>1809.000000</td>\n",
       "      <td>2018.000000</td>\n",
       "      <td>76296.444444</td>\n",
       "      <td>1.000000</td>\n",
       "      <td>0.000000</td>\n",
       "      <td>76128.666667</td>\n",
       "      <td>3.333333</td>\n",
       "      <td>7.333333</td>\n",
       "      <td>16.777778</td>\n",
       "    </tr>\n",
       "    <tr>\n",
       "      <th>1810</th>\n",
       "      <td>1810.000000</td>\n",
       "      <td>2018.000000</td>\n",
       "      <td>75896.333333</td>\n",
       "      <td>1.000000</td>\n",
       "      <td>0.000000</td>\n",
       "      <td>75765.333333</td>\n",
       "      <td>5.000000</td>\n",
       "      <td>7.333333</td>\n",
       "      <td>14.000000</td>\n",
       "    </tr>\n",
       "    <tr>\n",
       "      <th>1811</th>\n",
       "      <td>1810.833333</td>\n",
       "      <td>2018.333333</td>\n",
       "      <td>75802.833333</td>\n",
       "      <td>1.000000</td>\n",
       "      <td>0.000000</td>\n",
       "      <td>75480.500000</td>\n",
       "      <td>2.833333</td>\n",
       "      <td>4.666667</td>\n",
       "      <td>16.166667</td>\n",
       "    </tr>\n",
       "    <tr>\n",
       "      <th>1812</th>\n",
       "      <td>1812.000000</td>\n",
       "      <td>2018.000000</td>\n",
       "      <td>75462.000000</td>\n",
       "      <td>1.000000</td>\n",
       "      <td>0.000000</td>\n",
       "      <td>75082.500000</td>\n",
       "      <td>3.000000</td>\n",
       "      <td>6.000000</td>\n",
       "      <td>7.500000</td>\n",
       "    </tr>\n",
       "    <tr>\n",
       "      <th>1813</th>\n",
       "      <td>1813.000000</td>\n",
       "      <td>2018.000000</td>\n",
       "      <td>74976.000000</td>\n",
       "      <td>1.000000</td>\n",
       "      <td>0.000000</td>\n",
       "      <td>74649.000000</td>\n",
       "      <td>6.000000</td>\n",
       "      <td>8.000000</td>\n",
       "      <td>15.000000</td>\n",
       "    </tr>\n",
       "    <tr>\n",
       "      <th>1814</th>\n",
       "      <td>1814.000000</td>\n",
       "      <td>2018.000000</td>\n",
       "      <td>74491.750000</td>\n",
       "      <td>1.000000</td>\n",
       "      <td>0.000000</td>\n",
       "      <td>74280.500000</td>\n",
       "      <td>1.750000</td>\n",
       "      <td>7.750000</td>\n",
       "      <td>26.250000</td>\n",
       "    </tr>\n",
       "    <tr>\n",
       "      <th>1815</th>\n",
       "      <td>1815.000000</td>\n",
       "      <td>2018.000000</td>\n",
       "      <td>74216.750000</td>\n",
       "      <td>1.000000</td>\n",
       "      <td>0.000000</td>\n",
       "      <td>73973.500000</td>\n",
       "      <td>4.250000</td>\n",
       "      <td>6.250000</td>\n",
       "      <td>13.250000</td>\n",
       "    </tr>\n",
       "    <tr>\n",
       "      <th>1816</th>\n",
       "      <td>1816.000000</td>\n",
       "      <td>2018.000000</td>\n",
       "      <td>73852.666667</td>\n",
       "      <td>1.000000</td>\n",
       "      <td>0.000000</td>\n",
       "      <td>73512.333333</td>\n",
       "      <td>4.000000</td>\n",
       "      <td>9.333333</td>\n",
       "      <td>15.000000</td>\n",
       "    </tr>\n",
       "    <tr>\n",
       "      <th>1817</th>\n",
       "      <td>1817.000000</td>\n",
       "      <td>2018.000000</td>\n",
       "      <td>73361.000000</td>\n",
       "      <td>1.000000</td>\n",
       "      <td>0.000000</td>\n",
       "      <td>73175.000000</td>\n",
       "      <td>3.000000</td>\n",
       "      <td>8.400000</td>\n",
       "      <td>16.000000</td>\n",
       "    </tr>\n",
       "    <tr>\n",
       "      <th>1818</th>\n",
       "      <td>1817.666667</td>\n",
       "      <td>2018.000000</td>\n",
       "      <td>73232.000000</td>\n",
       "      <td>1.000000</td>\n",
       "      <td>0.000000</td>\n",
       "      <td>72961.666667</td>\n",
       "      <td>4.000000</td>\n",
       "      <td>3.333333</td>\n",
       "      <td>18.333333</td>\n",
       "    </tr>\n",
       "    <tr>\n",
       "      <th>1819</th>\n",
       "      <td>1819.000000</td>\n",
       "      <td>2018.000000</td>\n",
       "      <td>72700.000000</td>\n",
       "      <td>1.000000</td>\n",
       "      <td>0.000000</td>\n",
       "      <td>72504.200000</td>\n",
       "      <td>1.800000</td>\n",
       "      <td>6.600000</td>\n",
       "      <td>11.200000</td>\n",
       "    </tr>\n",
       "    <tr>\n",
       "      <th>1820</th>\n",
       "      <td>1820.000000</td>\n",
       "      <td>2018.000000</td>\n",
       "      <td>72300.750000</td>\n",
       "      <td>1.000000</td>\n",
       "      <td>0.000000</td>\n",
       "      <td>72106.250000</td>\n",
       "      <td>2.500000</td>\n",
       "      <td>7.750000</td>\n",
       "      <td>8.500000</td>\n",
       "    </tr>\n",
       "    <tr>\n",
       "      <th>1821</th>\n",
       "      <td>1820.000000</td>\n",
       "      <td>2018.000000</td>\n",
       "      <td>72309.000000</td>\n",
       "      <td>1.000000</td>\n",
       "      <td>0.000000</td>\n",
       "      <td>71952.000000</td>\n",
       "      <td>1.000000</td>\n",
       "      <td>1.000000</td>\n",
       "      <td>2.000000</td>\n",
       "    </tr>\n",
       "    <tr>\n",
       "      <th>2018</th>\n",
       "      <td>2018.000000</td>\n",
       "      <td>2018.020240</td>\n",
       "      <td>24.032984</td>\n",
       "      <td>0.088456</td>\n",
       "      <td>0.026987</td>\n",
       "      <td>14.706897</td>\n",
       "      <td>2.928036</td>\n",
       "      <td>6.817091</td>\n",
       "      <td>15.809595</td>\n",
       "    </tr>\n",
       "    <tr>\n",
       "      <th>2019</th>\n",
       "      <td>2018.000000</td>\n",
       "      <td>2018.564103</td>\n",
       "      <td>25.076923</td>\n",
       "      <td>0.119658</td>\n",
       "      <td>0.119658</td>\n",
       "      <td>4.435897</td>\n",
       "      <td>3.059829</td>\n",
       "      <td>1.000000</td>\n",
       "      <td>14.068376</td>\n",
       "    </tr>\n",
       "  </tbody>\n",
       "</table>\n",
       "</div>"
      ],
      "text/plain": [
       "               checkout_year  return_year  duration_borrowed_days  \\\n",
       "due_date_year                                                       \n",
       "1800             1800.000000  2018.000000            79520.500000   \n",
       "1801             1800.714286  2018.000000            79269.285714   \n",
       "1802             1802.000000  2018.000000            78861.400000   \n",
       "1803             1803.000000  2018.333333            78679.666667   \n",
       "1804             1803.833333  2018.000000            78227.000000   \n",
       "1805             1804.857143  2018.142857            77944.000000   \n",
       "1806             1806.000000  2018.000000            77386.000000   \n",
       "1807             1806.333333  2018.333333            77291.666667   \n",
       "1808             1808.000000  2018.000000            76657.666667   \n",
       "1809             1809.000000  2018.000000            76296.444444   \n",
       "1810             1810.000000  2018.000000            75896.333333   \n",
       "1811             1810.833333  2018.333333            75802.833333   \n",
       "1812             1812.000000  2018.000000            75462.000000   \n",
       "1813             1813.000000  2018.000000            74976.000000   \n",
       "1814             1814.000000  2018.000000            74491.750000   \n",
       "1815             1815.000000  2018.000000            74216.750000   \n",
       "1816             1816.000000  2018.000000            73852.666667   \n",
       "1817             1817.000000  2018.000000            73361.000000   \n",
       "1818             1817.666667  2018.000000            73232.000000   \n",
       "1819             1819.000000  2018.000000            72700.000000   \n",
       "1820             1820.000000  2018.000000            72300.750000   \n",
       "1821             1820.000000  2018.000000            72309.000000   \n",
       "2018             2018.000000  2018.020240               24.032984   \n",
       "2019             2018.000000  2018.564103               25.076923   \n",
       "\n",
       "               late_return_indicator  due_date_is_holiday  \\\n",
       "due_date_year                                               \n",
       "1800                        1.000000             0.000000   \n",
       "1801                        1.000000             0.000000   \n",
       "1802                        1.000000             0.000000   \n",
       "1803                        1.000000             0.000000   \n",
       "1804                        1.000000             0.000000   \n",
       "1805                        1.000000             0.000000   \n",
       "1806                        1.000000             0.000000   \n",
       "1807                        1.000000             0.000000   \n",
       "1808                        1.000000             0.000000   \n",
       "1809                        1.000000             0.000000   \n",
       "1810                        1.000000             0.000000   \n",
       "1811                        1.000000             0.000000   \n",
       "1812                        1.000000             0.000000   \n",
       "1813                        1.000000             0.000000   \n",
       "1814                        1.000000             0.000000   \n",
       "1815                        1.000000             0.000000   \n",
       "1816                        1.000000             0.000000   \n",
       "1817                        1.000000             0.000000   \n",
       "1818                        1.000000             0.000000   \n",
       "1819                        1.000000             0.000000   \n",
       "1820                        1.000000             0.000000   \n",
       "1821                        1.000000             0.000000   \n",
       "2018                        0.088456             0.026987   \n",
       "2019                        0.119658             0.119658   \n",
       "\n",
       "               closest_holiday_distance  due_date_weekday  due_date_month  \\\n",
       "due_date_year                                                               \n",
       "1800                       79340.500000          4.500000       10.000000   \n",
       "1801                       79086.000000          2.000000        6.142857   \n",
       "1802                       78710.400000          3.200000        6.400000   \n",
       "1803                       78356.333333          4.000000        6.333333   \n",
       "1804                       77998.666667          2.333333        5.833333   \n",
       "1805                       77652.285714          1.714286        5.428571   \n",
       "1806                       77125.750000          2.000000       10.250000   \n",
       "1807                       76983.000000          3.000000        3.333333   \n",
       "1808                       76454.666667          1.666667        8.666667   \n",
       "1809                       76128.666667          3.333333        7.333333   \n",
       "1810                       75765.333333          5.000000        7.333333   \n",
       "1811                       75480.500000          2.833333        4.666667   \n",
       "1812                       75082.500000          3.000000        6.000000   \n",
       "1813                       74649.000000          6.000000        8.000000   \n",
       "1814                       74280.500000          1.750000        7.750000   \n",
       "1815                       73973.500000          4.250000        6.250000   \n",
       "1816                       73512.333333          4.000000        9.333333   \n",
       "1817                       73175.000000          3.000000        8.400000   \n",
       "1818                       72961.666667          4.000000        3.333333   \n",
       "1819                       72504.200000          1.800000        6.600000   \n",
       "1820                       72106.250000          2.500000        7.750000   \n",
       "1821                       71952.000000          1.000000        1.000000   \n",
       "2018                          14.706897          2.928036        6.817091   \n",
       "2019                           4.435897          3.059829        1.000000   \n",
       "\n",
       "               due_date_day  \n",
       "due_date_year                \n",
       "1800              10.000000  \n",
       "1801              17.142857  \n",
       "1802              19.400000  \n",
       "1803              11.333333  \n",
       "1804              18.500000  \n",
       "1805              12.142857  \n",
       "1806              26.500000  \n",
       "1807              14.333333  \n",
       "1808              15.000000  \n",
       "1809              16.777778  \n",
       "1810              14.000000  \n",
       "1811              16.166667  \n",
       "1812               7.500000  \n",
       "1813              15.000000  \n",
       "1814              26.250000  \n",
       "1815              13.250000  \n",
       "1816              15.000000  \n",
       "1817              16.000000  \n",
       "1818              18.333333  \n",
       "1819              11.200000  \n",
       "1820               8.500000  \n",
       "1821               2.000000  \n",
       "2018              15.809595  \n",
       "2019              14.068376  "
      ]
     },
     "execution_count": 40,
     "metadata": {},
     "output_type": "execute_result"
    }
   ],
   "source": [
    "checkouts_df.groupby('due_date_year').mean()"
   ]
  },
  {
   "cell_type": "markdown",
   "id": "focused-tournament",
   "metadata": {},
   "source": [
    "## saving cleaned dataset to disk"
   ]
  },
  {
   "cell_type": "code",
   "execution_count": 41,
   "id": "short-amount",
   "metadata": {},
   "outputs": [],
   "source": [
    "checkouts_df.to_csv(out_dir/'checkouts_cleaned.csv', index=False)"
   ]
  }
 ],
 "metadata": {
  "kernelspec": {
   "display_name": "Python 3",
   "language": "python",
   "name": "python3"
  },
  "language_info": {
   "codemirror_mode": {
    "name": "ipython",
    "version": 3
   },
   "file_extension": ".py",
   "mimetype": "text/x-python",
   "name": "python",
   "nbconvert_exporter": "python",
   "pygments_lexer": "ipython3",
   "version": "3.7.9"
  },
  "toc": {
   "base_numbering": 1,
   "nav_menu": {},
   "number_sections": false,
   "sideBar": true,
   "skip_h1_title": true,
   "title_cell": "Table of Contents",
   "title_sidebar": "Contents",
   "toc_cell": true,
   "toc_position": {},
   "toc_section_display": true,
   "toc_window_display": false
  },
  "varInspector": {
   "cols": {
    "lenName": 16,
    "lenType": 16,
    "lenVar": 40
   },
   "kernels_config": {
    "python": {
     "delete_cmd_postfix": "",
     "delete_cmd_prefix": "del ",
     "library": "var_list.py",
     "varRefreshCmd": "print(var_dic_list())"
    },
    "r": {
     "delete_cmd_postfix": ") ",
     "delete_cmd_prefix": "rm(",
     "library": "var_list.r",
     "varRefreshCmd": "cat(var_dic_list()) "
    }
   },
   "types_to_exclude": [
    "module",
    "function",
    "builtin_function_or_method",
    "instance",
    "_Feature"
   ],
   "window_display": false
  }
 },
 "nbformat": 4,
 "nbformat_minor": 5
}
