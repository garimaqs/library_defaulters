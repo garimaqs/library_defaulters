{
 "cells": [
  {
   "cell_type": "markdown",
   "id": "harmful-fireplace",
   "metadata": {},
   "source": [
    "# Cleaning & Exploratory Data Analysis of the checkouts data\n",
    "This notebook is for initial exploration of the datasets associated with this challenge. "
   ]
  },
  {
   "cell_type": "markdown",
   "id": "allied-corpus",
   "metadata": {},
   "source": [
    "## imports "
   ]
  },
  {
   "cell_type": "code",
   "execution_count": 1,
   "id": "grand-young",
   "metadata": {},
   "outputs": [],
   "source": [
    "import os, sys, glob # for loading, saving and manipulating files on disk\n",
    "from pathlib import Path # Path allows us to list directory paths in a manner that's not affected by the OS the notebook is being run on \n",
    "\n",
    "import pandas as pd # to work with csv files as dataframes \n",
    "import numpy as np # for mathematical and scientific computations \n",
    "\n",
    "import matplotlib.pyplot as plt # for plots \n",
    "import seaborn as sns # also for plotting, it's a wrapper for several matplotlib functions, making them more accessible "
   ]
  },
  {
   "cell_type": "markdown",
   "id": "incredible-allowance",
   "metadata": {
    "heading_collapsed": true
   },
   "source": [
    "## loading data"
   ]
  },
  {
   "cell_type": "code",
   "execution_count": 2,
   "id": "better-calibration",
   "metadata": {
    "hidden": true
   },
   "outputs": [],
   "source": [
    "data_dir = Path.home()/'projects'/'billups_data_challenge'/'Data Challenge' # specifies the directory with data files\n",
    "out_dir = data_dir.parent/'cleaned_data' # directory for storing intermediate outputs such as cleaned data\n",
    "out_dir.mkdir(exist_ok=True) #creating the output directory, while making sure it's not overwritten if it already exists"
   ]
  },
  {
   "cell_type": "code",
   "execution_count": 3,
   "id": "unauthorized-concern",
   "metadata": {
    "hidden": true
   },
   "outputs": [],
   "source": [
    "checkouts_df = pd.read_csv(data_dir/'checkouts.csv')"
   ]
  },
  {
   "cell_type": "markdown",
   "id": "prerequisite-mediterranean",
   "metadata": {
    "heading_collapsed": true
   },
   "source": [
    "## investigating the data"
   ]
  },
  {
   "cell_type": "markdown",
   "id": "directed-emission",
   "metadata": {
    "heading_collapsed": true,
    "hidden": true
   },
   "source": [
    "### visual inspection"
   ]
  },
  {
   "cell_type": "code",
   "execution_count": 4,
   "id": "optional-detector",
   "metadata": {
    "hidden": true
   },
   "outputs": [
    {
     "data": {
      "text/plain": [
       "(2000, 5)"
      ]
     },
     "execution_count": 4,
     "metadata": {},
     "output_type": "execute_result"
    }
   ],
   "source": [
    "checkouts_df.shape # checking the size of the data"
   ]
  },
  {
   "cell_type": "code",
   "execution_count": 5,
   "id": "indoor-small",
   "metadata": {
    "hidden": true
   },
   "outputs": [
    {
     "data": {
      "text/html": [
       "<div>\n",
       "<style scoped>\n",
       "    .dataframe tbody tr th:only-of-type {\n",
       "        vertical-align: middle;\n",
       "    }\n",
       "\n",
       "    .dataframe tbody tr th {\n",
       "        vertical-align: top;\n",
       "    }\n",
       "\n",
       "    .dataframe thead th {\n",
       "        text-align: right;\n",
       "    }\n",
       "</style>\n",
       "<table border=\"1\" class=\"dataframe\">\n",
       "  <thead>\n",
       "    <tr style=\"text-align: right;\">\n",
       "      <th></th>\n",
       "      <th>id</th>\n",
       "      <th>patron_id</th>\n",
       "      <th>library_id</th>\n",
       "      <th>date_checkout</th>\n",
       "      <th>date_returned</th>\n",
       "    </tr>\n",
       "  </thead>\n",
       "  <tbody>\n",
       "    <tr>\n",
       "      <th>274</th>\n",
       "      <td>4zqgXdITQuAC</td>\n",
       "      <td>6f476877ad84f711cab8e0b479342bbd</td>\n",
       "      <td>22d-222@5xc-kcy-8sq</td>\n",
       "      <td>2018-07-13</td>\n",
       "      <td>2018-07-29</td>\n",
       "    </tr>\n",
       "    <tr>\n",
       "      <th>1932</th>\n",
       "      <td>xSYmAQAAIAAJ</td>\n",
       "      <td>4520c746cf75798c777d0f0a1bacb62c</td>\n",
       "      <td>222-222@5xc-jvf-skf</td>\n",
       "      <td>2018-08-07</td>\n",
       "      <td>2018-08-30</td>\n",
       "    </tr>\n",
       "    <tr>\n",
       "      <th>217</th>\n",
       "      <td>PjQDAAAAQAAJ</td>\n",
       "      <td>f31c37f308a2c2d5fab3a1708b755f89</td>\n",
       "      <td>zzw-223@5xc-jv7-ct9</td>\n",
       "      <td>2018-01-19</td>\n",
       "      <td>2018-03-14</td>\n",
       "    </tr>\n",
       "    <tr>\n",
       "      <th>857</th>\n",
       "      <td>8XFFO-MK13QC</td>\n",
       "      <td>261c2ea208ea8ff8cf8a2a025ed1ab42</td>\n",
       "      <td>225-222@5xc-jtz-hkf</td>\n",
       "      <td>2018-06-08</td>\n",
       "      <td>2018-10-18</td>\n",
       "    </tr>\n",
       "    <tr>\n",
       "      <th>1458</th>\n",
       "      <td>Llg9AQAAMAAJ</td>\n",
       "      <td>91571672532fc1dfcd5fbd4fbc7bb178</td>\n",
       "      <td>zzw-222@5xc-knn-c5z</td>\n",
       "      <td>2018-09-30</td>\n",
       "      <td>2018-10-05</td>\n",
       "    </tr>\n",
       "    <tr>\n",
       "      <th>726</th>\n",
       "      <td>li4WAAAAYAAJ</td>\n",
       "      <td>566259c89e4d5edc761e04060cad965b</td>\n",
       "      <td>226-222@5xc-kc4-fpv</td>\n",
       "      <td>2018-11-20</td>\n",
       "      <td>2018-12-17</td>\n",
       "    </tr>\n",
       "    <tr>\n",
       "      <th>1140</th>\n",
       "      <td>0mt9NdDSmYYC</td>\n",
       "      <td>1f8362d8bae9cc98914182c97aad090e</td>\n",
       "      <td>zzw-223@5xc-jv7-ct9</td>\n",
       "      <td>2018-12-24</td>\n",
       "      <td>2019-03-27</td>\n",
       "    </tr>\n",
       "    <tr>\n",
       "      <th>738</th>\n",
       "      <td>mQTxAAAAMAAJ</td>\n",
       "      <td>5958ec75161d86b21964a51381fce4cb</td>\n",
       "      <td>223-222@5xc-jxr-tgk</td>\n",
       "      <td>2018-01-03</td>\n",
       "      <td>2018-01-09</td>\n",
       "    </tr>\n",
       "    <tr>\n",
       "      <th>542</th>\n",
       "      <td>59sDAAAAMBAJ</td>\n",
       "      <td>53abc8e29df808e9af1cc62ebbb9b433</td>\n",
       "      <td>22c-222@5xc-jwj-pvz</td>\n",
       "      <td>20180804</td>\n",
       "      <td>2018-08-29</td>\n",
       "    </tr>\n",
       "    <tr>\n",
       "      <th>1174</th>\n",
       "      <td>XNwDAAAAMBAJ</td>\n",
       "      <td>2ca512c5e312da61ad185088f3693ed7</td>\n",
       "      <td>226-222@5xc-kc4-fpv</td>\n",
       "      <td>2018-08-25</td>\n",
       "      <td>2018-09-16</td>\n",
       "    </tr>\n",
       "  </tbody>\n",
       "</table>\n",
       "</div>"
      ],
      "text/plain": [
       "                id                         patron_id           library_id  \\\n",
       "274   4zqgXdITQuAC  6f476877ad84f711cab8e0b479342bbd  22d-222@5xc-kcy-8sq   \n",
       "1932  xSYmAQAAIAAJ  4520c746cf75798c777d0f0a1bacb62c  222-222@5xc-jvf-skf   \n",
       "217   PjQDAAAAQAAJ  f31c37f308a2c2d5fab3a1708b755f89  zzw-223@5xc-jv7-ct9   \n",
       "857   8XFFO-MK13QC  261c2ea208ea8ff8cf8a2a025ed1ab42  225-222@5xc-jtz-hkf   \n",
       "1458  Llg9AQAAMAAJ  91571672532fc1dfcd5fbd4fbc7bb178  zzw-222@5xc-knn-c5z   \n",
       "726   li4WAAAAYAAJ  566259c89e4d5edc761e04060cad965b  226-222@5xc-kc4-fpv   \n",
       "1140  0mt9NdDSmYYC  1f8362d8bae9cc98914182c97aad090e  zzw-223@5xc-jv7-ct9   \n",
       "738   mQTxAAAAMAAJ  5958ec75161d86b21964a51381fce4cb  223-222@5xc-jxr-tgk   \n",
       "542   59sDAAAAMBAJ  53abc8e29df808e9af1cc62ebbb9b433  22c-222@5xc-jwj-pvz   \n",
       "1174  XNwDAAAAMBAJ  2ca512c5e312da61ad185088f3693ed7  226-222@5xc-kc4-fpv   \n",
       "\n",
       "     date_checkout date_returned  \n",
       "274     2018-07-13    2018-07-29  \n",
       "1932    2018-08-07    2018-08-30  \n",
       "217     2018-01-19    2018-03-14  \n",
       "857     2018-06-08    2018-10-18  \n",
       "1458    2018-09-30    2018-10-05  \n",
       "726     2018-11-20    2018-12-17  \n",
       "1140    2018-12-24    2019-03-27  \n",
       "738     2018-01-03    2018-01-09  \n",
       "542      20180804     2018-08-29  \n",
       "1174    2018-08-25    2018-09-16  "
      ]
     },
     "execution_count": 5,
     "metadata": {},
     "output_type": "execute_result"
    }
   ],
   "source": [
    "checkouts_df.sample(10)"
   ]
  },
  {
   "cell_type": "markdown",
   "id": "apart-prototype",
   "metadata": {
    "hidden": true
   },
   "source": [
    "Here are some characteristics that look concerning: \n",
    "- the date columns need to be formatted, as they have inappropriate characters such as '%'\n",
    "- dates go as far back as 1800s in this sample itself, unsure if that's a recording error or if the libraries databases do have checkouts going that far back -- I did a quick check to see when the first library in Oregon came to be, and the 1800s are consistent with that. \n",
    "- the sample also has a date with year \"2107\" which definitely indicates a measurement/recording error. \n",
    "\n",
    "These require further exploration of the dates columns."
   ]
  },
  {
   "cell_type": "markdown",
   "id": "statutory-access",
   "metadata": {},
   "source": [
    "## exploring the dates column\n",
    "\n",
    "Some key things I'd like to examine is: \n",
    "- check the data-type of the dates column, if not already convert them to datetime objects \n",
    "- flag observations where either the checkout or the return date is in the future, i.e after 2022/08/06\n",
    "- flag observations where the date_returned is earlier than date_checkout (it should be impossible to return a book before checking it out) \n",
    "- compute number of days between date_checkout and date_returned, and use that to create a \"late return\" indicator variable"
   ]
  },
  {
   "cell_type": "markdown",
   "id": "pleasant-belfast",
   "metadata": {
    "heading_collapsed": true
   },
   "source": [
    "### examining the dtypes"
   ]
  },
  {
   "cell_type": "code",
   "execution_count": 6,
   "id": "fifty-borough",
   "metadata": {
    "hidden": true
   },
   "outputs": [
    {
     "name": "stdout",
     "output_type": "stream",
     "text": [
      "<class 'pandas.core.frame.DataFrame'>\n",
      "RangeIndex: 2000 entries, 0 to 1999\n",
      "Data columns (total 5 columns):\n",
      " #   Column         Non-Null Count  Dtype \n",
      "---  ------         --------------  ----- \n",
      " 0   id             2000 non-null   object\n",
      " 1   patron_id      2000 non-null   object\n",
      " 2   library_id     2000 non-null   object\n",
      " 3   date_checkout  1935 non-null   object\n",
      " 4   date_returned  1942 non-null   object\n",
      "dtypes: object(5)\n",
      "memory usage: 78.2+ KB\n"
     ]
    }
   ],
   "source": [
    "checkouts_df.info()"
   ]
  },
  {
   "cell_type": "markdown",
   "id": "wired-sauce",
   "metadata": {
    "hidden": true
   },
   "source": [
    "both the date columns are strings, so I'd like to clean them and convert them to the datetime data-type"
   ]
  },
  {
   "cell_type": "markdown",
   "id": "applied-hands",
   "metadata": {
    "heading_collapsed": true
   },
   "source": [
    "### cleaning the date columns"
   ]
  },
  {
   "cell_type": "markdown",
   "id": "peaceful-morocco",
   "metadata": {
    "hidden": true
   },
   "source": [
    "To clean date columns, I would: \n",
    "- remove all non-numeric characters (this would also remove the separators, but that's okay)\n",
    "- convert the integer date into a datetime dtype"
   ]
  },
  {
   "cell_type": "code",
   "execution_count": 7,
   "id": "ultimate-revolution",
   "metadata": {
    "hidden": true
   },
   "outputs": [
    {
     "name": "stderr",
     "output_type": "stream",
     "text": [
      "/Users/garima/miniconda3/envs/reloc/lib/python3.7/site-packages/ipykernel_launcher.py:1: FutureWarning: The default value of regex will change from True to False in a future version.\n",
      "  \"\"\"Entry point for launching an IPython kernel.\n"
     ]
    }
   ],
   "source": [
    "checkouts_df[['date_checkout', 'date_returned']] = checkouts_df[['date_checkout', 'date_returned']].apply(lambda x: pd.to_datetime(x.str.replace(r'\\D+', ''), format='%Y%m%d'))"
   ]
  },
  {
   "cell_type": "code",
   "execution_count": 8,
   "id": "regular-india",
   "metadata": {
    "hidden": true
   },
   "outputs": [
    {
     "data": {
      "text/html": [
       "<div>\n",
       "<style scoped>\n",
       "    .dataframe tbody tr th:only-of-type {\n",
       "        vertical-align: middle;\n",
       "    }\n",
       "\n",
       "    .dataframe tbody tr th {\n",
       "        vertical-align: top;\n",
       "    }\n",
       "\n",
       "    .dataframe thead th {\n",
       "        text-align: right;\n",
       "    }\n",
       "</style>\n",
       "<table border=\"1\" class=\"dataframe\">\n",
       "  <thead>\n",
       "    <tr style=\"text-align: right;\">\n",
       "      <th></th>\n",
       "      <th>id</th>\n",
       "      <th>patron_id</th>\n",
       "      <th>library_id</th>\n",
       "      <th>date_checkout</th>\n",
       "      <th>date_returned</th>\n",
       "    </tr>\n",
       "  </thead>\n",
       "  <tbody>\n",
       "    <tr>\n",
       "      <th>0</th>\n",
       "      <td>-xFj0vTLbRIC</td>\n",
       "      <td>b071c9c68228a2b1d00e6f53677e16da</td>\n",
       "      <td>225-222@5xc-jtz-hkf</td>\n",
       "      <td>2019-01-28</td>\n",
       "      <td>2018-11-13</td>\n",
       "    </tr>\n",
       "    <tr>\n",
       "      <th>1</th>\n",
       "      <td>HUX-y4oXl04C</td>\n",
       "      <td>8d3f63e1deed89d7ba1bf6a4eb101373</td>\n",
       "      <td>223-222@5xc-jxr-tgk</td>\n",
       "      <td>2018-05-29</td>\n",
       "      <td>2018-06-12</td>\n",
       "    </tr>\n",
       "    <tr>\n",
       "      <th>2</th>\n",
       "      <td>TQpFnkku2poC</td>\n",
       "      <td>4ae202f8de762591734705e0079d76df</td>\n",
       "      <td>228-222@5xc-jtz-hwk</td>\n",
       "      <td>2018-11-23</td>\n",
       "      <td>2019-01-24</td>\n",
       "    </tr>\n",
       "    <tr>\n",
       "      <th>3</th>\n",
       "      <td>OQ6sDwAAQBAJ</td>\n",
       "      <td>f9372de3c8ea501601aa3fb59ec0f524</td>\n",
       "      <td>23v-222@5xc-jv7-v4v</td>\n",
       "      <td>2018-01-15</td>\n",
       "      <td>2018-04-25</td>\n",
       "    </tr>\n",
       "    <tr>\n",
       "      <th>4</th>\n",
       "      <td>7T9-BAAAQBAJ</td>\n",
       "      <td>2cf3cc3b9e9f6c608767da8d350f77c9</td>\n",
       "      <td>225-222@5xc-jtz-hkf</td>\n",
       "      <td>2018-12-31</td>\n",
       "      <td>1804-01-23</td>\n",
       "    </tr>\n",
       "  </tbody>\n",
       "</table>\n",
       "</div>"
      ],
      "text/plain": [
       "             id                         patron_id           library_id  \\\n",
       "0  -xFj0vTLbRIC  b071c9c68228a2b1d00e6f53677e16da  225-222@5xc-jtz-hkf   \n",
       "1  HUX-y4oXl04C  8d3f63e1deed89d7ba1bf6a4eb101373  223-222@5xc-jxr-tgk   \n",
       "2  TQpFnkku2poC  4ae202f8de762591734705e0079d76df  228-222@5xc-jtz-hwk   \n",
       "3  OQ6sDwAAQBAJ  f9372de3c8ea501601aa3fb59ec0f524  23v-222@5xc-jv7-v4v   \n",
       "4  7T9-BAAAQBAJ  2cf3cc3b9e9f6c608767da8d350f77c9  225-222@5xc-jtz-hkf   \n",
       "\n",
       "  date_checkout date_returned  \n",
       "0    2019-01-28    2018-11-13  \n",
       "1    2018-05-29    2018-06-12  \n",
       "2    2018-11-23    2019-01-24  \n",
       "3    2018-01-15    2018-04-25  \n",
       "4    2018-12-31    1804-01-23  "
      ]
     },
     "execution_count": 8,
     "metadata": {},
     "output_type": "execute_result"
    }
   ],
   "source": [
    "checkouts_df.head()"
   ]
  },
  {
   "cell_type": "markdown",
   "id": "wired-delivery",
   "metadata": {
    "heading_collapsed": true
   },
   "source": [
    "### missing values"
   ]
  },
  {
   "cell_type": "code",
   "execution_count": 9,
   "id": "architectural-wheat",
   "metadata": {
    "hidden": true
   },
   "outputs": [
    {
     "data": {
      "text/plain": [
       "id                0\n",
       "patron_id         0\n",
       "library_id        0\n",
       "date_checkout    65\n",
       "date_returned    58\n",
       "dtype: int64"
      ]
     },
     "execution_count": 9,
     "metadata": {},
     "output_type": "execute_result"
    }
   ],
   "source": [
    "checkouts_df.isna().sum()"
   ]
  },
  {
   "cell_type": "markdown",
   "id": "necessary-philip",
   "metadata": {
    "hidden": true
   },
   "source": [
    "- There are 65 checkout dates and 58 return dates missing\n",
    "- Imputing these missing dates would be altering the underlying distribution of late-returns\n",
    "- So, I deal with these missing values by dropping them "
   ]
  },
  {
   "cell_type": "code",
   "execution_count": 10,
   "id": "eligible-language",
   "metadata": {
    "hidden": true
   },
   "outputs": [],
   "source": [
    "checkouts_df.dropna(subset=['date_checkout', 'date_returned'], inplace=True)"
   ]
  },
  {
   "cell_type": "markdown",
   "id": "focused-raleigh",
   "metadata": {
    "heading_collapsed": true
   },
   "source": [
    "### looking for \"future\" checkouts and returns "
   ]
  },
  {
   "cell_type": "code",
   "execution_count": 11,
   "id": "auburn-trauma",
   "metadata": {
    "hidden": true
   },
   "outputs": [
    {
     "name": "stdout",
     "output_type": "stream",
     "text": [
      "Earliest checkout year is 1800 \n",
      " Earliest year a book was returned is 1800\n",
      "Latest checkout year is 2120 \n",
      " Latest year a book was returned is 2120\n"
     ]
    }
   ],
   "source": [
    "print(f\"Earliest checkout year is {checkouts_df['date_checkout'].min().year} \\n Earliest year a book was returned is {checkouts_df['date_returned'].min().year}\")\n",
    "print(f\"Latest checkout year is {checkouts_df['date_checkout'].max().year} \\n Latest year a book was returned is {checkouts_df['date_returned'].max().year}\")"
   ]
  },
  {
   "cell_type": "markdown",
   "id": "british-genius",
   "metadata": {
    "hidden": true
   },
   "source": [
    "There are definitely years after the current date, that must be errors in recording. Examining observations with either checkout or return year higher than 2021. "
   ]
  },
  {
   "cell_type": "code",
   "execution_count": 12,
   "id": "explicit-disposition",
   "metadata": {
    "hidden": true
   },
   "outputs": [],
   "source": [
    "checkouts_df['checkout_year'] = checkouts_df['date_checkout'].apply(lambda x: int(x.year))\n",
    "checkouts_df['return_year'] = checkouts_df['date_returned'].apply(lambda x: int(x.year))"
   ]
  },
  {
   "cell_type": "code",
   "execution_count": 13,
   "id": "political-limit",
   "metadata": {
    "hidden": true
   },
   "outputs": [
    {
     "name": "stdout",
     "output_type": "stream",
     "text": [
      "Number of checkouts in the future is 84\n",
      "Number of returns in the future is 95\n",
      "Number of books that were both checked out and returned in the future is 0\n"
     ]
    }
   ],
   "source": [
    "print(f\"Number of checkouts in the future is {checkouts_df[checkouts_df['checkout_year']>2021].shape[0]}\")\n",
    "print(f\"Number of returns in the future is {checkouts_df[checkouts_df['return_year']>2021].shape[0]}\")\n",
    "print(f\"Number of books that were both checked out and returned in the future is {checkouts_df[(checkouts_df['checkout_year']>2021)&(checkouts_df['return_year']>2021)].shape[0]}\")"
   ]
  },
  {
   "cell_type": "markdown",
   "id": "ongoing-limitation",
   "metadata": {
    "hidden": true
   },
   "source": [
    "I drop these \"future\" values as they're erroneous and can't be replaced without affecting the distribution of late returns"
   ]
  },
  {
   "cell_type": "code",
   "execution_count": 14,
   "id": "contemporary-machinery",
   "metadata": {
    "hidden": true
   },
   "outputs": [],
   "source": [
    "checkouts_df = checkouts_df[(checkouts_df['checkout_year']<2023)&(checkouts_df['return_year']<2023)]"
   ]
  },
  {
   "cell_type": "markdown",
   "id": "standing-calcium",
   "metadata": {},
   "source": [
    "### looking for books that were returned earlier than they were checked out"
   ]
  },
  {
   "cell_type": "code",
   "execution_count": 15,
   "id": "constant-charger",
   "metadata": {},
   "outputs": [
    {
     "data": {
      "image/png": "[encoded data removed]",
      "text/plain": [
       "<Figure size 432x288 with 1 Axes>"
      ]
     },
     "metadata": {
      "needs_background": "light"
     },
     "output_type": "display_data"
    }
   ],
   "source": [
    "sns.scatterplot(x='checkout_year', y='return_year', data=checkouts_df);\n",
    "plt.plot(np.linspace(1800, 2130, 10), np.linspace(1800, 2130, 10), color='r');\n",
    "plt.title('Year a book was checked out vs. year of its return');"
   ]
  },
  {
   "cell_type": "markdown",
   "id": "conscious-sympathy",
   "metadata": {},
   "source": [
    "In the plot above, values below the red line (45 degree line) indicate errors as these are books that were returned in an earlier year than the one in which they were borrowed. "
   ]
  },
  {
   "cell_type": "markdown",
   "id": "proud-appearance",
   "metadata": {},
   "source": [
    "#### creating a duration_borrowed variable \n",
    "which records how many days a book was borrowed for. This variable can also be used to examine erroneous records as it will be negative when date_returned is earlier than date_borrowed. "
   ]
  },
  {
   "cell_type": "code",
   "execution_count": 16,
   "id": "color-mount",
   "metadata": {},
   "outputs": [],
   "source": [
    "checkouts_df['duration_borrowed'] = checkouts_df['date_returned'] - checkouts_df['date_checkout']"
   ]
  },
  {
   "cell_type": "markdown",
   "id": "selective-theater",
   "metadata": {},
   "source": [
    "dropping observations where \"duration_borrowed\" is negative"
   ]
  },
  {
   "cell_type": "code",
   "execution_count": 17,
   "id": "trying-metallic",
   "metadata": {},
   "outputs": [],
   "source": [
    "checkouts_df = checkouts_df[checkouts_df['duration_borrowed']>=pd.Timedelta(0, unit='d')]"
   ]
  },
  {
   "cell_type": "markdown",
   "id": "disturbed-messaging",
   "metadata": {},
   "source": [
    "#### indicator variable for late returns "
   ]
  },
  {
   "cell_type": "code",
   "execution_count": 18,
   "id": "another-allergy",
   "metadata": {},
   "outputs": [],
   "source": [
    "checkouts_df['late_return_indicator'] = np.where(checkouts_df['duration_borrowed']>pd.Timedelta(28, unit='d'), 1, 0) "
   ]
  },
  {
   "cell_type": "markdown",
   "id": "cutting-craps",
   "metadata": {},
   "source": [
    "#### inspecting observations where a book was borrowed for over a year"
   ]
  },
  {
   "cell_type": "code",
   "execution_count": 19,
   "id": "available-lancaster",
   "metadata": {},
   "outputs": [
    {
     "data": {
      "text/html": [
       "<div>\n",
       "<style scoped>\n",
       "    .dataframe tbody tr th:only-of-type {\n",
       "        vertical-align: middle;\n",
       "    }\n",
       "\n",
       "    .dataframe tbody tr th {\n",
       "        vertical-align: top;\n",
       "    }\n",
       "\n",
       "    .dataframe thead th {\n",
       "        text-align: right;\n",
       "    }\n",
       "</style>\n",
       "<table border=\"1\" class=\"dataframe\">\n",
       "  <thead>\n",
       "    <tr style=\"text-align: right;\">\n",
       "      <th></th>\n",
       "      <th>checkout_year</th>\n",
       "      <th>return_year</th>\n",
       "      <th>duration_borrowed</th>\n",
       "      <th>late_return_indicator</th>\n",
       "    </tr>\n",
       "  </thead>\n",
       "  <tbody>\n",
       "    <tr>\n",
       "      <th>count</th>\n",
       "      <td>90.000000</td>\n",
       "      <td>90.000000</td>\n",
       "      <td>90</td>\n",
       "      <td>90.0</td>\n",
       "    </tr>\n",
       "    <tr>\n",
       "      <th>mean</th>\n",
       "      <td>1809.533333</td>\n",
       "      <td>2018.055556</td>\n",
       "      <td>76151 days 06:08:00.000001024</td>\n",
       "      <td>1.0</td>\n",
       "    </tr>\n",
       "    <tr>\n",
       "      <th>std</th>\n",
       "      <td>6.193872</td>\n",
       "      <td>0.230345</td>\n",
       "      <td>2250 days 00:29:38.714858816</td>\n",
       "      <td>0.0</td>\n",
       "    </tr>\n",
       "    <tr>\n",
       "      <th>min</th>\n",
       "      <td>1800.000000</td>\n",
       "      <td>2018.000000</td>\n",
       "      <td>72188 days 00:00:00</td>\n",
       "      <td>1.0</td>\n",
       "    </tr>\n",
       "    <tr>\n",
       "      <th>25%</th>\n",
       "      <td>1804.000000</td>\n",
       "      <td>2018.000000</td>\n",
       "      <td>74158 days 12:00:00</td>\n",
       "      <td>1.0</td>\n",
       "    </tr>\n",
       "    <tr>\n",
       "      <th>50%</th>\n",
       "      <td>1809.000000</td>\n",
       "      <td>2018.000000</td>\n",
       "      <td>76317 days 12:00:00</td>\n",
       "      <td>1.0</td>\n",
       "    </tr>\n",
       "    <tr>\n",
       "      <th>75%</th>\n",
       "      <td>1815.000000</td>\n",
       "      <td>2018.000000</td>\n",
       "      <td>78095 days 18:00:00</td>\n",
       "      <td>1.0</td>\n",
       "    </tr>\n",
       "    <tr>\n",
       "      <th>max</th>\n",
       "      <td>1820.000000</td>\n",
       "      <td>2019.000000</td>\n",
       "      <td>79621 days 00:00:00</td>\n",
       "      <td>1.0</td>\n",
       "    </tr>\n",
       "  </tbody>\n",
       "</table>\n",
       "</div>"
      ],
      "text/plain": [
       "       checkout_year  return_year              duration_borrowed  \\\n",
       "count      90.000000    90.000000                             90   \n",
       "mean     1809.533333  2018.055556  76151 days 06:08:00.000001024   \n",
       "std         6.193872     0.230345   2250 days 00:29:38.714858816   \n",
       "min      1800.000000  2018.000000            72188 days 00:00:00   \n",
       "25%      1804.000000  2018.000000            74158 days 12:00:00   \n",
       "50%      1809.000000  2018.000000            76317 days 12:00:00   \n",
       "75%      1815.000000  2018.000000            78095 days 18:00:00   \n",
       "max      1820.000000  2019.000000            79621 days 00:00:00   \n",
       "\n",
       "       late_return_indicator  \n",
       "count                   90.0  \n",
       "mean                     1.0  \n",
       "std                      0.0  \n",
       "min                      1.0  \n",
       "25%                      1.0  \n",
       "50%                      1.0  \n",
       "75%                      1.0  \n",
       "max                      1.0  "
      ]
     },
     "execution_count": 19,
     "metadata": {},
     "output_type": "execute_result"
    }
   ],
   "source": [
    "long_borrowed_df = checkouts_df[checkouts_df['duration_borrowed']>=pd.Timedelta(365, unit='d')]\n",
    "long_borrowed_df.describe()"
   ]
  },
  {
   "cell_type": "markdown",
   "id": "standing-marketplace",
   "metadata": {},
   "source": [
    "- There are 90 books that were borrowed for over a year\n",
    "- All 90 of these books were borrowed for over 150 years\n",
    "- All 90 of these books were borrowed in early 1800s and returned in 2018 and 2019 "
   ]
  },
  {
   "cell_type": "code",
   "execution_count": 20,
   "id": "inside-navigation",
   "metadata": {},
   "outputs": [
    {
     "data": {
      "text/plain": [
       "18"
      ]
     },
     "execution_count": 20,
     "metadata": {},
     "output_type": "execute_result"
    }
   ],
   "source": [
    "# checking if all of these 90 books were returned to the same library \n",
    "# maybe a particular branch undertook retrieval of old books \n",
    "long_borrowed_df.library_id.nunique()"
   ]
  },
  {
   "cell_type": "code",
   "execution_count": 21,
   "id": "billion-skill",
   "metadata": {},
   "outputs": [
    {
     "data": {
      "text/plain": [
       "228-222@5xc-jtz-hwk    8\n",
       "zzw-222@5xc-jv4-789    8\n",
       "22c-222@5xc-jwj-pvz    8\n",
       "zzw-223@5xc-jv7-ct9    7\n",
       "222-222@5xc-jvf-skf    7\n",
       "222-222@5xc-jv5-nt9    6\n",
       "zzw-222@5xc-knn-c5z    5\n",
       "23v-222@5xc-jv7-v4v    5\n",
       "22d-222@5xc-kcy-8sq    5\n",
       "zzw-224@5xc-jwv-2rk    5\n",
       "224-222@5xc-jw2-t9z    4\n",
       "227-222@5xc-jww-btv    4\n",
       "222-222@5xc-jxp-rp9    4\n",
       "226-222@5xc-kc4-fpv    4\n",
       "223-222@5xc-jxr-tgk    4\n",
       "222-222@5xc-kkw-bzf    3\n",
       "226-222@5xc-jxj-7yv    2\n",
       "225-222@5xc-jtz-hkf    1\n",
       "Name: library_id, dtype: int64"
      ]
     },
     "execution_count": 21,
     "metadata": {},
     "output_type": "execute_result"
    }
   ],
   "source": [
    "long_borrowed_df.library_id.value_counts()"
   ]
  },
  {
   "cell_type": "markdown",
   "id": "grateful-table",
   "metadata": {},
   "source": [
    "- The 90 books were returned across different library branches"
   ]
  },
  {
   "cell_type": "code",
   "execution_count": 22,
   "id": "egyptian-failing",
   "metadata": {},
   "outputs": [
    {
     "data": {
      "text/plain": [
       "90"
      ]
     },
     "execution_count": 22,
     "metadata": {},
     "output_type": "execute_result"
    }
   ],
   "source": [
    "# checking if all of these books were borrowed by the same patron \n",
    "# hypothesis being maybe a grandchild of the patron inherited the loaned books and returned them\n",
    "long_borrowed_df.patron_id.nunique()"
   ]
  },
  {
   "cell_type": "markdown",
   "id": "cross-gateway",
   "metadata": {},
   "source": [
    "- Each of the 90 books were checked out by different patrons"
   ]
  },
  {
   "cell_type": "code",
   "execution_count": 23,
   "id": "duplicate-course",
   "metadata": {},
   "outputs": [
    {
     "data": {
      "text/plain": [
       "73"
      ]
     },
     "execution_count": 23,
     "metadata": {},
     "output_type": "execute_result"
    }
   ],
   "source": [
    "long_borrowed_df.id.nunique()"
   ]
  },
  {
   "cell_type": "markdown",
   "id": "billion-gross",
   "metadata": {},
   "source": [
    "#### inspecting observations where a book was borrowed for less than a year "
   ]
  },
  {
   "cell_type": "code",
   "execution_count": 24,
   "id": "christian-skirt",
   "metadata": {},
   "outputs": [
    {
     "data": {
      "text/html": [
       "<div>\n",
       "<style scoped>\n",
       "    .dataframe tbody tr th:only-of-type {\n",
       "        vertical-align: middle;\n",
       "    }\n",
       "\n",
       "    .dataframe tbody tr th {\n",
       "        vertical-align: top;\n",
       "    }\n",
       "\n",
       "    .dataframe thead th {\n",
       "        text-align: right;\n",
       "    }\n",
       "</style>\n",
       "<table border=\"1\" class=\"dataframe\">\n",
       "  <thead>\n",
       "    <tr style=\"text-align: right;\">\n",
       "      <th></th>\n",
       "      <th>checkout_year</th>\n",
       "      <th>return_year</th>\n",
       "      <th>duration_borrowed</th>\n",
       "      <th>late_return_indicator</th>\n",
       "    </tr>\n",
       "  </thead>\n",
       "  <tbody>\n",
       "    <tr>\n",
       "      <th>count</th>\n",
       "      <td>1451.0</td>\n",
       "      <td>1451.000000</td>\n",
       "      <td>1451</td>\n",
       "      <td>1451.000000</td>\n",
       "    </tr>\n",
       "    <tr>\n",
       "      <th>mean</th>\n",
       "      <td>2018.0</td>\n",
       "      <td>2018.064094</td>\n",
       "      <td>24 days 02:48:42.674017918</td>\n",
       "      <td>0.090972</td>\n",
       "    </tr>\n",
       "    <tr>\n",
       "      <th>std</th>\n",
       "      <td>0.0</td>\n",
       "      <td>0.245004</td>\n",
       "      <td>29 days 20:20:39.832183834</td>\n",
       "      <td>0.287668</td>\n",
       "    </tr>\n",
       "    <tr>\n",
       "      <th>min</th>\n",
       "      <td>2018.0</td>\n",
       "      <td>2018.000000</td>\n",
       "      <td>5 days 00:00:00</td>\n",
       "      <td>0.000000</td>\n",
       "    </tr>\n",
       "    <tr>\n",
       "      <th>25%</th>\n",
       "      <td>2018.0</td>\n",
       "      <td>2018.000000</td>\n",
       "      <td>11 days 00:00:00</td>\n",
       "      <td>0.000000</td>\n",
       "    </tr>\n",
       "    <tr>\n",
       "      <th>50%</th>\n",
       "      <td>2018.0</td>\n",
       "      <td>2018.000000</td>\n",
       "      <td>17 days 00:00:00</td>\n",
       "      <td>0.000000</td>\n",
       "    </tr>\n",
       "    <tr>\n",
       "      <th>75%</th>\n",
       "      <td>2018.0</td>\n",
       "      <td>2018.000000</td>\n",
       "      <td>23 days 00:00:00</td>\n",
       "      <td>0.000000</td>\n",
       "    </tr>\n",
       "    <tr>\n",
       "      <th>max</th>\n",
       "      <td>2018.0</td>\n",
       "      <td>2019.000000</td>\n",
       "      <td>179 days 00:00:00</td>\n",
       "      <td>1.000000</td>\n",
       "    </tr>\n",
       "  </tbody>\n",
       "</table>\n",
       "</div>"
      ],
      "text/plain": [
       "       checkout_year  return_year           duration_borrowed  \\\n",
       "count         1451.0  1451.000000                        1451   \n",
       "mean          2018.0  2018.064094  24 days 02:48:42.674017918   \n",
       "std              0.0     0.245004  29 days 20:20:39.832183834   \n",
       "min           2018.0  2018.000000             5 days 00:00:00   \n",
       "25%           2018.0  2018.000000            11 days 00:00:00   \n",
       "50%           2018.0  2018.000000            17 days 00:00:00   \n",
       "75%           2018.0  2018.000000            23 days 00:00:00   \n",
       "max           2018.0  2019.000000           179 days 00:00:00   \n",
       "\n",
       "       late_return_indicator  \n",
       "count            1451.000000  \n",
       "mean                0.090972  \n",
       "std                 0.287668  \n",
       "min                 0.000000  \n",
       "25%                 0.000000  \n",
       "50%                 0.000000  \n",
       "75%                 0.000000  \n",
       "max                 1.000000  "
      ]
     },
     "execution_count": 24,
     "metadata": {},
     "output_type": "execute_result"
    }
   ],
   "source": [
    "checkouts_df[checkouts_df['duration_borrowed']<=pd.Timedelta(365, unit='d')].describe()"
   ]
  },
  {
   "cell_type": "markdown",
   "id": "endangered-hands",
   "metadata": {},
   "source": [
    "- books not borrowed in the 1800s are typically returned within 24 days"
   ]
  },
  {
   "cell_type": "code",
   "execution_count": 25,
   "id": "white-installation",
   "metadata": {},
   "outputs": [],
   "source": [
    "late_returns = checkouts_df[(checkouts_df['duration_borrowed']>pd.Timedelta(28, unit='d')) & (checkouts_df['duration_borrowed']<=pd.Timedelta(365, unit='d'))]"
   ]
  },
  {
   "cell_type": "code",
   "execution_count": 26,
   "id": "blessed-therapy",
   "metadata": {},
   "outputs": [
    {
     "data": {
      "text/html": [
       "<div>\n",
       "<style scoped>\n",
       "    .dataframe tbody tr th:only-of-type {\n",
       "        vertical-align: middle;\n",
       "    }\n",
       "\n",
       "    .dataframe tbody tr th {\n",
       "        vertical-align: top;\n",
       "    }\n",
       "\n",
       "    .dataframe thead th {\n",
       "        text-align: right;\n",
       "    }\n",
       "</style>\n",
       "<table border=\"1\" class=\"dataframe\">\n",
       "  <thead>\n",
       "    <tr style=\"text-align: right;\">\n",
       "      <th></th>\n",
       "      <th>checkout_year</th>\n",
       "      <th>return_year</th>\n",
       "      <th>duration_borrowed</th>\n",
       "      <th>late_return_indicator</th>\n",
       "    </tr>\n",
       "  </thead>\n",
       "  <tbody>\n",
       "    <tr>\n",
       "      <th>count</th>\n",
       "      <td>132.0</td>\n",
       "      <td>132.000000</td>\n",
       "      <td>132</td>\n",
       "      <td>132.0</td>\n",
       "    </tr>\n",
       "    <tr>\n",
       "      <th>mean</th>\n",
       "      <td>2018.0</td>\n",
       "      <td>2018.310606</td>\n",
       "      <td>105 days 16:00:00</td>\n",
       "      <td>1.0</td>\n",
       "    </tr>\n",
       "    <tr>\n",
       "      <th>std</th>\n",
       "      <td>0.0</td>\n",
       "      <td>0.464505</td>\n",
       "      <td>45 days 06:08:49.389319664</td>\n",
       "      <td>0.0</td>\n",
       "    </tr>\n",
       "    <tr>\n",
       "      <th>min</th>\n",
       "      <td>2018.0</td>\n",
       "      <td>2018.000000</td>\n",
       "      <td>29 days 00:00:00</td>\n",
       "      <td>1.0</td>\n",
       "    </tr>\n",
       "    <tr>\n",
       "      <th>25%</th>\n",
       "      <td>2018.0</td>\n",
       "      <td>2018.000000</td>\n",
       "      <td>63 days 00:00:00</td>\n",
       "      <td>1.0</td>\n",
       "    </tr>\n",
       "    <tr>\n",
       "      <th>50%</th>\n",
       "      <td>2018.0</td>\n",
       "      <td>2018.000000</td>\n",
       "      <td>102 days 00:00:00</td>\n",
       "      <td>1.0</td>\n",
       "    </tr>\n",
       "    <tr>\n",
       "      <th>75%</th>\n",
       "      <td>2018.0</td>\n",
       "      <td>2019.000000</td>\n",
       "      <td>146 days 06:00:00</td>\n",
       "      <td>1.0</td>\n",
       "    </tr>\n",
       "    <tr>\n",
       "      <th>max</th>\n",
       "      <td>2018.0</td>\n",
       "      <td>2019.000000</td>\n",
       "      <td>179 days 00:00:00</td>\n",
       "      <td>1.0</td>\n",
       "    </tr>\n",
       "  </tbody>\n",
       "</table>\n",
       "</div>"
      ],
      "text/plain": [
       "       checkout_year  return_year           duration_borrowed  \\\n",
       "count          132.0   132.000000                         132   \n",
       "mean          2018.0  2018.310606           105 days 16:00:00   \n",
       "std              0.0     0.464505  45 days 06:08:49.389319664   \n",
       "min           2018.0  2018.000000            29 days 00:00:00   \n",
       "25%           2018.0  2018.000000            63 days 00:00:00   \n",
       "50%           2018.0  2018.000000           102 days 00:00:00   \n",
       "75%           2018.0  2019.000000           146 days 06:00:00   \n",
       "max           2018.0  2019.000000           179 days 00:00:00   \n",
       "\n",
       "       late_return_indicator  \n",
       "count                  132.0  \n",
       "mean                     1.0  \n",
       "std                      0.0  \n",
       "min                      1.0  \n",
       "25%                      1.0  \n",
       "50%                      1.0  \n",
       "75%                      1.0  \n",
       "max                      1.0  "
      ]
     },
     "execution_count": 26,
     "metadata": {},
     "output_type": "execute_result"
    }
   ],
   "source": [
    "late_returns.describe()"
   ]
  },
  {
   "cell_type": "markdown",
   "id": "starting-knight",
   "metadata": {},
   "source": [
    "### adding holidays to the dataset \n",
    "a hypothesis for late returns is that the due date falls on or near a holiday, when patrons might be out of town or more likely to be otherwise occupied"
   ]
  },
  {
   "cell_type": "code",
   "execution_count": 27,
   "id": "amber-employee",
   "metadata": {},
   "outputs": [],
   "source": [
    "checkouts_df['date_due'] = checkouts_df['date_checkout'] + pd.Timedelta(28, unit='d')"
   ]
  },
  {
   "cell_type": "code",
   "execution_count": 68,
   "id": "structured-visibility",
   "metadata": {},
   "outputs": [],
   "source": [
    "import holidays\n",
    "us_holidays = []\n",
    "for date in holidays.US(years=checkouts_df['date_due'].apply(lambda x: int(x.year)).unique()).items(): \n",
    "    us_holidays.append(date[0])\n",
    "us_holidays = [pd.to_datetime(x) for x in us_holidays]"
   ]
  },
  {
   "cell_type": "markdown",
   "id": "otherwise-seattle",
   "metadata": {},
   "source": [
    "- we don't have data on holidays in the 1800s, which might be less relevant anyway "
   ]
  },
  {
   "cell_type": "code",
   "execution_count": 59,
   "id": "square-order",
   "metadata": {},
   "outputs": [],
   "source": [
    "checkouts_df['due_date_is_holiday'] = np.where(checkouts_df['date_due'].isin(us_holidays), 1, 0)"
   ]
  },
  {
   "cell_type": "code",
   "execution_count": 62,
   "id": "muslim-mixture",
   "metadata": {},
   "outputs": [
    {
     "data": {
      "text/plain": [
       "0    1401\n",
       "1      50\n",
       "Name: due_date_is_holiday, dtype: int64"
      ]
     },
     "execution_count": 62,
     "metadata": {},
     "output_type": "execute_result"
    }
   ],
   "source": [
    "#proportion of late returns whose due date falls on a holiday \n",
    "checkouts_df[(checkouts_df['duration_borrowed']>pd.Timedelta(28, units='d'))&(checkouts_df['checkout_year']>2017)].due_date_is_holiday.value_counts()"
   ]
  },
  {
   "cell_type": "code",
   "execution_count": 72,
   "id": "applied-saver",
   "metadata": {},
   "outputs": [],
   "source": [
    "def days_from_closest_holiday(date, holiday_list): \n",
    "    \"This function returns the number of days between a given date and a given list of holidays\"\n",
    "    holiday_distance_list = [abs(date-x) for x in holiday_list]\n",
    "    smallest_distance = min(holiday_distance_list)\n",
    "    return smallest_distance"
   ]
  },
  {
   "cell_type": "code",
   "execution_count": 73,
   "id": "collected-browser",
   "metadata": {},
   "outputs": [],
   "source": [
    "checkouts_df['closest_holiday_distance'] = checkouts_df['date_due'].apply(lambda x: days_from_closest_holiday(x, us_holidays))"
   ]
  },
  {
   "cell_type": "code",
   "execution_count": 74,
   "id": "upset-action",
   "metadata": {},
   "outputs": [
    {
     "data": {
      "text/html": [
       "<div>\n",
       "<style scoped>\n",
       "    .dataframe tbody tr th:only-of-type {\n",
       "        vertical-align: middle;\n",
       "    }\n",
       "\n",
       "    .dataframe tbody tr th {\n",
       "        vertical-align: top;\n",
       "    }\n",
       "\n",
       "    .dataframe thead th {\n",
       "        text-align: right;\n",
       "    }\n",
       "</style>\n",
       "<table border=\"1\" class=\"dataframe\">\n",
       "  <thead>\n",
       "    <tr style=\"text-align: right;\">\n",
       "      <th></th>\n",
       "      <th>id</th>\n",
       "      <th>patron_id</th>\n",
       "      <th>library_id</th>\n",
       "      <th>date_checkout</th>\n",
       "      <th>date_returned</th>\n",
       "      <th>checkout_year</th>\n",
       "      <th>return_year</th>\n",
       "      <th>duration_borrowed</th>\n",
       "      <th>late_return_indicator</th>\n",
       "      <th>date_due</th>\n",
       "      <th>due_date_is_holiday</th>\n",
       "      <th>closest_holiday_distance</th>\n",
       "    </tr>\n",
       "  </thead>\n",
       "  <tbody>\n",
       "    <tr>\n",
       "      <th>1</th>\n",
       "      <td>HUX-y4oXl04C</td>\n",
       "      <td>8d3f63e1deed89d7ba1bf6a4eb101373</td>\n",
       "      <td>223-222@5xc-jxr-tgk</td>\n",
       "      <td>2018-05-29</td>\n",
       "      <td>2018-06-12</td>\n",
       "      <td>2018</td>\n",
       "      <td>2018</td>\n",
       "      <td>14 days</td>\n",
       "      <td>0</td>\n",
       "      <td>2018-06-26</td>\n",
       "      <td>0</td>\n",
       "      <td>8 days</td>\n",
       "    </tr>\n",
       "    <tr>\n",
       "      <th>2</th>\n",
       "      <td>TQpFnkku2poC</td>\n",
       "      <td>4ae202f8de762591734705e0079d76df</td>\n",
       "      <td>228-222@5xc-jtz-hwk</td>\n",
       "      <td>2018-11-23</td>\n",
       "      <td>2019-01-24</td>\n",
       "      <td>2018</td>\n",
       "      <td>2019</td>\n",
       "      <td>62 days</td>\n",
       "      <td>1</td>\n",
       "      <td>2018-12-21</td>\n",
       "      <td>0</td>\n",
       "      <td>4 days</td>\n",
       "    </tr>\n",
       "    <tr>\n",
       "      <th>3</th>\n",
       "      <td>OQ6sDwAAQBAJ</td>\n",
       "      <td>f9372de3c8ea501601aa3fb59ec0f524</td>\n",
       "      <td>23v-222@5xc-jv7-v4v</td>\n",
       "      <td>2018-01-15</td>\n",
       "      <td>2018-04-25</td>\n",
       "      <td>2018</td>\n",
       "      <td>2018</td>\n",
       "      <td>100 days</td>\n",
       "      <td>1</td>\n",
       "      <td>2018-02-12</td>\n",
       "      <td>0</td>\n",
       "      <td>7 days</td>\n",
       "    </tr>\n",
       "    <tr>\n",
       "      <th>6</th>\n",
       "      <td>CW-7tHAaVR0C</td>\n",
       "      <td>dd9f34e9d65126a2b02003d8ac60aaa4</td>\n",
       "      <td>22c-222@5xc-jwj-pvz</td>\n",
       "      <td>2018-01-10</td>\n",
       "      <td>2018-02-04</td>\n",
       "      <td>2018</td>\n",
       "      <td>2018</td>\n",
       "      <td>25 days</td>\n",
       "      <td>0</td>\n",
       "      <td>2018-02-07</td>\n",
       "      <td>0</td>\n",
       "      <td>12 days</td>\n",
       "    </tr>\n",
       "    <tr>\n",
       "      <th>8</th>\n",
       "      <td>t1e3BWziAc8C</td>\n",
       "      <td>3b85b2c7b424618f533329018e9a11d5</td>\n",
       "      <td>222-222@5xc-jv5-nt9</td>\n",
       "      <td>2018-06-23</td>\n",
       "      <td>2018-07-14</td>\n",
       "      <td>2018</td>\n",
       "      <td>2018</td>\n",
       "      <td>21 days</td>\n",
       "      <td>0</td>\n",
       "      <td>2018-07-21</td>\n",
       "      <td>0</td>\n",
       "      <td>17 days</td>\n",
       "    </tr>\n",
       "    <tr>\n",
       "      <th>...</th>\n",
       "      <td>...</td>\n",
       "      <td>...</td>\n",
       "      <td>...</td>\n",
       "      <td>...</td>\n",
       "      <td>...</td>\n",
       "      <td>...</td>\n",
       "      <td>...</td>\n",
       "      <td>...</td>\n",
       "      <td>...</td>\n",
       "      <td>...</td>\n",
       "      <td>...</td>\n",
       "      <td>...</td>\n",
       "    </tr>\n",
       "    <tr>\n",
       "      <th>1995</th>\n",
       "      <td>rNbuDwAAQBAJ</td>\n",
       "      <td>91871955f3641857832766ac3f5a0b95</td>\n",
       "      <td>222-222@5xc-jv5-nt9</td>\n",
       "      <td>2018-07-19</td>\n",
       "      <td>2018-08-12</td>\n",
       "      <td>2018</td>\n",
       "      <td>2018</td>\n",
       "      <td>24 days</td>\n",
       "      <td>0</td>\n",
       "      <td>2018-08-16</td>\n",
       "      <td>0</td>\n",
       "      <td>18 days</td>\n",
       "    </tr>\n",
       "    <tr>\n",
       "      <th>1996</th>\n",
       "      <td>rcrCAgAAQBAJ</td>\n",
       "      <td>ad08956eb20efb746af650f906d439cf</td>\n",
       "      <td>22d-222@5xc-kcy-8sq</td>\n",
       "      <td>2018-03-07</td>\n",
       "      <td>2018-03-13</td>\n",
       "      <td>2018</td>\n",
       "      <td>2018</td>\n",
       "      <td>6 days</td>\n",
       "      <td>0</td>\n",
       "      <td>2018-04-04</td>\n",
       "      <td>0</td>\n",
       "      <td>44 days</td>\n",
       "    </tr>\n",
       "    <tr>\n",
       "      <th>1997</th>\n",
       "      <td>F44fAQAAMAAJ</td>\n",
       "      <td>026262cc3454149303074c4113b5f118</td>\n",
       "      <td>226-222@5xc-jxj-7yv</td>\n",
       "      <td>2018-06-17</td>\n",
       "      <td>2018-06-27</td>\n",
       "      <td>2018</td>\n",
       "      <td>2018</td>\n",
       "      <td>10 days</td>\n",
       "      <td>0</td>\n",
       "      <td>2018-07-15</td>\n",
       "      <td>0</td>\n",
       "      <td>11 days</td>\n",
       "    </tr>\n",
       "    <tr>\n",
       "      <th>1998</th>\n",
       "      <td>Ci1HAQAAMAAJ</td>\n",
       "      <td>08b29865e58e9b2aabff9684a703acf0</td>\n",
       "      <td>223-222@5xc-jxr-tgk</td>\n",
       "      <td>2018-12-10</td>\n",
       "      <td>2018-12-29</td>\n",
       "      <td>2018</td>\n",
       "      <td>2018</td>\n",
       "      <td>19 days</td>\n",
       "      <td>0</td>\n",
       "      <td>2019-01-07</td>\n",
       "      <td>0</td>\n",
       "      <td>6 days</td>\n",
       "    </tr>\n",
       "    <tr>\n",
       "      <th>1999</th>\n",
       "      <td>TUAyAQAAMAAJ</td>\n",
       "      <td>ac0bb7b22b4df999a0b1216ded727f8e</td>\n",
       "      <td>228-222@5xc-jtz-hwk</td>\n",
       "      <td>2018-10-10</td>\n",
       "      <td>2018-11-01</td>\n",
       "      <td>2018</td>\n",
       "      <td>2018</td>\n",
       "      <td>22 days</td>\n",
       "      <td>0</td>\n",
       "      <td>2018-11-07</td>\n",
       "      <td>0</td>\n",
       "      <td>4 days</td>\n",
       "    </tr>\n",
       "  </tbody>\n",
       "</table>\n",
       "<p>1541 rows × 12 columns</p>\n",
       "</div>"
      ],
      "text/plain": [
       "                id                         patron_id           library_id  \\\n",
       "1     HUX-y4oXl04C  8d3f63e1deed89d7ba1bf6a4eb101373  223-222@5xc-jxr-tgk   \n",
       "2     TQpFnkku2poC  4ae202f8de762591734705e0079d76df  228-222@5xc-jtz-hwk   \n",
       "3     OQ6sDwAAQBAJ  f9372de3c8ea501601aa3fb59ec0f524  23v-222@5xc-jv7-v4v   \n",
       "6     CW-7tHAaVR0C  dd9f34e9d65126a2b02003d8ac60aaa4  22c-222@5xc-jwj-pvz   \n",
       "8     t1e3BWziAc8C  3b85b2c7b424618f533329018e9a11d5  222-222@5xc-jv5-nt9   \n",
       "...            ...                               ...                  ...   \n",
       "1995  rNbuDwAAQBAJ  91871955f3641857832766ac3f5a0b95  222-222@5xc-jv5-nt9   \n",
       "1996  rcrCAgAAQBAJ  ad08956eb20efb746af650f906d439cf  22d-222@5xc-kcy-8sq   \n",
       "1997  F44fAQAAMAAJ  026262cc3454149303074c4113b5f118  226-222@5xc-jxj-7yv   \n",
       "1998  Ci1HAQAAMAAJ  08b29865e58e9b2aabff9684a703acf0  223-222@5xc-jxr-tgk   \n",
       "1999  TUAyAQAAMAAJ  ac0bb7b22b4df999a0b1216ded727f8e  228-222@5xc-jtz-hwk   \n",
       "\n",
       "     date_checkout date_returned  checkout_year  return_year  \\\n",
       "1       2018-05-29    2018-06-12           2018         2018   \n",
       "2       2018-11-23    2019-01-24           2018         2019   \n",
       "3       2018-01-15    2018-04-25           2018         2018   \n",
       "6       2018-01-10    2018-02-04           2018         2018   \n",
       "8       2018-06-23    2018-07-14           2018         2018   \n",
       "...            ...           ...            ...          ...   \n",
       "1995    2018-07-19    2018-08-12           2018         2018   \n",
       "1996    2018-03-07    2018-03-13           2018         2018   \n",
       "1997    2018-06-17    2018-06-27           2018         2018   \n",
       "1998    2018-12-10    2018-12-29           2018         2018   \n",
       "1999    2018-10-10    2018-11-01           2018         2018   \n",
       "\n",
       "     duration_borrowed  late_return_indicator   date_due  due_date_is_holiday  \\\n",
       "1              14 days                      0 2018-06-26                    0   \n",
       "2              62 days                      1 2018-12-21                    0   \n",
       "3             100 days                      1 2018-02-12                    0   \n",
       "6              25 days                      0 2018-02-07                    0   \n",
       "8              21 days                      0 2018-07-21                    0   \n",
       "...                ...                    ...        ...                  ...   \n",
       "1995           24 days                      0 2018-08-16                    0   \n",
       "1996            6 days                      0 2018-04-04                    0   \n",
       "1997           10 days                      0 2018-07-15                    0   \n",
       "1998           19 days                      0 2019-01-07                    0   \n",
       "1999           22 days                      0 2018-11-07                    0   \n",
       "\n",
       "     closest_holiday_distance  \n",
       "1                      8 days  \n",
       "2                      4 days  \n",
       "3                      7 days  \n",
       "6                     12 days  \n",
       "8                     17 days  \n",
       "...                       ...  \n",
       "1995                  18 days  \n",
       "1996                  44 days  \n",
       "1997                  11 days  \n",
       "1998                   6 days  \n",
       "1999                   4 days  \n",
       "\n",
       "[1541 rows x 12 columns]"
      ]
     },
     "execution_count": 74,
     "metadata": {},
     "output_type": "execute_result"
    }
   ],
   "source": [
    "checkouts_df"
   ]
  },
  {
   "cell_type": "markdown",
   "id": "adjustable-recovery",
   "metadata": {},
   "source": [
    "*NOTES TO SELF:*\n",
    "- plot holiday distance between late returns and non-late returns \n",
    "- move on after that "
   ]
  }
 ],
 "metadata": {
  "kernelspec": {
   "display_name": "Python 3",
   "language": "python",
   "name": "python3"
  },
  "language_info": {
   "codemirror_mode": {
    "name": "ipython",
    "version": 3
   },
   "file_extension": ".py",
   "mimetype": "text/x-python",
   "name": "python",
   "nbconvert_exporter": "python",
   "pygments_lexer": "ipython3",
   "version": "3.7.9"
  },
  "toc": {
   "base_numbering": 1,
   "nav_menu": {},
   "number_sections": false,
   "sideBar": true,
   "skip_h1_title": false,
   "title_cell": "Table of Contents",
   "title_sidebar": "Contents",
   "toc_cell": false,
   "toc_position": {},
   "toc_section_display": true,
   "toc_window_display": false
  },
  "varInspector": {
   "cols": {
    "lenName": 16,
    "lenType": 16,
    "lenVar": 40
   },
   "kernels_config": {
    "python": {
     "delete_cmd_postfix": "",
     "delete_cmd_prefix": "del ",
     "library": "var_list.py",
     "varRefreshCmd": "print(var_dic_list())"
    },
    "r": {
     "delete_cmd_postfix": ") ",
     "delete_cmd_prefix": "rm(",
     "library": "var_list.r",
     "varRefreshCmd": "cat(var_dic_list()) "
    }
   },
   "types_to_exclude": [
    "module",
    "function",
    "builtin_function_or_method",
    "instance",
    "_Feature"
   ],
   "window_display": false
  }
 },
 "nbformat": 4,
 "nbformat_minor": 5
}
