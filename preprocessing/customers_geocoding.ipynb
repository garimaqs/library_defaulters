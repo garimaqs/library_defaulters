{
 "cells": [
  {
   "cell_type": "markdown",
   "id": "curious-weekend",
   "metadata": {},
   "source": [
    "# Cleaning and preliminary exploration of customers dataset"
   ]
  },
  {
   "cell_type": "markdown",
   "id": "allied-corpus",
   "metadata": {},
   "source": [
    "## imports "
   ]
  },
  {
   "cell_type": "code",
   "execution_count": 1,
   "id": "grand-young",
   "metadata": {},
   "outputs": [],
   "source": [
    "import os, sys, glob # for loading, saving and manipulating files on disk\n",
    "from pathlib import Path # Path allows us to list directory paths in a manner that's not affected by the OS the notebook is being run on \n",
    "\n",
    "import pandas as pd # to work with csv files as dataframes \n",
    "import numpy as np # for mathematical and scientific computations \n",
    "\n",
    "import matplotlib.pyplot as plt # for plots \n",
    "import seaborn as sns # also for plotting, it's a wrapper for several matplotlib functions, making them more accessible \n",
    "\n",
    "from geopy import GoogleV3\n",
    "api_key = os.environ['gmap_api_key']"
   ]
  },
  {
   "cell_type": "markdown",
   "id": "incredible-allowance",
   "metadata": {},
   "source": [
    "## loading data"
   ]
  },
  {
   "cell_type": "code",
   "execution_count": 2,
   "id": "better-calibration",
   "metadata": {},
   "outputs": [],
   "source": [
    "data_dir = Path.home()/'projects'/'billups_data_challenge'/'Data Challenge' # specifies the directory with data files\n",
    "out_dir = data_dir.parent/'cleaned_data' # directory for storing intermediate outputs such as cleaned data\n",
    "out_dir.mkdir(exist_ok=True) #creating the output directory, while making sure it's not overwritten if it already exists"
   ]
  },
  {
   "cell_type": "code",
   "execution_count": 3,
   "id": "unauthorized-concern",
   "metadata": {},
   "outputs": [],
   "source": [
    "customers_df = pd.read_csv(data_dir/'customers.csv')"
   ]
  },
  {
   "cell_type": "markdown",
   "id": "legendary-appeal",
   "metadata": {},
   "source": [
    "## inspecting the dataset"
   ]
  },
  {
   "cell_type": "code",
   "execution_count": 4,
   "id": "independent-receipt",
   "metadata": {},
   "outputs": [
    {
     "data": {
      "text/plain": [
       "(2000, 10)"
      ]
     },
     "execution_count": 4,
     "metadata": {},
     "output_type": "execute_result"
    }
   ],
   "source": [
    "customers_df.shape"
   ]
  },
  {
   "cell_type": "code",
   "execution_count": 5,
   "id": "entertaining-remainder",
   "metadata": {},
   "outputs": [
    {
     "data": {
      "text/html": [
       "<div>\n",
       "<style scoped>\n",
       "    .dataframe tbody tr th:only-of-type {\n",
       "        vertical-align: middle;\n",
       "    }\n",
       "\n",
       "    .dataframe tbody tr th {\n",
       "        vertical-align: top;\n",
       "    }\n",
       "\n",
       "    .dataframe thead th {\n",
       "        text-align: right;\n",
       "    }\n",
       "</style>\n",
       "<table border=\"1\" class=\"dataframe\">\n",
       "  <thead>\n",
       "    <tr style=\"text-align: right;\">\n",
       "      <th></th>\n",
       "      <th>id</th>\n",
       "      <th>name</th>\n",
       "      <th>street_address</th>\n",
       "      <th>city</th>\n",
       "      <th>state</th>\n",
       "      <th>zipcode</th>\n",
       "      <th>birth_date</th>\n",
       "      <th>gender</th>\n",
       "      <th>education</th>\n",
       "      <th>occupation</th>\n",
       "    </tr>\n",
       "  </thead>\n",
       "  <tbody>\n",
       "    <tr>\n",
       "      <th>1991</th>\n",
       "      <td>773e32e4eac2ec735b84cd568ec4fd05</td>\n",
       "      <td>Kirk White</td>\n",
       "      <td>4412 NE 18th Ave</td>\n",
       "      <td>Portland</td>\n",
       "      <td>Oregon</td>\n",
       "      <td>97211.0</td>\n",
       "      <td>1956-07-19</td>\n",
       "      <td>male</td>\n",
       "      <td>Others</td>\n",
       "      <td>Others</td>\n",
       "    </tr>\n",
       "    <tr>\n",
       "      <th>430</th>\n",
       "      <td>397b94d4ed0b57316442dc469535bcc1</td>\n",
       "      <td>Dennis Hayes</td>\n",
       "      <td>6028 SW Raab Rd</td>\n",
       "      <td>Portland</td>\n",
       "      <td>Oregon</td>\n",
       "      <td>97221.0</td>\n",
       "      <td>1952-05-14</td>\n",
       "      <td>male</td>\n",
       "      <td>Others</td>\n",
       "      <td>Others</td>\n",
       "    </tr>\n",
       "    <tr>\n",
       "      <th>358</th>\n",
       "      <td>1302a5932197b899a6e047296ebadc6c</td>\n",
       "      <td>Amelia Bush</td>\n",
       "      <td>1808 SW Morrison St</td>\n",
       "      <td>Portland</td>\n",
       "      <td>Oregon</td>\n",
       "      <td>97205.0</td>\n",
       "      <td>2006-04-13</td>\n",
       "      <td>female</td>\n",
       "      <td>College</td>\n",
       "      <td>Sales</td>\n",
       "    </tr>\n",
       "    <tr>\n",
       "      <th>1749</th>\n",
       "      <td>e3e301280fdf5073bbaefb03f3a49eb7</td>\n",
       "      <td>John Hood</td>\n",
       "      <td>3943 SE Madison St</td>\n",
       "      <td>Portland</td>\n",
       "      <td>Oregon</td>\n",
       "      <td>97214.0</td>\n",
       "      <td>1960-08-05</td>\n",
       "      <td>male</td>\n",
       "      <td>NaN</td>\n",
       "      <td>Tech</td>\n",
       "    </tr>\n",
       "    <tr>\n",
       "      <th>379</th>\n",
       "      <td>9b6f084dd52711f78b8ad036a79d355c</td>\n",
       "      <td>Elisa Venn</td>\n",
       "      <td>7007 SE 36th Ave</td>\n",
       "      <td>Portland</td>\n",
       "      <td>Oregon</td>\n",
       "      <td>97202.0</td>\n",
       "      <td>2001-03-07</td>\n",
       "      <td>NaN</td>\n",
       "      <td>High School</td>\n",
       "      <td>Education &amp; Health</td>\n",
       "    </tr>\n",
       "    <tr>\n",
       "      <th>259</th>\n",
       "      <td>5d0b73c12d17deb7ff692dd8ff4dfb38</td>\n",
       "      <td>Robert Hobbs</td>\n",
       "      <td>566 NE Royal ct</td>\n",
       "      <td>NaN</td>\n",
       "      <td>Oregon</td>\n",
       "      <td>-97232.0</td>\n",
       "      <td>2004-01-02</td>\n",
       "      <td>male</td>\n",
       "      <td>Others</td>\n",
       "      <td>Admin &amp; Support</td>\n",
       "    </tr>\n",
       "    <tr>\n",
       "      <th>854</th>\n",
       "      <td>79aba093cc41da3ae041e263e19026e4</td>\n",
       "      <td>Delila Ritchie</td>\n",
       "      <td>5604 SE 57th Ave</td>\n",
       "      <td>Portland</td>\n",
       "      <td>NaN</td>\n",
       "      <td>97206.0</td>\n",
       "      <td>1976-03-10</td>\n",
       "      <td>female</td>\n",
       "      <td>Graduate Degree</td>\n",
       "      <td>Education &amp; Health</td>\n",
       "    </tr>\n",
       "    <tr>\n",
       "      <th>1638</th>\n",
       "      <td>448ab9c5979a7d104f51d334d59159e3</td>\n",
       "      <td>Linda Saunderson</td>\n",
       "      <td>4620 SW Wood Pkwy</td>\n",
       "      <td>Portland</td>\n",
       "      <td>Oregon</td>\n",
       "      <td>97219.0</td>\n",
       "      <td>2006-09-15</td>\n",
       "      <td>female</td>\n",
       "      <td>College</td>\n",
       "      <td>Sales</td>\n",
       "    </tr>\n",
       "    <tr>\n",
       "      <th>104</th>\n",
       "      <td>ad586224603a96533e48b2e74635ea51</td>\n",
       "      <td>PAMELA THOMAS</td>\n",
       "      <td>2611 NE Alameda St</td>\n",
       "      <td>Portland</td>\n",
       "      <td>Oregon</td>\n",
       "      <td>97212.0</td>\n",
       "      <td>1988-02-18</td>\n",
       "      <td>NaN</td>\n",
       "      <td>High school</td>\n",
       "      <td>Admin &amp; Support</td>\n",
       "    </tr>\n",
       "    <tr>\n",
       "      <th>1278</th>\n",
       "      <td>d98ec870a1873422af418ad59347844b</td>\n",
       "      <td>Marion Krause</td>\n",
       "      <td>6857 NE Alderwood Rd</td>\n",
       "      <td>Portland</td>\n",
       "      <td>Oregon</td>\n",
       "      <td>97218.0</td>\n",
       "      <td>1998-04-18</td>\n",
       "      <td>female</td>\n",
       "      <td>High  School</td>\n",
       "      <td>Others</td>\n",
       "    </tr>\n",
       "  </tbody>\n",
       "</table>\n",
       "</div>"
      ],
      "text/plain": [
       "                                    id              name  \\\n",
       "1991  773e32e4eac2ec735b84cd568ec4fd05        Kirk White   \n",
       "430   397b94d4ed0b57316442dc469535bcc1      Dennis Hayes   \n",
       "358   1302a5932197b899a6e047296ebadc6c       Amelia Bush   \n",
       "1749  e3e301280fdf5073bbaefb03f3a49eb7         John Hood   \n",
       "379   9b6f084dd52711f78b8ad036a79d355c        Elisa Venn   \n",
       "259   5d0b73c12d17deb7ff692dd8ff4dfb38      Robert Hobbs   \n",
       "854   79aba093cc41da3ae041e263e19026e4    Delila Ritchie   \n",
       "1638  448ab9c5979a7d104f51d334d59159e3  Linda Saunderson   \n",
       "104   ad586224603a96533e48b2e74635ea51     PAMELA THOMAS   \n",
       "1278  d98ec870a1873422af418ad59347844b     Marion Krause   \n",
       "\n",
       "            street_address      city   state   zipcode  birth_date  gender  \\\n",
       "1991      4412 NE 18th Ave  Portland  Oregon   97211.0  1956-07-19    male   \n",
       "430        6028 SW Raab Rd  Portland  Oregon   97221.0  1952-05-14    male   \n",
       "358    1808 SW Morrison St  Portland  Oregon   97205.0  2006-04-13  female   \n",
       "1749    3943 SE Madison St  Portland  Oregon   97214.0  1960-08-05    male   \n",
       "379       7007 SE 36th Ave  Portland  Oregon   97202.0  2001-03-07     NaN   \n",
       "259        566 NE Royal ct       NaN  Oregon  -97232.0  2004-01-02    male   \n",
       "854       5604 SE 57th Ave  Portland     NaN   97206.0  1976-03-10  female   \n",
       "1638     4620 SW Wood Pkwy  Portland  Oregon   97219.0  2006-09-15  female   \n",
       "104     2611 NE Alameda St  Portland  Oregon   97212.0  1988-02-18     NaN   \n",
       "1278  6857 NE Alderwood Rd  Portland  Oregon   97218.0  1998-04-18  female   \n",
       "\n",
       "            education          occupation  \n",
       "1991           Others              Others  \n",
       "430            Others              Others  \n",
       "358           College               Sales  \n",
       "1749              NaN                Tech  \n",
       "379       High School  Education & Health  \n",
       "259            Others     Admin & Support  \n",
       "854   Graduate Degree  Education & Health  \n",
       "1638          College               Sales  \n",
       "104       High school     Admin & Support  \n",
       "1278     High  School              Others  "
      ]
     },
     "execution_count": 5,
     "metadata": {},
     "output_type": "execute_result"
    }
   ],
   "source": [
    "customers_df.sample(10)"
   ]
  },
  {
   "cell_type": "code",
   "execution_count": 6,
   "id": "union-evolution",
   "metadata": {},
   "outputs": [
    {
     "name": "stdout",
     "output_type": "stream",
     "text": [
      "<class 'pandas.core.frame.DataFrame'>\n",
      "RangeIndex: 2000 entries, 0 to 1999\n",
      "Data columns (total 10 columns):\n",
      " #   Column          Non-Null Count  Dtype \n",
      "---  ------          --------------  ----- \n",
      " 0   id              2000 non-null   object\n",
      " 1   name            2000 non-null   object\n",
      " 2   street_address  2000 non-null   object\n",
      " 3   city            1906 non-null   object\n",
      " 4   state           1898 non-null   object\n",
      " 5   zipcode         1999 non-null   object\n",
      " 6   birth_date      1893 non-null   object\n",
      " 7   gender          1899 non-null   object\n",
      " 8   education       1896 non-null   object\n",
      " 9   occupation      1893 non-null   object\n",
      "dtypes: object(10)\n",
      "memory usage: 156.4+ KB\n"
     ]
    }
   ],
   "source": [
    "customers_df.info()"
   ]
  },
  {
   "cell_type": "markdown",
   "id": "signal-windows",
   "metadata": {},
   "source": [
    "## cleaning addresses and geocoding them "
   ]
  },
  {
   "cell_type": "markdown",
   "id": "eligible-jewelry",
   "metadata": {},
   "source": [
    "### filling in missing values for city and state"
   ]
  },
  {
   "cell_type": "code",
   "execution_count": 7,
   "id": "cellular-portugal",
   "metadata": {},
   "outputs": [],
   "source": [
    "customers_df['city'].fillna('Portland', inplace=True)\n",
    "customers_df['state'].fillna('Oregon', inplace=True)"
   ]
  },
  {
   "cell_type": "markdown",
   "id": "motivated-toddler",
   "metadata": {},
   "source": [
    "### cleaning up zipcodes"
   ]
  },
  {
   "cell_type": "code",
   "execution_count": 8,
   "id": "grave-jacksonville",
   "metadata": {},
   "outputs": [],
   "source": [
    "# removing non-numeric characters\n",
    "customers_df['zipcode'] = customers_df.zipcode.str.replace(r'[^\\d\\.]', '', regex=True).str.strip().str.replace('.0', '', regex=False)"
   ]
  },
  {
   "cell_type": "markdown",
   "id": "tutorial-maria",
   "metadata": {},
   "source": [
    "### replacing \"NaN\"s with empty strings"
   ]
  },
  {
   "cell_type": "code",
   "execution_count": 9,
   "id": "loaded-topic",
   "metadata": {},
   "outputs": [],
   "source": [
    "customers_df[['street_address', 'city', 'state', 'zipcode']] = customers_df[['street_address', 'city', 'state', 'zipcode']].apply(\n",
    "lambda x: x.str.replace('nan', ''))"
   ]
  },
  {
   "cell_type": "markdown",
   "id": "unnecessary-boston",
   "metadata": {},
   "source": [
    "### generating full address"
   ]
  },
  {
   "cell_type": "code",
   "execution_count": 10,
   "id": "electrical-booking",
   "metadata": {},
   "outputs": [],
   "source": [
    "customers_df['full_address'] = customers_df['street_address']+' '+customers_df['city']+' '+customers_df['state']+ ' '+customers_df['zipcode']\n",
    "customers_df['full_address'].fillna('', inplace=True)"
   ]
  },
  {
   "cell_type": "markdown",
   "id": "bridal-circulation",
   "metadata": {},
   "source": [
    "## geocoding addresses"
   ]
  },
  {
   "cell_type": "code",
   "execution_count": 11,
   "id": "recent-polish",
   "metadata": {},
   "outputs": [],
   "source": [
    "import requests"
   ]
  },
  {
   "cell_type": "code",
   "execution_count": 12,
   "id": "wooden-captain",
   "metadata": {},
   "outputs": [],
   "source": [
    "addresses = customers_df['full_address'].tolist()"
   ]
  },
  {
   "cell_type": "code",
   "execution_count": 13,
   "id": "entire-nebraska",
   "metadata": {},
   "outputs": [],
   "source": [
    "def geocodeAPI_results(address, key, return_full_response=True):\n",
    "    geocode_url = 'https://maps.googleapis.com/maps/api/geocode/json?address={}'.format(address)\n",
    "    if key is not None: \n",
    "        geocode_url = geocode_url + '&key={}'.format(key)\n",
    "    geocoding_results = requests.get(geocode_url)\n",
    "    geocoding_results = geocoding_results.json()\n",
    "    if len(geocoding_results['results']) == 0: \n",
    "        output ={\n",
    "            'geocode_formatted_address': None, \n",
    "            'geocode_lat': None, \n",
    "            'geocode_lng': None\n",
    "        }\n",
    "    else: \n",
    "        answer = geocoding_results['results'][0]\n",
    "        output = {\n",
    "            'geocode_formatted_address': answer.get('formatted_address'),\n",
    "            'geocode_lat': answer.get('geometry').get('location').get('lat'), \n",
    "            'geocode_lng': answer.get('geometry').get('location').get('lng'),\n",
    "        }\n",
    "        \n",
    "    output['geocode_input_string'] = address\n",
    "    output['geocode_number_of_results'] = len(geocoding_results['results'])\n",
    "    output['geocode_status'] = geocoding_results.get('status')\n",
    "    if return_full_response is True: \n",
    "        output['geocode_response'] = geocoding_results\n",
    "    return output"
   ]
  },
  {
   "cell_type": "code",
   "execution_count": 14,
   "id": "personal-fortune",
   "metadata": {},
   "outputs": [],
   "source": [
    "results = []\n",
    "for address in addresses: \n",
    "    geocoded = False\n",
    "    while geocoded is not True: \n",
    "        try: \n",
    "            geocoded_result = geocodeAPI_results(address, api_key, return_full_response=False)\n",
    "        except Exception as e:\n",
    "            print(e)\n",
    "        geocoded=True\n",
    "        results.append(geocoded_result)\n",
    "        "
   ]
  },
  {
   "cell_type": "code",
   "execution_count": 15,
   "id": "christian-diary",
   "metadata": {},
   "outputs": [],
   "source": [
    "results_df = pd.DataFrame(results)\n",
    "results_df.rename(columns={'geocode_formatted_address':'geocoded_address', 'geocode_lat':'lat',\n",
    "                           'geocode_lng': 'long', 'geocode_input_string':'full_address'}, inplace=True)\n",
    "customers_df = customers_df.merge(results_df[['full_address', 'geocoded_address', 'lat', 'long']], on='full_address', how='left')"
   ]
  },
  {
   "cell_type": "code",
   "execution_count": 16,
   "id": "fuzzy-complexity",
   "metadata": {},
   "outputs": [
    {
     "data": {
      "text/html": [
       "<div>\n",
       "<style scoped>\n",
       "    .dataframe tbody tr th:only-of-type {\n",
       "        vertical-align: middle;\n",
       "    }\n",
       "\n",
       "    .dataframe tbody tr th {\n",
       "        vertical-align: top;\n",
       "    }\n",
       "\n",
       "    .dataframe thead th {\n",
       "        text-align: right;\n",
       "    }\n",
       "</style>\n",
       "<table border=\"1\" class=\"dataframe\">\n",
       "  <thead>\n",
       "    <tr style=\"text-align: right;\">\n",
       "      <th></th>\n",
       "      <th>id</th>\n",
       "      <th>name</th>\n",
       "      <th>street_address</th>\n",
       "      <th>city</th>\n",
       "      <th>state</th>\n",
       "      <th>zipcode</th>\n",
       "      <th>birth_date</th>\n",
       "      <th>gender</th>\n",
       "      <th>education</th>\n",
       "      <th>occupation</th>\n",
       "      <th>full_address</th>\n",
       "      <th>geocoded_address</th>\n",
       "      <th>lat</th>\n",
       "      <th>long</th>\n",
       "    </tr>\n",
       "  </thead>\n",
       "  <tbody>\n",
       "    <tr>\n",
       "      <th>0</th>\n",
       "      <td>df83ec2d0d409395c0d8c2690cfa8b67</td>\n",
       "      <td>Cynthia Barnfield</td>\n",
       "      <td>44 NE Meikle Pl</td>\n",
       "      <td>Portland</td>\n",
       "      <td>Oregon</td>\n",
       "      <td>97213</td>\n",
       "      <td>2009-09-10</td>\n",
       "      <td>female</td>\n",
       "      <td>High School</td>\n",
       "      <td>NaN</td>\n",
       "      <td>44 NE Meikle Pl Portland  Oregon 97213</td>\n",
       "      <td>44 NE Meikle Pl, Portland, OR 97213, USA</td>\n",
       "      <td>45.523487</td>\n",
       "      <td>-122.618735</td>\n",
       "    </tr>\n",
       "    <tr>\n",
       "      <th>1</th>\n",
       "      <td>6aec7ab2ea0d67161dac39e5dcabd857</td>\n",
       "      <td>Elizabeth Smith</td>\n",
       "      <td>7511 SE Harrison St</td>\n",
       "      <td>Portland</td>\n",
       "      <td>Oregon</td>\n",
       "      <td>97215</td>\n",
       "      <td>1956-12-15</td>\n",
       "      <td>female</td>\n",
       "      <td>College</td>\n",
       "      <td>Blue Collar</td>\n",
       "      <td>7511 SE Harrison St  Portland Oregon 97215</td>\n",
       "      <td>7511 SE Harrison St, Portland, OR 97215, USA</td>\n",
       "      <td>45.509127</td>\n",
       "      <td>-122.586057</td>\n",
       "    </tr>\n",
       "    <tr>\n",
       "      <th>2</th>\n",
       "      <td>0c54340672f510fdb9d2f30595c1ab53</td>\n",
       "      <td>Richard Pabla</td>\n",
       "      <td>1404 SE Pine St</td>\n",
       "      <td>Portland</td>\n",
       "      <td>Oregon</td>\n",
       "      <td>97214</td>\n",
       "      <td>1960-12-18</td>\n",
       "      <td>male</td>\n",
       "      <td>College</td>\n",
       "      <td>Education &amp; Health</td>\n",
       "      <td>1404 SE Pine St Portland Oregon 97214</td>\n",
       "      <td>1404 SE Pine St, Portland, OR 97214, USA</td>\n",
       "      <td>45.520622</td>\n",
       "      <td>-122.651425</td>\n",
       "    </tr>\n",
       "    <tr>\n",
       "      <th>3</th>\n",
       "      <td>f0d9ce833ddc1f73c1e0b55bdebf012e</td>\n",
       "      <td>Charles Baker</td>\n",
       "      <td>12271 N Westshore Dr</td>\n",
       "      <td>Portland</td>\n",
       "      <td>Oregon</td>\n",
       "      <td>97217</td>\n",
       "      <td>2105-07-19</td>\n",
       "      <td>male</td>\n",
       "      <td>Graduate Degree</td>\n",
       "      <td>SALES</td>\n",
       "      <td>12271 N Westshore Dr Portland Oregon 97217</td>\n",
       "      <td>12271 N Westshore Dr, Portland, OR 97217, USA</td>\n",
       "      <td>45.613485</td>\n",
       "      <td>-122.692632</td>\n",
       "    </tr>\n",
       "    <tr>\n",
       "      <th>4</th>\n",
       "      <td>3720379163f6b46944db6c98c0485bfd</td>\n",
       "      <td>Ronald Lydon</td>\n",
       "      <td>5321 NE Skyport Way</td>\n",
       "      <td>Portland</td>\n",
       "      <td>Oregon</td>\n",
       "      <td>97218</td>\n",
       "      <td>1961-03-14</td>\n",
       "      <td>male</td>\n",
       "      <td>Graduate Degree</td>\n",
       "      <td>Blue Collar</td>\n",
       "      <td>5321 NE Skyport Way Portland Oregon 97218</td>\n",
       "      <td>5321 NE Skyport Way, Portland, OR 97218, USA</td>\n",
       "      <td>45.576465</td>\n",
       "      <td>-122.609121</td>\n",
       "    </tr>\n",
       "    <tr>\n",
       "      <th>...</th>\n",
       "      <td>...</td>\n",
       "      <td>...</td>\n",
       "      <td>...</td>\n",
       "      <td>...</td>\n",
       "      <td>...</td>\n",
       "      <td>...</td>\n",
       "      <td>...</td>\n",
       "      <td>...</td>\n",
       "      <td>...</td>\n",
       "      <td>...</td>\n",
       "      <td>...</td>\n",
       "      <td>...</td>\n",
       "      <td>...</td>\n",
       "      <td>...</td>\n",
       "    </tr>\n",
       "    <tr>\n",
       "      <th>2471</th>\n",
       "      <td>9a2194fcd4f0f326f0ca334450e16a93</td>\n",
       "      <td>Earl Grier</td>\n",
       "      <td>22 NE graham ST</td>\n",
       "      <td>Portland</td>\n",
       "      <td>OREGON</td>\n",
       "      <td>97212</td>\n",
       "      <td>2007-10-02</td>\n",
       "      <td>male</td>\n",
       "      <td>Others</td>\n",
       "      <td>Education &amp; Health</td>\n",
       "      <td>22 NE graham ST Portland OREGON 97212</td>\n",
       "      <td>22 NE Graham St, Portland, OR 97212, USA</td>\n",
       "      <td>45.542684</td>\n",
       "      <td>-122.665952</td>\n",
       "    </tr>\n",
       "    <tr>\n",
       "      <th>2472</th>\n",
       "      <td>01a598a05c48fdd18461d6411f51a109</td>\n",
       "      <td>Rogelio Richmann</td>\n",
       "      <td>7000 NE Airport Way</td>\n",
       "      <td>Portland</td>\n",
       "      <td>OREGON</td>\n",
       "      <td>97218</td>\n",
       "      <td>2001-02-19</td>\n",
       "      <td>male</td>\n",
       "      <td>College</td>\n",
       "      <td>Business &amp; Finance</td>\n",
       "      <td>7000 NE Airport Way Portland OREGON 97218</td>\n",
       "      <td>7000 NE Airport Way, Portland, OR 97218, USA</td>\n",
       "      <td>45.589159</td>\n",
       "      <td>-122.593494</td>\n",
       "    </tr>\n",
       "    <tr>\n",
       "      <th>2473</th>\n",
       "      <td>01a598a05c48fdd18461d6411f51a109</td>\n",
       "      <td>Rogelio Richmann</td>\n",
       "      <td>7000 NE Airport Way</td>\n",
       "      <td>Portland</td>\n",
       "      <td>OREGON</td>\n",
       "      <td>97218</td>\n",
       "      <td>2001-02-19</td>\n",
       "      <td>male</td>\n",
       "      <td>College</td>\n",
       "      <td>Business &amp; Finance</td>\n",
       "      <td>7000 NE Airport Way Portland OREGON 97218</td>\n",
       "      <td>7000 NE Airport Way, Portland, OR 97218, USA</td>\n",
       "      <td>45.589159</td>\n",
       "      <td>-122.593494</td>\n",
       "    </tr>\n",
       "    <tr>\n",
       "      <th>2474</th>\n",
       "      <td>01a598a05c48fdd18461d6411f51a109</td>\n",
       "      <td>Rogelio Richmann</td>\n",
       "      <td>7000 NE Airport Way</td>\n",
       "      <td>Portland</td>\n",
       "      <td>OREGON</td>\n",
       "      <td>97218</td>\n",
       "      <td>2001-02-19</td>\n",
       "      <td>male</td>\n",
       "      <td>College</td>\n",
       "      <td>Business &amp; Finance</td>\n",
       "      <td>7000 NE Airport Way Portland OREGON 97218</td>\n",
       "      <td>7000 NE Airport Way, Portland, OR 97218, USA</td>\n",
       "      <td>45.589159</td>\n",
       "      <td>-122.593494</td>\n",
       "    </tr>\n",
       "    <tr>\n",
       "      <th>2475</th>\n",
       "      <td>2d1d65505400e568a045c828c9ebe365</td>\n",
       "      <td>Paul Groat</td>\n",
       "      <td>8993 SE 78th Pl</td>\n",
       "      <td>Portland</td>\n",
       "      <td>Oregon</td>\n",
       "      <td>97206</td>\n",
       "      <td>NaN</td>\n",
       "      <td>male</td>\n",
       "      <td>Others</td>\n",
       "      <td>Sales</td>\n",
       "      <td>8993 SE 78th Pl Portland Oregon 97206</td>\n",
       "      <td>8993 SE 78th Pl, Portland, OR 97206, USA</td>\n",
       "      <td>45.457031</td>\n",
       "      <td>-122.583487</td>\n",
       "    </tr>\n",
       "  </tbody>\n",
       "</table>\n",
       "<p>2476 rows × 14 columns</p>\n",
       "</div>"
      ],
      "text/plain": [
       "                                    id               name  \\\n",
       "0     df83ec2d0d409395c0d8c2690cfa8b67  Cynthia Barnfield   \n",
       "1     6aec7ab2ea0d67161dac39e5dcabd857    Elizabeth Smith   \n",
       "2     0c54340672f510fdb9d2f30595c1ab53      Richard Pabla   \n",
       "3     f0d9ce833ddc1f73c1e0b55bdebf012e      Charles Baker   \n",
       "4     3720379163f6b46944db6c98c0485bfd       Ronald Lydon   \n",
       "...                                ...                ...   \n",
       "2471  9a2194fcd4f0f326f0ca334450e16a93         Earl Grier   \n",
       "2472  01a598a05c48fdd18461d6411f51a109   Rogelio Richmann   \n",
       "2473  01a598a05c48fdd18461d6411f51a109   Rogelio Richmann   \n",
       "2474  01a598a05c48fdd18461d6411f51a109   Rogelio Richmann   \n",
       "2475  2d1d65505400e568a045c828c9ebe365         Paul Groat   \n",
       "\n",
       "            street_address       city   state zipcode  birth_date   gender  \\\n",
       "0          44 NE Meikle Pl  Portland   Oregon   97213  2009-09-10   female   \n",
       "1      7511 SE Harrison St   Portland  Oregon   97215  1956-12-15   female   \n",
       "2          1404 SE Pine St   Portland  Oregon   97214  1960-12-18     male   \n",
       "3     12271 N Westshore Dr   Portland  Oregon   97217  2105-07-19     male   \n",
       "4      5321 NE Skyport Way   Portland  Oregon   97218  1961-03-14     male   \n",
       "...                    ...        ...     ...     ...         ...      ...   \n",
       "2471       22 NE graham ST   Portland  OREGON   97212  2007-10-02     male   \n",
       "2472   7000 NE Airport Way   Portland  OREGON   97218  2001-02-19     male   \n",
       "2473   7000 NE Airport Way   Portland  OREGON   97218  2001-02-19     male   \n",
       "2474   7000 NE Airport Way   Portland  OREGON   97218  2001-02-19     male   \n",
       "2475       8993 SE 78th Pl   Portland  Oregon   97206         NaN     male   \n",
       "\n",
       "            education          occupation  \\\n",
       "0         High School                 NaN   \n",
       "1             College         Blue Collar   \n",
       "2             College  Education & Health   \n",
       "3     Graduate Degree               SALES   \n",
       "4     Graduate Degree         Blue Collar   \n",
       "...               ...                 ...   \n",
       "2471           Others  Education & Health   \n",
       "2472          College  Business & Finance   \n",
       "2473          College  Business & Finance   \n",
       "2474          College  Business & Finance   \n",
       "2475           Others               Sales   \n",
       "\n",
       "                                    full_address  \\\n",
       "0         44 NE Meikle Pl Portland  Oregon 97213   \n",
       "1     7511 SE Harrison St  Portland Oregon 97215   \n",
       "2          1404 SE Pine St Portland Oregon 97214   \n",
       "3     12271 N Westshore Dr Portland Oregon 97217   \n",
       "4      5321 NE Skyport Way Portland Oregon 97218   \n",
       "...                                          ...   \n",
       "2471       22 NE graham ST Portland OREGON 97212   \n",
       "2472   7000 NE Airport Way Portland OREGON 97218   \n",
       "2473   7000 NE Airport Way Portland OREGON 97218   \n",
       "2474   7000 NE Airport Way Portland OREGON 97218   \n",
       "2475       8993 SE 78th Pl Portland Oregon 97206   \n",
       "\n",
       "                                   geocoded_address        lat        long  \n",
       "0          44 NE Meikle Pl, Portland, OR 97213, USA  45.523487 -122.618735  \n",
       "1      7511 SE Harrison St, Portland, OR 97215, USA  45.509127 -122.586057  \n",
       "2          1404 SE Pine St, Portland, OR 97214, USA  45.520622 -122.651425  \n",
       "3     12271 N Westshore Dr, Portland, OR 97217, USA  45.613485 -122.692632  \n",
       "4      5321 NE Skyport Way, Portland, OR 97218, USA  45.576465 -122.609121  \n",
       "...                                             ...        ...         ...  \n",
       "2471       22 NE Graham St, Portland, OR 97212, USA  45.542684 -122.665952  \n",
       "2472   7000 NE Airport Way, Portland, OR 97218, USA  45.589159 -122.593494  \n",
       "2473   7000 NE Airport Way, Portland, OR 97218, USA  45.589159 -122.593494  \n",
       "2474   7000 NE Airport Way, Portland, OR 97218, USA  45.589159 -122.593494  \n",
       "2475       8993 SE 78th Pl, Portland, OR 97206, USA  45.457031 -122.583487  \n",
       "\n",
       "[2476 rows x 14 columns]"
      ]
     },
     "execution_count": 16,
     "metadata": {},
     "output_type": "execute_result"
    }
   ],
   "source": [
    "customers_df"
   ]
  },
  {
   "cell_type": "markdown",
   "id": "mathematical-return",
   "metadata": {},
   "source": [
    "## missing values "
   ]
  },
  {
   "cell_type": "code",
   "execution_count": 17,
   "id": "approved-rubber",
   "metadata": {},
   "outputs": [
    {
     "data": {
      "text/plain": [
       "id                    0\n",
       "name                  0\n",
       "street_address        0\n",
       "city                  0\n",
       "state                 0\n",
       "zipcode               1\n",
       "birth_date          128\n",
       "gender              123\n",
       "education           136\n",
       "occupation          135\n",
       "full_address          0\n",
       "geocoded_address      1\n",
       "lat                   1\n",
       "long                  1\n",
       "dtype: int64"
      ]
     },
     "execution_count": 17,
     "metadata": {},
     "output_type": "execute_result"
    }
   ],
   "source": [
    "customers_df.isna().sum()"
   ]
  },
  {
   "cell_type": "markdown",
   "id": "patent-measure",
   "metadata": {},
   "source": [
    "## cleaning birth dates and generating age variable "
   ]
  },
  {
   "cell_type": "code",
   "execution_count": 18,
   "id": "straight-airport",
   "metadata": {},
   "outputs": [],
   "source": [
    "customers_df.birth_date.fillna('', inplace=True)"
   ]
  },
  {
   "cell_type": "code",
   "execution_count": 19,
   "id": "artificial-party",
   "metadata": {},
   "outputs": [],
   "source": [
    "customers_df['birth_date'] = customers_df['birth_date'].apply(lambda x: pd.to_datetime(x.replace(r'\\D+', ''), format='%Y-%m-%d'))"
   ]
  },
  {
   "cell_type": "code",
   "execution_count": 20,
   "id": "optimum-annual",
   "metadata": {},
   "outputs": [],
   "source": [
    "customers_df['birth_year'] = customers_df['birth_date'].dt.year\n"
   ]
  },
  {
   "cell_type": "markdown",
   "id": "digital-middle",
   "metadata": {},
   "source": [
    "- we have 99 observations where the birth year is in the next century\n",
    "- while at first glance, it may seem like there is a simple typo which can be corrected with changing the 100s digit from 1 to 0, that is incorrect, as there exist patrons born in '2118' (for example) that have an education level of 'High School' which is inconsistent with 2018. \n",
    "- it's unclear here, what the correct imputation would be, therefore I drop these values "
   ]
  },
  {
   "cell_type": "code",
   "execution_count": 22,
   "id": "cosmetic-filename",
   "metadata": {},
   "outputs": [],
   "source": [
    "customers_df['birth_year'].mask(customers_df['birth_year']>2022, np.nan, inplace=True)"
   ]
  },
  {
   "cell_type": "markdown",
   "id": "mediterranean-playlist",
   "metadata": {},
   "source": [
    "## saving to disk "
   ]
  },
  {
   "cell_type": "code",
   "execution_count": 23,
   "id": "hungry-senior",
   "metadata": {},
   "outputs": [],
   "source": [
    "customers_df.to_csv(out_dir/'customers_cleaned_geocoded.csv', index=False)"
   ]
  }
 ],
 "metadata": {
  "kernelspec": {
   "display_name": "Python 3",
   "language": "python",
   "name": "python3"
  },
  "language_info": {
   "codemirror_mode": {
    "name": "ipython",
    "version": 3
   },
   "file_extension": ".py",
   "mimetype": "text/x-python",
   "name": "python",
   "nbconvert_exporter": "python",
   "pygments_lexer": "ipython3",
   "version": "3.7.9"
  },
  "toc": {
   "base_numbering": 1,
   "nav_menu": {},
   "number_sections": false,
   "sideBar": true,
   "skip_h1_title": false,
   "title_cell": "Table of Contents",
   "title_sidebar": "Contents",
   "toc_cell": false,
   "toc_position": {},
   "toc_section_display": true,
   "toc_window_display": false
  },
  "varInspector": {
   "cols": {
    "lenName": 16,
    "lenType": 16,
    "lenVar": 40
   },
   "kernels_config": {
    "python": {
     "delete_cmd_postfix": "",
     "delete_cmd_prefix": "del ",
     "library": "var_list.py",
     "varRefreshCmd": "print(var_dic_list())"
    },
    "r": {
     "delete_cmd_postfix": ") ",
     "delete_cmd_prefix": "rm(",
     "library": "var_list.r",
     "varRefreshCmd": "cat(var_dic_list()) "
    }
   },
   "types_to_exclude": [
    "module",
    "function",
    "builtin_function_or_method",
    "instance",
    "_Feature"
   ],
   "window_display": false
  }
 },
 "nbformat": 4,
 "nbformat_minor": 5
}
