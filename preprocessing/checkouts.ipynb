{
 "cells": [
  {
   "cell_type": "markdown",
   "id": "harmful-fireplace",
   "metadata": {},
   "source": [
    "# Cleaning & Exploratory Data Analysis of the checkouts data\n",
    "This notebook is for initial exploration of the datasets associated with this challenge. "
   ]
  },
  {
   "cell_type": "markdown",
   "id": "allied-corpus",
   "metadata": {},
   "source": [
    "## imports "
   ]
  },
  {
   "cell_type": "code",
   "execution_count": 1,
   "id": "grand-young",
   "metadata": {},
   "outputs": [],
   "source": [
    "import os, sys, glob # for loading, saving and manipulating files on disk\n",
    "from pathlib import Path # Path allows us to list directory paths in a manner that's not affected by the OS the notebook is being run on \n",
    "\n",
    "import pandas as pd # to work with csv files as dataframes \n",
    "import numpy as np # for mathematical and scientific computations \n",
    "\n",
    "import matplotlib.pyplot as plt # for plots \n",
    "import seaborn as sns # also for plotting, it's a wrapper for several matplotlib functions, making them more accessible "
   ]
  },
  {
   "cell_type": "markdown",
   "id": "incredible-allowance",
   "metadata": {},
   "source": [
    "## loading data"
   ]
  },
  {
   "cell_type": "code",
   "execution_count": 2,
   "id": "better-calibration",
   "metadata": {},
   "outputs": [],
   "source": [
    "data_dir = Path.home()/'projects'/'billups_data_challenge'/'Data Challenge' # specifies the directory with data files\n",
    "out_dir = data_dir.parent/'cleaned_data' # directory for storing intermediate outputs such as cleaned data\n",
    "out_dir.mkdir(exist_ok=True) #creating the output directory, while making sure it's not overwritten if it already exists"
   ]
  },
  {
   "cell_type": "code",
   "execution_count": 3,
   "id": "unauthorized-concern",
   "metadata": {},
   "outputs": [],
   "source": [
    "checkouts_df = pd.read_csv(data_dir/'checkouts.csv')"
   ]
  },
  {
   "cell_type": "markdown",
   "id": "prerequisite-mediterranean",
   "metadata": {},
   "source": [
    "## investigating the data"
   ]
  },
  {
   "cell_type": "markdown",
   "id": "directed-emission",
   "metadata": {},
   "source": [
    "### visual inspection"
   ]
  },
  {
   "cell_type": "code",
   "execution_count": 4,
   "id": "optional-detector",
   "metadata": {},
   "outputs": [
    {
     "data": {
      "text/plain": [
       "(2000, 5)"
      ]
     },
     "execution_count": 4,
     "metadata": {},
     "output_type": "execute_result"
    }
   ],
   "source": [
    "checkouts_df.shape # checking the size of the data"
   ]
  },
  {
   "cell_type": "code",
   "execution_count": 5,
   "id": "indoor-small",
   "metadata": {},
   "outputs": [
    {
     "data": {
      "text/html": [
       "<div>\n",
       "<style scoped>\n",
       "    .dataframe tbody tr th:only-of-type {\n",
       "        vertical-align: middle;\n",
       "    }\n",
       "\n",
       "    .dataframe tbody tr th {\n",
       "        vertical-align: top;\n",
       "    }\n",
       "\n",
       "    .dataframe thead th {\n",
       "        text-align: right;\n",
       "    }\n",
       "</style>\n",
       "<table border=\"1\" class=\"dataframe\">\n",
       "  <thead>\n",
       "    <tr style=\"text-align: right;\">\n",
       "      <th></th>\n",
       "      <th>id</th>\n",
       "      <th>patron_id</th>\n",
       "      <th>library_id</th>\n",
       "      <th>date_checkout</th>\n",
       "      <th>date_returned</th>\n",
       "    </tr>\n",
       "  </thead>\n",
       "  <tbody>\n",
       "    <tr>\n",
       "      <th>850</th>\n",
       "      <td>9SYBZggtr_IC</td>\n",
       "      <td>9e644d69a015b0e584cc3a7477309281</td>\n",
       "      <td>226-222@5xc-jxj-7yv</td>\n",
       "      <td>2018-02-26</td>\n",
       "      <td>2105-08-19</td>\n",
       "    </tr>\n",
       "    <tr>\n",
       "      <th>759</th>\n",
       "      <td>QlVB6ARdT7kC</td>\n",
       "      <td>24d9c51ae0a7749c81dcd4fb3bb3ac74</td>\n",
       "      <td>zzw-222@5xc-knn-c5z</td>\n",
       "      <td>2018-06-18</td>\n",
       "      <td>2018-07-04</td>\n",
       "    </tr>\n",
       "    <tr>\n",
       "      <th>1651</th>\n",
       "      <td>moG9m2rGrTUC</td>\n",
       "      <td>0baa259f15ddd561717e95c732779754</td>\n",
       "      <td>222-222@5xc-jxp-rp9</td>\n",
       "      <td>2018-05-28</td>\n",
       "      <td>2018-06-24</td>\n",
       "    </tr>\n",
       "    <tr>\n",
       "      <th>129</th>\n",
       "      <td>tAyspwAACAAJ</td>\n",
       "      <td>847c7d77f102c2fb4583cc90045ff348</td>\n",
       "      <td>226-222@5xc-jxj-7yv</td>\n",
       "      <td>2018-05-19</td>\n",
       "      <td>2018-05-29</td>\n",
       "    </tr>\n",
       "    <tr>\n",
       "      <th>575</th>\n",
       "      <td>1hZrAAAAMAAJ</td>\n",
       "      <td>507a36937127f9cc992199e345a6a4f8</td>\n",
       "      <td>223-222@5xc-jxr-tgk</td>\n",
       "      <td>2018-01-09</td>\n",
       "      <td>2018-01-26</td>\n",
       "    </tr>\n",
       "    <tr>\n",
       "      <th>1705</th>\n",
       "      <td>VSGQiN1YBqwC</td>\n",
       "      <td>06b6869d52637ab1660836ee4992e762</td>\n",
       "      <td>226-222@5xc-jxj-7yv</td>\n",
       "      <td>2018-12-04</td>\n",
       "      <td>2018-12-09</td>\n",
       "    </tr>\n",
       "    <tr>\n",
       "      <th>340</th>\n",
       "      <td>G4fBLKAh-IUC</td>\n",
       "      <td>8ac69a8b6b389ee48bf74846a05bd9e2</td>\n",
       "      <td>22d-222@5xc-kcy-8sq</td>\n",
       "      <td>2018-01-07</td>\n",
       "      <td>2018-01-21</td>\n",
       "    </tr>\n",
       "    <tr>\n",
       "      <th>278</th>\n",
       "      <td>kdDDAgAAQBAJ</td>\n",
       "      <td>53213d43d37e7903bd2c5f8e788574ad</td>\n",
       "      <td>227-222@5xc-jww-btv</td>\n",
       "      <td>2018-03-21</td>\n",
       "      <td>2018-03-31</td>\n",
       "    </tr>\n",
       "    <tr>\n",
       "      <th>1709</th>\n",
       "      <td>K9kDAAAAMBAJ</td>\n",
       "      <td>4c1632f3c8a7a7dd6f001329a345db22</td>\n",
       "      <td>zzw-223@5xc-jv7-ct9</td>\n",
       "      <td>2018-11-06</td>\n",
       "      <td>2018-11-25</td>\n",
       "    </tr>\n",
       "    <tr>\n",
       "      <th>1160</th>\n",
       "      <td>e3XVAAAAMAAJ</td>\n",
       "      <td>e17a82364f09fff530c609d8ae9d8d83</td>\n",
       "      <td>zzw-223@5xc-jv7-ct9</td>\n",
       "      <td>2018-10-19</td>\n",
       "      <td>2118-04-06</td>\n",
       "    </tr>\n",
       "  </tbody>\n",
       "</table>\n",
       "</div>"
      ],
      "text/plain": [
       "                id                         patron_id           library_id  \\\n",
       "850   9SYBZggtr_IC  9e644d69a015b0e584cc3a7477309281  226-222@5xc-jxj-7yv   \n",
       "759   QlVB6ARdT7kC  24d9c51ae0a7749c81dcd4fb3bb3ac74  zzw-222@5xc-knn-c5z   \n",
       "1651  moG9m2rGrTUC  0baa259f15ddd561717e95c732779754  222-222@5xc-jxp-rp9   \n",
       "129   tAyspwAACAAJ  847c7d77f102c2fb4583cc90045ff348  226-222@5xc-jxj-7yv   \n",
       "575   1hZrAAAAMAAJ  507a36937127f9cc992199e345a6a4f8  223-222@5xc-jxr-tgk   \n",
       "1705  VSGQiN1YBqwC  06b6869d52637ab1660836ee4992e762  226-222@5xc-jxj-7yv   \n",
       "340   G4fBLKAh-IUC  8ac69a8b6b389ee48bf74846a05bd9e2  22d-222@5xc-kcy-8sq   \n",
       "278   kdDDAgAAQBAJ  53213d43d37e7903bd2c5f8e788574ad  227-222@5xc-jww-btv   \n",
       "1709  K9kDAAAAMBAJ  4c1632f3c8a7a7dd6f001329a345db22  zzw-223@5xc-jv7-ct9   \n",
       "1160  e3XVAAAAMAAJ  e17a82364f09fff530c609d8ae9d8d83  zzw-223@5xc-jv7-ct9   \n",
       "\n",
       "     date_checkout date_returned  \n",
       "850     2018-02-26    2105-08-19  \n",
       "759     2018-06-18    2018-07-04  \n",
       "1651    2018-05-28    2018-06-24  \n",
       "129     2018-05-19    2018-05-29  \n",
       "575     2018-01-09    2018-01-26  \n",
       "1705    2018-12-04    2018-12-09  \n",
       "340     2018-01-07    2018-01-21  \n",
       "278     2018-03-21    2018-03-31  \n",
       "1709    2018-11-06    2018-11-25  \n",
       "1160    2018-10-19    2118-04-06  "
      ]
     },
     "execution_count": 5,
     "metadata": {},
     "output_type": "execute_result"
    }
   ],
   "source": [
    "checkouts_df.sample(10)"
   ]
  },
  {
   "cell_type": "markdown",
   "id": "apart-prototype",
   "metadata": {},
   "source": [
    "Here are some characteristics that look concerning: \n",
    "- the date columns need to be formatted, as they have inappropriate characters such as '%'\n",
    "- dates go as far back as 1800s in this sample itself, unsure if that's a recording error or if the libraries databases do have checkouts going that far back -- I did a quick check to see when the first library in Oregon came to be, and the 1800s are consistent with that. \n",
    "- the sample also has a date with year \"2107\" which definitely indicates a measurement/recording error. \n",
    "\n",
    "These require further exploration of the dates columns."
   ]
  },
  {
   "cell_type": "markdown",
   "id": "statutory-access",
   "metadata": {},
   "source": [
    "## exploring the dates column\n",
    "\n",
    "Some key things I'd like to examine is: \n",
    "- check the data-type of the dates column, if not already convert them to datetime objects \n",
    "- flag observations where either the checkout or the return date is in the future, i.e after 2022/08/06\n",
    "- flag observations where the date_returned is earlier than date_checkout (it should be impossible to return a book before checking it out) \n",
    "- compute number of days between date_checkout and date_returned, and use that to create a \"late return\" indicator variable\n",
    "- check if due dates for timely return tend to fall on holidays for late returns"
   ]
  },
  {
   "cell_type": "markdown",
   "id": "pleasant-belfast",
   "metadata": {},
   "source": [
    "### examining the dtypes"
   ]
  },
  {
   "cell_type": "code",
   "execution_count": 6,
   "id": "fifty-borough",
   "metadata": {},
   "outputs": [
    {
     "name": "stdout",
     "output_type": "stream",
     "text": [
      "<class 'pandas.core.frame.DataFrame'>\n",
      "RangeIndex: 2000 entries, 0 to 1999\n",
      "Data columns (total 5 columns):\n",
      " #   Column         Non-Null Count  Dtype \n",
      "---  ------         --------------  ----- \n",
      " 0   id             2000 non-null   object\n",
      " 1   patron_id      2000 non-null   object\n",
      " 2   library_id     2000 non-null   object\n",
      " 3   date_checkout  1935 non-null   object\n",
      " 4   date_returned  1942 non-null   object\n",
      "dtypes: object(5)\n",
      "memory usage: 78.2+ KB\n"
     ]
    }
   ],
   "source": [
    "checkouts_df.info()"
   ]
  },
  {
   "cell_type": "markdown",
   "id": "wired-sauce",
   "metadata": {},
   "source": [
    "both the date columns are strings, so I'd like to clean them and convert them to the datetime data-type"
   ]
  },
  {
   "cell_type": "markdown",
   "id": "applied-hands",
   "metadata": {},
   "source": [
    "### cleaning the date columns"
   ]
  },
  {
   "cell_type": "markdown",
   "id": "peaceful-morocco",
   "metadata": {},
   "source": [
    "To clean date columns, I would: \n",
    "- remove all non-numeric characters (this would also remove the separators, but that's okay)\n",
    "- convert the integer date into a datetime dtype"
   ]
  },
  {
   "cell_type": "code",
   "execution_count": 7,
   "id": "ultimate-revolution",
   "metadata": {},
   "outputs": [
    {
     "name": "stderr",
     "output_type": "stream",
     "text": [
      "/Users/garima/miniconda3/envs/reloc/lib/python3.7/site-packages/ipykernel_launcher.py:1: FutureWarning: The default value of regex will change from True to False in a future version.\n",
      "  \"\"\"Entry point for launching an IPython kernel.\n"
     ]
    }
   ],
   "source": [
    "checkouts_df[['date_checkout', 'date_returned']] = checkouts_df[['date_checkout', 'date_returned']].apply(\n",
    "    lambda x: pd.to_datetime(x.str.replace(r'\\D+', ''), format='%Y%m%d'))"
   ]
  },
  {
   "cell_type": "code",
   "execution_count": 8,
   "id": "regular-india",
   "metadata": {},
   "outputs": [
    {
     "data": {
      "text/html": [
       "<div>\n",
       "<style scoped>\n",
       "    .dataframe tbody tr th:only-of-type {\n",
       "        vertical-align: middle;\n",
       "    }\n",
       "\n",
       "    .dataframe tbody tr th {\n",
       "        vertical-align: top;\n",
       "    }\n",
       "\n",
       "    .dataframe thead th {\n",
       "        text-align: right;\n",
       "    }\n",
       "</style>\n",
       "<table border=\"1\" class=\"dataframe\">\n",
       "  <thead>\n",
       "    <tr style=\"text-align: right;\">\n",
       "      <th></th>\n",
       "      <th>id</th>\n",
       "      <th>patron_id</th>\n",
       "      <th>library_id</th>\n",
       "      <th>date_checkout</th>\n",
       "      <th>date_returned</th>\n",
       "    </tr>\n",
       "  </thead>\n",
       "  <tbody>\n",
       "    <tr>\n",
       "      <th>0</th>\n",
       "      <td>-xFj0vTLbRIC</td>\n",
       "      <td>b071c9c68228a2b1d00e6f53677e16da</td>\n",
       "      <td>225-222@5xc-jtz-hkf</td>\n",
       "      <td>2019-01-28</td>\n",
       "      <td>2018-11-13</td>\n",
       "    </tr>\n",
       "    <tr>\n",
       "      <th>1</th>\n",
       "      <td>HUX-y4oXl04C</td>\n",
       "      <td>8d3f63e1deed89d7ba1bf6a4eb101373</td>\n",
       "      <td>223-222@5xc-jxr-tgk</td>\n",
       "      <td>2018-05-29</td>\n",
       "      <td>2018-06-12</td>\n",
       "    </tr>\n",
       "    <tr>\n",
       "      <th>2</th>\n",
       "      <td>TQpFnkku2poC</td>\n",
       "      <td>4ae202f8de762591734705e0079d76df</td>\n",
       "      <td>228-222@5xc-jtz-hwk</td>\n",
       "      <td>2018-11-23</td>\n",
       "      <td>2019-01-24</td>\n",
       "    </tr>\n",
       "    <tr>\n",
       "      <th>3</th>\n",
       "      <td>OQ6sDwAAQBAJ</td>\n",
       "      <td>f9372de3c8ea501601aa3fb59ec0f524</td>\n",
       "      <td>23v-222@5xc-jv7-v4v</td>\n",
       "      <td>2018-01-15</td>\n",
       "      <td>2018-04-25</td>\n",
       "    </tr>\n",
       "    <tr>\n",
       "      <th>4</th>\n",
       "      <td>7T9-BAAAQBAJ</td>\n",
       "      <td>2cf3cc3b9e9f6c608767da8d350f77c9</td>\n",
       "      <td>225-222@5xc-jtz-hkf</td>\n",
       "      <td>2018-12-31</td>\n",
       "      <td>1804-01-23</td>\n",
       "    </tr>\n",
       "  </tbody>\n",
       "</table>\n",
       "</div>"
      ],
      "text/plain": [
       "             id                         patron_id           library_id  \\\n",
       "0  -xFj0vTLbRIC  b071c9c68228a2b1d00e6f53677e16da  225-222@5xc-jtz-hkf   \n",
       "1  HUX-y4oXl04C  8d3f63e1deed89d7ba1bf6a4eb101373  223-222@5xc-jxr-tgk   \n",
       "2  TQpFnkku2poC  4ae202f8de762591734705e0079d76df  228-222@5xc-jtz-hwk   \n",
       "3  OQ6sDwAAQBAJ  f9372de3c8ea501601aa3fb59ec0f524  23v-222@5xc-jv7-v4v   \n",
       "4  7T9-BAAAQBAJ  2cf3cc3b9e9f6c608767da8d350f77c9  225-222@5xc-jtz-hkf   \n",
       "\n",
       "  date_checkout date_returned  \n",
       "0    2019-01-28    2018-11-13  \n",
       "1    2018-05-29    2018-06-12  \n",
       "2    2018-11-23    2019-01-24  \n",
       "3    2018-01-15    2018-04-25  \n",
       "4    2018-12-31    1804-01-23  "
      ]
     },
     "execution_count": 8,
     "metadata": {},
     "output_type": "execute_result"
    }
   ],
   "source": [
    "checkouts_df.head()"
   ]
  },
  {
   "cell_type": "markdown",
   "id": "wired-delivery",
   "metadata": {},
   "source": [
    "### missing values"
   ]
  },
  {
   "cell_type": "code",
   "execution_count": 9,
   "id": "architectural-wheat",
   "metadata": {},
   "outputs": [
    {
     "data": {
      "text/plain": [
       "id                0\n",
       "patron_id         0\n",
       "library_id        0\n",
       "date_checkout    65\n",
       "date_returned    58\n",
       "dtype: int64"
      ]
     },
     "execution_count": 9,
     "metadata": {},
     "output_type": "execute_result"
    }
   ],
   "source": [
    "checkouts_df.isna().sum()"
   ]
  },
  {
   "cell_type": "markdown",
   "id": "necessary-philip",
   "metadata": {},
   "source": [
    "- There are 65 checkout dates and 58 return dates missing\n",
    "- Imputing these missing dates would be altering the underlying distribution of late-returns\n",
    "- So, I deal with these missing values by dropping them "
   ]
  },
  {
   "cell_type": "code",
   "execution_count": 10,
   "id": "eligible-language",
   "metadata": {},
   "outputs": [],
   "source": [
    "checkouts_df.dropna(subset=['date_checkout', 'date_returned'], inplace=True)"
   ]
  },
  {
   "cell_type": "markdown",
   "id": "focused-raleigh",
   "metadata": {},
   "source": [
    "### looking for \"future\" checkouts and returns "
   ]
  },
  {
   "cell_type": "code",
   "execution_count": 11,
   "id": "auburn-trauma",
   "metadata": {},
   "outputs": [
    {
     "name": "stdout",
     "output_type": "stream",
     "text": [
      "Earliest checkout year is 1800 \n",
      " Earliest year a book was returned is 1800\n",
      "Latest checkout year is 2120 \n",
      " Latest year a book was returned is 2120\n"
     ]
    }
   ],
   "source": [
    "print(f\"Earliest checkout year is {checkouts_df['date_checkout'].min().year} \\n Earliest year a book was returned is {checkouts_df['date_returned'].min().year}\")\n",
    "print(f\"Latest checkout year is {checkouts_df['date_checkout'].max().year} \\n Latest year a book was returned is {checkouts_df['date_returned'].max().year}\")"
   ]
  },
  {
   "cell_type": "markdown",
   "id": "british-genius",
   "metadata": {},
   "source": [
    "There are definitely years after the current date, that must be errors in recording. Examining observations with either checkout or return year higher than 2021. "
   ]
  },
  {
   "cell_type": "code",
   "execution_count": 12,
   "id": "explicit-disposition",
   "metadata": {},
   "outputs": [],
   "source": [
    "checkouts_df['checkout_year'] = checkouts_df['date_checkout'].apply(lambda x: int(x.year))\n",
    "checkouts_df['return_year'] = checkouts_df['date_returned'].apply(lambda x: int(x.year))"
   ]
  },
  {
   "cell_type": "code",
   "execution_count": 13,
   "id": "political-limit",
   "metadata": {},
   "outputs": [
    {
     "name": "stdout",
     "output_type": "stream",
     "text": [
      "Number of checkouts in the future is 84\n",
      "Number of returns in the future is 95\n",
      "Number of books that were both checked out and returned in the future is 0\n"
     ]
    }
   ],
   "source": [
    "print(f\"Number of checkouts in the future is {checkouts_df[checkouts_df['checkout_year']>2021].shape[0]}\")\n",
    "print(f\"Number of returns in the future is {checkouts_df[checkouts_df['return_year']>2021].shape[0]}\")\n",
    "print(f\"Number of books that were both checked out and returned in the future is {checkouts_df[(checkouts_df['checkout_year']>2021)&(checkouts_df['return_year']>2021)].shape[0]}\")"
   ]
  },
  {
   "cell_type": "markdown",
   "id": "ongoing-limitation",
   "metadata": {},
   "source": [
    "I drop these \"future\" values as they're erroneous and can't be replaced without affecting the distribution of late returns"
   ]
  },
  {
   "cell_type": "code",
   "execution_count": 14,
   "id": "contemporary-machinery",
   "metadata": {},
   "outputs": [],
   "source": [
    "checkouts_df = checkouts_df[(checkouts_df['checkout_year']<2023)&(checkouts_df['return_year']<2023)]"
   ]
  },
  {
   "cell_type": "markdown",
   "id": "standing-calcium",
   "metadata": {},
   "source": [
    "### looking for books that were returned earlier than they were checked out"
   ]
  },
  {
   "cell_type": "code",
   "execution_count": 15,
   "id": "constant-charger",
   "metadata": {},
   "outputs": [
    {
     "data": {
      "image/png": "[encoded data removed]",
      "text/plain": [
       "<Figure size 432x288 with 1 Axes>"
      ]
     },
     "metadata": {
      "needs_background": "light"
     },
     "output_type": "display_data"
    }
   ],
   "source": [
    "sns.scatterplot(x='checkout_year', y='return_year', data=checkouts_df);\n",
    "plt.plot(np.linspace(1800, 2130, 10), np.linspace(1800, 2130, 10), color='r');\n",
    "plt.title('Year a book was checked out vs. year of its return');"
   ]
  },
  {
   "cell_type": "markdown",
   "id": "conscious-sympathy",
   "metadata": {},
   "source": [
    "In the plot above, values below the red line (45 degree line) indicate errors as these are books that were returned in an earlier year than the one in which they were borrowed. "
   ]
  },
  {
   "cell_type": "markdown",
   "id": "proud-appearance",
   "metadata": {},
   "source": [
    "#### creating a duration_borrowed variable \n",
    "which records how many days a book was borrowed for. This variable can also be used to examine erroneous records as it will be negative when date_returned is earlier than date_borrowed. "
   ]
  },
  {
   "cell_type": "code",
   "execution_count": 16,
   "id": "color-mount",
   "metadata": {},
   "outputs": [],
   "source": [
    "checkouts_df['duration_borrowed_days'] = (checkouts_df['date_returned'] - checkouts_df['date_checkout']).dt.days"
   ]
  },
  {
   "cell_type": "markdown",
   "id": "selective-theater",
   "metadata": {},
   "source": [
    "dropping observations where \"duration_borrowed\" is negative"
   ]
  },
  {
   "cell_type": "code",
   "execution_count": 17,
   "id": "trying-metallic",
   "metadata": {},
   "outputs": [],
   "source": [
    "checkouts_df = checkouts_df[checkouts_df['duration_borrowed_days']>=0]"
   ]
  },
  {
   "cell_type": "markdown",
   "id": "disturbed-messaging",
   "metadata": {},
   "source": [
    "#### indicator variable for late returns "
   ]
  },
  {
   "cell_type": "code",
   "execution_count": 18,
   "id": "another-allergy",
   "metadata": {},
   "outputs": [],
   "source": [
    "checkouts_df['late_return_indicator'] = np.where(checkouts_df['duration_borrowed_days']>28, 1, 0) "
   ]
  },
  {
   "cell_type": "markdown",
   "id": "cutting-craps",
   "metadata": {},
   "source": [
    "#### inspecting observations where a book was borrowed for over a year"
   ]
  },
  {
   "cell_type": "code",
   "execution_count": 19,
   "id": "available-lancaster",
   "metadata": {},
   "outputs": [
    {
     "data": {
      "text/html": [
       "<div>\n",
       "<style scoped>\n",
       "    .dataframe tbody tr th:only-of-type {\n",
       "        vertical-align: middle;\n",
       "    }\n",
       "\n",
       "    .dataframe tbody tr th {\n",
       "        vertical-align: top;\n",
       "    }\n",
       "\n",
       "    .dataframe thead th {\n",
       "        text-align: right;\n",
       "    }\n",
       "</style>\n",
       "<table border=\"1\" class=\"dataframe\">\n",
       "  <thead>\n",
       "    <tr style=\"text-align: right;\">\n",
       "      <th></th>\n",
       "      <th>checkout_year</th>\n",
       "      <th>return_year</th>\n",
       "      <th>duration_borrowed_days</th>\n",
       "      <th>late_return_indicator</th>\n",
       "    </tr>\n",
       "  </thead>\n",
       "  <tbody>\n",
       "    <tr>\n",
       "      <th>count</th>\n",
       "      <td>90.000000</td>\n",
       "      <td>90.000000</td>\n",
       "      <td>90.000000</td>\n",
       "      <td>90.0</td>\n",
       "    </tr>\n",
       "    <tr>\n",
       "      <th>mean</th>\n",
       "      <td>1809.533333</td>\n",
       "      <td>2018.055556</td>\n",
       "      <td>76151.255556</td>\n",
       "      <td>1.0</td>\n",
       "    </tr>\n",
       "    <tr>\n",
       "      <th>std</th>\n",
       "      <td>6.193872</td>\n",
       "      <td>0.230345</td>\n",
       "      <td>2250.020587</td>\n",
       "      <td>0.0</td>\n",
       "    </tr>\n",
       "    <tr>\n",
       "      <th>min</th>\n",
       "      <td>1800.000000</td>\n",
       "      <td>2018.000000</td>\n",
       "      <td>72188.000000</td>\n",
       "      <td>1.0</td>\n",
       "    </tr>\n",
       "    <tr>\n",
       "      <th>25%</th>\n",
       "      <td>1804.000000</td>\n",
       "      <td>2018.000000</td>\n",
       "      <td>74158.500000</td>\n",
       "      <td>1.0</td>\n",
       "    </tr>\n",
       "    <tr>\n",
       "      <th>50%</th>\n",
       "      <td>1809.000000</td>\n",
       "      <td>2018.000000</td>\n",
       "      <td>76317.500000</td>\n",
       "      <td>1.0</td>\n",
       "    </tr>\n",
       "    <tr>\n",
       "      <th>75%</th>\n",
       "      <td>1815.000000</td>\n",
       "      <td>2018.000000</td>\n",
       "      <td>78095.750000</td>\n",
       "      <td>1.0</td>\n",
       "    </tr>\n",
       "    <tr>\n",
       "      <th>max</th>\n",
       "      <td>1820.000000</td>\n",
       "      <td>2019.000000</td>\n",
       "      <td>79621.000000</td>\n",
       "      <td>1.0</td>\n",
       "    </tr>\n",
       "  </tbody>\n",
       "</table>\n",
       "</div>"
      ],
      "text/plain": [
       "       checkout_year  return_year  duration_borrowed_days  \\\n",
       "count      90.000000    90.000000               90.000000   \n",
       "mean     1809.533333  2018.055556            76151.255556   \n",
       "std         6.193872     0.230345             2250.020587   \n",
       "min      1800.000000  2018.000000            72188.000000   \n",
       "25%      1804.000000  2018.000000            74158.500000   \n",
       "50%      1809.000000  2018.000000            76317.500000   \n",
       "75%      1815.000000  2018.000000            78095.750000   \n",
       "max      1820.000000  2019.000000            79621.000000   \n",
       "\n",
       "       late_return_indicator  \n",
       "count                   90.0  \n",
       "mean                     1.0  \n",
       "std                      0.0  \n",
       "min                      1.0  \n",
       "25%                      1.0  \n",
       "50%                      1.0  \n",
       "75%                      1.0  \n",
       "max                      1.0  "
      ]
     },
     "execution_count": 19,
     "metadata": {},
     "output_type": "execute_result"
    }
   ],
   "source": [
    "long_borrowed_df = checkouts_df[checkouts_df['duration_borrowed_days']>=365]\n",
    "long_borrowed_df.describe()"
   ]
  },
  {
   "cell_type": "markdown",
   "id": "standing-marketplace",
   "metadata": {},
   "source": [
    "- There are 90 books that were borrowed for over a year\n",
    "- All 90 of these books were borrowed for over 150 years\n",
    "- All 90 of these books were borrowed in early 1800s and returned in 2018 and 2019 "
   ]
  },
  {
   "cell_type": "code",
   "execution_count": 20,
   "id": "inside-navigation",
   "metadata": {},
   "outputs": [
    {
     "data": {
      "text/plain": [
       "18"
      ]
     },
     "execution_count": 20,
     "metadata": {},
     "output_type": "execute_result"
    }
   ],
   "source": [
    "# checking if all of these 90 books were returned to the same library \n",
    "# maybe a particular branch undertook retrieval of old books \n",
    "long_borrowed_df.library_id.nunique()"
   ]
  },
  {
   "cell_type": "code",
   "execution_count": 21,
   "id": "billion-skill",
   "metadata": {},
   "outputs": [
    {
     "data": {
      "text/plain": [
       "22c-222@5xc-jwj-pvz    8\n",
       "zzw-222@5xc-jv4-789    8\n",
       "228-222@5xc-jtz-hwk    8\n",
       "zzw-223@5xc-jv7-ct9    7\n",
       "222-222@5xc-jvf-skf    7\n",
       "222-222@5xc-jv5-nt9    6\n",
       "22d-222@5xc-kcy-8sq    5\n",
       "23v-222@5xc-jv7-v4v    5\n",
       "zzw-224@5xc-jwv-2rk    5\n",
       "zzw-222@5xc-knn-c5z    5\n",
       "224-222@5xc-jw2-t9z    4\n",
       "222-222@5xc-jxp-rp9    4\n",
       "227-222@5xc-jww-btv    4\n",
       "223-222@5xc-jxr-tgk    4\n",
       "226-222@5xc-kc4-fpv    4\n",
       "222-222@5xc-kkw-bzf    3\n",
       "226-222@5xc-jxj-7yv    2\n",
       "225-222@5xc-jtz-hkf    1\n",
       "Name: library_id, dtype: int64"
      ]
     },
     "execution_count": 21,
     "metadata": {},
     "output_type": "execute_result"
    }
   ],
   "source": [
    "long_borrowed_df.library_id.value_counts()"
   ]
  },
  {
   "cell_type": "markdown",
   "id": "grateful-table",
   "metadata": {},
   "source": [
    "- The 90 books were returned across different library branches"
   ]
  },
  {
   "cell_type": "code",
   "execution_count": 22,
   "id": "egyptian-failing",
   "metadata": {},
   "outputs": [
    {
     "data": {
      "text/plain": [
       "90"
      ]
     },
     "execution_count": 22,
     "metadata": {},
     "output_type": "execute_result"
    }
   ],
   "source": [
    "# checking if all of these books were borrowed by the same patron \n",
    "# hypothesis being maybe a grandchild of the patron inherited the loaned books and returned them\n",
    "long_borrowed_df.patron_id.nunique()"
   ]
  },
  {
   "cell_type": "markdown",
   "id": "cross-gateway",
   "metadata": {},
   "source": [
    "- Each of the 90 books were checked out by different patrons"
   ]
  },
  {
   "cell_type": "code",
   "execution_count": 23,
   "id": "duplicate-course",
   "metadata": {},
   "outputs": [
    {
     "data": {
      "text/plain": [
       "73"
      ]
     },
     "execution_count": 23,
     "metadata": {},
     "output_type": "execute_result"
    }
   ],
   "source": [
    "long_borrowed_df.id.nunique()"
   ]
  },
  {
   "cell_type": "markdown",
   "id": "billion-gross",
   "metadata": {},
   "source": [
    "#### inspecting observations where a book was borrowed for less than a year "
   ]
  },
  {
   "cell_type": "code",
   "execution_count": 24,
   "id": "christian-skirt",
   "metadata": {},
   "outputs": [
    {
     "data": {
      "text/html": [
       "<div>\n",
       "<style scoped>\n",
       "    .dataframe tbody tr th:only-of-type {\n",
       "        vertical-align: middle;\n",
       "    }\n",
       "\n",
       "    .dataframe tbody tr th {\n",
       "        vertical-align: top;\n",
       "    }\n",
       "\n",
       "    .dataframe thead th {\n",
       "        text-align: right;\n",
       "    }\n",
       "</style>\n",
       "<table border=\"1\" class=\"dataframe\">\n",
       "  <thead>\n",
       "    <tr style=\"text-align: right;\">\n",
       "      <th></th>\n",
       "      <th>checkout_year</th>\n",
       "      <th>return_year</th>\n",
       "      <th>duration_borrowed_days</th>\n",
       "      <th>late_return_indicator</th>\n",
       "    </tr>\n",
       "  </thead>\n",
       "  <tbody>\n",
       "    <tr>\n",
       "      <th>count</th>\n",
       "      <td>1451.0</td>\n",
       "      <td>1451.000000</td>\n",
       "      <td>1451.000000</td>\n",
       "      <td>1451.000000</td>\n",
       "    </tr>\n",
       "    <tr>\n",
       "      <th>mean</th>\n",
       "      <td>2018.0</td>\n",
       "      <td>2018.064094</td>\n",
       "      <td>24.117161</td>\n",
       "      <td>0.090972</td>\n",
       "    </tr>\n",
       "    <tr>\n",
       "      <th>std</th>\n",
       "      <td>0.0</td>\n",
       "      <td>0.245004</td>\n",
       "      <td>29.847683</td>\n",
       "      <td>0.287668</td>\n",
       "    </tr>\n",
       "    <tr>\n",
       "      <th>min</th>\n",
       "      <td>2018.0</td>\n",
       "      <td>2018.000000</td>\n",
       "      <td>5.000000</td>\n",
       "      <td>0.000000</td>\n",
       "    </tr>\n",
       "    <tr>\n",
       "      <th>25%</th>\n",
       "      <td>2018.0</td>\n",
       "      <td>2018.000000</td>\n",
       "      <td>11.000000</td>\n",
       "      <td>0.000000</td>\n",
       "    </tr>\n",
       "    <tr>\n",
       "      <th>50%</th>\n",
       "      <td>2018.0</td>\n",
       "      <td>2018.000000</td>\n",
       "      <td>17.000000</td>\n",
       "      <td>0.000000</td>\n",
       "    </tr>\n",
       "    <tr>\n",
       "      <th>75%</th>\n",
       "      <td>2018.0</td>\n",
       "      <td>2018.000000</td>\n",
       "      <td>23.000000</td>\n",
       "      <td>0.000000</td>\n",
       "    </tr>\n",
       "    <tr>\n",
       "      <th>max</th>\n",
       "      <td>2018.0</td>\n",
       "      <td>2019.000000</td>\n",
       "      <td>179.000000</td>\n",
       "      <td>1.000000</td>\n",
       "    </tr>\n",
       "  </tbody>\n",
       "</table>\n",
       "</div>"
      ],
      "text/plain": [
       "       checkout_year  return_year  duration_borrowed_days  \\\n",
       "count         1451.0  1451.000000             1451.000000   \n",
       "mean          2018.0  2018.064094               24.117161   \n",
       "std              0.0     0.245004               29.847683   \n",
       "min           2018.0  2018.000000                5.000000   \n",
       "25%           2018.0  2018.000000               11.000000   \n",
       "50%           2018.0  2018.000000               17.000000   \n",
       "75%           2018.0  2018.000000               23.000000   \n",
       "max           2018.0  2019.000000              179.000000   \n",
       "\n",
       "       late_return_indicator  \n",
       "count            1451.000000  \n",
       "mean                0.090972  \n",
       "std                 0.287668  \n",
       "min                 0.000000  \n",
       "25%                 0.000000  \n",
       "50%                 0.000000  \n",
       "75%                 0.000000  \n",
       "max                 1.000000  "
      ]
     },
     "execution_count": 24,
     "metadata": {},
     "output_type": "execute_result"
    }
   ],
   "source": [
    "checkouts_df[checkouts_df['duration_borrowed_days']<=365].describe()"
   ]
  },
  {
   "cell_type": "markdown",
   "id": "endangered-hands",
   "metadata": {},
   "source": [
    "- books not borrowed in the 1800s are typically returned within 24 days"
   ]
  },
  {
   "cell_type": "code",
   "execution_count": 25,
   "id": "white-installation",
   "metadata": {},
   "outputs": [],
   "source": [
    "late_returns = checkouts_df[(checkouts_df['duration_borrowed_days']>28) & (checkouts_df['duration_borrowed_days']<=365)]"
   ]
  },
  {
   "cell_type": "code",
   "execution_count": 26,
   "id": "blessed-therapy",
   "metadata": {},
   "outputs": [
    {
     "data": {
      "text/html": [
       "<div>\n",
       "<style scoped>\n",
       "    .dataframe tbody tr th:only-of-type {\n",
       "        vertical-align: middle;\n",
       "    }\n",
       "\n",
       "    .dataframe tbody tr th {\n",
       "        vertical-align: top;\n",
       "    }\n",
       "\n",
       "    .dataframe thead th {\n",
       "        text-align: right;\n",
       "    }\n",
       "</style>\n",
       "<table border=\"1\" class=\"dataframe\">\n",
       "  <thead>\n",
       "    <tr style=\"text-align: right;\">\n",
       "      <th></th>\n",
       "      <th>checkout_year</th>\n",
       "      <th>return_year</th>\n",
       "      <th>duration_borrowed_days</th>\n",
       "      <th>late_return_indicator</th>\n",
       "    </tr>\n",
       "  </thead>\n",
       "  <tbody>\n",
       "    <tr>\n",
       "      <th>count</th>\n",
       "      <td>132.0</td>\n",
       "      <td>132.000000</td>\n",
       "      <td>132.000000</td>\n",
       "      <td>132.0</td>\n",
       "    </tr>\n",
       "    <tr>\n",
       "      <th>mean</th>\n",
       "      <td>2018.0</td>\n",
       "      <td>2018.310606</td>\n",
       "      <td>105.666667</td>\n",
       "      <td>1.0</td>\n",
       "    </tr>\n",
       "    <tr>\n",
       "      <th>std</th>\n",
       "      <td>0.0</td>\n",
       "      <td>0.464505</td>\n",
       "      <td>45.256127</td>\n",
       "      <td>0.0</td>\n",
       "    </tr>\n",
       "    <tr>\n",
       "      <th>min</th>\n",
       "      <td>2018.0</td>\n",
       "      <td>2018.000000</td>\n",
       "      <td>29.000000</td>\n",
       "      <td>1.0</td>\n",
       "    </tr>\n",
       "    <tr>\n",
       "      <th>25%</th>\n",
       "      <td>2018.0</td>\n",
       "      <td>2018.000000</td>\n",
       "      <td>63.000000</td>\n",
       "      <td>1.0</td>\n",
       "    </tr>\n",
       "    <tr>\n",
       "      <th>50%</th>\n",
       "      <td>2018.0</td>\n",
       "      <td>2018.000000</td>\n",
       "      <td>102.000000</td>\n",
       "      <td>1.0</td>\n",
       "    </tr>\n",
       "    <tr>\n",
       "      <th>75%</th>\n",
       "      <td>2018.0</td>\n",
       "      <td>2019.000000</td>\n",
       "      <td>146.250000</td>\n",
       "      <td>1.0</td>\n",
       "    </tr>\n",
       "    <tr>\n",
       "      <th>max</th>\n",
       "      <td>2018.0</td>\n",
       "      <td>2019.000000</td>\n",
       "      <td>179.000000</td>\n",
       "      <td>1.0</td>\n",
       "    </tr>\n",
       "  </tbody>\n",
       "</table>\n",
       "</div>"
      ],
      "text/plain": [
       "       checkout_year  return_year  duration_borrowed_days  \\\n",
       "count          132.0   132.000000              132.000000   \n",
       "mean          2018.0  2018.310606              105.666667   \n",
       "std              0.0     0.464505               45.256127   \n",
       "min           2018.0  2018.000000               29.000000   \n",
       "25%           2018.0  2018.000000               63.000000   \n",
       "50%           2018.0  2018.000000              102.000000   \n",
       "75%           2018.0  2019.000000              146.250000   \n",
       "max           2018.0  2019.000000              179.000000   \n",
       "\n",
       "       late_return_indicator  \n",
       "count                  132.0  \n",
       "mean                     1.0  \n",
       "std                      0.0  \n",
       "min                      1.0  \n",
       "25%                      1.0  \n",
       "50%                      1.0  \n",
       "75%                      1.0  \n",
       "max                      1.0  "
      ]
     },
     "execution_count": 26,
     "metadata": {},
     "output_type": "execute_result"
    }
   ],
   "source": [
    "late_returns.describe()"
   ]
  },
  {
   "cell_type": "markdown",
   "id": "starting-knight",
   "metadata": {},
   "source": [
    "### adding holidays to the dataset \n",
    "a hypothesis for late returns is that the due date falls on or near a holiday, when patrons might be out of town or more likely to be otherwise occupied"
   ]
  },
  {
   "cell_type": "code",
   "execution_count": 27,
   "id": "amber-employee",
   "metadata": {},
   "outputs": [],
   "source": [
    "checkouts_df['date_due'] = checkouts_df['date_checkout'] + pd.Timedelta(28, unit='d')"
   ]
  },
  {
   "cell_type": "code",
   "execution_count": 28,
   "id": "structured-visibility",
   "metadata": {},
   "outputs": [],
   "source": [
    "import holidays\n",
    "us_holidays = []\n",
    "for date in holidays.US(years=checkouts_df['date_due'].apply(lambda x: int(x.year)).unique()).items(): \n",
    "    us_holidays.append(date[0])\n",
    "us_holidays = [pd.to_datetime(x) for x in us_holidays]"
   ]
  },
  {
   "cell_type": "markdown",
   "id": "otherwise-seattle",
   "metadata": {},
   "source": [
    "- we don't have data on holidays in the 1800s, which might be less relevant anyway "
   ]
  },
  {
   "cell_type": "code",
   "execution_count": 29,
   "id": "square-order",
   "metadata": {},
   "outputs": [],
   "source": [
    "checkouts_df['due_date_is_holiday'] = np.where(checkouts_df['date_due'].isin(us_holidays), 1, 0)"
   ]
  },
  {
   "cell_type": "code",
   "execution_count": 30,
   "id": "muslim-mixture",
   "metadata": {},
   "outputs": [
    {
     "data": {
      "text/plain": [
       "0    122\n",
       "1     10\n",
       "Name: due_date_is_holiday, dtype: int64"
      ]
     },
     "execution_count": 30,
     "metadata": {},
     "output_type": "execute_result"
    }
   ],
   "source": [
    "#proportion of late returns whose due date falls on a holiday \n",
    "checkouts_df[(checkouts_df['duration_borrowed_days']>28)&(checkouts_df['checkout_year']>2017)].due_date_is_holiday.value_counts()"
   ]
  },
  {
   "cell_type": "code",
   "execution_count": 31,
   "id": "applied-saver",
   "metadata": {},
   "outputs": [],
   "source": [
    "def days_from_closest_holiday(date, holiday_list): \n",
    "    \"This function returns the number of days between a given date and a given list of holidays\"\n",
    "    holiday_distance_list = [abs(date-x) for x in holiday_list]\n",
    "    smallest_distance = min(holiday_distance_list)\n",
    "    return smallest_distance"
   ]
  },
  {
   "cell_type": "code",
   "execution_count": 32,
   "id": "collected-browser",
   "metadata": {},
   "outputs": [],
   "source": [
    "checkouts_df['closest_holiday_distance'] = checkouts_df['date_due'].apply(lambda x: days_from_closest_holiday(x, us_holidays))\n",
    "checkouts_df['closest_holiday_distance'] = checkouts_df['closest_holiday_distance'].dt.days"
   ]
  },
  {
   "cell_type": "markdown",
   "id": "copyrighted-evidence",
   "metadata": {},
   "source": [
    "### exploring distance between date_due and closest_holiday in late returns vs timely returns"
   ]
  },
  {
   "cell_type": "markdown",
   "id": "significant-garlic",
   "metadata": {},
   "source": [
    "Below, I plot graphs to see distribution of distance between holiday and due_date between late returns and timely returns "
   ]
  },
  {
   "cell_type": "code",
   "execution_count": 33,
   "id": "minimal-measure",
   "metadata": {
    "scrolled": true
   },
   "outputs": [
    {
     "name": "stderr",
     "output_type": "stream",
     "text": [
      "/Users/garima/miniconda3/envs/reloc/lib/python3.7/site-packages/seaborn/distributions.py:2557: FutureWarning: `distplot` is a deprecated function and will be removed in a future version. Please adapt your code to use either `displot` (a figure-level function with similar flexibility) or `kdeplot` (an axes-level function for kernel density plots).\n",
      "  warnings.warn(msg, FutureWarning)\n",
      "/Users/garima/miniconda3/envs/reloc/lib/python3.7/site-packages/seaborn/distributions.py:2557: FutureWarning: `distplot` is a deprecated function and will be removed in a future version. Please adapt your code to use either `displot` (a figure-level function with similar flexibility) or `kdeplot` (an axes-level function for kernel density plots).\n",
      "  warnings.warn(msg, FutureWarning)\n"
     ]
    },
    {
     "data": {
      "image/png": "[encoded data removed]",
      "text/plain": [
       "<Figure size 432x288 with 1 Axes>"
      ]
     },
     "metadata": {
      "needs_background": "light"
     },
     "output_type": "display_data"
    }
   ],
   "source": [
    "ax = sns.distplot(checkouts_df[(checkouts_df['checkout_year']>2017)&(checkouts_df['late_return_indicator']==1)]['closest_holiday_distance'], hist=False, color='red')\n",
    "ax = sns.distplot(checkouts_df[(checkouts_df['checkout_year']>2017)&(checkouts_df['late_return_indicator']==0)]['closest_holiday_distance'], hist=False, color='green')"
   ]
  },
  {
   "cell_type": "markdown",
   "id": "suburban-boston",
   "metadata": {},
   "source": [
    "The above graph plots the distribution (probability density function) of the distance between due_date and the nearest holiday, the graph in red pertains to the late returns whereas the one in green pertains to timely returns. From this graph, the two groups seem largely similar, with due dates corresponding to late returns being marginally closer to a holiday than the due dates corresponding to timely returns. "
   ]
  },
  {
   "cell_type": "markdown",
   "id": "focused-tournament",
   "metadata": {},
   "source": [
    "## saving cleaned dataset to disk"
   ]
  },
  {
   "cell_type": "code",
   "execution_count": 34,
   "id": "short-amount",
   "metadata": {},
   "outputs": [],
   "source": [
    "checkouts_df.to_csv(out_dir/'checkouts_cleaned.csv', index=False)"
   ]
  }
 ],
 "metadata": {
  "kernelspec": {
   "display_name": "Python 3",
   "language": "python",
   "name": "python3"
  },
  "language_info": {
   "codemirror_mode": {
    "name": "ipython",
    "version": 3
   },
   "file_extension": ".py",
   "mimetype": "text/x-python",
   "name": "python",
   "nbconvert_exporter": "python",
   "pygments_lexer": "ipython3",
   "version": "3.7.9"
  },
  "toc": {
   "base_numbering": 1,
   "nav_menu": {},
   "number_sections": false,
   "sideBar": true,
   "skip_h1_title": false,
   "title_cell": "Table of Contents",
   "title_sidebar": "Contents",
   "toc_cell": false,
   "toc_position": {},
   "toc_section_display": true,
   "toc_window_display": false
  },
  "varInspector": {
   "cols": {
    "lenName": 16,
    "lenType": 16,
    "lenVar": 40
   },
   "kernels_config": {
    "python": {
     "delete_cmd_postfix": "",
     "delete_cmd_prefix": "del ",
     "library": "var_list.py",
     "varRefreshCmd": "print(var_dic_list())"
    },
    "r": {
     "delete_cmd_postfix": ") ",
     "delete_cmd_prefix": "rm(",
     "library": "var_list.r",
     "varRefreshCmd": "cat(var_dic_list()) "
    }
   },
   "types_to_exclude": [
    "module",
    "function",
    "builtin_function_or_method",
    "instance",
    "_Feature"
   ],
   "window_display": false
  }
 },
 "nbformat": 4,
 "nbformat_minor": 5
}
